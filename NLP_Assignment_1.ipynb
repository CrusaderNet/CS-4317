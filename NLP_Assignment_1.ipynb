{
 "cells": [
  {
   "cell_type": "markdown",
   "metadata": {},
   "source": [
    "**Question 1**"
   ]
  },
  {
   "cell_type": "code",
   "execution_count": 6,
   "metadata": {},
   "outputs": [
    {
     "name": "stdout",
     "output_type": "stream",
     "text": [
      "Hll 1 Wrld 2\n"
     ]
    }
   ],
   "source": [
    "import re\n",
    "\n",
    "String123 = 'Hello 1 World 2'\n",
    "\n",
    "print(re.sub(r'[aeiouAEIOU]','',String123))"
   ]
  },
  {
   "cell_type": "markdown",
   "metadata": {},
   "source": [
    "**Question 2**"
   ]
  },
  {
   "cell_type": "code",
   "execution_count": 7,
   "metadata": {},
   "outputs": [
    {
     "name": "stdout",
     "output_type": "stream",
     "text": [
      "a-b-c\n"
     ]
    }
   ],
   "source": [
    "L = ['a','b','c']\n",
    "print('-'.join(L))"
   ]
  },
  {
   "cell_type": "markdown",
   "metadata": {},
   "source": [
    "**Question 3**"
   ]
  },
  {
   "cell_type": "code",
   "execution_count": 8,
   "metadata": {},
   "outputs": [
    {
     "name": "stdout",
     "output_type": "stream",
     "text": [
      "dlrow olleh\n"
     ]
    }
   ],
   "source": [
    "q3 = 'hello world'\n",
    "print(q3[::-1])"
   ]
  },
  {
   "cell_type": "markdown",
   "metadata": {},
   "source": [
    "Question 4"
   ]
  },
  {
   "cell_type": "code",
   "execution_count": 10,
   "metadata": {},
   "outputs": [
    {
     "name": "stdout",
     "output_type": "stream",
     "text": [
      "False\n",
      "True\n"
     ]
    }
   ],
   "source": [
    "def is_anagram(s1,s2):\n",
    "    #Sort characters of list in ascending order and compare, if equal then return True\n",
    "    return sorted(s1) == sorted(s2)\n",
    "\n",
    "print(is_anagram('listen','silenti'))\n",
    "print(is_anagram('listen','silent'))"
   ]
  },
  {
   "cell_type": "markdown",
   "metadata": {},
   "source": [
    "**Question 5**"
   ]
  },
  {
   "cell_type": "code",
   "execution_count": 15,
   "metadata": {},
   "outputs": [
    {
     "name": "stdout",
     "output_type": "stream",
     "text": [
      "['this', 'is', 'assignment', '1', 'for', 'my', 'NLP', 'class']\n",
      "['this is ', 'ssignment 1 for my NLP cl', 'ss']\n",
      "['th', 's ', 's ass', 'gnment 1 for my NLP class']\n"
     ]
    }
   ],
   "source": [
    "string = 'this is assignment 1 for my NLP class'\n",
    "print(string.split())\n",
    "print(string.split('a'))\n",
    "print(string.split('i'))"
   ]
  },
  {
   "cell_type": "markdown",
   "metadata": {},
   "source": [
    "**Question 6**"
   ]
  },
  {
   "cell_type": "code",
   "execution_count": 17,
   "metadata": {},
   "outputs": [
    {
     "data": {
      "text/plain": [
       "'hi how are you                      '"
      ]
     },
     "execution_count": 17,
     "metadata": {},
     "output_type": "execute_result"
    }
   ],
   "source": [
    "mystring = '                     hi how are you                      '\n",
    "mystring.lstrip()\n",
    "#Removes spaces from left side of string"
   ]
  },
  {
   "cell_type": "code",
   "execution_count": 18,
   "metadata": {},
   "outputs": [
    {
     "data": {
      "text/plain": [
       "'                     hi how are you'"
      ]
     },
     "execution_count": 18,
     "metadata": {},
     "output_type": "execute_result"
    }
   ],
   "source": [
    "mystring.rstrip()\n",
    "#Removes spaces from right side of string"
   ]
  },
  {
   "cell_type": "code",
   "execution_count": 19,
   "metadata": {},
   "outputs": [
    {
     "data": {
      "text/plain": [
       "'hi how are you'"
      ]
     },
     "execution_count": 19,
     "metadata": {},
     "output_type": "execute_result"
    }
   ],
   "source": [
    "mystring.strip()\n",
    "#Removes spaces from both sides of string"
   ]
  },
  {
   "cell_type": "markdown",
   "metadata": {},
   "source": [
    "**Question 7**"
   ]
  },
  {
   "cell_type": "code",
   "execution_count": 20,
   "metadata": {},
   "outputs": [
    {
     "data": {
      "text/plain": [
       "'Hello How Are You'"
      ]
     },
     "execution_count": 20,
     "metadata": {},
     "output_type": "execute_result"
    }
   ],
   "source": [
    "mystring = 'hello how are you'\n",
    "mystring.title()"
   ]
  },
  {
   "cell_type": "markdown",
   "metadata": {},
   "source": [
    "**Question 8**"
   ]
  },
  {
   "cell_type": "code",
   "execution_count": 22,
   "metadata": {},
   "outputs": [
    {
     "name": "stdout",
     "output_type": "stream",
     "text": [
      "+---------------------------+-----------+-------------+\n",
      "| Datatype                  | Mutable   | Immutable   |\n",
      "+===========================+===========+=============+\n",
      "| List                      | Yes       | No          |\n",
      "+---------------------------+-----------+-------------+\n",
      "| Dictionary                | Yes       | No          |\n",
      "+---------------------------+-----------+-------------+\n",
      "| Set                       | Yes       | No          |\n",
      "+---------------------------+-----------+-------------+\n",
      "| User-defined classes      | Yes       | Yes         |\n",
      "+---------------------------+-----------+-------------+\n",
      "| Int, float, decimal, bool | No        | Yes         |\n",
      "+---------------------------+-----------+-------------+\n",
      "| String                    | No        | Yes         |\n",
      "+---------------------------+-----------+-------------+\n",
      "| Tuple                     | No        | Yes         |\n",
      "+---------------------------+-----------+-------------+\n"
     ]
    }
   ],
   "source": [
    "from tabulate import tabulate\n",
    "\n",
    "data = [\n",
    "    [\"List\", \"Yes\", \"No\"],\n",
    "    [\"Dictionary\", \"Yes\", \"No\"],\n",
    "    [\"Set\", \"Yes\", \"No\"],\n",
    "    [\"User-defined classes\", \"Yes\", \"Yes\"],\n",
    "    [\"Int, float, decimal, bool\", \"No\", \"Yes\"],\n",
    "    [\"String\", \"No\", \"Yes\"],\n",
    "    [\"Tuple\", \"No\", \"Yes\"]\n",
    "]\n",
    "print(tabulate(data, headers=[\"Datatype\", \"Mutable\", \"Immutable\"], tablefmt=\"grid\"))"
   ]
  },
  {
   "cell_type": "markdown",
   "metadata": {},
   "source": [
    "**Question 9**"
   ]
  },
  {
   "cell_type": "markdown",
   "metadata": {},
   "source": [
    "*Are lists mutable in python?*\n",
    "Lists can be modified and values can be updated, therefore lists are mutable in python."
   ]
  },
  {
   "cell_type": "markdown",
   "metadata": {},
   "source": [
    "**Question 10**"
   ]
  },
  {
   "cell_type": "markdown",
   "metadata": {},
   "source": [
    "*Are strings mutable in python?* Strings cannot be updated, as 'updating' a string actually only creates a new string object, not changing the original."
   ]
  },
  {
   "cell_type": "markdown",
   "metadata": {},
   "source": [
    "**Question 11**"
   ]
  },
  {
   "cell_type": "code",
   "execution_count": 24,
   "metadata": {},
   "outputs": [
    {
     "name": "stdout",
     "output_type": "stream",
     "text": [
      "0 Mukesh 25\n",
      "1 Roni 50\n",
      "2 Charti 18\n"
     ]
    }
   ],
   "source": [
    "names = ['Mukesh', 'Roni', 'Charti']\n",
    "ages = [25, 50, 18]\n",
    "\n",
    "for i, (name, age) in enumerate(zip(names, ages)):\n",
    "    print(i, name, age)"
   ]
  },
  {
   "cell_type": "code",
   "execution_count": 25,
   "metadata": {},
   "outputs": [
    {
     "name": "stdout",
     "output_type": "stream",
     "text": [
      "[('Mukesh', 25), ('Roni', 50), ('Charti', 18)]\n"
     ]
    }
   ],
   "source": [
    "k = list(zip(names, ages))\n",
    "print(k)"
   ]
  },
  {
   "cell_type": "markdown",
   "metadata": {},
   "source": [
    "**Question 12**"
   ]
  },
  {
   "cell_type": "code",
   "execution_count": 26,
   "metadata": {},
   "outputs": [
    {
     "name": "stdout",
     "output_type": "stream",
     "text": [
      "{'dog': 2, 'cat': 4, 'guinea pig': 10, 'parrot': 2}\n"
     ]
    }
   ],
   "source": [
    "pets = ['dog','cat','guinea pig', 'parrot']\n",
    "numbers = [2,4,10,2]\n",
    "pet_numbers_dict = {}\n",
    "for animal,num in zip(pets,numbers):\n",
    "    pet_numbers_dict[animal] = num\n",
    "print(pet_numbers_dict)\n",
    "\n",
    "##The program uses zip and two lists to create a dictionary, associating each pet key with a number value."
   ]
  },
  {
   "cell_type": "markdown",
   "metadata": {},
   "source": [
    "**Question 13**"
   ]
  },
  {
   "cell_type": "code",
   "execution_count": 27,
   "metadata": {},
   "outputs": [
    {
     "name": "stdout",
     "output_type": "stream",
     "text": [
      "Letters are: {'e', 's', 'g', 'k'}\n",
      "Letters are: {'e', 's', 'g', 'k'}\n"
     ]
    }
   ],
   "source": [
    "GEEK = {'g','e','k'}\n",
    "GEEK.add('s')\n",
    "print(\"Letters are:\", GEEK)\n",
    "\n",
    "GEEK.add('s')\n",
    "print(\"Letters are:\", GEEK)"
   ]
  },
  {
   "cell_type": "markdown",
   "metadata": {},
   "source": [
    "**Question 14**"
   ]
  },
  {
   "cell_type": "code",
   "execution_count": 4,
   "metadata": {},
   "outputs": [
    {
     "name": "stdout",
     "output_type": "stream",
     "text": [
      "8 is not a prime number.\n",
      "7 is a prime number.\n"
     ]
    }
   ],
   "source": [
    "def is_prime(num):\n",
    "    notPrime = False\n",
    "    if num <= 1:\n",
    "        print(str(num) + \" is not a prime number.\")\n",
    "    elif num == 2:\n",
    "        print(str(num) + \" is a prime number.\")\n",
    "    for i in range(2, int(num ** 0.5) + 1):\n",
    "        if num % i == 0:\n",
    "            notPrime = True\n",
    "            print(str(num) + \" is not a prime number.\")\n",
    "            break\n",
    "    if notPrime == False:\n",
    "        print(str(num) + \" is a prime number.\")  \n",
    "\n",
    "\n",
    "is_prime(8)\n",
    "is_prime(7)"
   ]
  },
  {
   "cell_type": "markdown",
   "metadata": {},
   "source": [
    "**Question 15**"
   ]
  },
  {
   "cell_type": "code",
   "execution_count": 5,
   "metadata": {},
   "outputs": [
    {
     "name": "stdout",
     "output_type": "stream",
     "text": [
      "0 1 1 2 3 5 8 13 21 34 "
     ]
    }
   ],
   "source": [
    "def fib_series(n):\n",
    "    a, b = 0, 1\n",
    "    for i in range(n):\n",
    "        print(a, end=\" \")\n",
    "        a, b = b, a + b\n",
    "\n",
    "n = 10\n",
    "fib_series(n)"
   ]
  },
  {
   "cell_type": "markdown",
   "metadata": {},
   "source": [
    "**Question 16**"
   ]
  },
  {
   "cell_type": "code",
   "execution_count": 11,
   "metadata": {},
   "outputs": [
    {
     "name": "stdout",
     "output_type": "stream",
     "text": [
      "A = 27\n",
      "R = 13\n",
      "N = 35\n",
      "D = 25\n",
      "C = 11\n",
      "E = 42\n",
      "Q = 23\n",
      "G = 19\n",
      "H = 9\n",
      "I = 43\n",
      "L = 43\n",
      "K = 44\n",
      "M = 6\n",
      "F = 26\n",
      "P = 26\n",
      "S = 51\n",
      "T = 36\n",
      "W = 13\n",
      "Y = 22\n",
      "V = 43\n"
     ]
    }
   ],
   "source": [
    "from urllib import request\n",
    "import nltk\n",
    "from nltk.probability import FreqDist\n",
    "\n",
    "url = \"https://rest.uniprot.org/uniprotkb/P17181.fasta\"\n",
    "response = request.urlopen(url)\n",
    "fasta = response.read().decode('utf8')\n",
    "\n",
    "sequence = ''.join(fasta.splitlines()[1:])\n",
    "\n",
    "amino_acids = 'ARNDCEQGHILKMFPSTWYV'\n",
    "freq_dist = FreqDist(sequence)\n",
    "\n",
    "amino_counts = {}\n",
    "for indiv_amino in amino_acids:\n",
    "    amino_counts[indiv_amino] = freq_dist[indiv_amino]\n",
    "\n",
    "for indiv_amino, count in amino_counts.items():\n",
    "    print(f\"{indiv_amino} = {count}\")"
   ]
  },
  {
   "cell_type": "markdown",
   "metadata": {},
   "source": [
    "**Question 17**"
   ]
  }
 ],
 "metadata": {
  "kernelspec": {
   "display_name": "Python 3",
   "language": "python",
   "name": "python3"
  },
  "language_info": {
   "codemirror_mode": {
    "name": "ipython",
    "version": 3
   },
   "file_extension": ".py",
   "mimetype": "text/x-python",
   "name": "python",
   "nbconvert_exporter": "python",
   "pygments_lexer": "ipython3",
   "version": "3.12.7"
  }
 },
 "nbformat": 4,
 "nbformat_minor": 2
}
