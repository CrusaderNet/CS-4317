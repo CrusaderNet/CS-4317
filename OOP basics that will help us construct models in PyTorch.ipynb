{
 "cells": [
  {
   "cell_type": "code",
   "execution_count": 1,
   "id": "5fa05b98",
   "metadata": {},
   "outputs": [
    {
     "name": "stdout",
     "output_type": "stream",
     "text": [
      "Chuala\n",
      "3\n",
      "Chuala says Woof!\n",
      "Chuala is 3 years old.\n"
     ]
    }
   ],
   "source": [
    "# Define a class\n",
    "class Dog:\n",
    "    # Constructor method (initializes the object)\n",
    "    def __init__(self, name, age):\n",
    "        self.name = name  # Attribute\n",
    "        self.age = age    # Attribute\n",
    "\n",
    "    # Method to display information about the dog\n",
    "    def bark(self):\n",
    "        return f\"{self.name} says Woof!\"\n",
    "\n",
    "    # Method to display the dog's age\n",
    "    def get_age(self):\n",
    "        return f\"{self.name} is {self.age} years old.\"\n",
    "\n",
    "# Create an object (instance) of the Dog class\n",
    "my_dog = Dog(\"Chuala\", 3)\n",
    "\n",
    "# Access attributes and call methods\n",
    "print(my_dog.name)       # Output: Buddy\n",
    "print(my_dog.age)        # Output: 3\n",
    "print(my_dog.bark())     # Output: Buddy says Woof!\n",
    "print(my_dog.get_age())  # Output: Buddy is 3 years old."
   ]
  },
  {
   "cell_type": "code",
   "execution_count": 2,
   "id": "39c4eb08",
   "metadata": {},
   "outputs": [
    {
     "name": "stdout",
     "output_type": "stream",
     "text": [
      "<__main__.Person object at 0x7f7d57bbfc40>\n",
      "<class '__main__.Person'>\n",
      "<__main__.Person object at 0x7f7d57bbfc40>\n",
      "<class 'str'>\n"
     ]
    }
   ],
   "source": [
    "class Person:\n",
    "    def __init__(self, name, age):\n",
    "        self.name = name\n",
    "        self.age = age\n",
    "\n",
    "# Create an object\n",
    "person = Person(\"Alice\", 30)\n",
    "\n",
    "# Print the object (calls __str__ implicitly)\n",
    "print(person)  # Output: Person(name=Alice, age=30)\n",
    "print(type(person))\n",
    "\n",
    "# Explicitly call str() on the object\n",
    "print(str(person))  # Output: Person(name=Alice, age=30)\n",
    "print(type(str(person)))"
   ]
  },
  {
   "cell_type": "markdown",
   "id": "51893286",
   "metadata": {},
   "source": [
    "# This object is type Person at this memory location 0x7fd2a9fc75b0"
   ]
  },
  {
   "cell_type": "markdown",
   "id": "21815443",
   "metadata": {},
   "source": [
    "# Gibberish!!! Uninformative prints representation by default"
   ]
  },
  {
   "cell_type": "markdown",
   "id": "fbfa3eeb",
   "metadata": {},
   "source": [
    "# Python calls the default dunder __str__ method when used with print on your class object"
   ]
  },
  {
   "cell_type": "code",
   "execution_count": null,
   "id": "b9ef6e3d",
   "metadata": {},
   "outputs": [],
   "source": []
  },
  {
   "cell_type": "markdown",
   "id": "07b8f1a7",
   "metadata": {},
   "source": [
    "# In above example, dunder __str__ is not defined by us, so the default behavior of print(person) will use the default implementation from the object class\n",
    "# This returns the object's memory location."
   ]
  },
  {
   "cell_type": "code",
   "execution_count": 3,
   "id": "5d0fdc09",
   "metadata": {},
   "outputs": [
    {
     "name": "stdout",
     "output_type": "stream",
     "text": [
      "name=Alice, age=30\n",
      "<class '__main__.Person'>\n"
     ]
    }
   ],
   "source": [
    "class Person:\n",
    "    def __init__(self, name, age):\n",
    "        self.name = name\n",
    "        self.age = age\n",
    "\n",
    "    # Define the __str__ method\n",
    "    # Must return a string\n",
    "    def __str__(self):\n",
    "        return f\"name={self.name}, age={self.age}\"\n",
    "\n",
    "# Create an object\n",
    "person = Person(\"Alice\", 30)\n",
    "\n",
    "# Print the object (calls __str__ implicitly)\n",
    "print(person)  # Output: Person(name=Alice, age=30)\n",
    "print(type(person))"
   ]
  },
  {
   "cell_type": "markdown",
   "id": "7164bfcd",
   "metadata": {},
   "source": [
    "# Lesson learned: Important dunder str method must return a string"
   ]
  },
  {
   "cell_type": "code",
   "execution_count": 4,
   "id": "fa4cf8fb",
   "metadata": {},
   "outputs": [
    {
     "name": "stdout",
     "output_type": "stream",
     "text": [
      "[10, 20, 30]\n",
      "<class '__main__.MyList'>\n"
     ]
    }
   ],
   "source": [
    "class MyList:\n",
    "    def __init__(self):\n",
    "        self.items = []  # Internal list to store items\n",
    "\n",
    "    # Append method to add an item to the list\n",
    "    def append(self, item):\n",
    "        self.items.append(item)\n",
    "\n",
    "    # String representation of the object\n",
    "    # Must return a string\n",
    "    def __str__(self):\n",
    "        return str(self.items)\n",
    "\n",
    "# Create an instance of MyList\n",
    "my_list = MyList()\n",
    "\n",
    "# Append items to the list\n",
    "my_list.append(10)\n",
    "my_list.append(20)\n",
    "my_list.append(30)\n",
    "\n",
    "# Print the list\n",
    "print(my_list)  # Output: [10, 20, 30]\n",
    "print(type(my_list))"
   ]
  },
  {
   "cell_type": "code",
   "execution_count": 5,
   "id": "ef394205",
   "metadata": {},
   "outputs": [
    {
     "name": "stdout",
     "output_type": "stream",
     "text": [
      "4\n"
     ]
    }
   ],
   "source": [
    "class MyList:\n",
    "    def __init__(self, items):\n",
    "        self.items = items\n",
    "\n",
    "    def __len__(self):\n",
    "        return len(self.items)\n",
    "\n",
    "my_list = MyList([1, 2, 3, 4])\n",
    "print(len(my_list))  # Output: 4"
   ]
  },
  {
   "cell_type": "markdown",
   "id": "805b49f2",
   "metadata": {},
   "source": [
    "# Encapsulation (Getter and Setter)\n",
    "\n",
    "# Encapsulation is the concept of hiding the internal state of an object and only allowing controlled access through methods (getters and setters).\n",
    "\n",
    "# Use of Protected Attributes (_name, _age):\n",
    "\n",
    "# The attributes _name and _age are marked as protected using a single underscore (_).\n",
    "# This is a convention in Python (not enforced), signaling that they should not be accessed directly from outside the class.\n",
    "# Controlled Access with Getters & Setters:\n",
    "\n",
    "# Getter methods (get_name(), get_age()) allow read access to the attributes.\n",
    "# Setter methods (set_name(), set_age()) allow controlled modifications with validation:\n",
    "# set_name() ensures the new name is a non-empty string and it should not have spaces in the right and left side of the string.\n",
    "# set_age() ensures the new age is a positive integer.\n",
    "# Encapsulation in Action:\n",
    "\n",
    "# Users cannot modify _name or _age directly without using the setter methods.\n",
    "# If invalid data is passed (e.g., set_age(-5)), an error is raised instead of corrupting the object’s state."
   ]
  },
  {
   "cell_type": "code",
   "execution_count": 6,
   "id": "5f7a808e",
   "metadata": {},
   "outputs": [
    {
     "name": "stdout",
     "output_type": "stream",
     "text": [
      "Alice\n",
      "I am inside the method Victoria Hernandez \n",
      "25\n",
      "Victoria Hernandez \n",
      "\n",
      "\n",
      "\n",
      "26\n"
     ]
    }
   ],
   "source": [
    "class Student:\n",
    "    def __init__(self, name, age):\n",
    "        self._name = name      # Protected attribute\n",
    "        self._age = age        # Protected attribute\n",
    "\n",
    "    # Getter for name\n",
    "    def get_name(self):\n",
    "        return self._name\n",
    "\n",
    "    # Setter for name\n",
    "    def set_name(self, new_name):\n",
    "        print(f\"I am inside the method {new_name}\")\n",
    "        if isinstance(new_name, str) and new_name.strip():\n",
    "            self._name = new_name\n",
    "        else:\n",
    "            raise ValueError(\"Invalid name\")\n",
    "\n",
    "    # Getter for age\n",
    "    def get_age(self):\n",
    "        return self._age\n",
    "\n",
    "    # Setter for age\n",
    "    def set_age(self, new_age):\n",
    "        if isinstance(new_age, int) and new_age > 0:\n",
    "            self._age = new_age\n",
    "        else:\n",
    "            raise ValueError(\"Age must be a positive integer\")\n",
    "\n",
    "# Usage\n",
    "s = Student(\"Alice\", 25)\n",
    "print(s.get_name())  # Alice\n",
    "s.set_name(\"Victoria Hernandez \")\n",
    "print(s.get_age())\n",
    "print(s.get_name())\n",
    "print(\"\\n\\n\")\n",
    "s.set_age(26)        # Updates age\n",
    "print(s.get_age())   # 26"
   ]
  },
  {
   "cell_type": "code",
   "execution_count": 7,
   "id": "fe06b518",
   "metadata": {},
   "outputs": [
    {
     "data": {
      "text/plain": [
       "'Subash'"
      ]
     },
     "execution_count": 7,
     "metadata": {},
     "output_type": "execute_result"
    }
   ],
   "source": [
    "\"Subash \".strip()"
   ]
  },
  {
   "cell_type": "code",
   "execution_count": 8,
   "id": "5326c342",
   "metadata": {},
   "outputs": [
    {
     "data": {
      "text/plain": [
       "'Subash'"
      ]
     },
     "execution_count": 8,
     "metadata": {},
     "output_type": "execute_result"
    }
   ],
   "source": [
    "\" Subash \".strip()"
   ]
  },
  {
   "cell_type": "markdown",
   "id": "8144850c",
   "metadata": {},
   "source": [
    "# Inheritance"
   ]
  },
  {
   "cell_type": "code",
   "execution_count": 9,
   "id": "9ef1f049",
   "metadata": {},
   "outputs": [
    {
     "name": "stdout",
     "output_type": "stream",
     "text": [
      "Hi, I'm Alice and I'm 21 years old.\n",
      "Alice is studying Computer Science.\n",
      "Student ID: S12345\n"
     ]
    }
   ],
   "source": [
    "# Parent class\n",
    "class Person:\n",
    "    def __init__(self, name, age):\n",
    "        self.name = name\n",
    "        self.age = age\n",
    "\n",
    "    def introduce(self):\n",
    "        return f\"Hi, I'm {self.name} and I'm {self.age} years old.\"\n",
    "\n",
    "# Child class inheriting from Person\n",
    "class Student(Person):\n",
    "    def __init__(self, name, age, student_id, major):\n",
    "        # Call the parent class constructor using super()\n",
    "        super().__init__(name, age)\n",
    "        self.student_id = student_id\n",
    "        self.major = major\n",
    "\n",
    "    def study(self):\n",
    "        return f\"{self.name} is studying {self.major}.\"\n",
    "\n",
    "# Usage\n",
    "student = Student(\"Alice\", 21, \"S12345\", \"Computer Science\")\n",
    "print(student.introduce())  # Calls parent class method\n",
    "print(student.study())      # Calls child class method\n",
    "print(f\"Student ID: {student.student_id}\")  # Access child class attribute"
   ]
  },
  {
   "cell_type": "markdown",
   "id": "b065f54b",
   "metadata": {},
   "source": [
    "# Polymorphism\n",
    "# operator overloading, which is a type of polymorphism.\n",
    "# It allows the same + operator to work on different data types.\n",
    "# The behavior of + changes based on context, making it polymorphic."
   ]
  },
  {
   "cell_type": "code",
   "execution_count": 10,
   "id": "8e85bcf9",
   "metadata": {},
   "outputs": [
    {
     "name": "stdout",
     "output_type": "stream",
     "text": [
      "<class '__main__.Point'>\n",
      "<class '__main__.Point'>\n",
      "\n",
      "x=4, y=6\n",
      "\n",
      "<class '__main__.Point'>\n"
     ]
    }
   ],
   "source": [
    "class Point:\n",
    "    def __init__(self, x, y):\n",
    "        self.x = x\n",
    "        self.y = y\n",
    "\n",
    "    def __add__(self, other):\n",
    "        return Point(self.x + other.x, self.y + other.y)\n",
    "\n",
    "    def __str__(self):\n",
    "        return f\"x={self.x}, y={self.y}\"\n",
    "\n",
    "p1 = Point(1, 2)\n",
    "p2 = Point(3, 4)\n",
    "\n",
    "print(type(p1))\n",
    "print(type(p2))\n",
    "print()\n",
    "result = p1 + p2\n",
    "print(result)  # Output: Point(x=4, y=6)\n",
    "print()\n",
    "print(type(result))"
   ]
  },
  {
   "cell_type": "markdown",
   "id": "353b14d6",
   "metadata": {},
   "source": [
    "# Overloading * Operator (Scalar Multiplication)\n",
    "# We overload * to multiply the x and y coordinates by a scalar.\n",
    "# Explanation: p * 2 calls __mul__, multiplying both coordinates by 2."
   ]
  },
  {
   "cell_type": "code",
   "execution_count": 11,
   "id": "b2a5d075",
   "metadata": {},
   "outputs": [
    {
     "name": "stdout",
     "output_type": "stream",
     "text": [
      "Point(6, 8)\n"
     ]
    }
   ],
   "source": [
    "class Point:\n",
    "    def __init__(self, x, y):\n",
    "        self.x = x\n",
    "        self.y = y\n",
    "\n",
    "    def __mul__(self, scalar):\n",
    "        \"\"\"Overloading the * operator\"\"\"\n",
    "        \n",
    "        '''isinstance(variable, type) is a built-in Python function that checks if a variable is \n",
    "        an instance of a specific type. (int, float) is a tuple, meaning isinstance() will check\n",
    "        if scalar belongs to either of the types.'''\n",
    "        \n",
    "        if isinstance(scalar, (int, float)):\n",
    "            return Point(self.x * scalar, self.y * scalar)\n",
    "        raise TypeError(\"Operand must be a number\")\n",
    "\n",
    "    def __str__(self):\n",
    "        return f\"Point({self.x}, {self.y})\"\n",
    "\n",
    "# Example Usage\n",
    "p = Point(3, 4)\n",
    "p_scaled = p * 2  # Calls p.__mul__(2)\n",
    "\n",
    "print(p_scaled)  # Output: Point(6, 8)"
   ]
  },
  {
   "cell_type": "markdown",
   "id": "7ca77634",
   "metadata": {},
   "source": [
    "# Thank You"
   ]
  }
 ],
 "metadata": {
  "kernelspec": {
   "display_name": "Python 3 (ipykernel)",
   "language": "python",
   "name": "python3"
  },
  "language_info": {
   "codemirror_mode": {
    "name": "ipython",
    "version": 3
   },
   "file_extension": ".py",
   "mimetype": "text/x-python",
   "name": "python",
   "nbconvert_exporter": "python",
   "pygments_lexer": "ipython3",
   "version": "3.10.4"
  }
 },
 "nbformat": 4,
 "nbformat_minor": 5
}
