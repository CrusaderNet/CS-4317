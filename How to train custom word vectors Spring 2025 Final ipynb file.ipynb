{
 "cells": [
  {
   "cell_type": "code",
   "execution_count": 1,
   "metadata": {},
   "outputs": [
    {
     "name": "stderr",
     "output_type": "stream",
     "text": [
      "/opt/software/software/Python/3.10.4-GCCcore-11.3.0/lib/python3.10/site-packages/paramiko/transport.py:236: CryptographyDeprecationWarning: Blowfish has been deprecated\n",
      "  \"class\": algorithms.Blowfish,\n",
      "2025-03-30 22:25:08.796691: I tensorflow/core/util/port.cc:104] oneDNN custom operations are on. You may see slightly different numerical results due to floating-point round-off errors from different computation orders. To turn them off, set the environment variable `TF_ENABLE_ONEDNN_OPTS=0`.\n"
     ]
    }
   ],
   "source": [
    "import numpy as np\n",
    "import pandas as pd\n",
    "import gensim\n",
    "import os\n",
    "from tensorflow.keras.models import Sequential\n",
    "from tensorflow.keras.layers import Dense, Embedding, GRU, LSTM\n",
    "from tensorflow.keras.layers import Embedding\n",
    "from tensorflow.keras.initializers import Constant\n",
    "from tensorflow.keras.callbacks import ModelCheckpoint\n",
    "from tensorflow.keras.models import load_model"
   ]
  },
  {
   "cell_type": "code",
   "execution_count": 2,
   "metadata": {},
   "outputs": [],
   "source": [
    "from tensorflow.keras.preprocessing.text import Tokenizer\n",
    "from tensorflow.keras.preprocessing.sequence import pad_sequences"
   ]
  },
  {
   "cell_type": "code",
   "execution_count": 3,
   "metadata": {},
   "outputs": [],
   "source": [
    "from tensorflow import keras\n",
    "from keras.preprocessing import image, sequence, text # Import necessary submodules"
   ]
  },
  {
   "cell_type": "markdown",
   "metadata": {},
   "source": [
    "## *Get the data*"
   ]
  },
  {
   "cell_type": "code",
   "execution_count": 4,
   "metadata": {},
   "outputs": [
    {
     "data": {
      "text/html": [
       "<div>\n",
       "<style scoped>\n",
       "    .dataframe tbody tr th:only-of-type {\n",
       "        vertical-align: middle;\n",
       "    }\n",
       "\n",
       "    .dataframe tbody tr th {\n",
       "        vertical-align: top;\n",
       "    }\n",
       "\n",
       "    .dataframe thead th {\n",
       "        text-align: right;\n",
       "    }\n",
       "</style>\n",
       "<table border=\"1\" class=\"dataframe\">\n",
       "  <thead>\n",
       "    <tr style=\"text-align: right;\">\n",
       "      <th></th>\n",
       "      <th>hmid</th>\n",
       "      <th>wid</th>\n",
       "      <th>reflection_period</th>\n",
       "      <th>original_hm</th>\n",
       "      <th>cleaned_hm</th>\n",
       "      <th>modified</th>\n",
       "      <th>num_sentence</th>\n",
       "      <th>ground_truth_category</th>\n",
       "      <th>predicted_category</th>\n",
       "    </tr>\n",
       "  </thead>\n",
       "  <tbody>\n",
       "    <tr>\n",
       "      <th>0</th>\n",
       "      <td>27673</td>\n",
       "      <td>2053</td>\n",
       "      <td>24h</td>\n",
       "      <td>I went on a successful date with someone I fel...</td>\n",
       "      <td>I went on a successful date with someone I fel...</td>\n",
       "      <td>True</td>\n",
       "      <td>1</td>\n",
       "      <td>NaN</td>\n",
       "      <td>affection</td>\n",
       "    </tr>\n",
       "    <tr>\n",
       "      <th>1</th>\n",
       "      <td>27674</td>\n",
       "      <td>2</td>\n",
       "      <td>24h</td>\n",
       "      <td>I was happy when my son got 90% marks in his e...</td>\n",
       "      <td>I was happy when my son got 90% marks in his e...</td>\n",
       "      <td>True</td>\n",
       "      <td>1</td>\n",
       "      <td>NaN</td>\n",
       "      <td>affection</td>\n",
       "    </tr>\n",
       "    <tr>\n",
       "      <th>2</th>\n",
       "      <td>27675</td>\n",
       "      <td>1936</td>\n",
       "      <td>24h</td>\n",
       "      <td>I went to the gym this morning and did yoga.</td>\n",
       "      <td>I went to the gym this morning and did yoga.</td>\n",
       "      <td>True</td>\n",
       "      <td>1</td>\n",
       "      <td>NaN</td>\n",
       "      <td>exercise</td>\n",
       "    </tr>\n",
       "    <tr>\n",
       "      <th>3</th>\n",
       "      <td>27676</td>\n",
       "      <td>206</td>\n",
       "      <td>24h</td>\n",
       "      <td>We had a serious talk with some friends of our...</td>\n",
       "      <td>We had a serious talk with some friends of our...</td>\n",
       "      <td>True</td>\n",
       "      <td>2</td>\n",
       "      <td>bonding</td>\n",
       "      <td>bonding</td>\n",
       "    </tr>\n",
       "    <tr>\n",
       "      <th>4</th>\n",
       "      <td>27677</td>\n",
       "      <td>6227</td>\n",
       "      <td>24h</td>\n",
       "      <td>I went with grandchildren to butterfly display...</td>\n",
       "      <td>I went with grandchildren to butterfly display...</td>\n",
       "      <td>True</td>\n",
       "      <td>1</td>\n",
       "      <td>NaN</td>\n",
       "      <td>affection</td>\n",
       "    </tr>\n",
       "  </tbody>\n",
       "</table>\n",
       "</div>"
      ],
      "text/plain": [
       "    hmid   wid reflection_period  \\\n",
       "0  27673  2053               24h   \n",
       "1  27674     2               24h   \n",
       "2  27675  1936               24h   \n",
       "3  27676   206               24h   \n",
       "4  27677  6227               24h   \n",
       "\n",
       "                                         original_hm  \\\n",
       "0  I went on a successful date with someone I fel...   \n",
       "1  I was happy when my son got 90% marks in his e...   \n",
       "2       I went to the gym this morning and did yoga.   \n",
       "3  We had a serious talk with some friends of our...   \n",
       "4  I went with grandchildren to butterfly display...   \n",
       "\n",
       "                                          cleaned_hm  modified  num_sentence  \\\n",
       "0  I went on a successful date with someone I fel...      True             1   \n",
       "1  I was happy when my son got 90% marks in his e...      True             1   \n",
       "2       I went to the gym this morning and did yoga.      True             1   \n",
       "3  We had a serious talk with some friends of our...      True             2   \n",
       "4  I went with grandchildren to butterfly display...      True             1   \n",
       "\n",
       "  ground_truth_category predicted_category  \n",
       "0                   NaN          affection  \n",
       "1                   NaN          affection  \n",
       "2                   NaN           exercise  \n",
       "3               bonding            bonding  \n",
       "4                   NaN          affection  "
      ]
     },
     "execution_count": 4,
     "metadata": {},
     "output_type": "execute_result"
    }
   ],
   "source": [
    "data = pd.read_csv(\"cleaned_hm.csv\")\n",
    "data.head()"
   ]
  },
  {
   "cell_type": "markdown",
   "metadata": {},
   "source": [
    "## *Basic data cleaning*"
   ]
  },
  {
   "cell_type": "code",
   "execution_count": 5,
   "metadata": {},
   "outputs": [
    {
     "data": {
      "text/plain": [
       "affection           34168\n",
       "achievement         33993\n",
       "enjoy_the_moment    11144\n",
       "bonding             10727\n",
       "leisure              7458\n",
       "nature               1843\n",
       "exercise             1202\n",
       "Name: predicted_category, dtype: int64"
      ]
     },
     "execution_count": 5,
     "metadata": {},
     "output_type": "execute_result"
    }
   ],
   "source": [
    "data[\"predicted_category\"].value_counts()"
   ]
  },
  {
   "cell_type": "code",
   "execution_count": 6,
   "metadata": {},
   "outputs": [
    {
     "data": {
      "text/plain": [
       "1     83711\n",
       "2      9542\n",
       "3      3847\n",
       "4      1624\n",
       "5       821\n",
       "6       336\n",
       "7       183\n",
       "8       107\n",
       "10       68\n",
       "9        61\n",
       "11       35\n",
       "13       26\n",
       "12       21\n",
       "16       17\n",
       "18       17\n",
       "14       14\n",
       "17       14\n",
       "19       12\n",
       "21       10\n",
       "15        7\n",
       "23        7\n",
       "25        7\n",
       "26        5\n",
       "24        5\n",
       "22        4\n",
       "30        3\n",
       "31        3\n",
       "20        3\n",
       "29        3\n",
       "27        2\n",
       "32        2\n",
       "40        2\n",
       "37        2\n",
       "69        1\n",
       "60        1\n",
       "34        1\n",
       "42        1\n",
       "44        1\n",
       "48        1\n",
       "35        1\n",
       "46        1\n",
       "51        1\n",
       "56        1\n",
       "53        1\n",
       "58        1\n",
       "28        1\n",
       "45        1\n",
       "Name: num_sentence, dtype: int64"
      ]
     },
     "execution_count": 6,
     "metadata": {},
     "output_type": "execute_result"
    }
   ],
   "source": [
    "data[\"num_sentence\"].value_counts()"
   ]
  },
  {
   "cell_type": "code",
   "execution_count": 7,
   "metadata": {},
   "outputs": [
    {
     "data": {
      "text/plain": [
       "affection           34020\n",
       "achievement         33966\n",
       "enjoy_the_moment    11115\n",
       "bonding             10700\n",
       "leisure              7458\n",
       "nature               1839\n",
       "exercise             1202\n",
       "Name: predicted_category, dtype: int64"
      ]
     },
     "execution_count": 7,
     "metadata": {},
     "output_type": "execute_result"
    }
   ],
   "source": [
    "# deleting happy moments with more than 10 sentences\n",
    "mod_data = data.loc[data['num_sentence'] <= 10]\n",
    "mod_data[\"predicted_category\"].value_counts()"
   ]
  },
  {
   "cell_type": "code",
   "execution_count": 8,
   "metadata": {},
   "outputs": [],
   "source": [
    "## categorical to numerical\n",
    "encode = {\n",
    "    \"affection\" : 0,\n",
    "    \"achievement\"  : 1,       \n",
    "    \"bonding\" : 2,    \n",
    "    \"enjoy_the_moment\" : 3,     \n",
    "    \"leisure\"  : 4,    \n",
    "    \"nature\" : 5,    \n",
    "    \"exercise\" : 6\n",
    "}"
   ]
  },
  {
   "cell_type": "code",
   "execution_count": 9,
   "metadata": {},
   "outputs": [
    {
     "name": "stderr",
     "output_type": "stream",
     "text": [
      "/tmp/ipykernel_2256335/862238804.py:1: SettingWithCopyWarning: \n",
      "A value is trying to be set on a copy of a slice from a DataFrame.\n",
      "Try using .loc[row_indexer,col_indexer] = value instead\n",
      "\n",
      "See the caveats in the documentation: https://pandas.pydata.org/pandas-docs/stable/user_guide/indexing.html#returning-a-view-versus-a-copy\n",
      "  mod_data[\"predicted_category\"] = mod_data[\"predicted_category\"].apply(lambda x: encode[x])\n"
     ]
    },
    {
     "data": {
      "text/html": [
       "<div>\n",
       "<style scoped>\n",
       "    .dataframe tbody tr th:only-of-type {\n",
       "        vertical-align: middle;\n",
       "    }\n",
       "\n",
       "    .dataframe tbody tr th {\n",
       "        vertical-align: top;\n",
       "    }\n",
       "\n",
       "    .dataframe thead th {\n",
       "        text-align: right;\n",
       "    }\n",
       "</style>\n",
       "<table border=\"1\" class=\"dataframe\">\n",
       "  <thead>\n",
       "    <tr style=\"text-align: right;\">\n",
       "      <th></th>\n",
       "      <th>hmid</th>\n",
       "      <th>wid</th>\n",
       "      <th>reflection_period</th>\n",
       "      <th>original_hm</th>\n",
       "      <th>cleaned_hm</th>\n",
       "      <th>modified</th>\n",
       "      <th>num_sentence</th>\n",
       "      <th>ground_truth_category</th>\n",
       "      <th>predicted_category</th>\n",
       "    </tr>\n",
       "  </thead>\n",
       "  <tbody>\n",
       "    <tr>\n",
       "      <th>0</th>\n",
       "      <td>27673</td>\n",
       "      <td>2053</td>\n",
       "      <td>24h</td>\n",
       "      <td>I went on a successful date with someone I fel...</td>\n",
       "      <td>I went on a successful date with someone I fel...</td>\n",
       "      <td>True</td>\n",
       "      <td>1</td>\n",
       "      <td>NaN</td>\n",
       "      <td>0</td>\n",
       "    </tr>\n",
       "    <tr>\n",
       "      <th>1</th>\n",
       "      <td>27674</td>\n",
       "      <td>2</td>\n",
       "      <td>24h</td>\n",
       "      <td>I was happy when my son got 90% marks in his e...</td>\n",
       "      <td>I was happy when my son got 90% marks in his e...</td>\n",
       "      <td>True</td>\n",
       "      <td>1</td>\n",
       "      <td>NaN</td>\n",
       "      <td>0</td>\n",
       "    </tr>\n",
       "    <tr>\n",
       "      <th>2</th>\n",
       "      <td>27675</td>\n",
       "      <td>1936</td>\n",
       "      <td>24h</td>\n",
       "      <td>I went to the gym this morning and did yoga.</td>\n",
       "      <td>I went to the gym this morning and did yoga.</td>\n",
       "      <td>True</td>\n",
       "      <td>1</td>\n",
       "      <td>NaN</td>\n",
       "      <td>6</td>\n",
       "    </tr>\n",
       "    <tr>\n",
       "      <th>3</th>\n",
       "      <td>27676</td>\n",
       "      <td>206</td>\n",
       "      <td>24h</td>\n",
       "      <td>We had a serious talk with some friends of our...</td>\n",
       "      <td>We had a serious talk with some friends of our...</td>\n",
       "      <td>True</td>\n",
       "      <td>2</td>\n",
       "      <td>bonding</td>\n",
       "      <td>2</td>\n",
       "    </tr>\n",
       "    <tr>\n",
       "      <th>4</th>\n",
       "      <td>27677</td>\n",
       "      <td>6227</td>\n",
       "      <td>24h</td>\n",
       "      <td>I went with grandchildren to butterfly display...</td>\n",
       "      <td>I went with grandchildren to butterfly display...</td>\n",
       "      <td>True</td>\n",
       "      <td>1</td>\n",
       "      <td>NaN</td>\n",
       "      <td>0</td>\n",
       "    </tr>\n",
       "  </tbody>\n",
       "</table>\n",
       "</div>"
      ],
      "text/plain": [
       "    hmid   wid reflection_period  \\\n",
       "0  27673  2053               24h   \n",
       "1  27674     2               24h   \n",
       "2  27675  1936               24h   \n",
       "3  27676   206               24h   \n",
       "4  27677  6227               24h   \n",
       "\n",
       "                                         original_hm  \\\n",
       "0  I went on a successful date with someone I fel...   \n",
       "1  I was happy when my son got 90% marks in his e...   \n",
       "2       I went to the gym this morning and did yoga.   \n",
       "3  We had a serious talk with some friends of our...   \n",
       "4  I went with grandchildren to butterfly display...   \n",
       "\n",
       "                                          cleaned_hm  modified  num_sentence  \\\n",
       "0  I went on a successful date with someone I fel...      True             1   \n",
       "1  I was happy when my son got 90% marks in his e...      True             1   \n",
       "2       I went to the gym this morning and did yoga.      True             1   \n",
       "3  We had a serious talk with some friends of our...      True             2   \n",
       "4  I went with grandchildren to butterfly display...      True             1   \n",
       "\n",
       "  ground_truth_category  predicted_category  \n",
       "0                   NaN                   0  \n",
       "1                   NaN                   0  \n",
       "2                   NaN                   6  \n",
       "3               bonding                   2  \n",
       "4                   NaN                   0  "
      ]
     },
     "execution_count": 9,
     "metadata": {},
     "output_type": "execute_result"
    }
   ],
   "source": [
    "mod_data[\"predicted_category\"] = mod_data[\"predicted_category\"].apply(lambda x: encode[x])\n",
    "mod_data.head()"
   ]
  },
  {
   "cell_type": "markdown",
   "metadata": {},
   "source": [
    "## *Data cleaning for NLP*"
   ]
  },
  {
   "cell_type": "code",
   "execution_count": 10,
   "metadata": {},
   "outputs": [
    {
     "data": {
      "text/plain": [
       "[['i',\n",
       "  'went',\n",
       "  'on',\n",
       "  'a',\n",
       "  'successful',\n",
       "  'date',\n",
       "  'with',\n",
       "  'someone',\n",
       "  'i',\n",
       "  'felt',\n",
       "  'sympathy',\n",
       "  'and',\n",
       "  'connection',\n",
       "  'with'],\n",
       " ['i',\n",
       "  'was',\n",
       "  'happy',\n",
       "  'when',\n",
       "  'my',\n",
       "  'son',\n",
       "  'got',\n",
       "  'marks',\n",
       "  'in',\n",
       "  'his',\n",
       "  'examination'],\n",
       " ['i', 'went', 'to', 'the', 'gym', 'this', 'morning', 'and', 'did', 'yoga'],\n",
       " ['we',\n",
       "  'had',\n",
       "  'a',\n",
       "  'serious',\n",
       "  'talk',\n",
       "  'with',\n",
       "  'some',\n",
       "  'friends',\n",
       "  'of',\n",
       "  'ours',\n",
       "  'who',\n",
       "  'have',\n",
       "  'been',\n",
       "  'flaky',\n",
       "  'lately',\n",
       "  'they',\n",
       "  'understood',\n",
       "  'and',\n",
       "  'we',\n",
       "  'had',\n",
       "  'a',\n",
       "  'good',\n",
       "  'evening',\n",
       "  'hanging',\n",
       "  'out'],\n",
       " ['i',\n",
       "  'went',\n",
       "  'with',\n",
       "  'grandchildren',\n",
       "  'to',\n",
       "  'butterfly',\n",
       "  'display',\n",
       "  'at',\n",
       "  'crohn',\n",
       "  'conservatory']]"
      ]
     },
     "execution_count": 10,
     "metadata": {},
     "output_type": "execute_result"
    }
   ],
   "source": [
    "import string\n",
    "from nltk.tokenize import word_tokenize\n",
    "from nltk.corpus import stopwords\n",
    "\n",
    "happy_lines = list()\n",
    "lines = mod_data[\"cleaned_hm\"].values.tolist()\n",
    "\n",
    "for line in lines:\n",
    "    # tokenize the text\n",
    "    tokens = word_tokenize(line)\n",
    "    tokens = [w.lower() for w in tokens]\n",
    "    # remove puntuations\n",
    "    # Create translation table to remove punctuation\n",
    "\n",
    "    table = str.maketrans('', '', string.punctuation)\n",
    "    stripped = [w.translate(table) for w in tokens]\n",
    "    # string.punctuation contains all ASCII punctuation characters.\n",
    "    # str.maketrans('', '', string.punctuation) creates a translation table where each\n",
    "    # punctuation character is mapped to None, effectively removing them.\n",
    "    # w.translate(table) applies the translation table to each string w in the list tokens.\n",
    "    # The list comprehension [w.translate(table) for w in tokens] creates a new list (stripped)\n",
    "    # where each string in the original tokens list has its punctuation removed.\n",
    "    # This code is useful when you want to preprocess text data by removing punctuation, which is a \n",
    "    # common step in natural language processing tasks.\n",
    "    # remove non alphabetic characters\n",
    "    words = [word for word in stripped if word.isalpha()]\n",
    "    happy_lines.append(words)\n",
    "    \n",
    "happy_lines[0:5]"
   ]
  },
  {
   "cell_type": "markdown",
   "metadata": {},
   "source": [
    "# Example for clarification"
   ]
  },
  {
   "cell_type": "code",
   "execution_count": 36,
   "metadata": {},
   "outputs": [],
   "source": [
    "Sample_String = '''I am planning another trip upcoming in @August. This one is a week-long trip in %Colorado. Planning makes me so excited. I love seeing everything coming together and falling into place. I will probably continue to be happy about this randomly up to the point of the actual trip.'''"
   ]
  },
  {
   "cell_type": "code",
   "execution_count": 37,
   "metadata": {},
   "outputs": [
    {
     "name": "stdout",
     "output_type": "stream",
     "text": [
      "I am planning another trip upcoming in @August. This one is a week-long trip in %Colorado. Planning makes me so excited. I love seeing everything coming together and falling into place. I will probably continue to be happy about this randomly up to the point of the actual trip.\n"
     ]
    }
   ],
   "source": [
    "print(Sample_String)"
   ]
  },
  {
   "cell_type": "code",
   "execution_count": 39,
   "metadata": {},
   "outputs": [
    {
     "data": {
      "text/plain": [
       "['I',\n",
       " 'am',\n",
       " 'planning',\n",
       " 'another',\n",
       " 'trip',\n",
       " 'upcoming',\n",
       " 'in',\n",
       " '@',\n",
       " 'August',\n",
       " '.',\n",
       " 'This',\n",
       " 'one',\n",
       " 'is',\n",
       " 'a',\n",
       " 'week-long',\n",
       " 'trip',\n",
       " 'in',\n",
       " '%',\n",
       " 'Colorado',\n",
       " '.',\n",
       " 'Planning',\n",
       " 'makes',\n",
       " 'me',\n",
       " 'so',\n",
       " 'excited',\n",
       " '.',\n",
       " 'I',\n",
       " 'love',\n",
       " 'seeing',\n",
       " 'everything',\n",
       " 'coming',\n",
       " 'together',\n",
       " 'and',\n",
       " 'falling',\n",
       " 'into',\n",
       " 'place',\n",
       " '.',\n",
       " 'I',\n",
       " 'will',\n",
       " 'probably',\n",
       " 'continue',\n",
       " 'to',\n",
       " 'be',\n",
       " 'happy',\n",
       " 'about',\n",
       " 'this',\n",
       " 'randomly',\n",
       " 'up',\n",
       " 'to',\n",
       " 'the',\n",
       " 'point',\n",
       " 'of',\n",
       " 'the',\n",
       " 'actual',\n",
       " 'trip',\n",
       " '.']"
      ]
     },
     "execution_count": 39,
     "metadata": {},
     "output_type": "execute_result"
    }
   ],
   "source": [
    "tokens_check = word_tokenize(Sample_String)\n",
    "tokens_check"
   ]
  },
  {
   "cell_type": "code",
   "execution_count": 40,
   "metadata": {},
   "outputs": [],
   "source": [
    "tokens_change_to_lower_case_check = [w.lower() for w in tokens_check]"
   ]
  },
  {
   "cell_type": "code",
   "execution_count": 41,
   "metadata": {},
   "outputs": [
    {
     "data": {
      "text/plain": [
       "['i',\n",
       " 'am',\n",
       " 'planning',\n",
       " 'another',\n",
       " 'trip',\n",
       " 'upcoming',\n",
       " 'in',\n",
       " '@',\n",
       " 'august',\n",
       " '.',\n",
       " 'this',\n",
       " 'one',\n",
       " 'is',\n",
       " 'a',\n",
       " 'week-long',\n",
       " 'trip',\n",
       " 'in',\n",
       " '%',\n",
       " 'colorado',\n",
       " '.',\n",
       " 'planning',\n",
       " 'makes',\n",
       " 'me',\n",
       " 'so',\n",
       " 'excited',\n",
       " '.',\n",
       " 'i',\n",
       " 'love',\n",
       " 'seeing',\n",
       " 'everything',\n",
       " 'coming',\n",
       " 'together',\n",
       " 'and',\n",
       " 'falling',\n",
       " 'into',\n",
       " 'place',\n",
       " '.',\n",
       " 'i',\n",
       " 'will',\n",
       " 'probably',\n",
       " 'continue',\n",
       " 'to',\n",
       " 'be',\n",
       " 'happy',\n",
       " 'about',\n",
       " 'this',\n",
       " 'randomly',\n",
       " 'up',\n",
       " 'to',\n",
       " 'the',\n",
       " 'point',\n",
       " 'of',\n",
       " 'the',\n",
       " 'actual',\n",
       " 'trip',\n",
       " '.']"
      ]
     },
     "execution_count": 41,
     "metadata": {},
     "output_type": "execute_result"
    }
   ],
   "source": [
    "tokens_change_to_lower_case_check"
   ]
  },
  {
   "cell_type": "code",
   "execution_count": 43,
   "metadata": {},
   "outputs": [
    {
     "data": {
      "text/plain": [
       "{33: None,\n",
       " 34: None,\n",
       " 35: None,\n",
       " 36: None,\n",
       " 37: None,\n",
       " 38: None,\n",
       " 39: None,\n",
       " 40: None,\n",
       " 41: None,\n",
       " 42: None,\n",
       " 43: None,\n",
       " 44: None,\n",
       " 45: None,\n",
       " 46: None,\n",
       " 47: None,\n",
       " 58: None,\n",
       " 59: None,\n",
       " 60: None,\n",
       " 61: None,\n",
       " 62: None,\n",
       " 63: None,\n",
       " 64: None,\n",
       " 91: None,\n",
       " 92: None,\n",
       " 93: None,\n",
       " 94: None,\n",
       " 95: None,\n",
       " 96: None,\n",
       " 123: None,\n",
       " 124: None,\n",
       " 125: None,\n",
       " 126: None}"
      ]
     },
     "execution_count": 43,
     "metadata": {},
     "output_type": "execute_result"
    }
   ],
   "source": [
    "table = str.maketrans('', '', string.punctuation)\n",
    "table"
   ]
  },
  {
   "cell_type": "code",
   "execution_count": 44,
   "metadata": {},
   "outputs": [],
   "source": [
    "stripped_after_changing_to_lower_case_check = [w.translate(table) for w in tokens_change_to_lower_case_check]"
   ]
  },
  {
   "cell_type": "code",
   "execution_count": 45,
   "metadata": {},
   "outputs": [
    {
     "data": {
      "text/plain": [
       "['i',\n",
       " 'am',\n",
       " 'planning',\n",
       " 'another',\n",
       " 'trip',\n",
       " 'upcoming',\n",
       " 'in',\n",
       " '',\n",
       " 'august',\n",
       " '',\n",
       " 'this',\n",
       " 'one',\n",
       " 'is',\n",
       " 'a',\n",
       " 'weeklong',\n",
       " 'trip',\n",
       " 'in',\n",
       " '',\n",
       " 'colorado',\n",
       " '',\n",
       " 'planning',\n",
       " 'makes',\n",
       " 'me',\n",
       " 'so',\n",
       " 'excited',\n",
       " '',\n",
       " 'i',\n",
       " 'love',\n",
       " 'seeing',\n",
       " 'everything',\n",
       " 'coming',\n",
       " 'together',\n",
       " 'and',\n",
       " 'falling',\n",
       " 'into',\n",
       " 'place',\n",
       " '',\n",
       " 'i',\n",
       " 'will',\n",
       " 'probably',\n",
       " 'continue',\n",
       " 'to',\n",
       " 'be',\n",
       " 'happy',\n",
       " 'about',\n",
       " 'this',\n",
       " 'randomly',\n",
       " 'up',\n",
       " 'to',\n",
       " 'the',\n",
       " 'point',\n",
       " 'of',\n",
       " 'the',\n",
       " 'actual',\n",
       " 'trip',\n",
       " '']"
      ]
     },
     "execution_count": 45,
     "metadata": {},
     "output_type": "execute_result"
    }
   ],
   "source": [
    "stripped_after_changing_to_lower_case_check"
   ]
  },
  {
   "cell_type": "code",
   "execution_count": 46,
   "metadata": {},
   "outputs": [],
   "source": [
    "consider_words_only = [word for word in stripped_after_changing_to_lower_case_check if word.isalpha()]"
   ]
  },
  {
   "cell_type": "code",
   "execution_count": 47,
   "metadata": {},
   "outputs": [
    {
     "data": {
      "text/plain": [
       "['i',\n",
       " 'am',\n",
       " 'planning',\n",
       " 'another',\n",
       " 'trip',\n",
       " 'upcoming',\n",
       " 'in',\n",
       " 'august',\n",
       " 'this',\n",
       " 'one',\n",
       " 'is',\n",
       " 'a',\n",
       " 'weeklong',\n",
       " 'trip',\n",
       " 'in',\n",
       " 'colorado',\n",
       " 'planning',\n",
       " 'makes',\n",
       " 'me',\n",
       " 'so',\n",
       " 'excited',\n",
       " 'i',\n",
       " 'love',\n",
       " 'seeing',\n",
       " 'everything',\n",
       " 'coming',\n",
       " 'together',\n",
       " 'and',\n",
       " 'falling',\n",
       " 'into',\n",
       " 'place',\n",
       " 'i',\n",
       " 'will',\n",
       " 'probably',\n",
       " 'continue',\n",
       " 'to',\n",
       " 'be',\n",
       " 'happy',\n",
       " 'about',\n",
       " 'this',\n",
       " 'randomly',\n",
       " 'up',\n",
       " 'to',\n",
       " 'the',\n",
       " 'point',\n",
       " 'of',\n",
       " 'the',\n",
       " 'actual',\n",
       " 'trip']"
      ]
     },
     "execution_count": 47,
     "metadata": {},
     "output_type": "execute_result"
    }
   ],
   "source": [
    "consider_words_only"
   ]
  },
  {
   "cell_type": "markdown",
   "metadata": {},
   "source": [
    "## *Train-test split*"
   ]
  },
  {
   "cell_type": "code",
   "execution_count": 11,
   "metadata": {},
   "outputs": [
    {
     "name": "stdout",
     "output_type": "stream",
     "text": [
      "unique tokens - 26138\n",
      "vocab_size - 26139\n"
     ]
    }
   ],
   "source": [
    "validation_split = 0.2\n",
    "max_length = 55\n",
    "\n",
    "tokenizer_obj = Tokenizer()\n",
    "tokenizer_obj.fit_on_texts(happy_lines)\n",
    "sequences = tokenizer_obj.texts_to_sequences(happy_lines)\n",
    "\n",
    "word_index = tokenizer_obj.word_index\n",
    "print(\"unique tokens - \"+str(len(word_index)))\n",
    "vocab_size = len(tokenizer_obj.word_index) + 1\n",
    "print('vocab_size - '+str(vocab_size))\n",
    "\n",
    "lines_pad = pad_sequences(sequences, maxlen=max_length, padding='post')\n",
    "category =  mod_data['predicted_category'].values\n",
    "\n",
    "indices = np.arange(lines_pad.shape[0])\n",
    "np.random.shuffle(indices)\n",
    "lines_pad = lines_pad[indices]\n",
    "category = category[indices]\n",
    "\n",
    "n_values = np.max(category) + 1\n",
    "Y = np.eye(n_values)[category]\n",
    "\n",
    "num_validation_samples = int(validation_split * lines_pad.shape[0])\n",
    "\n",
    "X_train_pad = lines_pad[:-num_validation_samples]\n",
    "y_train = Y[:-num_validation_samples]\n",
    "X_test_pad = lines_pad[-num_validation_samples:]\n",
    "y_test = Y[-num_validation_samples:]"
   ]
  },
  {
   "cell_type": "code",
   "execution_count": 12,
   "metadata": {},
   "outputs": [
    {
     "name": "stdout",
     "output_type": "stream",
     "text": [
      "Shape of X_train_pad: (80240, 55)\n",
      "Shape of y_train: (80240, 7)\n",
      "Shape of X_test_pad: (20060, 55)\n",
      "Shape of y_test: (20060, 7)\n"
     ]
    }
   ],
   "source": [
    "print('Shape of X_train_pad:', X_train_pad.shape)\n",
    "print('Shape of y_train:', y_train.shape)\n",
    "\n",
    "print('Shape of X_test_pad:', X_test_pad.shape)\n",
    "print('Shape of y_test:', y_test.shape)"
   ]
  },
  {
   "cell_type": "code",
   "execution_count": 13,
   "metadata": {},
   "outputs": [
    {
     "data": {
      "text/plain": [
       "array([[   2,  438,   82, ...,    0,    0,    0],\n",
       "       [   1,    7,   16, ...,    0,    0,    0],\n",
       "       [   1,   23,    4, ...,    0,    0,    0],\n",
       "       ...,\n",
       "       [3526,  291,  297, ...,    9,  641,  573],\n",
       "       [ 245,    1,   35, ...,    0,    0,    0],\n",
       "       [ 323,    3,  176, ...,    0,    0,    0]], dtype=int32)"
      ]
     },
     "execution_count": 13,
     "metadata": {},
     "output_type": "execute_result"
    }
   ],
   "source": [
    "X_train_pad"
   ]
  },
  {
   "cell_type": "markdown",
   "metadata": {},
   "source": [
    "## *Custom word2vec model*"
   ]
  },
  {
   "cell_type": "code",
   "execution_count": 14,
   "metadata": {},
   "outputs": [
    {
     "name": "stdout",
     "output_type": "stream",
     "text": [
      "26138\n"
     ]
    }
   ],
   "source": [
    "import gensim\n",
    "model = gensim.models.Word2Vec(sentences=happy_lines, vector_size=100, window=5, workers=4, min_count=1, sg=0) #sg= 1:skip-gram 0:cbow\n",
    "\n",
    "# Get the vocabulary words using key_to_index\n",
    "vocab_words = list(model.wv.key_to_index)\n",
    "\n",
    "# Print the number of vocabulary words\n",
    "print(len(vocab_words))"
   ]
  },
  {
   "cell_type": "code",
   "execution_count": 15,
   "metadata": {},
   "outputs": [],
   "source": [
    "filename = \"happydb_word2vec_full.txt\"\n",
    "model.wv.save_word2vec_format(filename, binary=False)"
   ]
  },
  {
   "cell_type": "markdown",
   "metadata": {},
   "source": [
    "# Reading word embeddings from a file and creating a dictionary (embedding_index) where each word is associated with its corresponding vector."
   ]
  },
  {
   "cell_type": "code",
   "execution_count": 16,
   "metadata": {},
   "outputs": [],
   "source": [
    "embedding_index = {}\n",
    "f = open(os.path.join('', 'happydb_word2vec_full.txt'),  encoding = \"utf-8\")\n",
    "for line in f:\n",
    "    values = line.split()\n",
    "    word = values[0]\n",
    "    coeff = np.asarray(values[1:], dtype='float32')\n",
    "    embedding_index[word] = coeff\n",
    "f.close()"
   ]
  },
  {
   "cell_type": "code",
   "execution_count": 50,
   "metadata": {},
   "outputs": [
    {
     "data": {
      "text/plain": [
       "26139"
      ]
     },
     "execution_count": 50,
     "metadata": {},
     "output_type": "execute_result"
    }
   ],
   "source": [
    "len(embedding_index)"
   ]
  },
  {
   "cell_type": "code",
   "execution_count": 49,
   "metadata": {},
   "outputs": [
    {
     "data": {
      "text/plain": [
       "array([-0.36141628,  2.222658  , -0.08407358, -1.1473291 ,  0.50822854,\n",
       "       -1.4953653 , -1.9066303 ,  0.6842369 ,  2.38822   , -0.08272869,\n",
       "        2.1304731 ,  0.9810676 , -1.6847763 , -2.6086364 , -0.6836368 ,\n",
       "        0.5094066 ,  2.2954648 , -1.2624501 , -0.39568564, -0.4269277 ,\n",
       "        0.41840097,  1.9915693 , -1.5120773 , -0.21774986, -0.2174375 ,\n",
       "        0.40172452,  2.1200924 , -2.6018448 ,  0.39258412,  0.4720535 ,\n",
       "       -1.1347656 ,  1.5155182 ,  0.93384683, -1.8052429 , -2.7265024 ,\n",
       "       -3.9816885 ,  2.06306   ,  1.9569118 ,  1.8432055 ,  1.8462367 ,\n",
       "        0.08424091, -0.55800074,  0.17953326,  0.01444936,  0.18148655,\n",
       "        1.6378179 , -0.75148565, -0.751558  , -2.6604967 ,  2.819138  ,\n",
       "        1.6155024 ,  2.2401052 ,  1.7304711 , -2.5005307 , -3.0627136 ,\n",
       "        0.58920574,  1.6415236 ,  0.016951  , -0.80626076,  2.5665596 ,\n",
       "       -3.1788633 , -0.6848372 , -1.2000588 ,  0.88756794,  0.8996949 ,\n",
       "        1.8741596 , -0.30173773, -1.4208113 , -0.34396186, -1.1426679 ,\n",
       "       -0.39832237, -1.3516655 ,  2.9272258 , -1.1323606 ,  0.34452578,\n",
       "       -2.0819092 ,  1.1125593 ,  0.0749035 , -1.8450463 ,  0.78183556,\n",
       "        0.09156054, -0.7990451 ,  0.8017067 , -1.8713846 ,  0.6777164 ,\n",
       "        0.1421108 ,  1.3294812 , -2.0470803 ,  0.63555324, -1.214565  ,\n",
       "        0.955445  ,  0.3980416 ,  1.2590138 ,  0.6317028 ,  0.7924986 ,\n",
       "       -0.2806913 ,  1.1141795 ,  1.788166  , -0.20007265,  2.805385  ],\n",
       "      dtype=float32)"
      ]
     },
     "execution_count": 49,
     "metadata": {},
     "output_type": "execute_result"
    }
   ],
   "source": [
    "embedding_index.get('happy')"
   ]
  },
  {
   "cell_type": "code",
   "execution_count": 51,
   "metadata": {},
   "outputs": [
    {
     "data": {
      "text/plain": [
       "array([ 0.20283154, -0.5232191 ,  0.72504485, -0.90172654,  1.3296161 ,\n",
       "        0.67790073, -0.95328045, -1.6677502 ,  0.09292262, -0.31312963,\n",
       "        2.036777  , -0.304501  , -0.24740037,  0.1395049 ,  0.09924062,\n",
       "       -0.25786072,  0.9660615 , -0.7141771 ,  0.44967926,  0.63643557,\n",
       "        1.0437442 , -0.31435212,  0.14476153,  1.3354836 , -0.7279336 ,\n",
       "        0.59569854, -0.24310692, -0.8632887 ,  2.3329086 , -0.43159896,\n",
       "       -0.324608  ,  1.7451137 ,  1.4263622 , -0.91875094,  1.3832802 ,\n",
       "        0.13514334, -0.10518683, -0.41244498, -1.6287626 , -0.76917905,\n",
       "       -0.5692644 , -2.8127568 ,  1.9945592 ,  1.0059414 ,  1.241983  ,\n",
       "        0.39819577, -1.6814232 ,  1.1383121 , -1.1060469 , -1.5251166 ,\n",
       "        1.2326659 , -0.2785382 , -0.2720367 ,  1.406429  , -1.9208878 ,\n",
       "       -0.33737677, -0.7533319 , -0.6316647 ,  1.1968518 ,  0.78525484,\n",
       "       -0.5341978 , -1.4371673 ,  1.4509171 ,  0.66044533,  0.5714416 ,\n",
       "        1.1949854 , -1.0545905 , -0.82904196, -1.0034882 ,  0.51610774,\n",
       "       -0.98436874,  0.02325566,  1.410481  ,  0.06824403,  1.152518  ,\n",
       "        1.0393683 ,  0.4168956 ,  0.6414784 , -1.1537361 ,  0.6608975 ,\n",
       "        0.1748249 , -0.12630843, -2.1542366 , -1.4377362 ,  1.5713229 ,\n",
       "        1.4784725 ,  0.7667814 ,  0.7361775 ,  0.3907037 ,  0.14633979,\n",
       "        1.5501692 ,  1.5738751 , -0.5483123 , -0.7545634 ,  0.6246878 ,\n",
       "       -0.12077174,  1.9248939 ,  1.7086911 , -1.3129982 ,  0.8815095 ],\n",
       "      dtype=float32)"
      ]
     },
     "execution_count": 51,
     "metadata": {},
     "output_type": "execute_result"
    }
   ],
   "source": [
    "embedding_index.get('enjoy')"
   ]
  },
  {
   "cell_type": "code",
   "execution_count": 54,
   "metadata": {},
   "outputs": [
    {
     "data": {
      "text/plain": [
       "array([-0.0706754 ,  0.03077089, -0.10658567, -0.05469365,  0.12463199,\n",
       "       -0.23055337,  0.12254044,  0.4315224 , -0.02150998, -0.03514884,\n",
       "       -0.31198975, -0.3220141 , -0.09269856, -0.01451761,  0.05266067,\n",
       "       -0.15377694, -0.09516769, -0.14665124, -0.25116608, -0.1852504 ,\n",
       "        0.01345414, -0.13633424,  0.02668265,  0.01972168, -0.0867837 ,\n",
       "       -0.14701362, -0.04589313, -0.29161263, -0.30121988,  0.12139988,\n",
       "        0.1509182 , -0.17633796,  0.26589033, -0.18722613,  0.00642862,\n",
       "        0.2375209 ,  0.05584031,  0.06256469, -0.05568959, -0.25393137,\n",
       "        0.14330968, -0.30068958, -0.17904076, -0.13363957,  0.22836217,\n",
       "       -0.16012837, -0.06087362,  0.04550441, -0.09518021, -0.0369053 ,\n",
       "        0.21282902, -0.26665747,  0.01323566, -0.17953596, -0.02919656,\n",
       "        0.28655586,  0.23747836,  0.11371733, -0.03098153,  0.13543504,\n",
       "        0.09880634, -0.03472791,  0.1334418 , -0.33608586, -0.06943272,\n",
       "       -0.02445525, -0.05106779,  0.1660789 , -0.3014238 ,  0.25374758,\n",
       "       -0.03893518, -0.1505186 ,  0.1928389 , -0.12875378,  0.14002217,\n",
       "        0.00365778, -0.15819061,  0.10933313, -0.08553097,  0.05081654,\n",
       "        0.00221468, -0.10312508, -0.18458168,  0.27235848, -0.10139904,\n",
       "       -0.11552761,  0.21294653,  0.37109044,  0.17655808,  0.01057196,\n",
       "        0.19702493, -0.05768341,  0.02430809, -0.01254837,  0.2411697 ,\n",
       "        0.1597676 ,  0.16100426, -0.27890393,  0.11032933, -0.12755525],\n",
       "      dtype=float32)"
      ]
     },
     "execution_count": 54,
     "metadata": {},
     "output_type": "execute_result"
    }
   ],
   "source": [
    "embedding_index.get('colorado')"
   ]
  },
  {
   "cell_type": "markdown",
   "metadata": {},
   "source": [
    "# Creating an embedding matrix using pre-trained word embeddings (loaded into embedding_index) for words in a given vocabulary (word_index). The embedding matrix is often used as the initial weights for an embedding layer in a neural network."
   ]
  },
  {
   "cell_type": "code",
   "execution_count": 17,
   "metadata": {},
   "outputs": [],
   "source": [
    "embedding_dim = 100\n",
    "embedding_matrix = np.zeros((len(word_index) + 1, embedding_dim))\n",
    "for word, i in word_index.items():\n",
    "    embedding_vector = embedding_index.get(word)\n",
    "    if embedding_vector is not None:\n",
    "        embedding_matrix[i] = embedding_vector"
   ]
  },
  {
   "cell_type": "markdown",
   "metadata": {},
   "source": [
    "# embedding_dim = 100\n",
    "\n",
    "# max_length = 55\n",
    "\n",
    "# When trainable is set to False in the context of the Embedding layer in a neural network, it means that the weights of the embedding layer should remain fixed and not be updated during the training process. In other words, the pre-trained word embeddings that you initialized the layer with (embedding_matrix in your case) will not be fine-tuned based on the specific task or dataset on which the model is being trained."
   ]
  },
  {
   "cell_type": "code",
   "execution_count": 18,
   "metadata": {},
   "outputs": [],
   "source": [
    "embedding_layer = Embedding(len(word_index) + 1,\n",
    "                            embedding_dim,\n",
    "                            weights=[embedding_matrix],\n",
    "                            input_length=max_length,\n",
    "                            trainable=False)"
   ]
  },
  {
   "cell_type": "code",
   "execution_count": 19,
   "metadata": {},
   "outputs": [
    {
     "name": "stdout",
     "output_type": "stream",
     "text": [
      "WARNING:tensorflow:Layer lstm will not use cuDNN kernels since it doesn't meet the criteria. It will use a generic GPU kernel as fallback when running on GPU.\n"
     ]
    },
    {
     "name": "stderr",
     "output_type": "stream",
     "text": [
      "2025-03-30 22:25:31.738433: W tensorflow/core/common_runtime/gpu/gpu_device.cc:2027] TensorFlow was not built with CUDA kernel binaries compatible with compute capability 8.0. CUDA kernels will be jit-compiled from PTX, which could take 30 minutes or longer.\n",
      "2025-03-30 22:25:31.747198: W tensorflow/core/common_runtime/gpu/gpu_device.cc:2027] TensorFlow was not built with CUDA kernel binaries compatible with compute capability 8.0. CUDA kernels will be jit-compiled from PTX, which could take 30 minutes or longer.\n",
      "2025-03-30 22:25:32.928827: I tensorflow/core/common_runtime/gpu/gpu_device.cc:1613] Created device /job:localhost/replica:0/task:0/device:GPU:0 with 22278 MB memory:  -> device: 0, name: NVIDIA A30, pci bus id: 0000:65:00.0, compute capability: 8.0\n"
     ]
    },
    {
     "name": "stdout",
     "output_type": "stream",
     "text": [
      "Model: \"sequential\"\n",
      "_________________________________________________________________\n",
      " Layer (type)                Output Shape              Param #   \n",
      "=================================================================\n",
      " embedding (Embedding)       (None, 55, 100)           2613900   \n",
      "                                                                 \n",
      " lstm (LSTM)                 (None, 32)                17024     \n",
      "                                                                 \n",
      " dense (Dense)               (None, 7)                 231       \n",
      "                                                                 \n",
      "=================================================================\n",
      "Total params: 2,631,155\n",
      "Trainable params: 17,255\n",
      "Non-trainable params: 2,613,900\n",
      "_________________________________________________________________\n",
      "None\n"
     ]
    }
   ],
   "source": [
    "# define model\n",
    "model_own = Sequential()\n",
    "model_own.add(embedding_layer)\n",
    "model_own.add(LSTM(units=32,  dropout=0.2, recurrent_dropout=0.25))\n",
    "model_own.add(Dense(7, activation='softmax'))\n",
    "\n",
    "model_own.compile(loss='categorical_crossentropy', optimizer='adam', metrics=['accuracy'])\n",
    "\n",
    "print(model_own.summary())"
   ]
  },
  {
   "cell_type": "code",
   "execution_count": 20,
   "metadata": {},
   "outputs": [
    {
     "data": {
      "text/plain": [
       "(80240, 55)"
      ]
     },
     "execution_count": 20,
     "metadata": {},
     "output_type": "execute_result"
    }
   ],
   "source": [
    "X_train_pad.shape"
   ]
  },
  {
   "cell_type": "code",
   "execution_count": 21,
   "metadata": {},
   "outputs": [
    {
     "data": {
      "text/plain": [
       "array([[   2,  438,   82, ...,    0,    0,    0],\n",
       "       [   1,    7,   16, ...,    0,    0,    0],\n",
       "       [   1,   23,    4, ...,    0,    0,    0],\n",
       "       ...,\n",
       "       [3526,  291,  297, ...,    9,  641,  573],\n",
       "       [ 245,    1,   35, ...,    0,    0,    0],\n",
       "       [ 323,    3,  176, ...,    0,    0,    0]], dtype=int32)"
      ]
     },
     "execution_count": 21,
     "metadata": {},
     "output_type": "execute_result"
    }
   ],
   "source": [
    "X_train_pad"
   ]
  },
  {
   "cell_type": "code",
   "execution_count": 22,
   "metadata": {},
   "outputs": [
    {
     "data": {
      "text/plain": [
       "(80240, 7)"
      ]
     },
     "execution_count": 22,
     "metadata": {},
     "output_type": "execute_result"
    }
   ],
   "source": [
    "y_train.shape"
   ]
  },
  {
   "cell_type": "code",
   "execution_count": 23,
   "metadata": {},
   "outputs": [
    {
     "data": {
      "text/plain": [
       "(20060, 55)"
      ]
     },
     "execution_count": 23,
     "metadata": {},
     "output_type": "execute_result"
    }
   ],
   "source": [
    "X_test_pad.shape"
   ]
  },
  {
   "cell_type": "code",
   "execution_count": 24,
   "metadata": {},
   "outputs": [
    {
     "data": {
      "text/plain": [
       "(20060, 7)"
      ]
     },
     "execution_count": 24,
     "metadata": {},
     "output_type": "execute_result"
    }
   ],
   "source": [
    "y_test.shape"
   ]
  },
  {
   "cell_type": "code",
   "execution_count": 25,
   "metadata": {},
   "outputs": [
    {
     "name": "stdout",
     "output_type": "stream",
     "text": [
      "Epoch 1/15\n"
     ]
    },
    {
     "name": "stderr",
     "output_type": "stream",
     "text": [
      "2025-03-30 22:25:36.928674: I tensorflow/compiler/xla/stream_executor/cuda/cuda_blas.cc:630] TensorFloat-32 will be used for the matrix multiplication. This will only be logged once.\n"
     ]
    },
    {
     "name": "stdout",
     "output_type": "stream",
     "text": [
      "2508/2508 [==============================] - 212s 83ms/step - loss: 1.1756 - accuracy: 0.5495 - val_loss: 0.7732 - val_accuracy: 0.7204\n",
      "Epoch 2/15\n",
      "2508/2508 [==============================] - 207s 83ms/step - loss: 0.6178 - accuracy: 0.7995 - val_loss: 0.4918 - val_accuracy: 0.8337\n",
      "Epoch 3/15\n",
      "2508/2508 [==============================] - 205s 82ms/step - loss: 0.4903 - accuracy: 0.8317 - val_loss: 0.4154 - val_accuracy: 0.8528\n",
      "Epoch 4/15\n",
      "2508/2508 [==============================] - 205s 82ms/step - loss: 0.4303 - accuracy: 0.8470 - val_loss: 0.3821 - val_accuracy: 0.8620\n",
      "Epoch 5/15\n",
      "2508/2508 [==============================] - 205s 82ms/step - loss: 0.3991 - accuracy: 0.8567 - val_loss: 0.3799 - val_accuracy: 0.8655\n",
      "Epoch 6/15\n",
      "2508/2508 [==============================] - 205s 82ms/step - loss: 0.3836 - accuracy: 0.8614 - val_loss: 0.3518 - val_accuracy: 0.8706\n",
      "Epoch 7/15\n",
      "2508/2508 [==============================] - 205s 82ms/step - loss: 0.3729 - accuracy: 0.8654 - val_loss: 0.3505 - val_accuracy: 0.8722\n",
      "Epoch 8/15\n",
      "2508/2508 [==============================] - 205s 82ms/step - loss: 0.3627 - accuracy: 0.8676 - val_loss: 0.3407 - val_accuracy: 0.8771\n",
      "Epoch 9/15\n",
      "2508/2508 [==============================] - 205s 82ms/step - loss: 0.3554 - accuracy: 0.8695 - val_loss: 0.3343 - val_accuracy: 0.8768\n",
      "Epoch 10/15\n",
      "2508/2508 [==============================] - 205s 82ms/step - loss: 0.3495 - accuracy: 0.8728 - val_loss: 0.3316 - val_accuracy: 0.8791\n",
      "Epoch 11/15\n",
      "2508/2508 [==============================] - 204s 81ms/step - loss: 0.3442 - accuracy: 0.8739 - val_loss: 0.3340 - val_accuracy: 0.8784\n",
      "Epoch 12/15\n",
      "2508/2508 [==============================] - 204s 81ms/step - loss: 0.3399 - accuracy: 0.8742 - val_loss: 0.3298 - val_accuracy: 0.8800\n",
      "Epoch 13/15\n",
      "2508/2508 [==============================] - 204s 81ms/step - loss: 0.3369 - accuracy: 0.8758 - val_loss: 0.3223 - val_accuracy: 0.8821\n",
      "Epoch 14/15\n",
      "2508/2508 [==============================] - 204s 81ms/step - loss: 0.3339 - accuracy: 0.8777 - val_loss: 0.3224 - val_accuracy: 0.8833\n",
      "Epoch 15/15\n",
      "2508/2508 [==============================] - 204s 81ms/step - loss: 0.3316 - accuracy: 0.8774 - val_loss: 0.3183 - val_accuracy: 0.8838\n"
     ]
    }
   ],
   "source": [
    "history = model_own.fit(X_train_pad, y_train, batch_size=32, epochs=15, validation_data=(X_test_pad, y_test), verbose=1)"
   ]
  },
  {
   "cell_type": "code",
   "execution_count": 31,
   "metadata": {},
   "outputs": [],
   "source": [
    "model_own.save('trained_model_with_custom_word2vec_with_lstom_on_cleaned_hm_dataset.h5')"
   ]
  },
  {
   "cell_type": "code",
   "execution_count": 29,
   "metadata": {},
   "outputs": [],
   "source": [
    "%matplotlib inline"
   ]
  },
  {
   "cell_type": "code",
   "execution_count": 30,
   "metadata": {},
   "outputs": [
    {
     "data": {
      "image/png": "[encoded data removed]",
      "text/plain": [
       "<Figure size 432x288 with 1 Axes>"
      ]
     },
     "metadata": {
      "needs_background": "light"
     },
     "output_type": "display_data"
    },
    {
     "data": {
      "image/png": "[encoded data removed]",
      "text/plain": [
       "<Figure size 432x288 with 1 Axes>"
      ]
     },
     "metadata": {
      "needs_background": "light"
     },
     "output_type": "display_data"
    }
   ],
   "source": [
    "# Plot results5\n",
    "import matplotlib.pyplot as plt\n",
    "\n",
    "acc = history.history['accuracy']\n",
    "val_acc = history.history['val_accuracy']\n",
    "loss = history.history['loss']\n",
    "val_loss = history.history['val_loss']\n",
    "\n",
    "epochs = range(1, len(acc)+1)\n",
    "\n",
    "plt.plot(epochs, acc, 'g', label='Training accuracy')\n",
    "plt.plot(epochs, val_acc, 'r', label='Validation accuracy')\n",
    "plt.title('Training and validation accuracy')\n",
    "plt.legend()\n",
    "\n",
    "plt.figure()\n",
    "\n",
    "plt.plot(epochs, loss, 'g', label='Training loss')\n",
    "plt.plot(epochs, val_loss, 'r', label='Validation loss')\n",
    "plt.title('Training and validation loss')\n",
    "plt.legend()\n",
    "\n",
    "plt.show()"
   ]
  },
  {
   "cell_type": "markdown",
   "metadata": {},
   "source": [
    "# Sanity Check"
   ]
  },
  {
   "cell_type": "code",
   "execution_count": 180,
   "metadata": {},
   "outputs": [],
   "source": [
    "String_to_check_what_kind_of_category_is_it = '''Last month my Uncle and Aunty had visited my house after 3 years. They took me around many places and we went shopping. They took care of me every moment they were with me. They have always been very close to me all these years of my life. Those are memorable moments.'''"
   ]
  },
  {
   "cell_type": "code",
   "execution_count": 181,
   "metadata": {},
   "outputs": [],
   "source": [
    "test_tokens = word_tokenize(String_to_check_what_kind_of_category_is_it)\n",
    "test_tokens = [w.lower() for w in test_tokens]\n",
    "table = str.maketrans('', '', string.punctuation)\n",
    "stripped_test_dataset = [w.translate(table) for w in test_tokens]\n",
    "test_words = [word for word in stripped_test_dataset if word.isalpha()]"
   ]
  },
  {
   "cell_type": "code",
   "execution_count": 182,
   "metadata": {},
   "outputs": [],
   "source": [
    "test_words_truncated_or_padded_dependent_on_the_data = tokenizer_obj.texts_to_sequences(test_words)\n",
    "flattened_test_words_truncated_or_padded_dependent_on_the_data = np.array(test_words_truncated_or_padded_dependent_on_the_data).flatten()"
   ]
  },
  {
   "cell_type": "code",
   "execution_count": 183,
   "metadata": {},
   "outputs": [
    {
     "data": {
      "text/plain": [
       "51"
      ]
     },
     "execution_count": 183,
     "metadata": {},
     "output_type": "execute_result"
    }
   ],
   "source": [
    "len(flattened_test_words_truncated_or_padded_dependent_on_the_data)"
   ]
  },
  {
   "cell_type": "code",
   "execution_count": 184,
   "metadata": {},
   "outputs": [
    {
     "data": {
      "text/plain": [
       "(51,)"
      ]
     },
     "execution_count": 184,
     "metadata": {},
     "output_type": "execute_result"
    }
   ],
   "source": [
    "flattened_test_words_truncated_or_padded_dependent_on_the_data.shape"
   ]
  },
  {
   "cell_type": "code",
   "execution_count": 185,
   "metadata": {},
   "outputs": [],
   "source": [
    "one_question_array = np.array(flattened_test_words_truncated_or_padded_dependent_on_the_data).reshape(1, -1)"
   ]
  },
  {
   "cell_type": "code",
   "execution_count": 186,
   "metadata": {},
   "outputs": [
    {
     "data": {
      "text/plain": [
       "(1, 51)"
      ]
     },
     "execution_count": 186,
     "metadata": {},
     "output_type": "execute_result"
    }
   ],
   "source": [
    "one_question_array.shape"
   ]
  },
  {
   "cell_type": "code",
   "execution_count": 187,
   "metadata": {},
   "outputs": [],
   "source": [
    "test_words_truncated_or_padded_dependent_on_the_data_only_first_55_tokens = pad_sequences(one_question_array, maxlen=max_length, padding='post')"
   ]
  },
  {
   "cell_type": "code",
   "execution_count": 188,
   "metadata": {},
   "outputs": [
    {
     "data": {
      "text/plain": [
       "(1, 55)"
      ]
     },
     "execution_count": 188,
     "metadata": {},
     "output_type": "execute_result"
    }
   ],
   "source": [
    "test_words_truncated_or_padded_dependent_on_the_data_only_first_55_tokens.shape"
   ]
  },
  {
   "cell_type": "code",
   "execution_count": 189,
   "metadata": {},
   "outputs": [
    {
     "data": {
      "text/plain": [
       "array([[  38,  102,    2,  438,    5, 4342,   18,  349,    2,  117,   43,\n",
       "         131,   80,  107,   10,  199,  214,  997,    5,   21,   23,  243,\n",
       "          80,  107,  461,   11,   10,  294,   87,   80,   90,   13,   10,\n",
       "          80,   35,  257,   53,   26,  379,    4,   10,   51,  499,  131,\n",
       "          11,    2,   89,  534,   93,  801,  427,    0,    0,    0,    0]],\n",
       "      dtype=int32)"
      ]
     },
     "execution_count": 189,
     "metadata": {},
     "output_type": "execute_result"
    }
   ],
   "source": [
    "test_words_truncated_or_padded_dependent_on_the_data_only_first_55_tokens"
   ]
  },
  {
   "cell_type": "code",
   "execution_count": 190,
   "metadata": {},
   "outputs": [
    {
     "name": "stdout",
     "output_type": "stream",
     "text": [
      "WARNING:tensorflow:Layer lstm will not use cuDNN kernels since it doesn't meet the criteria. It will use a generic GPU kernel as fallback when running on GPU.\n"
     ]
    }
   ],
   "source": [
    "model_own = load_model('trained_model_with_custom_word2vec_with_lstom_on_cleaned_hm_dataset.h5')"
   ]
  },
  {
   "cell_type": "code",
   "execution_count": 191,
   "metadata": {},
   "outputs": [
    {
     "name": "stdout",
     "output_type": "stream",
     "text": [
      "WARNING:tensorflow:6 out of the last 6 calls to <function Model.make_predict_function.<locals>.predict_function at 0x7f6b34860310> triggered tf.function retracing. Tracing is expensive and the excessive number of tracings could be due to (1) creating @tf.function repeatedly in a loop, (2) passing tensors with different shapes, (3) passing Python objects instead of tensors. For (1), please define your @tf.function outside of the loop. For (2), @tf.function has reduce_retracing=True option that can avoid unnecessary retracing. For (3), please refer to https://www.tensorflow.org/guide/function#controlling_retracing and https://www.tensorflow.org/api_docs/python/tf/function for  more details.\n",
      "1/1 [==============================] - 0s 210ms/step\n"
     ]
    }
   ],
   "source": [
    "prediction = model_own.predict(test_words_truncated_or_padded_dependent_on_the_data_only_first_55_tokens)"
   ]
  },
  {
   "cell_type": "code",
   "execution_count": 192,
   "metadata": {},
   "outputs": [],
   "source": [
    "flatten_prediction = prediction.flatten()"
   ]
  },
  {
   "cell_type": "code",
   "execution_count": 193,
   "metadata": {},
   "outputs": [
    {
     "data": {
      "text/plain": [
       "array([9.7158235e-01, 3.9991424e-03, 6.7470381e-03, 1.6534392e-02,\n",
       "       3.8647919e-04, 6.6049822e-04, 9.0155379e-05], dtype=float32)"
      ]
     },
     "execution_count": 193,
     "metadata": {},
     "output_type": "execute_result"
    }
   ],
   "source": [
    "flatten_prediction"
   ]
  },
  {
   "cell_type": "code",
   "execution_count": 194,
   "metadata": {},
   "outputs": [],
   "source": [
    "## categorical to numerical\n",
    "encode = {\n",
    "    \"affection\" : 0,\n",
    "    \"achievement\"  : 1,       \n",
    "    \"bonding\" : 2,    \n",
    "    \"enjoy_the_moment\" : 3,     \n",
    "    \"leisure\"  : 4,    \n",
    "    \"nature\" : 5,    \n",
    "    \"exercise\" : 6\n",
    "}\n",
    "\n",
    "reverse_encode = {v: k for k, v in encode.items()}"
   ]
  },
  {
   "cell_type": "code",
   "execution_count": 195,
   "metadata": {},
   "outputs": [
    {
     "data": {
      "text/plain": [
       "'affection'"
      ]
     },
     "execution_count": 195,
     "metadata": {},
     "output_type": "execute_result"
    }
   ],
   "source": [
    "reverse_encode.get(np.argmax(flatten_prediction))"
   ]
  },
  {
   "cell_type": "markdown",
   "metadata": {},
   "source": []
  },
  {
   "cell_type": "markdown",
   "metadata": {},
   "source": [
    "# Example 1: My wife gave birth to a baby boy and this made me happy.\n",
    "# Example 2: I went to do some exams at the ophthalmologist to see how I followed my vision, after the operation, everything was perfect until the times.\n",
    "# Example 3: Last month my Uncle and Aunty had visited my house after 3 years. They took me around many places and we went shopping. They took care of me every moment they were with me. They have always been very close to me all these years of my life. Those are memorable moments."
   ]
  },
  {
   "cell_type": "code",
   "execution_count": null,
   "metadata": {},
   "outputs": [],
   "source": []
  },
  {
   "cell_type": "markdown",
   "metadata": {},
   "source": [
    "# Thank You"
   ]
  },
  {
   "cell_type": "code",
   "execution_count": null,
   "metadata": {},
   "outputs": [],
   "source": []
  }
 ],
 "metadata": {
  "kernelspec": {
   "display_name": "Python 3.10.4-TensorFlow-2.11.0-cuda [jupyter_python]",
   "language": "python",
   "name": "sys_python_3.10.4-tensorflow-2.11.0-cuda"
  },
  "language_info": {
   "codemirror_mode": {
    "name": "ipython",
    "version": 3
   },
   "file_extension": ".py",
   "mimetype": "text/x-python",
   "name": "python",
   "nbconvert_exporter": "python",
   "pygments_lexer": "ipython3",
   "version": "3.10.4"
  }
 },
 "nbformat": 4,
 "nbformat_minor": 2
}
