{
 "cells": [
  {
   "cell_type": "markdown",
   "metadata": {},
   "source": [
    "**Question 1**"
   ]
  },
  {
   "cell_type": "code",
   "execution_count": 4,
   "metadata": {},
   "outputs": [
    {
     "data": {
      "text/plain": [
       "np.int64(4)"
      ]
     },
     "execution_count": 4,
     "metadata": {},
     "output_type": "execute_result"
    }
   ],
   "source": [
    "import numpy as np\n",
    "estimated_probability = np.array([0.1,0.1,0.1,0.3,0.4])\n",
    "np.argmax(estimated_probability)"
   ]
  },
  {
   "cell_type": "markdown",
   "metadata": {},
   "source": [
    "The output of the code is np.int64(4). This output is the calculation of the np.argmax() function, which finds the index of the largest argument in an array."
   ]
  },
  {
   "cell_type": "markdown",
   "metadata": {},
   "source": [
    "**Question 2**"
   ]
  },
  {
   "cell_type": "code",
   "execution_count": 5,
   "metadata": {},
   "outputs": [
    {
     "data": {
      "text/plain": [
       "array([2, 3, 4, 5])"
      ]
     },
     "execution_count": 5,
     "metadata": {},
     "output_type": "execute_result"
    }
   ],
   "source": [
    "y = np.array([[2,3],[4,5]])\n",
    "y.flatten()"
   ]
  },
  {
   "cell_type": "code",
   "execution_count": 6,
   "metadata": {},
   "outputs": [
    {
     "data": {
      "text/plain": [
       "array([ 1,  3,  5, 11, 35, 56])"
      ]
     },
     "execution_count": 6,
     "metadata": {},
     "output_type": "execute_result"
    }
   ],
   "source": [
    "x = np.array([[1,3,5],[11,35,56]])\n",
    "y = np.ravel(x)\n",
    "y"
   ]
  },
  {
   "cell_type": "markdown",
   "metadata": {},
   "source": [
    "The first code snippet takes a 2D array and uses the *flatten()* function to flatten the array to 1 dimension. The second code snippet takes a 2D array and also flattens the array into 1 dimension, but it uses the *np.ravel()* function. The functions are similar, but not the same. While they both take a 2D array and flatten them to 1D, the flatten() function creates a copy of the original array and returns that, while the np.ravel() function returns a view of the original array whenever possible, not a copy of the original array."
   ]
  },
  {
   "cell_type": "markdown",
   "metadata": {},
   "source": [
    "**Question 3**"
   ]
  },
  {
   "cell_type": "code",
   "execution_count": 7,
   "metadata": {},
   "outputs": [
    {
     "name": "stdout",
     "output_type": "stream",
     "text": [
      "(3, 2)\n",
      "\n",
      "(3, 2, 1)\n"
     ]
    }
   ],
   "source": [
    "from numpy import array\n",
    "data = [[11,22],\n",
    "        [33,44],\n",
    "        [55,66]]\n",
    "data = array(data)\n",
    "print(data.shape,end='\\n\\n')\n",
    "data = data.reshape(data.shape[0],data.shape[1],1)\n",
    "print(data.shape)"
   ]
  },
  {
   "cell_type": "markdown",
   "metadata": {},
   "source": [
    "The code provided implements a 2D array as natively in python a list of lists, and converts it to a numpy array. It prints the shape of the numpy array, then reshapes the numpy array to add a new dimension while keeping the dimensions of the original array."
   ]
  },
  {
   "cell_type": "markdown",
   "metadata": {},
   "source": [
    "**Question 4**"
   ]
  },
  {
   "cell_type": "code",
   "execution_count": 8,
   "metadata": {},
   "outputs": [
    {
     "name": "stdout",
     "output_type": "stream",
     "text": [
      "[3 8]\n"
     ]
    }
   ],
   "source": [
    "arr = np.array([[1,2,3,4,5],\n",
    "                [6,7,8,9,10]])\n",
    "\n",
    "print(arr[0:2,2])"
   ]
  },
  {
   "cell_type": "markdown",
   "metadata": {},
   "source": [
    "The code above takes a 2D array, and slices the array outputting the value at each row's respective index 2. The output is [3 8]"
   ]
  },
  {
   "cell_type": "markdown",
   "metadata": {},
   "source": [
    "**Question 5**"
   ]
  },
  {
   "cell_type": "code",
   "execution_count": 13,
   "metadata": {},
   "outputs": [],
   "source": [
    "import pandas as pd\n",
    "df2 = pd.DataFrame({\n",
    "    \"city\": [\"chicago\", \"new york\", \"san francisco\"],\n",
    "    \"humidity\": [65, 68, 71]\n",
    "})\n",
    "\n",
    "df1 = pd.DataFrame({\n",
    "    \"city\": [\"new york\", \"chicago\", \"orlando\"],\n",
    "    \"temperature\": [21, 12, 35]\n",
    "})"
   ]
  },
  {
   "cell_type": "code",
   "execution_count": 14,
   "metadata": {},
   "outputs": [],
   "source": [
    "df3 = pd.merge(df1,df2,on=\"city\",how=\"inner\")"
   ]
  },
  {
   "cell_type": "code",
   "execution_count": 15,
   "metadata": {},
   "outputs": [],
   "source": [
    "df4 = pd.merge(df1,df2,on=\"city\",how=\"outer\")"
   ]
  },
  {
   "cell_type": "markdown",
   "metadata": {},
   "source": [
    "Inner Join and Outer Join are two methods of merging dataframes together based on a key. Inner join will merge the two dataframes combining all rows that match the other dataframe's rows. Outer join will merge the two dataframes with all rows included regardless of if there are matches or not."
   ]
  },
  {
   "cell_type": "markdown",
   "metadata": {},
   "source": [
    "**Question 6**"
   ]
  },
  {
   "cell_type": "code",
   "execution_count": 28,
   "metadata": {},
   "outputs": [
    {
     "name": "stdout",
     "output_type": "stream",
     "text": [
      "Head:\n",
      "   Pregnancies  Glucose  BloodPressure  SkinThickness  Insulin   BMI  \\\n",
      "0            6      148             72             35        0  33.6   \n",
      "1            1       85             66             29        0  26.6   \n",
      "2            8      183             64              0        0  23.3   \n",
      "3            1       89             66             23       94  28.1   \n",
      "4            0      137             40             35      168  43.1   \n",
      "\n",
      "   DiabetesPedigreeFunction  Age  Outcome  \n",
      "0                     0.627   50        1  \n",
      "1                     0.351   31        0  \n",
      "2                     0.672   32        1  \n",
      "3                     0.167   21        0  \n",
      "4                     2.288   33        1  \n",
      "Shape: (768, 9)\n",
      "\n",
      "Describe:\n",
      "       Pregnancies     Glucose  BloodPressure  SkinThickness     Insulin  \\\n",
      "count   768.000000  768.000000     768.000000     768.000000  768.000000   \n",
      "mean      3.845052  120.894531      69.105469      20.536458   79.799479   \n",
      "std       3.369578   31.972618      19.355807      15.952218  115.244002   \n",
      "min       0.000000    0.000000       0.000000       0.000000    0.000000   \n",
      "25%       1.000000   99.000000      62.000000       0.000000    0.000000   \n",
      "50%       3.000000  117.000000      72.000000      23.000000   30.500000   \n",
      "75%       6.000000  140.250000      80.000000      32.000000  127.250000   \n",
      "max      17.000000  199.000000     122.000000      99.000000  846.000000   \n",
      "\n",
      "              BMI  DiabetesPedigreeFunction         Age     Outcome  \n",
      "count  768.000000                768.000000  768.000000  768.000000  \n",
      "mean    31.992578                  0.471876   33.240885    0.348958  \n",
      "std      7.884160                  0.331329   11.760232    0.476951  \n",
      "min      0.000000                  0.078000   21.000000    0.000000  \n",
      "25%     27.300000                  0.243750   24.000000    0.000000  \n",
      "50%     32.000000                  0.372500   29.000000    0.000000  \n",
      "75%     36.600000                  0.626250   41.000000    1.000000  \n",
      "max     67.100000                  2.420000   81.000000    1.000000   \n",
      "\n",
      "Value counts for column 'Pregnancies':\n",
      "Pregnancies\n",
      "1     135\n",
      "0     111\n",
      "2     103\n",
      "3      75\n",
      "4      68\n",
      "5      57\n",
      "6      50\n",
      "7      45\n",
      "8      38\n",
      "9      28\n",
      "10     24\n",
      "11     11\n",
      "13     10\n",
      "12      9\n",
      "14      2\n",
      "17      1\n",
      "15      1\n",
      "Name: count, dtype: int64 \n",
      "\n",
      "Value counts for column 'Glucose':\n",
      "Glucose\n",
      "99     17\n",
      "100    17\n",
      "111    14\n",
      "125    14\n",
      "129    14\n",
      "       ..\n",
      "56      1\n",
      "169     1\n",
      "149     1\n",
      "65      1\n",
      "190     1\n",
      "Name: count, Length: 136, dtype: int64 \n",
      "\n",
      "Value counts for column 'BloodPressure':\n",
      "BloodPressure\n",
      "70     57\n",
      "74     52\n",
      "78     45\n",
      "68     45\n",
      "72     44\n",
      "64     43\n",
      "80     40\n",
      "76     39\n",
      "60     37\n",
      "0      35\n",
      "62     34\n",
      "66     30\n",
      "82     30\n",
      "88     25\n",
      "84     23\n",
      "90     22\n",
      "86     21\n",
      "58     21\n",
      "50     13\n",
      "56     12\n",
      "54     11\n",
      "52     11\n",
      "92      8\n",
      "75      8\n",
      "65      7\n",
      "85      6\n",
      "94      6\n",
      "48      5\n",
      "44      4\n",
      "96      4\n",
      "110     3\n",
      "106     3\n",
      "100     3\n",
      "98      3\n",
      "30      2\n",
      "46      2\n",
      "55      2\n",
      "104     2\n",
      "108     2\n",
      "40      1\n",
      "122     1\n",
      "95      1\n",
      "102     1\n",
      "61      1\n",
      "24      1\n",
      "38      1\n",
      "114     1\n",
      "Name: count, dtype: int64 \n",
      "\n",
      "Value counts for column 'SkinThickness':\n",
      "SkinThickness\n",
      "0     227\n",
      "32     31\n",
      "30     27\n",
      "27     23\n",
      "23     22\n",
      "18     20\n",
      "33     20\n",
      "28     20\n",
      "31     19\n",
      "39     18\n",
      "19     18\n",
      "29     17\n",
      "25     16\n",
      "40     16\n",
      "22     16\n",
      "37     16\n",
      "26     16\n",
      "41     15\n",
      "35     15\n",
      "36     14\n",
      "15     14\n",
      "17     14\n",
      "20     13\n",
      "24     12\n",
      "42     11\n",
      "13     11\n",
      "21     10\n",
      "46      8\n",
      "34      8\n",
      "12      7\n",
      "38      7\n",
      "16      6\n",
      "11      6\n",
      "45      6\n",
      "14      6\n",
      "43      6\n",
      "44      5\n",
      "10      5\n",
      "47      4\n",
      "48      4\n",
      "49      3\n",
      "50      3\n",
      "54      2\n",
      "8       2\n",
      "52      2\n",
      "7       2\n",
      "60      1\n",
      "51      1\n",
      "56      1\n",
      "63      1\n",
      "99      1\n",
      "Name: count, dtype: int64 \n",
      "\n",
      "Value counts for column 'Insulin':\n",
      "Insulin\n",
      "0      374\n",
      "105     11\n",
      "130      9\n",
      "140      9\n",
      "120      8\n",
      "      ... \n",
      "178      1\n",
      "127      1\n",
      "510      1\n",
      "16       1\n",
      "112      1\n",
      "Name: count, Length: 186, dtype: int64 \n",
      "\n",
      "Value counts for column 'BMI':\n",
      "BMI\n",
      "32.0    13\n",
      "31.6    12\n",
      "31.2    12\n",
      "0.0     11\n",
      "32.4    10\n",
      "        ..\n",
      "49.6     1\n",
      "24.1     1\n",
      "41.2     1\n",
      "49.3     1\n",
      "46.3     1\n",
      "Name: count, Length: 248, dtype: int64 \n",
      "\n",
      "Value counts for column 'DiabetesPedigreeFunction':\n",
      "DiabetesPedigreeFunction\n",
      "0.258    6\n",
      "0.254    6\n",
      "0.207    5\n",
      "0.261    5\n",
      "0.259    5\n",
      "        ..\n",
      "0.565    1\n",
      "0.118    1\n",
      "0.177    1\n",
      "0.176    1\n",
      "0.295    1\n",
      "Name: count, Length: 517, dtype: int64 \n",
      "\n",
      "Value counts for column 'Age':\n",
      "Age\n",
      "22    72\n",
      "21    63\n",
      "25    48\n",
      "24    46\n",
      "23    38\n",
      "28    35\n",
      "26    33\n",
      "27    32\n",
      "29    29\n",
      "31    24\n",
      "41    22\n",
      "30    21\n",
      "37    19\n",
      "42    18\n",
      "33    17\n",
      "36    16\n",
      "38    16\n",
      "32    16\n",
      "45    15\n",
      "34    14\n",
      "46    13\n",
      "40    13\n",
      "43    13\n",
      "39    12\n",
      "35    10\n",
      "44     8\n",
      "50     8\n",
      "51     8\n",
      "52     8\n",
      "58     7\n",
      "54     6\n",
      "47     6\n",
      "49     5\n",
      "60     5\n",
      "53     5\n",
      "57     5\n",
      "48     5\n",
      "63     4\n",
      "66     4\n",
      "55     4\n",
      "62     4\n",
      "59     3\n",
      "56     3\n",
      "65     3\n",
      "67     3\n",
      "61     2\n",
      "69     2\n",
      "72     1\n",
      "81     1\n",
      "64     1\n",
      "70     1\n",
      "68     1\n",
      "Name: count, dtype: int64 \n",
      "\n",
      "Value counts for column 'Outcome':\n",
      "Outcome\n",
      "0    500\n",
      "1    268\n",
      "Name: count, dtype: int64 \n",
      "\n",
      "Group by Outcome and calculate mean:\n",
      "         Pregnancies     Glucose  BloodPressure  SkinThickness     Insulin  \\\n",
      "Outcome                                                                      \n",
      "0           3.298000  109.980000      68.184000      19.664000   68.792000   \n",
      "1           4.865672  141.257463      70.824627      22.164179  100.335821   \n",
      "\n",
      "               BMI  DiabetesPedigreeFunction        Age  \n",
      "Outcome                                                  \n",
      "0        30.304200                  0.429734  31.190000  \n",
      "1        35.142537                  0.550500  37.067164   \n",
      "\n",
      "Dataset without Outcome column:\n",
      "     Pregnancies  Glucose  BloodPressure  SkinThickness  Insulin   BMI  \\\n",
      "0              6      148             72             35        0  33.6   \n",
      "1              1       85             66             29        0  26.6   \n",
      "2              8      183             64              0        0  23.3   \n",
      "3              1       89             66             23       94  28.1   \n",
      "4              0      137             40             35      168  43.1   \n",
      "..           ...      ...            ...            ...      ...   ...   \n",
      "763           10      101             76             48      180  32.9   \n",
      "764            2      122             70             27        0  36.8   \n",
      "765            5      121             72             23      112  26.2   \n",
      "766            1      126             60              0        0  30.1   \n",
      "767            1       93             70             31        0  30.4   \n",
      "\n",
      "     DiabetesPedigreeFunction  Age  \n",
      "0                       0.627   50  \n",
      "1                       0.351   31  \n",
      "2                       0.672   32  \n",
      "3                       0.167   21  \n",
      "4                       2.288   33  \n",
      "..                        ...  ...  \n",
      "763                     0.171   63  \n",
      "764                     0.340   27  \n",
      "765                     0.245   30  \n",
      "766                     0.349   47  \n",
      "767                     0.315   23  \n",
      "\n",
      "[768 rows x 8 columns] \n",
      "\n",
      "Samples with Glucose > 160:\n",
      "     Pregnancies  Glucose  BloodPressure  SkinThickness  Insulin   BMI  \\\n",
      "2              8      183             64              0        0  23.3   \n",
      "8              2      197             70             45      543  30.5   \n",
      "11            10      168             74              0        0  38.0   \n",
      "13             1      189             60             23      846  30.1   \n",
      "14             5      166             72             19      175  25.8   \n",
      "..           ...      ...            ...            ...      ...   ...   \n",
      "748            3      187             70             22      200  36.4   \n",
      "749            6      162             62              0        0  24.3   \n",
      "753            0      181             88             44      510  43.3   \n",
      "759            6      190             92              0        0  35.5   \n",
      "761            9      170             74             31        0  44.0   \n",
      "\n",
      "     DiabetesPedigreeFunction  Age  Outcome  \n",
      "2                       0.672   32        1  \n",
      "8                       0.158   53        1  \n",
      "11                      0.537   34        1  \n",
      "13                      0.398   59        1  \n",
      "14                      0.587   51        1  \n",
      "..                        ...  ...      ...  \n",
      "748                     0.408   36        1  \n",
      "749                     0.178   50        1  \n",
      "753                     0.222   26        1  \n",
      "759                     0.278   66        1  \n",
      "761                     0.403   43        1  \n",
      "\n",
      "[101 rows x 9 columns]\n"
     ]
    }
   ],
   "source": [
    "import pandas as pd\n",
    "\n",
    "# a.\n",
    "data = pd.read_csv(\"diabetes.csv\")\n",
    "\n",
    "# b.\n",
    "print(\"Head:\")\n",
    "print(data.head())\n",
    "\n",
    "# c.\n",
    "print(f\"Shape: {data.shape}\\n\")\n",
    "\n",
    "# d.\n",
    "print(\"Describe:\")\n",
    "print(data.describe(), \"\\n\")\n",
    "\n",
    "# e.\n",
    "for column in data.columns:\n",
    "    print(f\"Value counts for column '{column}':\")\n",
    "    print(data[column].value_counts(), \"\\n\")\n",
    "\n",
    "# f.\n",
    "print(\"Group by Outcome and calculate mean:\")\n",
    "print(data.groupby('Outcome').mean(), \"\\n\")\n",
    "\n",
    "# g.\n",
    "print(\"Dataset without Outcome column:\")\n",
    "print(data.drop(columns='Outcome', axis=1), \"\\n\")\n",
    "\n",
    "# h.\n",
    "print(f\"Samples with Glucose > 160:\")\n",
    "print(data[data['Glucose'] > 160])"
   ]
  },
  {
   "cell_type": "markdown",
   "metadata": {},
   "source": [
    "**Question 7**"
   ]
  },
  {
   "cell_type": "code",
   "execution_count": 35,
   "metadata": {},
   "outputs": [
    {
     "name": "stdout",
     "output_type": "stream",
     "text": [
      "(1802, 1029)\n",
      "(1802,)\n"
     ]
    }
   ],
   "source": [
    "Header_name = [\"Label\",\"PID\",\"POsition\",\"Sequence\",\"Middle_Amino_Acid_ASN(N)\"]\n",
    "\n",
    "col_of_feature = [i for i in range(1,1025)]\n",
    "\n",
    "Header_name = Header_name + col_of_feature\n",
    "\n",
    "df = pd.read_csv(\"Glycobiology_NGlyDE_Training_Positive_1821_Negative_901.csv\", header = None)\n",
    "\n",
    "df.columns = Header_name\n",
    "\n",
    "df.iloc[:,5:]\n",
    "\n",
    "train = np.array(df)\n",
    "\n",
    "y_train_positive = [1]*1821\n",
    "y_train_negative = [0]*901\n",
    "y_train = y_train_positive + y_train_negative\n",
    "y_train = np.array(y_train)\n",
    "\n",
    "from imblearn.under_sampling import RandomUnderSampler\n",
    "from sklearn.model_selection import train_test_split\n",
    "from sklearn.utils import shuffle\n",
    "\n",
    "X_train, y_train = shuffle(train, y_train)\n",
    "\n",
    "rus = RandomUnderSampler(random_state=42)\n",
    "X_train, y_train = rus.fit_resample(X_train, y_train)\n",
    "print(X_train.shape)\n",
    "print(y_train.shape)"
   ]
  },
  {
   "cell_type": "markdown",
   "metadata": {},
   "source": [
    "It looks to me like the program is taking data from a csv, assigning headers to it, doing a bit of preprocessing to the data, and then assigning x and y training data. I do not see actual model training here, so I am assuming that this code is just a snippet of data preprocessing code."
   ]
  },
  {
   "cell_type": "markdown",
   "metadata": {},
   "source": [
    "**TEXTBOOK PROBLEMS**"
   ]
  },
  {
   "cell_type": "markdown",
   "metadata": {},
   "source": [
    "**Textbook problem 5**"
   ]
  },
  {
   "cell_type": "markdown",
   "metadata": {},
   "source": [
    "Humor has a lexical diversity score of 4.3, while Romance Fiction has a lexical diversity score of 8.3. Therefore, Romance Fiction is more lexically diverse"
   ]
  },
  {
   "cell_type": "markdown",
   "metadata": {},
   "source": [
    "**Textbook problem 7**"
   ]
  },
  {
   "cell_type": "code",
   "execution_count": null,
   "metadata": {},
   "outputs": [
    {
     "name": "stdout",
     "output_type": "stream",
     "text": [
      "wanna chat; PART JOIN; MODE #14-19teens; JOIN PART; PART PART;\n",
      "cute.-ass MP3; MP3 player; JOIN JOIN; times .. .; ACTION watches; guys\n",
      "wanna; song lasts; last night; ACTION sits; -...)...- S.M.R.; Lime\n",
      "Player; Player 12%; dont know; lez gurls; long time\n"
     ]
    }
   ],
   "source": [
    "import nltk\n",
    "from nltk.book import *\n",
    "\n",
    "text5.collocations()"
   ]
  },
  {
   "cell_type": "markdown",
   "metadata": {},
   "source": [
    "**Textbook problem 10**"
   ]
  },
  {
   "cell_type": "code",
   "execution_count": 10,
   "metadata": {},
   "outputs": [
    {
     "name": "stdout",
     "output_type": "stream",
     "text": [
      "['Bingo', 'Bango', 'Bongo', 'Bish', 'Bash', 'Bosh']\n",
      "Bingo Bango Bongo Bish Bash Bosh\n",
      "['Bingo', 'Bango', 'Bongo', 'Bish', 'Bash', 'Bosh']\n"
     ]
    }
   ],
   "source": [
    "my_sent = [\"Bingo\", \"Bango\", \"Bongo\", \"Bish\", \"Bash\", \"Bosh\"]\n",
    "print(my_sent)\n",
    "my_sent = ' '.join(my_sent)\n",
    "print(my_sent)\n",
    "my_sent = my_sent.split(' ')\n",
    "print(my_sent)"
   ]
  },
  {
   "cell_type": "markdown",
   "metadata": {},
   "source": [
    "**Textbook problem 22**"
   ]
  },
  {
   "cell_type": "code",
   "execution_count": 17,
   "metadata": {},
   "outputs": [
    {
     "name": "stdout",
     "output_type": "stream",
     "text": [
      "['left', 'with', 'this', 'name', 'PART', 'well', 'NICK', 'name', 'U121', 'golf', 'clap', 'JOIN', 'that', 'nice', 'JOIN', 'PART', 'golf', 'clap', 'fuck', 'U121', 'PART', 'PART', 'clap', 'your', 'PART', 'dont', 'even', 'know', 'what', 'that', 'that', 'chat', 'JOIN', 'drew', 'cast', 'PART', 'sexy', 'U115', 'JOIN', 'PART', 'drew', 'girl', 'with', 'legs', 'hope', 'draw', 'PART', 'head', 'legs', 'JOIN', 'JOIN', 'good', 'JOIN', 'PART', 'take', 'have', 'docs', 'Slip', 'away', 'Fade', 'away', 'Days', 'away', 'feel', 'have', 'back', 'U115', 'U129', 'U115', 'chat', 'with', 'PART', 'JOIN', 'JOIN', 'fast', 'U116', 'bowl', 'bong', 'JOIN', 'well', 'glad', 'hard', 'from', 'here', 'back', 'PART', 'PART', 'JOIN', 'U121', 'name', 'hard', 'very', 'fire', 'from', 'here', 'JOIN', 'PART', 'itch', 'JOIN', 'U133', 'ogan', 'male', 'JOIN', 'JOIN', 'show', 'will', 'talk', 'PART', 'haha', 'opps', 'JOIN', 'PART', 'U115', 'nice', 'warm', 'guys', 'with', 'cams', 'play', 'sits', 'JOIN', 'JOIN', 'guyz', 'chat', 'U126', 'PART', 'chat', 'PART', 'gooo', 'sure', 'U126', 'JOIN', 'what', 'feel', 'like', 'room', 'yeee', 'JOIN', 'want', 'pics', 'look', 'U139', 'PART', 'PART', 'JOIN', 'here', 'JOIN', 'PART', 'JOIN', 'U139', 'PART', 'JOIN', 'U138', 'U139', 'make', 'U139', 'that', 'U126', 'late', 'lmao', 'ahah', 'PART', 'U121', 'U121', 'does', 'like', 'that', 'guys', 'male', 'JOIN', 'U139', 'well', 'what', 'yeah', 'know', 'U136', 'hell', 'with', 'U139', 'U101', 'like', 'when', 'plan', 'PART', 'JOIN', 'gold', 'jeep', 'make', 'sure', 'nice', 'ring', 'U115', 'isnt', 'that', 'U136', 'hell', 'have', 'have', 'doin', 'U139', 'U121', 'many', 'Just', 'fine', 'that', 'like', 'PART', 'hiya', 'room', 'lmao', 'doin', 'Deep', 'Show', 'that', 'love', 'that', 'Turn', 'take', 'Hand', 'just', 'even', 'look', 'hang', 'PART', 'that', 'such', 'word', 'U141', 'hear', '!!!!', 'PART', 'JOIN', 'PART', 'deaf', 'here', 'dont', 'U115', 'U115', '....', 'hugs', 'chat', 'with', 'baby', 'Only', 'U121', 'U121', 'PART', 'have', 'away', 'from', 'U121', 'what', 'read', 'here', 'with', 'JOIN', 'read', 'have', 'here', 'JOIN', 'want', 'chat', 'talk', 'U121', 'JOIN', 'U121', 'VBox', 'PART', 'take', 'that', 'JOIN', 'PART', 'hate', 'when', 'U121', 'U115', 'lmao', 'PART', 'your', 'know', 'what', 'your', 'what', 'JOIN', 'love', 'more', 'than', 'ELSE', 'serg', 'well', 'most', 'love', 'JOIN', 'know', 'that', 'what', 'lmao', 'well', 'have', 'eyes', 'lmao', 'know', 'JOIN', 'girl', 'jerk', 'kids', 'guys', 'type', 'much', 'shut', 'fuck', 'girl', 'nice', 'shut', 'fuck', 'PART', 'dont', 'want', 'JOIN', 'want', 'U115', 'what', 'miss', 'much', 'work', 'nice', 'U116', 'PART', 'PART', 'heyy', 'U148', 'hate', 'boys', 'JOIN', 'U148', 'hate', 'what', 'PART', 'hate', 'U121', 'fuck', 'your', 'ugly', 'JOIN', 'bein', 'PART', 'What', 'U115', 'whys', 'that', 'deep', 'U121', 'what', 'JOIN', 'tape', 'Your', 'sexs', 'best', 'phil', 'said', 'ugly', 'PART', 'date', 'feel', 'your', 'they', 'form', 'PART', 'sits', 'JOIN', 'sits', 'with', 'hmph', 'hate', 'does', 'that', 'mean', 'want', 'room', 'this', 'been', 'PART', 'JOIN', 'U115', 'U116', 'your', 'here', 'talk', 'wait', 'that', 'perv', 'lets', 'hope', 'U121', 'PART', 'U115', '!!!!', 'lets', 'chat', 'JOIN', 'rule', 'land', 'wont', 'then', 'find', 'need', 'this', 'HUGE', 'perv', 'that', 'deal', '????', 'JOIN', 'shit', 'hell', 'lmao', 'PART', 'hell', 'JOIN', 'here', 'guys', 'have', 'U121', 'JOIN', 'U155', 'only', 'Poor', 'U121', 'love', 'pick', 'much', 'that', 'PART', 'PART', 'sits', 'with', 'U121', 'nads', 'JOIN', 'from', 'pick', 'your', 'pick', 'your', 'nose', 'pick', 'your', 'nose', 'JOIN', 'face', 'with', 'PART', 'U115', 'owww', 'PART', 'JOIN', 'U116', 'PART', 'does', 'want', 'talk', 'head', 'gags', 'even', 'U121', 'neck', 'Meep', 'U115', 'LAst', 'time', 'that', 'wash', 'your', 'dude', 'gets', 'JOIN', 'U121', 'dang', 'just', \"pm's\", 'that', '1.99', '....', 'yeah', 'nice', 'neck', 'U115', 'like', 'shut', 'free', 'JOIN', 'goes', 'wash', 'lmao', 'Lies', 'lmao', 'U115', 'lick', 'very', 'lmao', 'U115', 'ummm', 'U109', 'dont', 'dead', 'more', 'than', 'call', 'just', 'case', 'dead', 'good', 'neck', 'talk', 'what', 'ummm', 'else', 'wont', 'bite', 'U115', 'yeah', 'wait', 'yeah', 'PART', 'your', 'want', 'have', 'sexy', 'bite', 'lmao', 'call', 'have', 'free', 'call', 'mins', 'JOIN', 'nite', 'lool', 'know', 'that', 'kina', 'give', 'away', 'then', 'room', 'call', 'yeah', 'U155', 'PART', 'U115', 'more', 'U115', 'guys', 'baby', 'U109', 'fuck', 'case', 'know', 'were', 'girl', 'JOIN', 'baby', 'what', 'U109', 'guys', 'chat', 'have', 'have', 'sext', 'piff', 'dont', 'talk', 'read', 'dang', 'lazy', 'dont', 'read', 'PART', 'JOIN', 'mean', 'fine', '....', 'busy', 'work', 'okay', 'dont', 'talk', 'calm', 'down', 'busy', 'busy', 'want', 'chat', 'arms', 'kids', 'name', 'PART', 'sits', 'down', 'eats', 'JOIN', 'hugs', 'want', 'U121', 'near', 'just', 'PART', 'JOIN', 'PART', 'hell', 'yeah', 'U115', 'near', 'near', 'good', 'smax', 'JOIN', 'haha', 'only', '>:->', 'near', 'PART', 'piff', 'VVil', 'JOIN', 'free', 'wont', 'cold', 'U121', 'cell', 'runs', 'thru', 'back', 'hair', 'eyes', 'neck', 'yeah', 'caps', 'PART', 'JOIN', 'PART', 'PART', 'U165', 'jump', 'U165', 'baby', 'here', 'over', 'your', 'good', 'PART', 'that', 'left', 'room', 'este', 'U115', 'will', 'PART', 'U121', 'U165', 'lmao', 'PART', 'PART', 'very', 'guys', 'wana', 'chat', 'chik', 'from', 'mean', 'chat', 'well', 'PART', 'that', 'dont', 'shit', 'U165', 'U165', 'left', 'room', 'with', 'your', 'JOIN', 'U115', 'what', 'list', 'wish', 'cmon', 'U128', 'nice', 'JOIN', 'list', 'PART', 'list', 'U115', 'good', 'lmao', 'U128', 'hehe', 'hows', 'bout', 'good', 'hear', 'U165', 'have', 'JOIN', 'good', 'PART', 'JOIN', 'wats', 'they', 'PART', 'piff', 'aint', 'know', 'shut', 'much', 'good', 'PART', 'JOIN', 'JOIN', 'yeah', 'lost', 'like', 'same', 'well', 'work', 'what', 'Boyz', 'rock', 'what', 'hehe', 'went', 'back', 'some', 'then', 'came', 'back', 'home', 'PART', 'what', 'they', 'coat', 'nice', 'read', 'many', 'nice', 'hehe', 'lmao', 'even', 'JOIN', 'well', 'talk', 'nite', 'what', 'very', 'time', 'What', 'kind', '....', 'nite', 'PART', 'Eyes', 'Dawn', 'last', 'song', 'LIVE', 'cool', 'good', 'nite', 'mauh', 'nite', 'mike', 'keep', 'must', 'girl', 'seem', 'pick', 'else', '....', 'take', 'your', 'your', 'JOIN', 'lmao', 'just', 'days', 'late', 'with', 'room', 'JOIN', 'PART', 'good', 'ques', 'lmao', 'JOIN', 'that', 'like', 'dont', 'quit', 'what', 'your', '4.20', 'PART', 'like', 'mine', 'over', 'cali', 'good', 'this', 'year', 'NICK', 'whoa', 'have', 'have', 'have', 'what', 'boys', 'gosh', 'that', 'ruff', 'what', 'PART', 'hell', 'rock', 'roll', 'PART', 'with', 'like', 'that', 'nope', '....', 'rest', 'rock', 'roll', '....', '....', 'sing', 'from', 'kids', '....', 'mame', 'nada', 'cali', 'here', 'that', 'cool', 'kids', 'cool', 'JOIN', 'with', 'from', 'said', 'alot', 'JOIN', 'year', 'band', 'JOIN', 'NICK', 'cool', 'nice', 'here', 'hair', 'hard', 'what', 'type', 'does', 'your', 'band', 'play', 'hair', 'yeah', 'what', 'doin', '....', 'with', 'hand', 'what', 'JOIN', 'room', '....', 'sexy', 'PART', 'dumb', 'they', 'wont', 'chat', 'with', 'lmao', 'damn', 'what', 'orgy', 'orgy', 'lmao', 'what', 'word', 'some', 'easy', 'PART', 'JOIN', 'back', 'orgy', 'lmao', 'PART', 'lets', 'play', 'room', 'PART', 'JOIN', 'JOIN', 'were', 'damn', 'PART', 'good', 'call', 'what', 'like', 'just', 'late', 'date', 'know', 'push', 'PART', 'lose', 'name', 'shit', 'head', 'long', 'time', 'said', 'shit', 'lost', 'baby', 'then', 'JOIN', 'PART', 'JOIN', 'What', 'sure', 'JOIN', 'sure', 'lmao', 'this', 'room', '....', '....', 'your', '....', 'lmao', 'that', 'yeah', 'have', 'many', 'lmao', 'sexy', 'stay', 'keep', 'lmao', 'with', 'hair', 'like', 'that', '....', 'down', 'door', 'prob', '....', 'hair', 'lmao', 'JOIN', 'sexy', 'just', 'this', 'life', 'just', 'PART', 'room', 'with', 'hair', 'like', 'what', 'from', 'here', 'said', 'wild', '....', 'even', 'from', 'JOIN', 'cool', 'sexy', 'JOIN', 'sexy', 'only', 'none', 'sexy', 'whew', 'sexy', 'hell', 'have', 'shut', 'sexy', 'damn', 'sexy', 'dark', 'have', 'seen', 'have', 'just', 'JOIN', 'does', 'waht', 'else', 'next', 'JOIN', 'test', 'self', 'JOIN', 'room', 'here', 'well', 'that', 'what', 'pass', 'once', 'that', 'been', 'JOIN', 'PART', 'over', 'over', 'book', 'word', 'PART', 'must', 'PART', 'JOIN', 'just', 'home', 'from', 'work', 'Well', 'keep', 'time', 'here', 'PART', 'over', '....', 'know', 'PART', 'JOIN', 'PART', 'that', 'lmao', 'they', 'cant', 'come', 'with', 'line', 'then', 'they', 'stay', 'away', 'from', 'lmao', 'ummm', 'yeah', 'dang', 'even', 'that', 'PART', 'some', 'with', 'male', 'chat', 'boot', 'JOIN', 'book', '....', 'away', 'from', '....', 'stop', 'that', 'JOIN', 'slap', 'hiom', 'back', '....', 'PART', 'used', 'live', 'next', 'door', 'PART', 'PART', 'live', 'HAHA', 'cute', '....', 'that', 'lmao', 'dman', 'damn', 'even', 'PART', 'just', 'PART', 'that', 'PART', '....', 'holy', 'crap', 'that', 'took', 'What', 'hate', 'what', 'took', 'crap', 'ever', 'left', 'JOIN', 'Well', 'days', '....', 'When', 'even', 'know', 'what', 'that', '....', 'talk', 'babe', 'park', 'lmao', 'them', 'jail', 'even', 'been', 'lmao', 'soon', 'tell', 'cops', 'guys', 'PART', 'been', 'once', 'stop', 'then', 'hate', 'yeah', 'JOIN', 'Sure', 'hate', 'want', 'lmao', 'good', 'look', 'much', 'JOIN', 'love', 'very', 'much', '....', 'over', 'PART', 'Come', 'down', 'hogs', 'over', 'peek', 'girl', 'help', 'know', 'MORE', 'TIME', 'this', 'just', 'that', 'look', 'like', 'here', 'what', 'care', 'JOIN', 'JOIN', 'play', '....', 'this', 'room', 'real', 'LMAO', 'from', 'soul', 'like', 'have', 'done', 'time', 'then', 'that', 'that', 'like', 'O.k.', 'what', 'fine', 'JOIN', 'make', 'here', 'Well', 'PART', 'luck', 'here', '....', 'need', 'help', '....', 'PART', 'much', 'else', 'want', 'back', 'baby', 'hows', 'that', 'loud', 'keep', 'PART', '....', 'o.k.', 'once', 'PART', '....', 'what', 'hell', 'yeah', 'JOIN', 'JOIN', 'hair', 'PART', 'over', 'hair', 'Sexy', 'lets', 'will', '....', 'does', 'hair', 'then', 'lmao', 'good', 'take', 'like', 'look', '....', 'ride', 'PART', 'JOIN', 'have', 'such', 'room', 'luck', 'sure', 'make', 'PART', 'Ctrl', 'PART', 'give', 'Well', 'O.k.', 'take', 'your', 'word', 'that', 'mama', 'Nice', 'nope', 'nope', 'nope', 'that', 'hots', 'with', 'your', 'hook', 'with', 'them', 'word', 'know', 'well', 'have', 'work', 'LMAO', 'have', 'hugs', 'awww', 'have', 'good', 'have', 'work', 'here', 'have', 'good', 'nite', 'nite', 'nite', 'Need', 'what', 'hold', 'PART', 'lady', 'with', 'hair', 'frst', 'like', 'Only', 'been', 'time', 'live', 'hook', 'your', 'like', 'shut', 'wish', 'here', 'such', 'tell', '1200', 'best', 'love', '....', 'soft', '....', 'this', 'room', '....', 'like', 'them', 'ohio', 'Like', 'whip', 'crop', 'know', 'each', '....', 'love', 'like', 'bomb', 'baby', 'come', 'Pour', 'some', 'babe', 'JOIN', 'hiya', 'bend', 'want', 'room', 'also', 'hiya', 'book', '....', 'read', '....', 'same', 'with', 'pour', 'some', 'when', 'need', 'JOIN', 'this', 'comp', 'sure', 'some', 'have', 'room', 'free', 'your', 'mind', 'with', 'nice', 'free', 'your', 'free', 'gets', 'some', 'free', 'your', 'they', 'free', 'well', 'like', 'long', 'Swim', 'Hard', 'read', 'book', 'open', 'PART', 'some', 'just', 'some', 'book', 'full', 'wear', 'work', 'JOIN', 'have', 'much', 'need', 'JOIN', 'will', 'your', 'book', 'just', 'that', 'make', 'PART', 'that', 'back', 'toss', 'hiya', '....', 'they', 'just', 'tell', 'that', 'left', 'high', 'ouch', '....', 'they', 'wear', 'work', 'PART', 'away', 'JOIN', 'well', 'find', 'yeah', 'toss', '....', 'PART', 'back', 'with', 'many', 'evil', 'twin', 'left', 'eeek', 'JOIN', 'JOIN', 'what', '????', 'some', 'just', 'thru', 'said', 'look', 'nice', 'room', 'tjhe', 'burp', 'that', 'JOIN', 'Well', '....', 'like', '....', 'fart', 'JOIN', 'true', 'just', '!!!!', 'room', 'that', 'here', '!!!!', 'PART', 'JOIN', 'PART', 'mean', '!!!!', 'room', '10th', 'heee', 'good', 'dont', 'from', 'PART', 'your', 'have', 'peel', 'soon', 'land', 'PART', 'fock', 'JOIN', 'here', 'kool', 'just', 'back', 'from', 'hiya', 'come', 'kiss', 'what', 'kool', 'with', 'cold', '????', '....', 'were', 'doin', 'Kold', 'soon', 'JOIN', 'exit', 'land', '....', 'cool', 'kool', 'that', 'kold', '....', 'well', '....', 'they', 'this', '3:45', 'MRIs', 'what', 'what', 'your', 'with', 'nice', 'JOIN', 'good', 'PART', 'amen', 'PART', '....', 'buff', 'what', 'like', 'well', 'from', 'PART', 'were', 'love', 'plus', '....', 'them', 'when', '....', 'they', 'were', 'JOIN', 'know', 'also', 'here', 'this', 'tory', 'What', 'blew', 'knee', 'left', 'that', 'heya', 'what', 'JOIN', 'damn', 'comp', 'fall', 'ever', 'date', 'ouch', 'name', 'kids', 'were', 'OOPS', 'none', 'with', 'PART', 'that', 'much', 'gets', 'JOIN', 'this', 'oooh', 'lala', 'some', 'very', 'hugs', 'they', 'need', 'fake', 'into', 'with', 'like', 'mind', 'eyes', 'none', 'like', 'JOIN', 'eyes', 'back', 'have', 'eyes', 'roll', 'know', 'ever', 'come', 'with', 'hugs', 'with', 'JOIN', 'cool', 'from', 'wait', 'ssid', 'none', 'JOIN', 'PART', 'PART', 'your', 'yeah', 'that', 'some', 'such', 'need', 'evil', 'twin', 'room', 'PART', 'this', 'yeah', 'nice', 'from', 'here', 'this', 'JOIN', 'need', 'have', 'some', 'temp', 'work', 'nice', 'JOIN', 'PART', 'blue', 'PART', 'room', 'JOIN', 'corn', 'poot', 'poop', 'line', 'bird', 'JOIN', 'corn', 'well', 'PART', 'PART', 'hope', 'lets', 'Hiya', 'have', 'been', 'rain', 'plow', '....', '....', 'here', 'have', 'with', 'take', 'main', 'room', 'your', 'they', '....', 'MODE', 'fine', 'here', 'JOIN', 'JOIN', 'this', 'Yeah', 'fall', 'good', 'back', 'PART', 'pick', 'JOIN', 'from', 'pool', 'nice', 'JOIN', 'JOIN', 'nice', 'PART', 'JOIN', 'hiya', 'just', 'hiya', 'sexy', 'hiya', 'hiya', 'JOIN', 'hiya', 'deop', 'MODE', 'JOIN', 'hugs', 'hiya', 'hiya', 'hiya', 'hiya', 'must', 'time', 'hiya', 'love', 'PART', 'hows', 'just', 'left', 'hiya', 'full', 'here', 'fine', 'here', 'have', 'work', 'fine', 'thnx', 'JOIN', 'good', 'hiya', 'just', 'roof', 'roof', 'roof', 'fire', 'that', 'doin', 'PART', 'PART', 'good', 'hear', 'that', '....', 'your', 'hear', 'that', 'just', 'card', 'hear', 'that', '....', 'hugs', 'have', 'been', 'here', 'JOIN', 'Hugs', 'lost', '((((', '))))', 'PART', 'Lord', 'uyes', 'give', 'damn', 'benz', 'just', 'well', 'week', 'lost', 'sure', 'feel', 'just', 'cash', 'PART', 'PART', 'does', 'PART', 'hear', 'sing', 'away', 'JOIN', 'PART', '....', 'said', '....', 'come', 'with', 'Hiya', 'wait', 'were', 'call', 'Hiya', 'that', 'into', 'good', 'nice', 'here', 'JOIN', '<~~~', 'will', 'play', 'nice', 'grrr', 'pics', 'from', 'Hiya', 'miss', 'ears', 'wait', 'they', 'have', 'that', 'nice', 'disc', 'LONG', 'does', 'this', 'take', 'Been', 'over', 'hour', 'nice', 'real', 'life', 'play', 'nice', '....', 'long', 'time', 'many', 'that', 'come', 'From', 'long', 'time', 'know', 'with', 'long', 'been', 'last', 'PART', 'been', 'Will', 'this', 'well', 'know', 'porn', 'well', 'yeah', 'like', 'that', 'know', 'good', 'luck', 'back', 'will', 'work', 'have', 'PART', 'CHAT', 'just', 'hiya', 'JOIN', 'just', 'call', 'heya', 'yeah', 'told', 'last', 'have', 'week', 'hows', 'your', 'goin', 'back', '....', 'boss', 'from', 'well', 'time', 'last', 'call', 'dont', 'work', 'heal', 'girl', 'away', 'will', 'hour', 'talk', 'like', 'were', 'pain', 'your', 'quit', 'work', 'JOIN', 'JOIN', '....', 'down', 'time', 'PART', 'main', 'room', 'find', 'your', 'game', 'such', 'like', 'what', 'bloe', '????', 'PART', 'blow', 'here', 'hooo', 'Dang', 'PART', 'know', '....', 'hiya', 'babe', 'this', 'game', 'ciao', 'they', 'cant', 'read', 'PART', 'here', 'many', 'DOES', 'take', '????', 'U520', 'lick', 'kick', 'good', 'PART', 'thje', 'same', 'yeah', 'U520', 'hell', 'good', 'know', 'U520', 'good', 'U520', 'U520', 'were', 'last', 'ever', 'come', 'back', 'Jess', 'came', 'back', 'Yeah', 'back', 'hear', 'nick', 'like', 'that', 'PART', 'U520', 'JOIN', 'JOIN', 'yeah', 'typo', 'ummm', 'yeah', 'typo', 'NICK', 'what', 'ride', 'JOIN', 'with', 'when', 'came', 'name', 'like', 'even', 'glad', 'back', 'like', 'lmao', 'like', 'ahhh', 'know', 'yeah', 'have', 'JOIN', 'JOIN', 'said', 'used', 'with', 'like', 'look', 'pink', 'JOIN', 'lmao', 'pink', 'took', 'long', 'time', 'JOIN', 'PART', 'JOIN', 'come', 'back', 'just', 'with', 'long', 'term', 'with', 'this', 'girl', 'over', 'last', 'they', 'beer', 'PART', 'JOIN', 'hiya', 'JOIN', 'PART', 'JOIN', 'lmao', 'Stop', 'room', 'amen', 'PART', 'JOIN', 'JOIN', 'PART', 'what', 'JOIN', 'PART', 'well', 'then', 'Tina', 'here', '....', 'want', 'left', 'love', 'your', 'cool', 'here', 'with', 'pink', 'nice', '....', 'soft', 'long', 'time', 'type', '....', 'lmao', 'down', 'stop', 'with', 'room', 'cool', 'away', 'lmao', 'ooer', 'damn', '....', 'that', 'cool', 'hate', 'babe', 'they', 'seem', 'long', 'ahem', 'much', 'last', 'HALO', 'hows', 'Awww', 'dear', '!!!!', 'hola', 'cool', 'What', 'doin', 'Dang', 'well', 'tell', 'stop', 'anal', 'PART', 'good', '....', 'busy', 'very', 'busy', 'good', 'good', 'dear', 'love', 'that', 'call', 'good', 'eric', 'back', 'Drop', 'caps', 'what', 'dont', 'take', 'over', 'cool', 'yeah', 'well', 'hope', 'dojn', 'fine', 'babe', 'rock', 'long', 'know', 'same', 'busy', 'busy', 'then', 'wubs', 'mkay', 'this', 'fast', 'just', 'babe', 'just', 'your', 'butt', 'here', 'then', 'word', 'from', 'your', 'what', 'need', 'like', 'take', 'ride', 'JOIN', 'last', 'spat', 'said', 'that', 'what', 'call', 'your', 'soon', 'poor', 'will', 'gone', 'same', 'have', 'real', 'once', 'hehe', 'babe', 'imma', 'make', 'gees', 'JOIN', 'know', 'Drew', 'hawT', 'many', 'hate', 'hate', 'Drew', 'have', 'only', 'long', 'town', 'that', 'PART', 'even', 'JOIN', 'JOIN', 'damn', 'even', 'have', 'hola', 'hugs', 'hiya', 'sore', 'with', 'back', 'cold', 'runs', 'cold', 'yes.', 'that', 'with', 'like', 'puts', 'book', 'from', 'fish', 'JOIN', 'when', 'tell', 'Well', 'know', 'size', 'with', 'hawt', 'LMAO', 'hugs', 'from', 'goes', 'look', 'haha', 'Live', '39.3', '2006', 'Elev', 'Wind', 'back', 'High', '1980', 'back', 'goes', 'look', 'your', 'that', 'Live', '64.8', 'want', 'says', 'That', 'AKDT', '2006', 'Elev', 'Wind', 'nice', 'AKDT', 'AKDT', 'pfft', 'PART', 'sigh', 'PART', 'from', 'dang', 'cold', 'syck', 'JOIN', 'tere', 'said', 'talk', 'here', 'suck', 'even', 'good', 'here', 'ohhh', 'U542', 'sent', 'PART', 'only', 'talk', 'know', 'like', 'goes', 'look', '45.5', '98.5', '2006', 'Elev', '1299', 'hits', 'Wind', 'chat', '1900', 'shit', 'High', '1930', 'JOIN', 'know', 'list', 'that', 'only', 'talk', 'KoOL', 'LMAO', 'tell', 'Werd', 'PART', 'Rofl', 'hiya', '....', 'lmao', 'yeah', 'well', 'then', 'wont', 'talk', 'only', 'kool', 'such', 'have', 'have', 'lead', 'mode', 'want', 'does', 'that', 'make', 'chat', 'make', 'feel', 'days', 'PART', 'nawt', 'your', 'lmao', 'dang', 'come', 'back', 'that', 'feel', 'yeah', 'awww', 'what', 'your', 'know', 'past', 'life', 'DING', 'DING', 'DING', 'imma', 'want', 'make', 'love', 'JOIN', 'then', 'your', 'okay', 'same', 'then', 'talk', 'love', 'baby', 'cant', 'Love', 'JOIN', 'good', '####', 'yeah', 'MODE', 'What', 'your', 'sign', 'woof', 'many', 'were', 'same', 'JOIN', 'they', 'just', 'nose', 'cold', 'love', 'when', 'take', 'ever', 'were', 'even', 'gets', 'damn', 'sum1', 'ghet', 'yeah', 'keep', 'here', 'chat', 'even', 'brad', 'PART', 'keep', 'jerk', 'this', 'PART', 'PART', 'here', 'note', 'your', 'just', 'lmao', 'like', 'meat', 'offa', 'hard', 'like', 'some', 'guys', 'pass', 'does', 'help', 'that', 'that', 'what', 'most', 'roll', 'tell', 'were', 'same', 'room', 'rule', 'most', 'JOIN', 'well', '....', 'make', 'jump', 'jump', 'PART', 'shes', 'Dood', 'face', 'then', 'tell', 'JOIN', 'just', 'out.', 'want', 'tell', 'like', 'know', 'tell', 'feel', 'chat', 'dont', 'like', 'play', 'with', 'your', 'meat', '....', '!!!.', 'late', 'lmao', 'your', 'done', 'with', 'call', 'more', 'dont', 'like', 'that', 'lmao', 'LOUD', 'need', 'even', 'JOIN', 'sink', 'from', 'here', 'hiya', 'PART', 'dang', 'some', 'know', 'look', 'make', 'that', 'wall', 'PART', 'ohhh', 'imma', 'look', 'just', 'bend', 'over', 'will', 'lmao', 'your', 'poor', 'wall', 'JOIN', 'JOIN', 'JOIN', 'just', 'yeah', 'butt', 'your', 'FINE', 'they', 'they', 'PART', 'argh', 'fart', 'away', 'oops', 'lmao', 'JOIN', 'gawd', 'head', 'just', 'keep', 'hiya', 'they', 'they', 'sure', 'hell', 'PART', 'haha', 'JOIN', 'PART', 'pfft', 'care', 'they', 'lead', 'yeah', 'away', 'song', 'seen', 'just', 'dead', 'cums', 'LMAO', 'PART', 'PART', 'good', 'whoa', 'that', 'some', 'loss', '....', 'sits', 'need', 'that', 'with', 'limp', 'rent', 'over', 'limp', 'Have', 'seen', 'good', 'been', 'cant', 'wait', 'cars', 'come', 'NICK', 'cars', 'Yeah', 'that', 'nick', 'love', 'NICK', 'just', 'love', 'JOIN', 'lmao', 'Life', 'hiya', 'love', 'JOIN', 'hiya', 'PART', 'chat', 'NICK', 'PART', 'lady', 'NICK', 'like', 'that', 'Damn', 'wrap', 'give', 'them', 'NICK', 'need', 'PART', 'PART', 'PART', 'left', 'real', 'fast', 'JOIN', 'JOIN', 'NICK', 'good', 'JOIN', 'NICK', 'were', 'NICK', 'PART', 'cant', 'have', 'good', 'hear', 'your', 'name', 'PART', 'were', 'Tell', 'this', 'time', 'hide', 'were', \"PM's\", 'just', 'JOIN', 'PART', 'kids', 'once', 'went', 'into', 'Talk', 'tell', 'true', 'what', 'want', 'over', 'okey', 'back', 'worl', 'PART', 'JOIN', 'have', 'good', 'were', 'full', 'half', 'lets', 'next', 'shop', 'your', 'your', 'love', 'cmon', 'make', 'like', 'your', 'JOIN', 'JOIN', 'PART', 'JOIN', 'hiya', 'back', 'need', 'heal', 'soul', 'Hold', 'PART', 'come', 'PART', 'hiya', 'room', 'Hiya', 'hiya', 'hugs', 'JOIN', 'gone', 'PART', 'cant', 'help', 'lmao', 'good', 'dont', 'that', 'PART', 'hugs', '))))', 'tell', 'good', 'says', 'some', 'pics', 'sure', 'aint', 'such', 'good', 'JOIN', 'lmao', 'well', '....', 'cepn', 'well', 'with', 'that', 'your', 'good', 'well', 'lmao', 'ouch', 'lots', 'dear', 'JOIN', 'haha', 'have', 'seen', 'Mary', 'hiya', 'PART', 'JOIN', 'mary', 'hiya', 'hiya', 'that', 'U172', 'hiya', 'JOIN', 'nawp', 'aint', 'seen', 'oops', 'only', 'mary', 'lmao', 'more', 'like', 'PART', 'addy', 'pics', 'hiya', 'will', 'long', 'lake', 'have', 'come', 'with', 'been', 'bout', 'JOIN', 'know', 'what', 'mean', 'JOIN', 'must', 'back', 'room', 'here', 'room', 'ROOM', 'sigh', 'sigh', 'JOIN', 'lmao', 'good', '!!!!', 'tell', 'said', 'that', 'ello', 'back', 'room', 'hugs', 'that', 'good', 'were', 'heyy', 'hiya', 'find', 'back', 'room', 'lmao', 'room', 'here', 'hugs', 'tell', 'slip', 'mind', 'fall', 'open', 'your', 'eyes', 'PART', 'lmao', '....', 'lead', 'mite', 'lmao', 'busy', 'busy', 'busy', ',,,,', 'JOIN', 'ello', 'hiya', 'what', 'hear', 'back', 'JOIN', 'lmao', 'meet', 'hope', 'name', 'lost', 'last', 'wood', 'lmao', 'like', 'knew', 'with', 'good', 'lord', 'long', 'have', 'said', 'this', 'stay', 'away', 'till', 'this', 'over', 'even', 'just', 'call', 'lmao', 'lmao', '....', 'tell', 'they', 'lose', 'that', 'PART', '<---', 'even', 'they', 'hell', 'aint', '####', 'make', 'have', 'pick', 'five', '....', 'that', 'just', 'lmao', 'dont', 'them', 'orta', 'good', 'like', 'JOIN', 'will', 'wins', 'hiya', 'some', 'sell', 'your', 'soul', 'will', 'ebay', 'nice', 'coem', 'like', 'come', 'haha', 'damn', 'what', 'gets', 'well', 'they', 'were', 'only', 'only', 'near', '....', 'goes', 'find', '....', 'giva', '1.98', 'JOIN', 'here', 'JOIN', 'year', '....', 'life', 'this', 'last', 'year', 'best', 'hiya', 'hiya', 'pick', 'rule', 'does', 'that', 'make', 'PART', 'good', 'rule', 'JOIN', 'here', '!!!!', 'what', 'goes', '....', 'PART', '))))', 'ball', '<<<<', 'hick', 'city', 'hick', 'PART', 'good', 'then', 'like', 'gets', 'hick', 'back', 'from', 'ally', 'with', 'wine', 'with', 'JOIN', 'know', 'when', '....', 'JOIN', 'PART', 'find', 'yard', 'when', 'JOIN', 'MODE', 'hiii', 'know', 'true', 'just', 'that', 'here', 'sure', 'Judy', 'deop', 'ever', 'MODE', 'JOIN', 'lmao', 'hiya', 'stay', 'came', 'dang', 'yall', 'quit', 'much', 'perv', 'here', 'call', 'PART', 'that', 'they', 'have', 'good', 'PART', 'cyas', 'yall', 'PART', 'JOIN', 'took', 'care', 'dont', 'much', 'that', 'they', 'ever', 'seen', 'know', 'were', 'will', 'grrl', 'PART', 'lmao', 'heya', 'they', 'lost', '....', 'perv', 'when', 'name', 'shup', 'keep', 'perv', 'heya', 'fall', 'JOIN', 'PART', 'JOIN', 'mean', 'perv', 'main', 'room', 'cant', 'read', 'tooo', 'heya', 'back', 'look', 'what', 'lmao', '>:->', 'hear', 'hiya', 'hiya', 'JOIN', 'will', 'take', 'over', 'room', \"pm'n\", 'hear', 'heya', 'lmao', 'home', 'sick', 'want', 'choc', 'chip', 'chip', 'PART', 'sure', 'your', 'crap', 'bear', 'bare', 'case', 'mmmm', 'here', 'PART', 'they', 'wher', 'been', 'bare', 'aint', 'that', 'made', 'ones', 'good', 'lord', 'some', 'awww', 'dont', 'PART', 'from', 'room', 'here', 'JOIN', 'nope', 'this', 'time', 'foot', 'hold', 'PART', 'PART', 'been', 'life', 'last', 'hour', 'whoo', 'dint', 'send', 'that', 'need', 'hiya', 'hour', 'said', 'time', 'damn', 'well', 'like', 'lmao', 'PART', 'nice', 'hour', 'lmao', 'time', 'well', 'just', 'make', 'PART', 'that', 'have', 'lmao', 'with', 'that', 'yeah', 'that', 'till', 'have', 'comp', 'over', 'stop', 'kids', 'with', 'that', 'good', 'time', 'lost', 'PART', 'that', 'PART', 'full', 'perv', 'JOIN', 'tend', 'lost', 'lost', 'vote', 'full', 'need', 'hiya', 'full', 'then', 'PART', 'sits', 'down', 'perv', 'here', 'JOIN', 'with', 'hiya', 'hiii', 'PART', 'then', 'here', 'much', 'legs', 'ever', 'uses', 'help', 'with', 'DONT', 'they', 'will', 'next', 'legs', 'menu', 'tell', 'time', 'PART', 'will', 'send', 'JOIN', 'what', 'time', 'this', 'room', 'that', 'work', 'your', '....', 'hand', 'lust', 'hiya', 'hugs', 'nods', 'have', 'with', 'JOIN', 'JOIN', 'JOIN', 'PART', 'JOIN', 'JOIN', 'here', 'just', 'they', 'live', 'wont', 'stop', 'when', 'PART', 'JOIN', 'PART', 'PART', 'JOIN', 'Liam', 'This', 'what', '; ..', 'this', 'song', 'been', '.. .', 'this', 'song', 'JOIN', 'PART', 'JOIN', 'room', 'JOIN', 'well', 'PART', 'JOIN', 'cool', 'NAME', 'PART', 'PART', 'have', 'them', 'this', 'kept', 'male', 'know', 'that', 'alot', 'like', 'that', 'PART', 'JOIN', 'name', 'bout', 'once', 'name', 'chat', 'with', 'JOIN', 'PART', 'JOIN', 'PART', 'JOIN', 'PART', 'PART', 'PART', 'once', 'more', 'Your', 'name', 'male', 'name', 'JOIN', 'like', 'JOIN', 'PART', 'JOIN', 'what', 'like', 'PART', 'Liam', 'This', 'what', 'Come', 'this', 'song', 'been', '.. .', 'this', 'song', 'this', 'room', 'sits', 'hits', 'love', 'JOIN', 'PART', 'mine', 'good', 'even', 'PART', 'Same', 'here', 'PART', 'dont', 'feel', 'cant', 'left', 'feet', 'what', 'into', 'PART', 'PART', 'rock', 'good', 'here', 'seen', 'away', 'free', 'xbox', 'with', 'PART', 'scuk', 'raed', 'them', 'JOIN', 'xbox', 'Song', 'JOIN', 'JOIN', 'dont', 'like', 'xbox', 'huge', 'make', 'hand', 'PART', 'dont', 'need', 'xbox', 'they', 'chat', 'PART', 'PART', 'PART', 'JOIN', 'JOIN', 'JOIN', 'MODE', 'Then', 'what', 'like', 'have', 'true', 'JOIN', 'yall', 'wack', 'JOIN', 'JOIN', 'like', 'play', 'Liam', 'This', 'what', '; ..', 'Like', 'this', 'song', 'been', '.. .', 'this', 'song', 'love', 'rule', 'woot', 'JOIN', 'JOIN', 'some', 'good', 'JOIN', 'very', 'true', 'PART', 'Have', 'guys', 'PART', 'what', 'have', 'yeah', 'dont', 'know', 'much', 'bugs', 'work', 'your', 'blah', 'blah', 'blah', 'just', 'made', 'JOIN', 'true', 'like', 'just', 'your', 'sort', 'like', 'PART', 'that', 'what', 'game', 'have', 'idea', 'what', 'JOIN', 'PART', 'haha', 'JOIN', 'even', 'know', 'what', 'your', 'that', 'dude', 'just', 'that', 'said', 'that', 'nice', 'PART', 'PART', 'guys', 'free', 'JOIN', 'even', 'work', 'PART', 'PART', 'just', 'days', 'rent', 'many', 'want', 'free', 'like', 'that', 'shes', 'same', 'huge', 'game', 'nerd', 'know', 'talk', 'make', 'play', 'PART', 'used', 'JOIN', 'gets', 'them', 'like', 'have', 'hard', 'time', 'good', 'like', 'girl', 'game', 'JOIN', 'love', 'play', 'JOIN', 'hate', 'girl', 'like', 'Hill', 'Evil', 'well', 'best', 'like', 'like', 'good', 'play', 'full', 'game', 'JOIN', 'PART', 'JOIN', 'Yeah', 'girl', 'play', 'love', 'PART', 'nice', 'JOIN', 'PART', 'saME', 'Nice', 'what', 'JOIN', '2Pac', 'Time', 'good', 'U110', 'with', 'must', 'game', 'then', 'nice', 'your', 'girl', 'PART', 'JOIN', 'PART', 'pimp', 'U108', 'JOIN', 'hope', 'girl', 'have', 'been', 'like', 'that', 'park', 'PART', 'PART', 'that', 'suck', 'free', 'just', 'Liam', 'This', 'what', '; ..', 'this', 'song', 'been', '.. .', 'this', 'song', 'Lies', 'JOIN', 'JOIN', 'shot', 'lies', 'hear', 'lies', 'snow', 'huge', 'JOIN', 'what', 'does', 'know', 'hurt', 'What', 'PART', 'haaa', 'mind', 'Stop', 'sick', 'girl', 'sick', 'girl', 'JOIN', 'JOIN', 'what', 'have', 'temp', 'JOIN', 'U119', 'JOIN', 'JOIN', 'wish', 'then', 'have', 'work', 'good', '98.6', 'PART', 'JOIN', 'JOIN', \"it's\", 'JOIN', 'Mono', 'from', 'Liam', 'This', 'what', '; ..', 'this', 'song', 'been', '.. .', 'this', 'song', 'well', 'have', 'that', 'nice', 'PART', 'mono', 'what', 'heck', 'that', 'best', 'luck', 'JOIN', 'made', 'with', 'team', 'PART', 'much', 'U119', 'PART', 'JOIN', 'whud', 'room', 'ahhh', 'PART', 'PART', 'team', 'PART', 'PART', 'whud', 'room', 'JOIN', 'MODE', 'were', 'JOIN', 'PART', 'Bone', 'Days', 'JOIN', 'PART', 'JOIN', 'U122', 'U122', 'U122', 'MODE', 'U122', 'PART', 'JOIN', 'JOIN', 'JOIN', 'JOIN', 'JOIN', 'U122', 'U122', 'U122', 'MODE', 'U122', 'U122', 'U122', 'MODE', 'PART', 'JOIN', 'MODE', 'PART', 'back', 'PART', 'JOIN', 'MODE', 'PART', 'PART', 'opps', 'JOIN', 'MODE', 'PART', 'PART', 'JOIN', 'MODE', 'from', 'made', 'with', 'team', 'that', 'team', 'JOIN', 'PART', 'JOIN', 'MODE', 'PART', 'JOIN', 'MODE', 'room', 'that', 'PART', 'U122', 'U122', 'U122', 'MODE', 'U122', 'U122', 'U122', 'MODE', 'JOIN', 'MODE', 'U122', 'hiya', 'PART', 'PART', 'JOIN', 'MODE', 'JOIN', 'JOIN', 'U122', 'U122', 'U122', 'MODE', 'U122', 'U122', 'U122', 'MODE', 'knew', 'PART', 'U122', 'U122', 'U122', 'MODE', 'U122', 'U122', 'U122', 'MODE', 'PART', 'JOIN', 'JOIN', 'MODE', 'JOIN', 'PART', 'JOIN', 'Liam', 'This', 'what', '; ..', 'Hero', 'They', 'Came', 'this', 'song', 'been', '.. .', 'this', 'song', '.op.', 'dont', 'talk', 'PART', 'PART', 'have', 'away', 'from', 'lost', 'What', 'hell', 'U122', 'here', 'That', 'alot', 'MODE', 'PART', 'alot', 'PART', 'PART', 'U122', 'JOIN', 'U119', 'U122', 'sick', 'here', 'hott', 'PART', 'PART', 'cool', 'PART', 'PART', 'hiya', 'PART', 'that', 'have', 'Hott', 'mean', 'ugly', 'JOIN', 'MODE', 'PART', 'PART', 'JOIN', 'MODE', 'PART', 'with', 'They', 'PART', 'JOIN', 'JOIN', 'PART', 'Same', 'here', 'PART', 'JOIN', 'come', 'left', 'PART', 'PART', 'Liam', 'This', 'what', '; ..', 'Down', 'Joey', 'this', 'song', 'been', '.. .', 'this', 'song', 'PART', 'PART', 'JOIN', 'Jane', 'JOIN', 'JOIN', 'PART', 'span', 'long', 'JOIN', 'feel', 'your', 'pain', 'JOIN', 'JOIN', 'JOIN', 'your', 'just', '.. .', 'want', 'some', 'They', 'have', 'chat', 'just', 'like', 'what', 'evil', 'JOIN', 'PART', 'PART', 'PART', 'yeah', 'that', 'will', 'just', 'PART', 'PART', 'PART', 'JOIN', 'they', 'want', 'stay', 'this', 'room', 'PART', 'true', 'JOIN', 'chat', 'with', 'girl', 'PART', 'PART', 'like', 'chat', 'PART', 'PART', 'sort', 'JOIN', 'seen', 'much', 'JOIN', 'PART', 'JOIN', 'used', 'work', 'JOIN', 'talk', 'sore', 'room', 'JOIN', 'PART', 'PART', 'PART', 'PART', 'PART', 'JOIN', 'woot', 'back', 'boss', 'wore', 'time', 'Liam', 'This', 'what', '; ..', 'this', 'song', 'been', '.. .', 'this', 'song', 'JOIN', 'PART', 'JOIN', 'JOIN', 'JOIN', 'note', 'QUIT', 'pasa', 'Same', 'here', 'your', 'boss', 'barn', 'JOIN', 'boss', 'play', 'joke', 'dont', 'know', 'what', 'JOIN', 'Kick', 'that', 'feat', 'Back', 'chat', 'kick', 'PART', 'feel', 'like', 'even', 'more', 'Lets', 'PART', 'JOIN', 'best', 'ever', 'have', 'baby', 'give', 'good', 'PART', 'need', 'here', 'ahem', 'what', 'dork', 'heyy', 'girl', 'guys', 'JOIN', 'give', 'good', 'when', 'type', 'just', 'wait', 'home', 'Liam', 'This', 'what', '; ..', 'When', 'this', 'song', 'been', '.. .', 'this', 'song', 'JOIN', 'dont', 'cant', 'PART', 'JOIN', 'JOIN', 'JOIN', 'chat', 'JOIN', 'PART', 'only', 'with', 'with', 'home', 'best', 'PART', 'rule', 'like', 'chat', 'that', 'like', 'laid', 'that', 'U122', 'back', 'with', 'that', 'have', 'club', 'well', 'that', 'JOIN', 'U122', 'JOIN', 'lost', 'mine', 'JOIN', 'PART', 'Home', 'JOIN', 'PART', 'that', 'ways', 'have', 'herd', 'have', 'with', 'part', 'PART', 'JOIN', 'PART', 'just', 'Born', 'PART', 'PART', 'guys', 'here', 'Liam', 'This', 'what', '; ..', 'Away', 'Tide', 'this', 'song', 'been', '.. .', 'this', 'song', 'hate', 'adds', 'they', 'keep', 'room', 'JOIN', 'PART', 'guys', 'wana', 'chat', 'take', 'away', 'last', 'hope', 'here', 'jush', 'Cute', 'GrlZ', 'just', 'does', 'mean', 'have', 'soul', 'told', 'sure', 'bout', 'that', 'JOIN', 'hear', 'perv', 'tell', 'here', 'chat', 'with', 'PART', 'haha', 'JOIN', 'PART', 'PART', 'PART', 'JOIN', 'have', 'lung', 'JOIN', 'SOME', 'U156', 'PART', 'dont', 'mind', 'call', 'U156', 'good', 'main', 'room', 'find', 'blah', 'your', 'game', 'your', 'chat', 'room', 'chat', 'PART', 'JOIN', 'JOIN', 'JOIN', 'Here', 'Poor', 'girl', 'JOIN', 'Lion', 'When', 'Here', 'JOIN', 'hawt', 'lets', 'make', 'with', 'with', 'brat', 'PART', 'JOIN', 'hell', 'yeah', 'away', 'from', 'just', 'have', 'back', 'each', 'want', 'chat', 'move', 'come', 'Down', 'only', 'road', 'born', 'walk', 'PART', 'girl', 'JOIN', 'PART', 'from', 'PART', 'guys', 'cute', 'here', 'from', 'home', ':o *', 'PART', 'face', 'JOIN', 'what', '....', 'from', 'lose', 'when', 'pfft', 'JOIN', 'PART', 'PART', 'JOIN', 'JOIN', 'MODE', 'MODE', 'land', 'sits', 'PART', 'JOIN', 'haha', 'JOIN', 'PART', 'MUAH', 'heya', 'JOIN', 'heya', 'oops', 'JOIN', 'PART', 'JOIN', 'JOIN', 'PART', 'nice', 'what', 'miss', 'what', 'fawk', 'goin', 'much', 'PART', 'much', 'dust', 'time', 'chat', 'kick', 'back', 'fool', 'Help', 'PART', 'JOIN', 'felt', 'like', 'seth', 'glad', 'that', 'have', 'good', 'PART', 'ever', 'gets', 'dont', 'PART', 'JOIN', 'haha', 'haha', 'PART', 'JOIN', 'lmao', 'many', 'U105', 'Heya', 'U105', 'U105', 'JOIN', 'U105', 'JOIN', 'U105', 'does', 'your', 'hang', 'here', 'U105', 'last', 'time', 'JOIN', 'over', 'back', 'U107', 'U107', 'that', 'wOOt', 'wOOt', 'chat', 'then', 'bone', 'come', 'fine', 'wait', '....', 'lose', 'PART', 'U105', '....', 'JOIN', 'PART', 'Like', 'U107', 'over', 'does', 'wack', 'what', 'that', 'abou', 'tthe', 'rest', 'over', 'head', 'U105', 'nope', 'JOIN', 'your', 'easy', 'beat', 'true', 'true', 'PART', 'yawn', 'lost', 'hawt', 'PART', 'JOIN', 'comp', 'damn', 'PART', 'JOIN', 'PART', 'U105', 'PART', 'that', 'area', 'just', 'here', 'PART', 'JOIN', 'JOIN', 'here', 'PART', '?!?!', 'from', 'from', 'here', 'PART', 'here', 'U103', 'JOIN', 'U105', 'well', 'U105', 'well', 'said', 'Even', 'that', 'lost', 'here', 'Ohio', 'here', '?!?!', 'says', 'that', 'U105', 'tell', 'ohio', 'easy', 'beat', 'just', 'have', 'hook', 'U107', 'herE', 'near', 'live', 'Hail', 'hail', 'hail', 'hail', 'best', 'KoOL', 'JOIN', 'from', 'lmao', 'U105', 'yeah', 'from', 'live', 'lmao', 'U112', 'U105', 'U107', 'that', 'show', 'lmao', 'U105', 'PART', 'male', '<---', 'halo', 'very', 'grrl', 'PART', 'that', 'show', 'that', 'yeah', '####', 'sits', 'LMAO', 'damn', 'U105', 'male', 'seem', 'date', 'boys', 'mama', 'from', 'lose', 'sits', 'with', 'lmao', 'girl', 'true', 'U107', 'year', 'JOIN', '<---', 'talk', 'make', 'good', 'Lets', 'make', 'nice', 'meet', 'U107', '!!!!', 'PART', 'JOIN', 'PART', 'male', 'U105', 'PART', 'wait', '....', 'know', 'JOIN', 'PART', 'U105', 'U115', 'U105', 'dude', 'girl', 'U105', 'lmao', 'PART', 'JOIN', 'JOIN', 'PART', 'grrr', 'JOIN', '....', 'been', 'busy', 'PART', 'this', 'many', 'comp', 'JOIN', 'grrr', 'pork', 'U105', 'busy', 'DONT', 'lmao', 'JOIN', 'next', 'time', 'U115', 'near', 'U105', 'even', 'kent', 'hiya', 'well', 'lmao', 'care', 'chat', 'look', 'have', 'well', 'told', 'once', 'cute', 'just', 'your', '1cos', 'U115', \"yw's\", 'JOIN', 'face', 'PART', 'U119', 'face', 'like', 'U107', 'your', 'mark', 'U115', 'PART', 'blue', 'U105', 'like', 'lmao', 'U115', 'know', 'wait', 'over', 'with', 'sick', 'them', 'humm', 'here', 'lmao', 'dotn', 'U105', 'newp', 'hate', 'sits', 'back', 'JOIN', 'room', 'hugs', 'U115', 'JOIN', 'tell', 'U107', 'PART', 'JOIN', 'This', 'sure', 'JOIN', 'PART', 'from', 'here', 'PART', 'talk', 'very', 'JOIN', 'does', 'vote', 'know', 'know', 'slap', 'That', 'show', 'U107', 'know', 'what', 'that', 'JOIN', 'good', 'ones', 'even', 'vote', 'PART', 'have', 'name', 'from', 'want', 'gays', 'have', 'U120', 'JOIN', 'nose', 'U107', 'nose', '<<<<', 'gays', 'MODE', 'U112', 'PART', 'MODE', 'PMSL', 'PART', 'JOIN', 'JOIN', 'PART', 'PART', 'pmsl', 'JOIN', 'PART', 'they', 'PART', 'PART', 'JOIN', 'ohhh', 'PART', 'JOIN', 'JOIN', 'JOIN', 'fire', '....', 'JOIN', 'PART', 'JOIN', 'PART', 'gift', 'PART', 'U115', 'U105', 'PART', 'PART', 'PART', 'U105', 'PART', 'lmao', 'hate', 'this', 'zone', 'will', 'JOIN', 'haha', 'U103', 'when', 'that', 'have', 'hint', 'left', 'PART', 'U129', 'JOIN', 'hmmm', 'U105', 'here', 'hint', 'PART', 'JOIN', 'U129', 'U129', 'sure', 'well', 'girl', 'hell', 'outs', 'comp', 'hiii', 'U105', 'U128', 'JOIN', 'U130', 'U130', 'just', '!!!.', 'U105', 'U115', 'PART', 'JOIN', 'U130', 'open', 'good', 'U105', 'busy', 'busy', 'good', 'does', 'chat', 'here', 'JOIN', 'lady', 'like', 'talk', 'JOIN', 'U129', 'from', 'PART', 'PART', 'busy', 'busy', 'good', 'good', 'that', 'here', 'find', 'JOIN', 'PART', 'lmao', '((((', 'Paul', '))))', 'PART', 'JOIN', 'PART', 'male', 'PART', 'JOIN', 'PART', 'JOIN', 'PART', '))))', 'PART', 'JOIN', 'outa', 'PART', 'JOIN', 'just', 'send', 'have', 'PART', 'PART', 'U105', 'soon', 'send', 'PART', 'here', 'PART', 'PART', 'JOIN', 'JOIN', 'want', 'chat', 'U105', 'JOIN', 'PART', 'U115', 'PART', 'JOIN', 'PART', 'then', 'goin', 'work', 'U110', 'soon', 'also', 'have', 'good', 'good', 'lmao', 'from', 'good', 'nite', 'JOIN', 'JOIN', 'U121', 'that', 'good', 'PART', 'just', 'want', 'chat', 'York', 'JOIN', 'JOIN', 'PART', 'baby', 'PART', 'nana', 'PART', 'PART', 'shut', 'JOIN', 'From', 'JOIN', 'ello', 'U121', 'from', 'PART', 'nice', 'well', 'U121', 'want', 'call', 'U121', 'JOIN', 'JOIN', 'that', 'chat', 'with', 'year', 'male', 'some', 'call', 'U121', 'will', 'call', 'U121', 'JOIN', 'PART', 'fine', 'fine', 'yeah', 'that', 'what', 'want', 'nick', 'name', 'JOIN', 'back', 'humm', 'PART', 'PART', 'U110', 'call', 'baby', 'JOIN', 'U104', 'JOIN', 'PART', 'room', 'guys', 'PART', 'JOIN', 'U130', 'cant', 'U121', 'kill', 'PART', 'JOIN', 'dude', 'stop', 'that', 'fuck', 'U104', 'many', 'cant', 'that', 'PART', 'love', 'fuck', 'hmmm', 'U110', 'just', 'call', 'U110', 'tell', 'that', 'they', 'long', 'lmao', 'PART', 'lmao', 'JOIN', 'U110', 'runs', 'over', 'hugs', 'U110', 'that', 'PART', 'seen', 'U196', 'come', 'give', 'U104', 'U196', 'U196', 'U196', 'Last', 'seen', 'bout', 'baby', 'U110', 'baby', 'feel', 'U104', 'that', 'idea', 'care', 'chat', 'sexy', 'nana', 'runs', 'over', 'hugs', 'sexy', 'nana', 'that', 'mean', 'JOIN', 'stop', 'dont', 'that', 'lmao', 'U132', 'JOIN', 'well', 'fuck', 'U110', 'sits', 'book', 'JOIN', 'Care', 'Chat', 'that', 'from', 'lmao', 'U104', 'spin', 'over', 'U121', 'will', '....', 'PART', 'goes', 'PART', 'stop', 'U106', 'JOIN', 'U121', 'must', 'U106', 'lady', 'whos', 'been', 'with', 'woot', 'woot', 'JOIN', 'ewww', 'stop', 'lmao', 'PART', 'Have', 'ever', 'been', 'pink', 'nope', 'U110', 'give', 'U110', 'feel', 'What', 'your', 'fear', 'PART', 'baby', 'with', 'JOIN', 'U104', 'fuck', 'U110', 'tell', 'that', 'they', 'long', 'JOIN', 'PART', 'JOIN', 'pass', 'babe', 'back', 'JOIN', 'PART', 'awww', 'JOIN', 'here', 'back', 'PART', 'JOIN', 'dies', 'know', 'U110', 'your', 'wife', 'same', 'baby', 'room', 'lady', 'dont', 'baby', 'givs', 'your', 'wife', 'haha', 'come', 'give', 'PART', 'JOIN', 'what', 'goes', 'U110', 'wife', 'seen', 'U219', 'U219', 'U219', 'U219', 'Last', 'seen', 'baby', 'room', 'chat', 'when', 'that', 'want', 'chat', 'need', 'that', 'U133', 'wife', 'what', 'U110', 'cool', 'they', 'male', 'fuck', 'seen', 'girl', 'with', 'nice', 'bust', 'seen', 'girl', 'PART', 'cool', 'JOIN', 'what', 'does', 'deaf', 'xmas', 'PART', 'that', 'JOIN', 'dont', 'need', 'wall', 'more', 'good', 'enuf', 'haha', 'nope', 'dont', 'wall', 'PART', 'LoVe', 'wall', 'Love', 'JOIN', 'lmao', 'hell', 'been', 'some', 'kick', 'then', 'some', 'this', 'more', 'well', 'your', 'your', 'wont', 'that', 'they', 'more', 'U121', 'haha', 'feel', 'that', 'come', 'then', 'mean', 'your', 'isnt', 'that', 'joke', 'seen', 'your', 'love', 'seen', 'your', 'pics', 'joke', 'well', 'will', 'that', 'eeww', 'U121', 'mmmm', 'hell', 'turn', 'back', '????', 'pies', 'pies', 'here', 'what', 'like', 'dick', 'haha', 'ever', 'this', 'room', 'haha', 'damn', 'that', 'fair', 'cant', 'with', 'stop', 'lyin', 'doll', 'then', 'love', 'beer', 'yeah', 'just', 'some', 'even', 'come', 'guys', 'lois', 'U121', 'cold', 'beer', 'guys', 'says', 'what', 'awww', 'U110', 'cuss', 'nope', 'says', 'drop', 'have', 'hand', 'runs', 'thru', 'back', 'hair', 'eyes', 'neck', 'sits', 'down', 'guys', 'LATE', 'THEY', 'GOOD', 'were', 'rape', 'U114', 'girl', 'that', 'LMAO', 'awww', 'geez', 'U110', 'well', 'last', 'shut', 'tart', 'dont', 'like', 'hgey', 'fuck', 'what', 'last', 'mean', 'hump', 'gimp', 'lick', 'caan', 'play', 'lick', '....', 'else', 'U133', 'good', 'U110', '!!!!', 'what', 'want', 'love', 'days', 'used', 'call', 'yeah', 'gimp', 'your', 'lmao', 'what', 'dumb', 'like', 'were', 'PART', 'JOIN', 'well', 'PART', 'PART', 'JOIN', 'JOIN', 'will', 'PART', 'awww', 'make', 'hump', 'JOIN', 'PART', 'PART', 'JOIN', 'this', 'room', 'good', 'JOIN', 'U110', 'U110', 'away', 'U104', 'yeah', 'have', 'make', 'good', 'yeah', 'hump', 'your', 'face', 'PART', 'JOIN', 'stay', 'chat', 'damn', 'know', 'lets', 'just', 'know', 'hmmm', '....', 'yeah', 'spot', 'elle', 'come', 'lets', 'like', 'PART', 'yada', 'yada', 'yada', 'lame', 'suck', 'lol.', 'JOIN', 'with', 'good', 'miss', 'babe', 'seen', 'ages', 'here', 'good', 'Elle', 'went', 'with', 'PART', 'JOIN', 'PART', 'been', 'stop', 'your', 'nude', 'pics', 'JOIN', 'yeah', 'have', 'good', 'good', 'lmao', 'dont', 'have', 'wish', 'sure', 'U110', 'good', 'your', 'like', 'elle', 'allo', 'stop', 'what', 'shit', 'good', 'girl', 'some', 'PART', 'yeah', 'ugly', 'your', 'wife', 'JOIN', 'yesh', 'been', 'nice', 'guyz', 'chat', 'nice', 'want', 'chat', 'male', 'fuck', 'nice', 'lmao', 'when', 'U104', 'like', 'clue', 'alot', 'that', 'PART', 'damn', 'wind', 'must', 'have', 'JOIN', 'poor', 'doll', 'Reub', 'real', 'this', 'talk', '!???', 'just', 'want', 'lost', 'good', 'here', 'help', 'U110', 'elle', '????', 'have', 'sure', 'rain', 'here', 'heat', 'hard', 'seem', 'kmph', 'U114', 'pope', 'have', 'used', 'PART', 'mass', 'they', 'dont', 'even', 'goin', 'give', 'dont', 'babe', 'born', 'cant', 'will', 'fuck', 'just', 'need', 'keep', 'with', 'shut', 'JOIN', 'shit', 'Ummm', 'your', 'that', 'does', 'kill', 'just', 'some', 'will', 'fast', 'U104', 'whip', 'U110', 'U110', 'PART', 'dont', 'know', 'head', 'whos', 'shit', 'JOIN', 'LMAO', 'U104', 'PART', 'U104', 'bend', 'over', 'show', 'yeah', 'baby', 'yess', 'hiya', 'care', '....', 'find', 'else', 'pick', 'JOIN', 'PART', 'JOIN', 'JOIN', 'JOIN', '))))', 'Just', 'what', 'like', '!...', 'dont', 'know', 'time', 'life', 'game', 'what', 'JOIN', '....', '....', 'PART', 'room', 'duet', 'pick', 'Gosh', 'hell', '....', ',,,,', 'bout', 'PART', 'nice', 'meet', 'ahhh', 'JOIN', 'JOIN', 'need', 'perv', 'give', 'wuts', 'here', 'know', '....', 'help', 'PART', 'will', 'perv', 'else', 'with', 'ever', 'wait', 'goin', 'flow', '....', 'lmao', 'JOIN', 'PART', 'know', 'been', 'year', 'here', 'then', 'well', 'last', 'know', 'what', 'west', 'quiz', 'what', 'PART', 'kewl', 'JOIN', 'ahhh', 'just', 'PART', 'JOIN', 'cool', 'next', 'JOIN', 'PART', 'JOIN', 'JOIN', 'PART', 'JOIN', 'PART', 'guys', 'JOIN', 'PART', 'what', 'nick', 'name', 'PART', 'PART', 'JOIN', 'PART', 'like', 'PART', '....', 'JOIN', 'what', 'dont', 'yall', 'PART', 'scar', 'face', 'JOIN', 'JOIN', 'ahhh', 'JOIN', 'JOIN', 'goes', 'back', 'been', 'nice', 'hate', 'JOIN', 'PART', 'JOIN', 'PART', 'PART', 'JOIN', 'PART', 'PART', 'JOIN', 'PART', 'back', 'JOIN', 'what', 'name', 'PART', 'PART', 'away', '....', 'wine', 'well', 'porn', 'life', 'know', 'well', 'then', 'wine', 'PART', 'well', 'have', 'will', 'Girl', 'JOIN', 'JOIN', 'JOIN', 'PART', 'hiya', 'PART', 'PART', 'JOIN', 'hiya', '....', 'hugs', 'yall', 'JOIN', 'good', 'JOIN', 'JOIN', 'baby', 'Hiya', 'PART', 'just', 'left', 'must', 'been', 'good', 'hiya', 'have', 'been', 'turn', 'JOIN', 'hiya', 'head', '....', 'does', 'life', 'with', 'your', 'made', 'same', 'some', 'must', 'have', 'roll', 'JOIN', 'pair', 'like', 'here', 'even', 'know', 'PART', 'PART', 'hehe', 'ring', '....', 'aint', 'what', 'they', 'used', '....', 'sang', 'that', '....', 'Rang', 'dont', 'know', 'some', '????', 'mind', 'that', 'that', 'that', 'hall', 'hows', 'PART', 'PART', 'hall', 'when', 'rang', 'door', 'bell', 'show', 'ring', 'PART', 'JOIN', 'JOIN', 'than', '....', 'hehe', 'dawg', 'than', 'mine', 'nite', 'much', 'love', 'nite', 'JOIN', 'PART', 'PART', 'JOIN', 'PART', 'JOIN', 'cant', 'play', 'crap', 'rule', 'name', 'that', 'tune', 'PART', 'PART', 'many', 'JOIN', '....', 'name', 'that', 'tune', 'PART', 'need', 'love', ',,,,', 'door', 'back', 'were', 'good', 'that', 'sing', 'song', 'haze', 'JOIN', 'time', 'febe', 'Prof', 'does', 'stay', 'just', 'JOIN', 'PART', 'sang', 'play', 'done', 'song', 'JOIN', '????', 'JOIN', 'good', 'PART', 'does', 'that', 'make', '....', 'your', 'time', '....', 'sang', 'sang', '....', '1996', 'with', 'PART', 'JOIN', 'song', '1996', 'hmmm', 'dont', 'know', 'JOIN', 'PART', 'JOIN', 'PART', 'PART', 'fine', 'here', '....', 'JOIN', 'JOIN', 'PART', 'JOIN', 'PART', 'what', 'cash', 'nick', 'name', 'know', 'that', 'when', 'sang', 'dont', 'know', 'come', 'just', 'hell', 'know', 'easy', 'what', 'nick', 'name', 'JOIN', 'JOIN', 'JOIN', 'hiya', 'hiya', 'hiya', 'your', 'girl', 'says', 'PART', 'JOIN', 'PART', 'JOIN', 'nice', 'lady', 'JOIN', 'JOIN', 'Kewl', 'from', 'PART', 'JOIN', 'even', 'what', 'song', 'hank', 'sang', 'from', 'used', 'know', 'just', 'idea', 'over', 'hehe', 'PART', 'cool', 'some', '????', 'know', 'hank', 'hank', 'jude', 'sang', 'slow', 'hand', 'eric', 'PART', 'PART', 'good', 'yoko', 'yoko', 'yoko', 'JOIN', 'what', 'yoko', 'when', 'John', 'shot', 'lmao', 'same', 'shit', 'what', 'show', 'sing', 'heya', 'shit', 'girl', 'JOIN', 'heya', 'show', 'good', 'that', 'hiya', 'yoko', 'that', 'john', 'like', 'JOIN', 'john', 'nite', 'nope', 'that', 'PART', 'hehe', 'back', 'ohhh', 'oops', 'just', 'here', 'need', 'zone', 'JOIN', 'have', 'know', 'John', 'Yoko', 'last', 'wife', 'said', 'when', 'your', 'dead', 'wont', 'take', 'with', 'your', 'soul', 'hehe', 'that', 'good', 'just', 'here', 'will', 'stay', 'PART', 'feel', 'free', 'JOIN', 'hiya', 'seee', 'whou', 'said', 'idnt', 'like', 'nite', 'PART', 'JOIN', 'last', 'been', 'here', 'like', 'that', 'JOIN', 'down', 'well', 'sooo', 'more', 'PART', 'well', 'poor', 'pink', 'here', 'PART', 'yeah', 'hehe', 'good', 'idea', 'busy', 'chat', 'yeah', 'what', 'good', 'perk', 'like', 'took', 'yeah', 'what', 'what', '....', 'that', 'over', 'hehe', 'your', 'nope', 'PART', 'like', 'JOIN', 'must', 'chat', 'wear', 'JOIN', 'JOIN', 'main', 'room', 'find', 'http', 'rain', 'here', 'rubs', 'LMAO', 'love', 'your', 'game', 'your', 'chat', 'room', 'PART', 'this', 'game', 'goin', 'shit', 'ROOM', 'says', 'made', 'skin', 'PART', 'JOIN', 'PART', 'JOIN', '2DAY', 'gawd', 'need', 'meds', 'that', 'make', 'skin', 'sure', 'need', 'yell', 'what', '....', '????', 'else', 'says', 'till', 'caps', 'eyes', 'mang', 'good', 'when', 'take', 'cant', 'live', 'eyes', 'make', 'feel', 'JOIN', 'PART', 'JOIN', 'away', 'what', 'your', 'eyes', 'else', 'from', 'here', 'SSRI', 'girl', 'PART', 'JOIN', 'well', 'deal', 'with', 'that', 'your', 'cure', 'they', 'just', 'help', 'deal', 'with', 'real', 'awww', 'know', 'JOIN', 'wean', 'need', 'meds', 'like', 'that', 'JOIN', 'hiya', 'JOIN', 'well', 'back', 'died', 'cost', 'much', 'JOIN', 'yeah', 'just', 'JOIN', 'PART', 'PART', 'take', 'awww', 'PART', 'PART', 'PART', 'just', 'kick', 'like', 'post', 'room', 'meds', 'left', 'PART', 'what', 'DOES', 'when', 'quit', 'LMAO', 'last', 'mind', 'itch', 'your', 'JOIN', 'dont', 'want', 'live', 'just', 'JOIN', 'that', 'shut', 'many', 'bout', 'lost', 'time', 'just', 'very', 'JOIN', 'just', 'yeah', 'does', 'they', 'case', 'case', 'JOIN', 'read', 'were', 'PART', 'been', 'fine', 'been', 'what', 'long', 'have', 'been', 'much', 'PART', 'meds', 'good', 'doin', 'will', 'take', 'PART', 'PART', 'have', 'like', 'this', 'week', 'long', 'have', 'been', 'holy', 'crap', 'week', 'like', 'JOIN', 'JOIN', 'will', 'take', 'kick', 'JOIN', 'okay', 'just', 'shit', 'time', 'anti', 'talk', 'want', 'mean', 'took', 'LMAO', '....', 'that', 'week', 'itch', 'down', 'near', 'PART', 'life', 'trip', 'well', 'yeah', 'real', 'haha', 'live', 'what', 'JOIN', 'your', 'JOIN', 'when', 'used', 'that', 'real', 'ever', 'hear', 'Ummm', 'else', 'with', 'week', 'that', 'JOIN', 'when', 'talk', 'yeah', 'bout', 'kill', 'much', 'keep', 'bout', 'kill', 'that', 'take', 'work', 'take', 'deep', 'till', 'JOIN', 'PART', 'well', 'hurt', 'hiya', 'PART', 'shut', 'bout', 'talk', 'talk', 'play', 'Gosh', 'lmao', 'PART', 'take', 'that', 'crap', 'lmao', 'PART', 'awww', 'here', 'life', 'cali', 'said', 'okay', 'noth', 'PART', 'JOIN', 'PART', 'your', 'life', 'been', 'stop', 'PART', 'very', 'that', 'many', 'have', 'been', 'wait', 'know', 'then', 'know', 'what', 'look', 'babi', 'look', 'have', 'here', 'feet', 'tall', 'PART', 'PART', 'nite', 'pray', 'hope', 'that', 'will', 'stay', 'JOIN', 'PART', 'JOIN', 'babi', 'look', 'JOIN', 'ewww', 'PART', 'PART', 'PART', 'PART', 'NICK', 'LMAO', 'PART', 'that', 'that', 'rubs', 'weed', 'icky', 'LMAO', 'JOIN', 'name', 'JOIN', 'that', 'mean', 'just', 'Rick', 'know', 'with', 'spit', 'LMAO', 'rich', 'lube', 'JOIN', 'JOIN', 'rich', 'lord', 'JOIN', 'mami', 'JOIN', 'PART', 'want', 'look', 'last', 'name', 'U102', 'U102', 'U101', 'yeah', 'U100', 'U102', 'U102', 'gold', 'hiya', 'U102', 'U102', 'here', 'U102', 'U102', 'look', 'PART', 'what', 'here', 'find', 'what', 'here', 'chat', 'room', 'JOIN', 'PART', 'guys', 'PART', 'from', 'east', '18ST', 'JOIN', 'much', 'cost', 'room', 'slow', 'yeah', 'U102', 'fart', 'blew', 'away', 'JOIN', 'ohhh', 'sexy', 'love', 'PART', 'girl', 'that', 'JOIN', 'U106', 'PART', 'U101', 'come', 'back', 'sexy', 'love', 'over', 'else', 'JOIN', 'PART', 'JOIN', 'haha', 'U101', 'have', 'PART', 'song', 'heya', 'JOIN', 'give', 'U102', 'PART', 'guys', 'girl', 'like', 'back', 'many', 'damn', 'seat', 'dont', 'give', 'PART', 'JOIN', 'PART', 'felt', 'rock', 'hard', 'cock', 'here', 'sexy', 'love', 'meet', 'full', 'girl', 'take', 'make', 'back', 'PART', 'make', 'newp', 'PART', 'love', 'lady', 'JOIN', 'SExy', 'love', 'yeah', 'otay', '####', 'like', 'love', 'PART', 'JOIN', 'Yeah', 'have', 'need', 'JOIN', 'JOIN', 'cool', 'cool', 'U110', 'said', 'like', 'dude', 'many', 'mine', 'JOIN', 'need', 'more', 'JOIN', 'like', 'JOIN', 'JOIN', 'JOIN', 'U115', 'firs', 'time', 'this', 'site', 'said', 'that', 'that', 'ever', 'told', 'room', 'JOIN', 'just', 'PART', 'JOIN', 'PART', 'JOIN', 'JOIN', 'PART', 'U113', 'PART', 'JOIN', 'PART', 'JOIN', 'PART', 'love', 'each', 'yall', 'room', 'mike', 'PART', 'dump', 'PART', 'PART', 'with', 'some', 'toop', 'yall', 'this', 'song', 'PART', 'what', 'song', 'just', 'that', 'PART', 'U108', 'this', 'your', 'room', 'slow', 'chat', 'room', 'here', 'that', 'with', 'four', 'does', 'want', 'chat', 'with', 'from', 'more', 'JOIN', 'U115', 'PART', 'U118', 'over', 'head', 'with', 'make', 'stop', 'make', 'stop', 'JOIN', 'room', 'U108', 'U108', 'just', 'that', 'yeah', 'type', 'JOIN', 'make', 'away', 'JOIN', 'PART', 'U116', 'find', 'U108', 'sets', 'room', 'asss', '....', 'part', 'felt', 'most', 'that', 'lmao', 'just', 'that', 'what', 'shit', 'eyes', 'that', 'paid', 'this', 'room', 'PART', 'LMAO', 'PART', 'what', 'have', 'home', 'JOIN', 'LMAO', 'mean', 'U120', 'your', 'home', 'room', 'hell', 'JOIN', 'Iowa', 'JOIN', 'were', 'just', 'that', 'U102', 'take', 'U108', 'room', 'U120', 'PART', 'lmao', 'beat', 'with', 'your', 'back', 'PART', 'dont', 'beat', 'with', 'your', 'PART', 'Teck', 'n9ne', 'back', 'PART', 'PART', 'dont', 'with', 'JOIN', 'hour', 'from', 'hell', 'that', 'chat', 'dont', 'with', 'kewl', 'JOIN', 'JOIN', 'well', 'JOIN', 'JOIN', 'well', 'JOIN', 'chat', 'that', 'PART', 'goes', 'both', 'ways', 'dear', 'U104', 'JOIN', 'JOIN', 'PART', 'does', 'both', 'ways', 'JOIN', 'know', 'dont', 'PART', 'PART', 'nice', 'once', 'JOIN', 'have', 'been', 'been', 'JOIN', 'JOIN', 'ever', 'here', 'very', 'much', 'have', 'room', 'that', 'that', '\"...', 'hmph', 'PART', 'JOIN', 'JOIN', 'PART', 'JOIN', 'MODE', 'U132', 'U132', 'JOIN', 'like', 'U132', 'U133', 'U132', 'U132', 'hiya', 'U132', 'PART', 'JOIN', 'nick', 'JOIN', 'U132', 'come', 'like', 'like', 'PART', 'jeff', 'U104', 'PART', 'crib', '!!!!', 'PART', 'wack', 'food', 'such', 'deop', 'MODE', 'U132', 'PART', 'U132', 'that', 'U102', 'PART', 'your', 'like', 'only', 'time', 'type', 'when', 'JOIN', 'JOIN', 'sexy', 'JOIN', 'PART', 'JOIN', 'haha', 'love', 'JOIN', 'nite', 'wife', 'love', 'want', 'PART', 'nite', 'U116', 'PART', 'JOIN', 'drug', 'talk', 'told', 'cook', 'turn', 'into', 'want', 'chat', 'JOIN', 'U138', 'hear', 'want', 'your', '((((', 'PART', 'JOIN', 'JOIN', '9:10', 'PART', 'JOIN', 'ladz', 'JOIN', 'hola', 'JOIN', 'PART', 'U115', 'PART', 'PART', 'JOIN', 'aime', 'JOIN', 'What', 'idea', 'over', 'JOIN', 'Ahhh', 'okay', 'chat', 'lady', 'whos', 'been', 'book', 'here', 'JOIN', 'PART', 'PART', 'PART', 'That', 'what', 'JOIN', 'guys', 'chat', 'JOIN', 'chat', 'JOIN', 'JOIN', 'JOIN', 'U119', 'pink', 'PART', 'PART', 'baby', 'with', 'PART', 'same', 'hong', 'kong', 'chat', 'PART', 'ball', 'does', 'PART', 'damn', 'like', 'have', 'good', 'time', 'PART', 'PART', 'JOIN', 'what', 'goes', 'like', 'JOIN', 'U123', 'U123', 'U123', 'MODE', 'U123', 'baby', 'JOIN', 'damn', 'guys', 'dude', 'shut', 'PART', 'blue', 'haha', 'PART', 'PART', 'Oops', 'yawn', 'haha', 'PART', 'PART', 'from', 'PART', 'joke', 'chat', 'That', 'okay', 'haha', 'yeah', 'PART', 'PART', 'love', 'PART', 'haha', 'PART', 'JOIN', 'PART', 'PART', 'guys', 'from', 'chat', 'here', 'JOIN', 'then', 'hell', 'shot', 'JOIN', 'PART', 'JOIN', 'PART', 'JOIN', 'PART', 'JOIN', 'PART', 'PART', 'shot', 'cool', 'whos', 'guys', 'talk', 'with', 'PART', 'chat', 'with', 'sexy', 'guys', 'chat', '??!!', 'PART', 'whos', '??!!', 'talk', 'mass', 'want', 'chat', '....', 'damn', 'PART', 'cali', 'guys', 'chat', 'JOIN', 'PART', 'JOIN', 'real', 'have', 'tits', 'PART', 'PART', 'sexy', 'guys', 'chat', 'U108', 'PART', 'aint', 'find', 'gret', '....', 'damn', 'PART', 'guys', 'chat', 'with', 'PART', 'take', 'life', 'PART', 'JOIN', 'that', 'shit', 'JOIN', 'haha', 'PART', 'dude', 'what', 'hell', 'JOIN', 'PART', 'what', 'girl', 'talk', 'kick', 'U111', 'JOIN', 'PART', 'them', 'guns', 'much', 'JOIN', 'Like', 'like', 'inch', 'face', 'JOIN', 'fart', 'ever', 'sean', 'PART', 'shit', 'howl', 'moon', 'yall', 'mean', 'damn', 'yeah', 'cant', 'just', 'JOIN', 'Ohio', 'even', 'STOP', 'PART', 'PART', 'what', 'JOIN', 'like', 'PART', 'JOIN', 'Take', 'JOIN', 'PART', 'here', 'JOIN', 'JOIN', 'here', 'z-ro', 'dead', 'guys', 'chat', 'wats', 'what', 'here', 'chat', 'chat', 'any1', 'what', 'good', 'with', 'U137', 'dont', 'know', 'from', 'JOIN', 'JOIN', 'cell', 'here', 'Haha', 'here', 'chat', 'JOIN', 'wana', 'chat', '????', 'PART', 'well', 'this', 'haha', 'PART', 'dead', 'damn', 'this', 'room', 'than', 'just', 'dont', 'know', 'ball', 'talk', 'PART', 'miss', 'hell', 'PART', 'here', 'yeah', 'good', 'blue', 'guys', 'JOIN', 'U141', '....', '1985', 'chat', 'JOIN', 'U142', 'U142', 'U142', 'MODE', 'U142', 'PART', 'slam', 'JOIN', 'PART', 'damn', 'PART', 'like', 'damn', 'JOIN', 'here', 'PART', 'here', 'find', 'PART', 'JOIN', 'PART', 'haha', 'U144', 'like', 'kill', 'U119', 'Your', 'skin', '....', 'dont', 'care', '!!!!', 'kill', 'want', '....', 'aint', 'stop', 'good', 'good', 'help', 'tell', 'love', 'will', 'boys', 'have', 'JOIN', 'will', 'sure', 'what', 'dont', 'boys', 'lets', 'kill', '....', 'JOIN', 'ever', 'what', 'love', 'this', 'song', 'JOIN', 'live', 'kill', 'girl', 'just', 'talk', 'what', 'song', 'hmmm', 'seem', 'have', 'U119', 'JOIN', 'JOIN', 'JOIN', 'lets', 'kill', 'PART', 'here', 'from', 'pine', 'city', 'PART', 'JOIN', 'PART', 'what', 'lets', 'kill', 'PART', 'PART', 'come', 'with', 'more', 'plan', 'than', 'kill', 'with', 'JOIN', 'JOIN', 'they', '....', 'JOIN', 'haha', 'JOIN', 'PART', 'JOIN', 'JOIN', 'JOIN', 'what', 'what', 'JOIN', 'they', 'must', 'must', 'they', 'must', 'must', 'PART', 'know', 'chat', 'here', 'here', 'JOIN', 'JOIN', 'JOIN', 'PART', 'yeas', 'like', 'PART', 'JOIN', 'what', 'puke', 'yeah', 'JOIN', 'yeah', 'over', '....', 'JOIN', 'like', 'kids', 'want', 'talk', 'guys', 'talk', 'with', 'PART', 'JOIN', 'crap', 'that', 'PART', 'haha', 'damn', 'waaa', 'yeas', 'guyz', 'PART', 'some', 'U119', 'U145', 'good', 'time', 'PART', 'love', 'haha', 'yeah', 'U141', 'U145', 'only', 'haha', 'JOIN', 'what', 'area', 'here', 'JOIN', 'here', 'what', 'JOIN', 'hmmm', 'guys', 'chat', 'with', 'very', 'girl', 'U119', 'urls', 'PART', 'PART', 'heya', 'star', 'JOIN', 'JOIN', 'JOIN', 'room', 'kill', 'PART', 'JOIN', 'PART', '....', '....', 'PART', 'chat', 'U119', 'kill', '....', 'PART', 'from', 'joke', 'lets', 'pick', '....', 'yeah', 'PART', 'guys', 'chat', 'from', 'yall', 'suck', 'PART', 'Save', 'kids', 'chat', 'wont', 'this', '....', 'chat', 'JOIN', 'what', 'suck', 'U119', 'kill', 'JOIN', 'here', 'suck', 'JOIN', 'haha', 'PART', 'PART', 'U154', 'JOIN', 'PART', 'teck', 'n9ne', 'back', 'take', 'damn', 'U154', 'JOIN', 'more', 'year', 'Room', 'want', 'chat', 'have', 'JOIN', 'girl', 'talk', 'guys', 'chat', 'will', 'PART', 'U114', 'hate', 'PART', 'wooo', 'PART', 'eats', 'U154', 'look', 'good', 'them', 'like', 'chat', 'here', 'want', 'your', 'here', 'sick', 'shit', 'wooo', 'sori', 'guys', 'PART', 'JOIN', 'PART', 'want', 'talk', 'JOIN', 'only', 'PART', 'into', 'U139', 'room', 'chat', 'with', 'love', 'blah', 'blah', 'spot', '....', 'here', 'JOIN', 'sexy', 'guys', 'chat', 'PART', 'U169', 'fast', 'self', 'time', 'JOIN', 'JOIN', 'U169', 'your', 'JOIN', 'talk', 'with', 'U154', 'some', 'cali', 'guys', 'here', 'PART', 'here', 'PART', 'seen', 'U169', 'U169', 'U169', 'U169', 'last', 'seen', 'U111', 'only', 'JOIN', 'JOIN', 'here', 'hmmm', 'chat', 'U169', 'seem', 'does', 'U114', 'haha', 'nope', 'U128', '<333', 'JOIN', 'PART', '<333', 'want', 'swim', 'Long', 'time', 'chat', 'PART', 'true', 'PART', 'know', 'here', 'from', 'JOIN', 'PART', 'yawn', 'want', 'chat', 'PART', 'poem', 'U128', 'like', 'five', 'from', 'into', 'jack', 'PART', 'tick', 'tock', 'PART', 'tick', 'tock', 'JOIN', 'U101', 'here', 'JOIN', 'JOIN', 'ROOM', 'CHAT', 'WITH', 'FROM', 'damn', ',,,,', 'have', 'been', 'cast', 'Rule', 'type', 'CAPS', 'JOIN', 'U114', 'ball', 'have', 'want', 'chat', 'with', 'junk', 'food', 'JOIN', 'tips', 'PART', 'Have', 'been', 'much', 'time', 'that', 'lost', 'this', 'very', 'your', 'life', 'your', 'wana', 'chat', 'with', 'PART', 'JOIN', 'lmao', 'with', 'that', 'like', 'chat', 'beer', 'Hiya', 'that', 'U101', 'said', 'JOIN', 'that', 'from', 'meet', 'your', 'your', 'turn', 'your', 'back', 'This', 'will', 'even', 'this', 'very', 'good', 'rush', 'much', 'your', 'home', 'JOIN', 'Nooo', 'have', 'some', 'good', 'JOIN', 'isnt', 'play', 'JOIN', 'Troy', 'wana', 'chat', 'with', 'room', 'PART', 'What', 'hell', 'PART', 'type', 'with', 'like', 'JOIN', 'guys', 'PART', 'that', 'U101', 'like', 'what', 'yeah', 'some', 'want', 'chat', 'with', 'JOIN', 'PART', 'like', 'fool', 'U105', 'tail', 'JOIN', 'like', 'JOIN', 'Seee', 'U101', 'back', 'what', 'What', 'hell', 'come', 'from', 'lmao', 'room', 'damn', 'room', 'damn', 'runs', 'thru', 'back', 'room', 'damn', 'hair', 'eyes', 'room', 'damn', 'neck', 'PART', 'chat', 'most', 'JOIN', '6:38', 'PART', 'want', 'chat', 'PART', 'good', 'have', 'down', 'JOIN', 'U126', 'just', 'here', 'look', 'JOIN', 'like', 'your', 'just', 'fine', 'JOIN', 'PART', 'JOIN', 'well', 'look', 'dyed', 'hair', 'told', 'what', 'just', 'left', 'PART', 'U105', 'JOIN', 'dont', 'know', 'some', 'PART', 'JOIN', 'PART', 'JOIN', 'kiss', 'your', 'chat', 'just', 'then', 'more', 'fuck', 'haha', 'PART', 'PART', 'JOIN', 'JOIN', 'spin', 'U114', 'PART', 'seen', 'U988', 'will', '....', 'goes', 'stop', 'U114', 'must', 'with', 'fuck', 'over', 'just', 't he', 'take', 'hand', 'Yeah', 'haha', 'U988', 'U988', 'U988', 'Last', 'seen', '!!!!', 'kiss', 'U114', 'baby', 'U114', 'baby', 'that', 'beam', 'that', 'play', 'JOIN', 'with', 'with', 'U114', 'just', 'amen', 'U114', 'puff', 'puff', 'pass', 'U114', 'with', 'daft', 'twit', 'scum', 'seen', 'seen', 'ever', 'walk', 'your', 'feet', 'U134', 'PART', 'long', 'time', 'have', 'seen', 'JOIN', 'want', 'chat', 'from', 'down', 'long', 'time', 'kiss', 'awww', 'come', 'give', 'kiss', 'Type', 'kiss', 'what', 'U114', 'town', 'WHOA', 'some', 'baby', '....', 'PART', 'JOIN', 'PART', 'JOIN', 'hope', 'down', 'room', 'talk', 'said', 'food', 'were', 'puff', 'puff', 'here', 'take', 'toke', 'ribs', 'just', 'food', 'PART', 'PART', 'JOIN', 'JOIN', 'PART', 'JOIN', 'Eggs', 'side', 'Wyte', 'know', 'Heyy', 'room', 'U144', 'U114', 'play', 'game', 'with', 'moms', 'Over', 'song', 'when', 'both', 'ways', 'West', 'Rock', 'here', 'only', 'well', 'Heyy', 'U103', 'here', 'PART', 'JOIN', 'PART', 'JOIN', 'goof', 'work', 'some', 'more', 'PART', 'howz', 'PART', 'U101', 'with', 'here', 'rock', 'year', 'U144', 'JOIN', 'U146', 'U146', 'Have', 'ever', 'felt', 'even', 'more', 'down', 'U103', 'PART', 'U142', \"ex's\", 'live', 'U143', 'PART', 'U146', 'feet', 'they', 'hurt', 'more', 'than', 'they', 'were', 'with', 'then', 'shut', 'away', 'PART', 'what', 'U146', 'good', 'hang', 'U105', 'just', 'come', 'here', 'play', 'with', \"ex's\", 'back', 'yard', 'good', 'with', 'JOIN', 'Well', 'JOIN', 'PART', 'JOIN', 'ouch', 'your', 'legs', 'both', 'able', 'JOIN', 'sure', 'more', 'ones', 'PART', 'PART', 'PART', 'U145', 'stay', 'U114', 'vamp', 'PART', 'LMAO', 'JOIN', 'shut', 'make', 'your', 'self', 'down', 'talk', 'call', 'then', 'dont', 'have', 'talk', 'PART', 'PART', 'What', 'part', 'from', 'U144', 'good', 'here', 'JOIN', 'play', 'with', 'guys', 'U103', 'just', 'JOIN', 'JOIN', 'Nope', '<---', 'live', 'Kent', 'need', 'your', 'what', 'kind', 'live', 'JOIN', 'JOIN', 'kent', 'some', 'with', 'live', '....', 'more', 'seen', 'U989', 'they', 'talk', 'most', 'just', 'U989', 'U989', 'U989', 'Last', 'seen', 'days', 'PART', 'Cool', 'know', 'Cool', 'from', 'U156', 'PART', 'dont', 'have', 'have', 'good', 'that', 'ther', 'some', 'with', 'U114', 'U156', 'from', 'high', 'high', 'work', 'doin', 'PART', 'PART', 'U147', 'what', 'U114', 'JOIN', 'JOIN', 'room', 'JOIN', 'doin', 'JOIN', 'heyy', 'U156', 'TEXT', 'SIZE', 'JOIN', 'kent', 'good', '....', 'room', 'heyy', 'U114', 'PART', 'U156', 'club', 'JOIN', 'even', 'PART', 'JOIN', 'U156', 'U156', 'kent', 'like', 'mins', 'from', 'U163', 'gear', 'gold', 'said', 'mind', 'heyy', 'U144', 'lmao', 'CALI', 'U114', 'Only', 'hook', 'good', 'lmao', 'that', 'PART', 'Tell', 'what', 'JOIN', 'here', 'wana', 'chat', 'room', 'need', 'some', 'that', 'here', 'like', 'have', 'U114', 'work', 'bear', 'heyy', 'wife', 'love', 'life', 'runs', 'Matt', 'Rush', 'AWAY', 'That', 'U163', 'U156', 'sexy', 'wish', 'PART', 'JOIN', 'just', 'past', 'heyy', 'U156', 'need', 'some', 'love', 'some', 'love', 'away', 'like', 'U103', 'back', 'from', 'much', 'U114', 'NTMN', 'give', 'U156', 'love', 'PART', 'JOIN', 'Kiss', 'fool', 'howz', 'lick', 'fool', 'PART', 'U158', 'JOIN', 'PART', 'JOIN', 'well', 'done', 'U156', 'your', 'grea', 'U168', 'U156', 'U156', 'runs', 'thru', 'back', 'U156', 'hair', 'eyes', 'U156', 'neck', 'U156', 'U156', 'been', 'U163', 'U168', 'mine', 'fine', 'U168', 'PART', 'JOIN', 'time', 'U168', 'dear', 'like', 'U156', 'sure', 'does', 'been', 'fine', 'U156', 'U156', 'okay', 'U156', 'want', 'like', 'cool', 'PART', 'been', 'good', 'JOIN', 'Look', 'guys', 'nice', 'jerk', 'from', 'U156', 'like', 'good', 'PART', 'U156', 'JOIN', 'home', 'want', 'know', 'U129', 'does', 'nick', 'U168', 'U168', '....', 'here', 'kiss', 'U168', 'kiss', 'U168', 'dont', 'know', 'will', 'make', 'U168', 'PART', 'cool', 'PART', 'JOIN', 'JOIN', 'U170', 'guys', 'PART', 'PART', 'PART', 'like', 'play', 'with', 'ROOM', 'much', 'U170', 'JOIN', 'moon', 'JOIN', 'only', 'JOIN', 'nice', 'pick', 'U156', 'been', 'that', 'when', 'came', 'U156', 'what', 'guys', 'guts', 'guys', 'ones', 'U156', 'U175', 'baby', 'PART', 'this', 'more', 'jerk', 'like', 'then', 'U156', 'U144', 'runs', 'thru', 'back', 'hair', 'eyes', 'neck', 'U168', 'beer', 'JOIN', 'U156', 'baby', 'U156', 'PART', 'JOIN', 'PART', 'love', 'neck', 'JOIN', 'your', 'hang', 'they', 'U144', 'PART', 'just', 'JOIN', 'U175', 'U168', 'U168', 'nice', 'U156', 'give', 'seen', 'seen', 'chat', 'here', 'know', 'play', 'case', 'this', 'when', 'work', 'that', 'boss', 'died', 'went', 'work', 'told', 'that', 'died', 'wrek', 'give', 'told', 'suck', 'told', 'good', 'PART', 'haha', 'girl', 'JOIN', 'NICK', 'PART', 'pfft', 'just', '!!!!', 'ciao', 'else', 'CHAT', 'WITH', 'FROM', 'cold', 'know', 'just', 'from', 'here', 'JOIN', 'Fort', '2:55', 'AKST', 'warm', 'PART', 'know', 'warm', '4:03', 'warm', 'need', 'some', 'root', 'gone', 'mine', 'same', 'time', 'poor', 'move', 'root', 'gone', 'poor', 'what', 'PART', 'have', 'goes', 'JOIN', 'wear', 'them', 'long', 'PART', 'mine', 'have', 'here', 'once', 'dont', 'hiya', 'keep', 'them', 'when', '....', 'have', 'PART', 'well', 'hmmm', 'well', 'PART', 'note', 'that', 'heck', 'PART', 'heck', 'PART', '....', 'keep', 'them', 'ahhh', 'pain', 'know', 'lmao', 'JOIN', 'JOIN', 'hiya', 'lets', 'chat', 'good', 'need', 'PART', 'back', 'hiya', 'hiya', 'name', 'hiya', 'hair', 'cute', 'that', 'tune', '....', 'head', 'sigh', 'what', 'PART', 'JOIN', 'like', 'hiya', 'hiya', 'that', 'wire', '????', 'back', 'here', 'have', 'been', 'burp', 'hiya', 'oops', 'give', 'just', 'mind', '....', 'that', 'lmao', 'good', 'snow', 'cold', 'soda', 'what', 'with', 'this', 'gray', 'here', 'tlak', 'bout', 'ride', 'some', 'some', 'dont', 'what', 'they', 'JOIN', 'ahem', 'hiya', 'ltnc', 'just', 'glad', 'over', 'with', 'take', 'chat', 'PART', 'JOIN', 'this', 'gets', 'this', 'that', 'gets', 'that', 'rest', 'PART', 'JOIN', 'haha', 'have', 'list', 'room', \"ok'd\", 'just', 'sayn', 'PART', 'sure', 'some', 'take', 'take', 'sock', 'here', 'evah', 'take', 'this', 'cold', 'good', 'bike', 'this', 'down', 'hill', 'went', 'stop', 'PART', 'cold', 'yeah', 'walk', 'that', 'only', 'here', 'sock', 'ohwa', 'caca', 'know', 'JOIN', 'dont', 'know', 'tyvm', 'mine', 'they', '....', 'only', 'when', 'wear', 'them', 'week', 'time', 'them', 'they', 'need', 'luvs', 'with', 'long', 'time', 'want', 'some', 'have', 'with', 'pain', 'like', 'used', 'make', 'PART', 'dont', 'need', 'love', 'they', 'were', 'PART', 'have', 'know', 'sock', 'sock', 'have', 'have', 'have', 'been', 'much', 'prep', 'done', 'when', 'hope', 'toss', 'sock', 'when', 'find', 'sock', 'gets', 'send', 'them', 'here', '....', 'wear', 'them', 'JOIN', 'hell', 'just', 'that', 'ball', 'make', 'some', 'from', 'what', 'does', 'that', 'wash', 'JOIN', 'will', 'dont', 'know', 'does', 'hate', 'tell', 'long', 'been', 'used', 'PART', 'they', 'sell', 'them', 'from', 'sure', 'from', 'know', 'when', 'when', 'your', 'back', 'pull', 'that', 'JOIN', 'adds', 'with', 'them', 'also', 'they', 'dirt', 'then', 'head', 'that', 'they', 'your', 'vent', '100%', 'true', 'just', 'have', 'used', 'have', 'that', 'when', 'went', 'knew', 'what', 'live', 'dont', 'want', 'have', 'haha', 'felt', 'like', 'JOIN', 'PART', 'ahhh', '....', 'JOIN', 'wait', 'much', 'make', 'year', 'JOIN', 'like', 'have', 'LMAO', 'PART', 'what', 'make', 'make', 'have', 'make', 'more', 'than', 'well', 'hear', 'time', 'ride', 'take', 'care', 'have', 'talk', 'soon', 'stay', 'safe', 'kiss', 'your', 'kids', 'your', 'dogs', 'PART', 'have', 'with', 'bull', 'time', 'just', 'life', 'with', 'your', 'make', 'dear', 'lord', 'fits', 'over', 'xbox', 'live', 'JOIN', 'well', 'have', 'fits', 'nice', 'work', 'week', 'what', 'mean', 'PART', 'from', 'week', 'heck', 'what', 'town', 'near', 'cant', 'real', 'asks', 'been', 'same', 'many', 'Road', 'very', 'pick', 'home', 'high', 'live', 'from', 'PART', 'that', 'JOIN', 'over', 'that', 'JOIN', 'hiya', 'hate', 'JOIN', 'seen', 'near', 'here', 'PART', 'what', 'have', 'seen', 'them', '....', 'long', 'does', 'take', 'back', 'dang', 'work', 'chat', 'they', 'like', 'long', 'fire', 'like', 'chit', 'JOIN', 'PART', 'land', 'PART', 'PART', 'doin', 'room', 'well', 'have', 'them', 'that', 'have', 'time', 'chat', 'grin', 'dont', 'here', 'here', 'JOIN', 'haha', 'they', 'were', 'bred', 'kill', 'rats', 'Sat.', 'JOIN', 'they', 'long', 'time', 'they', 'back', 'drop', 'your', 'foot', 'guys', 'life', 'JOIN', 'what', 'samn', 'eyes', 'much', 'this', 'room', 'like', 'Phil', 'into', '????', 'nuff', 'rose', 'PART', 'Ruth', 'good', 'hear', 'like', 'phil', 'meds', 'PART', 'JOIN', 'back', 'JOIN', 'MODE', 'MODE', 'PART', 'hows', 'PART', 'hiya', 'PART', 'hiya', 'must', 'hiya', 'many', 'like', 'open', 'that', 'with', 'doin', 'good', 'dear', 'rofl', '!!!!', 'PART', 'here', 'hows', 'bout', 'here', 'here', 'that', '....', 'tell', 'tell', 'days', 'ages', 'here', 'PART', 'only', 'here', 'lmao', 'well', 'that', 'PART', 'well', 'case', 'word', 'dang', '....', 'here', 'what', 'part', 'rofl', 'like', 'grew', 'PART', 'near', 'year', 'holy', '....', 'nice', 'from', '<---', 'went', 'JOIN', 'love', '....', 'like', 'from', 'PART', '????', 'when', 'that', 'sand', 'well', 'army', 'JOIN', 'clue', 'what', 'here', 'like', '....', 'They', 'army', 'mean', 'that', 'tell', 'only', 'they', 'they', 'lmao', 'that', 'they', 'show', 'kids', 'live', 'JOIN', 'down', 'near', 'when', 'from', 'ears', 'feel', 'best', '....', 'away', 'from', 'well', 'from', 'hear', 'rest', 'nice', 'more', 'that', 'such', 'JOIN', 'yeah', 'luvs', 'PART', 'down', 'mena', 'ROFL', 'that', 'pool', 'like', 'lapd', 'were', 'into', 'surf', 'cant', 'even', 'swim', 'here', 'sand', 'your', 'true', 'JOIN', 'JOIN', 'hard', 'when', 'just', 'side', 'City', '....', 'wear', 'fall', '....', '....', '....', 'much', 'PART', 'what', 'JOIN', 'only', 'that', 'room', 'from', 'hazy', 'that', 'have', 'been', 'were', 'What', 'were', 'hear', 'army', 'band', 'thot', 'just', 'haze', 'left', 'over', 'from', 'very', 'warm', 'yeah', '....', 'like', 'more', 'than', 'sing', 'here', 'dont', 'good', 'they', 'sang', 'some', 'them', 'they', 'down', 'ride', 'than', 'what', 'PART', 'nite', 'shes', 'sick', 'look', 'here', 'sing', 'lmao', 'blue', 'blue', 'acid', 'hmmm', 'here', 'knew', 'that', 'uses', 'blue', 'they', 'were', 'from', 'blue', 'main', 'room', 'find', 'PART', 'just', 'your', 'game', 'your', 'chat', 'room', 'PART', 'JOIN', 'PART', 'PART', 'PART', 'PART', 'wide', 'lost', 'went', 'JOIN', 'from', 'have', 'keys', 'here', 'lmao', 'wont', 'JOIN', 'snow', 'rock', 'salt', 'like', 'some', 'PART', 'JOIN', 'what', 'chat', 'PART', 'what', 'PART', 'much', 'JOIN', 'want', 'room', 'that', 'mess', 'PART', 'base', 'ball', 'JOIN', 'dead', 'JOIN', 'then', 'when', 'over', 'PART', 'byes', 'JOIN', 'PART', 'what', 'were', 'PART', 'some', 'PART', 'wait', 'time', 'PART', 'that', 'when', 'work', 'days', 'this', 'week', 'when', 'have', 'work', 'JOIN', 'back', 'more', 'gawd', 'must', 'love', 'PART', 'PART', 'NICK', 'room', 'PART', 'PART', 'NICK', 'then', 'work', 'NICK', 'haha', 'PART', 'dont', 'like', 'work', 'THAT', 'much', 'will', 'your', 'like', 'that', 'work', 'play', 'JOIN', 'yeah', '....', 'know', 'JOIN', 'sick', 'part', 'have', 'work', 'make', 'near', 'what', \"RN's\", 'make', 'JOIN', 'JOIN', 'only', 'dont', 'alot', 'love', 'well', 'work', 'with', 'hand', 'made', '....', 'that', 'that', 'hour', 'haha', 'PART', 'have', 'they', 'said', 'they', 'have', 'more', 'face', 'well', 'only', 'have', 'JOIN', 'JOIN', 'haha', 'that', 'give', 'JOIN', 'have', 'JOIN', 'just', 'just', 'yout', 'have', 'with', 'this', 'lame', 'chat', 'PART', 'PART', 'well', 'just', 'come', 'here', 'hang', 'with', 'lame', 'face', 'with', 'JOIN', 'PART', 'been', 'they', 'feel', 'lame', 'numb', 'PART', 'NICK', 'life', 'good', 'mmmm', 'dont', 'want', 'your', 'face', 'what', 'each', 'make', 'flow', 'haha', 'that', 'thah', 'road', 'mahn', 'have', 'ever', 'made', 'NICK', 'PART', 'JOIN', 'PART', 'make', 'sure', 'what', 'good', 'haha', 'have', 'King', 'cold', 'that', 'JOIN', 'JOIN', 'mmmm', 'JOIN', 'here', 'seen', 'JOIN', 'with', 'PART', 'guys', 'work', 'shop', 'PART', 'that', 'just', 'trip', 'when', 'JOIN', '....', 'some', 'road', 'were', 'JOIN', 'JOIN', 'PART', 'TALK', 'GIRL', 'WHEN', 'HOTT', 'HERE', 'JOIN', 'PART', 'good', 'soup', 'PART', 'JOIN', 'time', 'live', '6:51', 'PART', 'from', 'here', 'here', 'take', 'girl', 'shes', 'more', 'real', 'JOIN', 'work', 'caps', 'live', '9.53', 'tyvm', 'lmao', 'PART', 'PART', 'chat', 'with', 'PART', 'back', 'PART', 'PART', 'what', 'here', 'yeah', 'PART', 'what', 'yeah', 'only', 'yeah', 'nice', 'JOIN', 'heya', 'ltns', 'PART', 'yeah', 'life', 'know', 'yeah', 'JOIN', 'done', 'sooo', 'hope', 'sure', 'hell', 'aint', 'JOIN', 'need', 'have', 'work', 'hard', 'just', 'that', 'PART', 'Mine', 'PART', 'have', 'have', 'that', 'dont', 'need', 'vega', '....', 'hell', 'JOIN', 'JOIN', 'JOIN', 'been', 'gone', 'long', 'does', 'many', 'pigs', 'lmao', 'from', 'than', '....', '####', 'were', 'here', 'JOIN', 'JOIN', '....', 'case', 'read', 'JOIN', 'lmao', 'what', 'PART', 'dont', 'have', 'know', 'read', 'nice', 'JOIN', 'PART', 'long', 'read', 'STOP', 'room', 'then', 'JOIN', 'JOIN', 'PART', 'king', 'find', 'some', 'fast', 'easy', 'food', 'poof', 'PART', 'PART', 'PART', 'JOIN', 'sure', 'sexy', 'want', 'chat', 'good', 'like', 'that', 'JOIN', 'PART', 'that', 'JOIN', 'Yeah', 'grrr', 'take', 'back', 'NICK', 'more', 'this', 'will', 'work', 'just', 'know', 'from', 'want', 'mean', 'PART', 'them', 'JOIN', 'mean', 'like', 'JOIN', 'PART', 'PART', '....', 'more', 'like', 'PART', 'what', 'JOIN', 'PART', 'just', 'PART', 'PART', 'PART', 'JOIN', 'JOIN', 'love', 'when', 'what', '....', 'JOIN', 'hehe', 'they', 'know', 'NICK', 'well', 'what', 'true', 'JOIN', 'down', 'here', 'JOIN', 'PART', 'Well', 'only', 'much', 'PART', 'JOIN', 'PART', 'they', 'PART', 'like', 'JOIN', 'JOIN', 'what', 'JOIN', 'only', 'when', 'down', 'NICK', 'that', 'Nova', 'even', 'when', 'down', '....', 'damn', 'JOIN', 'PART', 'hiya', 'nope', 'JOIN', 'PART', 'mofo', 'JOIN', 'here', 'soon', 'only', 'hate', 'wont', 'know', 'PART', 'JOIN', 'heya', 'ltns', 'know', 'yeah', 'well', 'PART', 'JOIN', 'PART', 'yeah', 'like', 'that', 'PART', 'back', 'nice', 'know', 'PART', 'dont', 'feel', 'feel', 'JOIN', 'like', 'that', 'much', '....', 'took', 'care', 'PART', 'PART', 'JOIN', 'Ohhh', 'nice', 'know', 'room', 'hate', 'JOIN', 'PART', 'Yeah', 'real', 'flaw', '....', 'PART', 'head', 'PART', 'PART', '....', 'like', 'flaw', 'JOIN', 'make', 'look', 'your', 'your', 'look', 'Holy', 'crap', 'that', 'line', '....', 'much', 'dead', '....', 'That', 'good', 'JOIN', 'JOIN', 'PART', 'JOIN', 'Yeah', 'well', 'good', 'like', 'that', '....', 'PART', 'PART', 'U101', 'PART', 'NICK', 'JOIN', 'what', 'that', 'JOIN', 'fast', 'hiya', 'U100', 'what', 'part', 'PART', 'JOIN', 'PART', 'PART', 'JOIN', 'back', 'nick', 'PART', 'want', 'chat', 'help', 'then', '!!!!', 'love', 'JOIN', 'PART', 'JOIN', 'sips', 'love', 'PART', 'they', 'more', 'like', 'JOIN', 'that', 'PART', 'clay', 'stay', 'late', 'have', 'None', 'here', 'Male', 'only', 'room', 'just', 'your', 'luck', '....', 'JOIN', 'PART', 'told', 'call', 'JOIN', 'here', 'Ahhh', 'full', '....', 'much', 'come', 'back', 'that', 'call', 'Sure', '....', 'down', 'till', 'this', 'PART', 'PART', 'PART', 'PART', 'told', 'JOIN', 'Well', 'here', 'dont', 'have', 'lmao', 'told', 'call', 'PART', 'have', 'PART', 'JOIN', 'JOIN', 'Well', 'call', 'when', 'want', 'PART', 'nice', 'fire', 'JOIN', 'aunt', 'well', 'that', 'PART', 'call', 'want', 'hear', 'that', 'from', 'PART', 'hope', 'gets', 'know', 'much', 'like', 'that', 'PART', 'JOIN', 'aunt', 'here', 'back', 'bacl', 'LMAO', 'PART', '!!!!', 'keep', 'JOIN', 'know', 'JOIN', 'They', 'want', 'body', 'back', 'here', 'PART', 'dont', 'many', 'awww', 'PART', 'hard', 'JOIN', 'cool', 'PART', 'this', 'song', 'that', 'song', 'head', 'just', 'that', 'last', 'they', 'than', 'slap', 'that', 'that', 'JOIN', 'need', 'some', 'JOIN', 'here', 'song', 'that', 'akon', 'JOIN', 'oops', '<---', 'JOIN', 'PART', 'JOIN', 'just', 'alot', 'PART', 'PART', 'PART', 'yoll', 'JOIN', 'PART', 'JOIN', 'JOIN', '!!!!', 'PART', 'JOIN', 'U114', 'U114', 'U114', 'MODE', 'U114', 'PART', 'PART', 'goes', 'boom', 'chat', 'type', 'PART', 'here', 'your', 'line', 'JOIN', 'they', 'have', 'good', 'News', 'Maps', 'more', 'even', 'more', 'love', 'shit', 'crap', 'What', 'heck', 'lawl', 'PART', 'PART', 'JOIN', 'When', 'JOIN', 'PART', 'page', 'here', 'Okay', 'real', 'PART', 'Yeah', 'PART', 'JOIN', 'PART', 'some', 'PART', 'sick', 'JOIN', 'Tiff', 'wazz', 'from', 'Chop', 'wazz', 'from', 'PART', 'JOIN', 'toes', 'DAMN', 'JOIN', 'What', 'toes', 'here', 'TYPR', 'them', 'poll', 'PART', 'toes', 'then', 'them', 'boed', 'JOIN', 'PART', 'Dude', 'some', 'that', 'PART', 'JOIN', 'food', 'back', 'JOIN', 'U122', 'with', 'chat', 'PART', 'PART', 'Does', 'here', 'know', 'U120', 'PART', 'PART', 'JOIN', 'JOIN', 'know', 'rock', 'PART', 'When', 'show', 'chat', 'PART', 'U122', 'with', 'both', 'have', 'same', 'does', 'chat', 'PART', 'JOIN', 'U122', 'U120', 'pwns', 'with', 'bare', 'life', 'PART', 'JOIN', 'love', 'life', 'also', 'life', 'good', 'Very', 'good', 'U120', 'real', 'real', 'here', 'real', 'from', 'chat', 'PART', 'JOIN', 'PART', 'hate', 'U122', 'that', 'dont', 'mind', 'guys', 'good', 'Good', 'Okay', 'love', 'when', 'hate', 'JOIN', 'JOIN', 'U122', 'with', 'need', 'love', 'when', 'chat', 'like', 'U122', 'else', 'U121', 'PART', 'PART', 'guys', 'want', 'talk', 'want', 'talk', 'with', 'PART', 'PART', 'JOIN', 'Food', 'chat', 'name', 'PART', 'your', 'chat', 'JOIN', 'come', 'come', 'into', 'well', 'must', 'JOIN', 'JOIN', 'PART', 'PART', 'have', 'JOIN', 'guys', 'want', 'chat', 'damn', 'feet', 'PART', 'chat', 'only', 'PART', 'JOIN', 'love', 'more', 'chat', 'PART', 'JOIN', 'JOIN', 'JOIN', 'JOIN', 'PART', 'JOIN', 'PART', 'PART', 'JOIN', 'JOIN', 'PART', 'chat', 'well', 'talk', 'JOIN', 'guys', 'talk', 'with', 'from', 'were', 'sexi', 'bois', 'JOIN', 'JOIN', 'JOIN', 'talk', 'JOIN', 'JOIN', 'JOIN', 'PART', 'here', 'JOIN', 'JOIN', 'JOIN', 'JOIN', 'JOIN', 'chat', 'chat', 'U144', 'PART', 'U136', 'chat', 'PART', 'U142', 'KNOW', 'GUYS', 'THAT', 'HAVE', 'NONE', 'YALL', 'EVEN', 'SEEN', 'NONE', 'WILL', 'HAVE', 'YOUR', 'COME', 'FACE', 'THAT', 'JUST', 'YOUR', 'want', 'talk', 'what', 'they', 'want', 'PART', 'JOIN', 'huge', 'Lmao', 'JOIN', 'down', 'caps', 'suck', 'PART', 'Kids', 'PART', 'PART', 'JOIN', 'PART', 'PART', 'guys', 'PART', 'PART', 'PART', 'JOIN', 'sure', 'dead', 'here', 'JOIN', '6:41', 'JOIN', 'this', 'just', 'bied', 'self', 'JOIN', 'talk', 'PART', '6:53', 'JOIN', 'chat', 'guys', 'wana', 'talk', 'girl', 'guys', 'JOIN', 'dont', 'U148', 'talk', 'take', 'PART', 'PART', 'JOIN', 'PART', 'JOIN', 'PART', 'JOIN', 'good', 'room', 'JOIN', 'JOIN', 'PART', 'JOIN', 'come', 'like', 'yall', 'They', 'have', 'JOIN', 'U156', 'need', 'U117', 'U117', 'JOIN', 'U149', 'JOIN', 'JOIN', 'this', 'room', 'U153', 'must', 'U117', 'what', 'here', 'chat', '7:45', 'like', 'U153', 'PART', 'U153', 'PART', 'JOIN', 'PART', 'will', 'this', 'any1', 'ever', 'hear', 'JOIN', 'that', 'move', 'into', 'same', 'room', 'U117', 'only', 'half', 'here', 'PART', 'good', 'need', 'soft', 'PART', 'JOIN', 'JOIN', 'then', 'JOIN', 'game', 'talk', 'here', 'JOIN', 'whos', 'game', 'guys', 'have', 'chat', 'chat', 'with', 'pics', 'want', 'read', 'JOIN', 'JOIN', 'same', 'like', 'JOIN', 'PART', 'argh', 'Uhhh', 'PART', 'that', 'game', 'guys', 'talk', 'tenn', 'hour', 'half', 'pure', 'like', 'fool', 'chat', 'JOIN', 'know', 'lawl', 'JOIN', 'PART', 'JOIN', 'U156', 'JOIN', 'U168', 'PART', 'JOIN', 'wazz', 'chat', 'many', 'does', 'PART', 'JOIN', 'JOIN', 'here', 'over', 'chat', 'PART', 'JOIN', 'PART', 'JOIN', 'chat', 'with', 'sits', 'rubs', 'chat', 'need', 'PART', 'JOIN', 'Lime', 'Song', 'your', 'your', 'song', 'PART', 'JOIN', 'guys', 'only', 'PART', 'talk', 'girl', 'JOIN', 'chat', 'U172', 'PART', 'talk', 'well', 'evil', 'PART', 'JOIN', 'chat', 'JOIN', 'PART', 'U164', 'PART', 'PART', 'what', 'hell', 'PART', 'PART', 'with', 'here', 'yeah', 'JOIN', 'PART', 'pics', 'chat', 'JOIN', 'hott', 'wana', 'with', 'know', 'U150', 'many', 'have', 'JOIN', 'PART', 'JOIN', 'PART', 'JOIN', 'JOIN', 'kool', 'PART', 'lmao', 'with', 'word', 'well', 'PART', 'PART', 'Lime', 'Song', 'dont', 'send', 'JOIN', 'JOIN', 'time', 'PART', 'JOIN', 'JOIN', 'U181', '????', 'PART', 'JOIN', 'babe', 'PART', 'look', 'like', 'dont', 'chat', 'PART', 'gone', 'PART', 'PART', 'JOIN', 'PART', 'PART', 'PART', 'that', 'them', 'know', 'PART', 'JOIN', 'JOIN', 'PART', 'PART', 'PART', 'this', 'room', 'PART', 'PART', 'Lime', 'Song', 'PART', 'JOIN', 'JOIN', 'PART', 'JOIN', 'PART', 'PART', 'PART', 'PART', 'gals', 'PART', 'JOIN', 'woah', 'holy', 'mary', 'ussy', 'U104', 'Tisk', 'Tisk', 'JOIN', 'U190', 'tisk', 'tisk', 'NICK', 'Lime', 'Song', 'your', 'JOIN', 'JOIN', 'U104', 'U190', 'JOIN', 'What', 'what', 'JOIN', '????', 'were', 'what', 'girl', 'same', 'girl', 'chat', 'JOIN', 'PART', 'PART', 'JOIN', 'JOIN', 'JOIN', 'JOIN', 'pics', 'chat', 'here', 'have', 'tell', 'JOIN', 'Lmao', 'knew', 'need', 'talk', 'PART', 'PART', 'knew', 'need', 'want', 'heya', 'tiff', 'JOIN', 'MODE', 'just', 'want', 'JOIN', 'Heys', 'U104', 'JOIN', 'JOIN', 'JOIN', 'U197', 'have', 'U197', 'JOIN', 'U156', 'U104', 'PART', 'U197', 'what', 'U122', 'guys', 'chat', \"<3's\", 'over', 'U197', 'Lime', 'Song', 'U197', 'soon', 'name', 'list', 'JOIN', 'JOIN', 'JOIN', 'room', 'JOIN', 'PART', 'PART', 'PART', 'JOIN', 'chat', 'JOIN', 'lmao', 'PART', 'JOIN', 'PART', 'PART', 'U122', 'girl', 'chat', 'JOIN', 'MODE', 'lets', 'chat', 'lisa', 'seen', 'U819', 'U819', 'U819', 'U819', 'Last', 'seen', 'days', 'hour', 'JOIN', 'PART', 'JOIN', 'PART', 'PART', 'JOIN', 'PART', 'JOIN', 'yall', 'JOIN', 'seen', 'U820', 'U820', 'U820', 'U820', 'Last', 'seen', 'PART', 'PART', 'JOIN', 'chat', 'very', 'swim', 'brwn', 'hair', 'butt', 'some', 'chat', 'U156', 'JOIN', 'fine', 'hurr', 'find', 'Were', 'JOIN', 'U197', 'that', 'know']\n"
     ]
    },
    {
     "data": {
      "text/plain": [
       "FreqDist({'JOIN': 1021, 'PART': 1016, 'that': 274, 'what': 183, 'here': 181, '....': 170, 'have': 164, 'like': 156, 'with': 152, 'chat': 142, ...})"
      ]
     },
     "execution_count": 17,
     "metadata": {},
     "output_type": "execute_result"
    }
   ],
   "source": [
    "fourLetters = [w for w in text5 if len(w) == 4]\n",
    "print(fourLetters)\n",
    "\n",
    "fdist = FreqDist(fourLetters)\n",
    "fdist"
   ]
  },
  {
   "cell_type": "markdown",
   "metadata": {},
   "source": [
    "**Textbook problem 25**"
   ]
  },
  {
   "cell_type": "code",
   "execution_count": 19,
   "metadata": {},
   "outputs": [
    {
     "name": "stdout",
     "output_type": "stream",
     "text": [
      "['she', 'shells', 'shore']\n"
     ]
    }
   ],
   "source": [
    "import re\n",
    "sent = ['she', 'sells', 'sea', 'shells', 'by', 'the', 'sea', 'shore']\n",
    "\n",
    "pattern = r'\\bsh\\w*'\n",
    "\n",
    "sh = [w for w in sent if re.search(pattern, w)]\n",
    "print(sh)"
   ]
  }
 ],
 "metadata": {
  "kernelspec": {
   "display_name": "Python 3",
   "language": "python",
   "name": "python3"
  },
  "language_info": {
   "codemirror_mode": {
    "name": "ipython",
    "version": 3
   },
   "file_extension": ".py",
   "mimetype": "text/x-python",
   "name": "python",
   "nbconvert_exporter": "python",
   "pygments_lexer": "ipython3",
   "version": "3.12.7"
  }
 },
 "nbformat": 4,
 "nbformat_minor": 2
}
