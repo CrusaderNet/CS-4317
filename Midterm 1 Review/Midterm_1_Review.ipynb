{
 "cells": [
  {
   "cell_type": "markdown",
   "metadata": {},
   "source": [
    "**Question 1**"
   ]
  },
  {
   "cell_type": "code",
   "execution_count": null,
   "metadata": {},
   "outputs": [],
   "source": [
    "def word_counter(s, No_of_residue):\n",
    "    count = {}\n",
    "    for char in s:\n",
    "        count[char]=s.count(char)\n",
    "    #for key, value in count.items():\n",
    "         #print('No of ', key, '  amino acid in the protein is:', count[key])\n",
    "         #print ('% of  ',key, '  amino acid in the protein is:', ((count[key]/No_of_residue)*100))\n",
    "         #print(\"\\n\")\n",
    "    return count\n",
    "\n",
    "#We initialize the No_of_residue to zero\n",
    "No_of_residue = 0\n",
    "\n",
    "#initialize the character to empty string and it is going to contain all the character of the file\n",
    "character_of_file =\"\"\n",
    "\n",
    "with open(\"G3V5D1.txt\") as subash:\n",
    "    subash.readline()\n",
    "    for line in subash:\n",
    "        for char in line:\n",
    "            if(char =='\\n'):\n",
    "                No_of_residue+=0\n",
    "            else:\n",
    "                No_of_residue+= 1  \n",
    "                character_of_file += char\n",
    "\n",
    "print(word_counter(character_of_file, No_of_residue))\n",
    "print(\"Dictionary of Key Value Pair, i.e. amino acid alphabet and its count\")"
   ]
  }
 ],
 "metadata": {
  "kernelspec": {
   "display_name": "Python 3",
   "language": "python",
   "name": "python3"
  },
  "language_info": {
   "codemirror_mode": {
    "name": "ipython",
    "version": 3
   },
   "file_extension": ".py",
   "mimetype": "text/x-python",
   "name": "python",
   "nbconvert_exporter": "python",
   "pygments_lexer": "ipython3",
   "version": "3.12.1"
  }
 },
 "nbformat": 4,
 "nbformat_minor": 2
}
