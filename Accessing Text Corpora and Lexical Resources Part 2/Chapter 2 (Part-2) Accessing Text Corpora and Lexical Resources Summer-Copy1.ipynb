{
 "cells": [
  {
   "cell_type": "markdown",
   "metadata": {},
   "source": [
    "# (G) Wordlist Corpora\n",
    "\n",
    "**NLTK includes some corpora that are nothing more than a sorted list of wordlist**\n",
    "\n",
    "**We can use it to find unusual or misspelled words in a text corpus.a\n",
    "\n",
    "**Example 2-3. Filtering a text: This program computes the vocabulary of a text, then removes all terms that occur in an existing worldlist, leaving just the uncommon or misspelled words.**"
   ]
  },
  {
   "cell_type": "code",
   "execution_count": 1,
   "metadata": {},
   "outputs": [],
   "source": [
    "import nltk\n",
    "english_vocab = set(w.lower() for w in nltk.corpus.words.words())"
   ]
  },
  {
   "cell_type": "code",
   "execution_count": 2,
   "metadata": {},
   "outputs": [
    {
     "data": {
      "text/plain": [
       "{'unexhalable',\n",
       " 'rootwise',\n",
       " 'surma',\n",
       " 'nickeliferous',\n",
       " 'bicipitous',\n",
       " 'nonexciting',\n",
       " 'quinogen',\n",
       " 'sinapinic',\n",
       " 'speakeress',\n",
       " 'cupbearer',\n",
       " 'steamboating',\n",
       " 'leguatia',\n",
       " 'imbat',\n",
       " 'ornithologist',\n",
       " 'archscoundrel',\n",
       " 'epitrochoid',\n",
       " 'counterconversion',\n",
       " 'inconvenience',\n",
       " 'artistdom',\n",
       " 'degradand',\n",
       " 'nicknamee',\n",
       " 'strobila',\n",
       " 'seminormal',\n",
       " 'archigenesis',\n",
       " 'overnoise',\n",
       " 'scrimption',\n",
       " 'stickweed',\n",
       " 'groupage',\n",
       " 'underlooker',\n",
       " 'luteoma',\n",
       " 'lush',\n",
       " 'canvass',\n",
       " 'galvanography',\n",
       " 'appendiculate',\n",
       " 'ibsenic',\n",
       " 'australioid',\n",
       " 'cathop',\n",
       " 'unchronicled',\n",
       " 'praefloration',\n",
       " 'italici',\n",
       " 'ectrogeny',\n",
       " 'whyever',\n",
       " 'gansy',\n",
       " 'cackle',\n",
       " 'intercohesion',\n",
       " 'paedotribe',\n",
       " 'accessorius',\n",
       " 'windplayer',\n",
       " 'impractical',\n",
       " 'chemiloon',\n",
       " 'hydroperitoneum',\n",
       " 'superfecundation',\n",
       " 'typic',\n",
       " 'eulogistical',\n",
       " 'burlesque',\n",
       " 'pileorhize',\n",
       " 'languisher',\n",
       " 'gymnostomous',\n",
       " 'fluent',\n",
       " 'enthrallingly',\n",
       " 'fluency',\n",
       " 'rushing',\n",
       " 'unmortise',\n",
       " 'tromometer',\n",
       " 'loomer',\n",
       " 'inhumanize',\n",
       " 'dromedary',\n",
       " 'separating',\n",
       " 'almuten',\n",
       " 'biloculine',\n",
       " 'subpectinate',\n",
       " 'lotusin',\n",
       " 'keynoter',\n",
       " 'ganglioneural',\n",
       " 'rhodeswood',\n",
       " 'wreck',\n",
       " 'marmarosis',\n",
       " 'supposableness',\n",
       " 'antiganting',\n",
       " 'boltlike',\n",
       " 'capsula',\n",
       " 'graven',\n",
       " 'characeae',\n",
       " 'kalymmocyte',\n",
       " 'monkcraft',\n",
       " 'unchidingly',\n",
       " 'platyodont',\n",
       " 'coiny',\n",
       " 'semifuddle',\n",
       " 'hemiphrase',\n",
       " 'whisterpoop',\n",
       " 'vast',\n",
       " 'itinerant',\n",
       " 'overhung',\n",
       " 'crosswalk',\n",
       " 'eucryphiaceae',\n",
       " 'sciaridae',\n",
       " 'unraveler',\n",
       " 'cyanephidrosis',\n",
       " 'mohabat',\n",
       " 'polytoky',\n",
       " 'burny',\n",
       " 'yoi',\n",
       " 'guama',\n",
       " 'hypoglossitis',\n",
       " 'spirillosis',\n",
       " 'umbellulate',\n",
       " 'wereleopard',\n",
       " 'haqueton',\n",
       " 'regarnish',\n",
       " 'arsmetrike',\n",
       " 'sicilienne',\n",
       " 'refresher',\n",
       " 'rebubble',\n",
       " 'disagreeable',\n",
       " 'intellectualistic',\n",
       " 'anacrustic',\n",
       " 'lankish',\n",
       " 'opacify',\n",
       " 'preimaginary',\n",
       " 'researchful',\n",
       " 'phyllanthus',\n",
       " 'hoyle',\n",
       " 'little',\n",
       " 'moonseed',\n",
       " 'aldermanate',\n",
       " 'aread',\n",
       " 'ontogenic',\n",
       " 'celemin',\n",
       " 'hobbyless',\n",
       " 'conterminal',\n",
       " 'liber',\n",
       " 'miscomplaint',\n",
       " 'barefacedness',\n",
       " 'mittelhand',\n",
       " 'prancing',\n",
       " 'idrisite',\n",
       " 'ronsardist',\n",
       " 'tentaculata',\n",
       " 'talyshin',\n",
       " 'potgirl',\n",
       " 'transportableness',\n",
       " 'noncredibility',\n",
       " 'unsubtracted',\n",
       " 'fasinite',\n",
       " 'clitoridean',\n",
       " 'diagrydium',\n",
       " 'eumeromorph',\n",
       " 'acanthine',\n",
       " 'marginella',\n",
       " 'heterogony',\n",
       " 'protestator',\n",
       " 'bridging',\n",
       " 'incentor',\n",
       " 'decimalize',\n",
       " 'shadetail',\n",
       " 'quinsied',\n",
       " 'immense',\n",
       " 'trustiness',\n",
       " 'patarine',\n",
       " 'steprelation',\n",
       " 'technical',\n",
       " 'supereminent',\n",
       " 'unencysted',\n",
       " 'undepurated',\n",
       " 'epilogist',\n",
       " 'plass',\n",
       " 'coccinellidae',\n",
       " 'cystogram',\n",
       " 'euryhaline',\n",
       " 'euclase',\n",
       " 'lucknow',\n",
       " 'pachypleuritic',\n",
       " 'reconstruct',\n",
       " 'syringes',\n",
       " 'promycelial',\n",
       " 'ballyhoo',\n",
       " 'dammara',\n",
       " 'profunda',\n",
       " 'icebound',\n",
       " 'inswing',\n",
       " 'interlacement',\n",
       " 'kissar',\n",
       " 'reprovingly',\n",
       " 'galeid',\n",
       " 'synapses',\n",
       " 'cocklet',\n",
       " 'sergeant',\n",
       " 'objectional',\n",
       " 'blurbist',\n",
       " 'supersecure',\n",
       " 'unosculated',\n",
       " 'biborate',\n",
       " 'goonie',\n",
       " 'focalization',\n",
       " 'arteriometer',\n",
       " 'electroethereal',\n",
       " 'terministic',\n",
       " 'adriana',\n",
       " 'heroogony',\n",
       " 'conidian',\n",
       " 'flurried',\n",
       " 'nymphwise',\n",
       " 'pleny',\n",
       " 'protoheresiarch',\n",
       " 'lameter',\n",
       " 'triumph',\n",
       " 'sanjak',\n",
       " 'alushtite',\n",
       " 'moosehood',\n",
       " 'centrosymmetry',\n",
       " 'curcas',\n",
       " 'reprisalist',\n",
       " 'oliguresis',\n",
       " 'barramunda',\n",
       " 'lagrangian',\n",
       " 'matabele',\n",
       " 'softheartedly',\n",
       " 'morion',\n",
       " 'anomoean',\n",
       " 'tropaeolin',\n",
       " 'nonpersistent',\n",
       " 'censor',\n",
       " 'portligature',\n",
       " 'disappointingly',\n",
       " 'sighless',\n",
       " 'undecomposable',\n",
       " 'redundant',\n",
       " 'pseudopupal',\n",
       " 'unenvenomed',\n",
       " 'ethylamine',\n",
       " 'tripunctate',\n",
       " 'shaver',\n",
       " 'spass',\n",
       " 'assuring',\n",
       " 'unpalatableness',\n",
       " 'velvetiness',\n",
       " 'nonperseverance',\n",
       " 'unspinsterlike',\n",
       " 'infinite',\n",
       " 'rosary',\n",
       " 'caporal',\n",
       " 'hyle',\n",
       " 'ablative',\n",
       " 'soteriology',\n",
       " 'xanthopicrin',\n",
       " 'ni',\n",
       " 'nonencroachment',\n",
       " 'troezenian',\n",
       " 'visit',\n",
       " 'typhlitis',\n",
       " 'osmina',\n",
       " 'babelic',\n",
       " 'klanswoman',\n",
       " 'qintar',\n",
       " 'undextrously',\n",
       " 'celluloided',\n",
       " 'termin',\n",
       " 'ephyrula',\n",
       " 'cotula',\n",
       " 'audiphone',\n",
       " 'bachelorhood',\n",
       " 'nebraskan',\n",
       " 'bouillabaisse',\n",
       " 'oniscus',\n",
       " 'tean',\n",
       " 'intercurrently',\n",
       " 'ambon',\n",
       " 'hippocastanaceae',\n",
       " 'valorously',\n",
       " 'hypocatharsis',\n",
       " 'aviculidae',\n",
       " 'hemiholohedral',\n",
       " 'undizened',\n",
       " 'promilitary',\n",
       " 'sarkar',\n",
       " 'xenophobe',\n",
       " 'ascidiferous',\n",
       " 'grand',\n",
       " 'acolous',\n",
       " 'featherman',\n",
       " 'brutism',\n",
       " 'overestimation',\n",
       " 'counterprove',\n",
       " 'sunspotted',\n",
       " 'obtrusion',\n",
       " 'bifariously',\n",
       " 'promisable',\n",
       " 'marshberry',\n",
       " 'staminodium',\n",
       " 'menaspis',\n",
       " 'breakwater',\n",
       " 'unsalutary',\n",
       " 'clavariaceae',\n",
       " 'dipsosaurus',\n",
       " 'hiodont',\n",
       " 'antistatism',\n",
       " 'rugosa',\n",
       " 'polyarthritic',\n",
       " 'unorthographical',\n",
       " 'snobography',\n",
       " 'tribual',\n",
       " 'gartered',\n",
       " 'mellifluousness',\n",
       " 'matriarchic',\n",
       " 'regime',\n",
       " 'covisitor',\n",
       " 'priapusian',\n",
       " 'melancholyish',\n",
       " 'sarcodic',\n",
       " 'variously',\n",
       " 'proairesis',\n",
       " 'preboding',\n",
       " 'starken',\n",
       " 'piker',\n",
       " 'clothesbrush',\n",
       " 'disarming',\n",
       " 'trichopteran',\n",
       " 'womb',\n",
       " 'amianthoidal',\n",
       " 'hotspurred',\n",
       " 'maholi',\n",
       " 'lazarly',\n",
       " 'goeduck',\n",
       " 'pedion',\n",
       " 'pseudoangina',\n",
       " 'pitayita',\n",
       " 'pigly',\n",
       " 'pleb',\n",
       " 'pleurovisceral',\n",
       " 'abscoulomb',\n",
       " 'candor',\n",
       " 'exonship',\n",
       " 'maneuverability',\n",
       " 'outbreather',\n",
       " 'sigillation',\n",
       " 'necrological',\n",
       " 'tousche',\n",
       " 'mollycot',\n",
       " 'underproposition',\n",
       " 'rookie',\n",
       " 'abiogenetical',\n",
       " 'castanean',\n",
       " 'inacquaintance',\n",
       " 'tanghin',\n",
       " 'reundercut',\n",
       " 'geocratic',\n",
       " 'overbet',\n",
       " 'recuperation',\n",
       " 'riparial',\n",
       " 'urethrovaginal',\n",
       " 'satinflower',\n",
       " 'pinnidae',\n",
       " 'mercurization',\n",
       " 'wifeism',\n",
       " 'lambling',\n",
       " 'outbook',\n",
       " 'monopodium',\n",
       " 'validness',\n",
       " 'busker',\n",
       " 'paragogical',\n",
       " 'isophene',\n",
       " 'limacinid',\n",
       " 'prereconcilement',\n",
       " 'indiminishable',\n",
       " 'overcivilize',\n",
       " 'pontificial',\n",
       " 'puppyhood',\n",
       " 'telfordize',\n",
       " 'tumultuously',\n",
       " 'cysticercoid',\n",
       " 'dinnerly',\n",
       " 'lanceolately',\n",
       " 'apostolic',\n",
       " 'outsharpen',\n",
       " 'sericitization',\n",
       " 'budukha',\n",
       " 'overscribble',\n",
       " 'unhidebound',\n",
       " 'gigartinales',\n",
       " 'antimaniacal',\n",
       " 'mimicism',\n",
       " 'calved',\n",
       " 'flutist',\n",
       " 'oosporous',\n",
       " 'cacophonical',\n",
       " 'unassailably',\n",
       " 'trigonometric',\n",
       " 'pyrethrum',\n",
       " 'unprintably',\n",
       " 'modifiableness',\n",
       " 'bhoosa',\n",
       " 'bookstore',\n",
       " 'cancerwort',\n",
       " 'subtransparent',\n",
       " 'hypoxis',\n",
       " 'underplant',\n",
       " 'blundering',\n",
       " 'cristobalite',\n",
       " 'immaturely',\n",
       " 'unattractively',\n",
       " 'monomaniac',\n",
       " 'typhloenteritis',\n",
       " 'unmix',\n",
       " 'dulotic',\n",
       " 'salpicon',\n",
       " 'sulfoxylic',\n",
       " 'whimsicality',\n",
       " 'titillater',\n",
       " 'billet',\n",
       " 'anthranilate',\n",
       " 'inundable',\n",
       " 'lapidescent',\n",
       " 'pyopericardium',\n",
       " 'camphire',\n",
       " 'anesthesis',\n",
       " 'saccharoidal',\n",
       " 'scorpaenid',\n",
       " 'mississippi',\n",
       " 'scullery',\n",
       " 'sermoner',\n",
       " 'belshazzar',\n",
       " 'penny',\n",
       " 'anthotaxis',\n",
       " 'dasyuroid',\n",
       " 'imperatively',\n",
       " 'palaeoanthropus',\n",
       " 'purification',\n",
       " 'autocomplexes',\n",
       " 'kinetophonograph',\n",
       " 'unriddled',\n",
       " 'burley',\n",
       " 'aquilege',\n",
       " 'violably',\n",
       " 'woak',\n",
       " 'pandanus',\n",
       " 'aftermatter',\n",
       " 'clacker',\n",
       " 'gendarmery',\n",
       " 'windowlet',\n",
       " 'japanesy',\n",
       " 'under',\n",
       " 'roke',\n",
       " 'soohong',\n",
       " 'houndish',\n",
       " 'footmanhood',\n",
       " 'photoetching',\n",
       " 'markshot',\n",
       " 'orchidaceous',\n",
       " 'unaddictedness',\n",
       " 'smudgeproof',\n",
       " 'perovskite',\n",
       " 'panatela',\n",
       " 'thrash',\n",
       " 'preseason',\n",
       " 'betrousered',\n",
       " 'epidendric',\n",
       " 'etiology',\n",
       " 'codfishery',\n",
       " 'foreworld',\n",
       " 'akule',\n",
       " 'accidentality',\n",
       " 'undelightsome',\n",
       " 'unrespectfulness',\n",
       " 'lintern',\n",
       " 'semese',\n",
       " 'astay',\n",
       " 'repropagate',\n",
       " 'photoemission',\n",
       " 'wedbed',\n",
       " 'nerve',\n",
       " 'overdelicacy',\n",
       " 'friedrichsdor',\n",
       " 'semicupium',\n",
       " 'unoverhauled',\n",
       " 'eugenia',\n",
       " 'unsatanic',\n",
       " 'rotter',\n",
       " 'lurdan',\n",
       " 'cheven',\n",
       " 'eche',\n",
       " 'astrograph',\n",
       " 'abyssal',\n",
       " 'hexane',\n",
       " 'microphotographic',\n",
       " 'gignate',\n",
       " 'townly',\n",
       " 'otosphenal',\n",
       " 'snuffles',\n",
       " 'nebalioid',\n",
       " 'soliloquizingly',\n",
       " 'conventually',\n",
       " 'ladakhi',\n",
       " 'phyllocladium',\n",
       " 'dogmata',\n",
       " 'belltopper',\n",
       " 'pimplo',\n",
       " 'edematous',\n",
       " 'preinvestigation',\n",
       " 'avifaunal',\n",
       " 'incurability',\n",
       " 'themata',\n",
       " 'schindyletic',\n",
       " 'corregidor',\n",
       " 'buddhology',\n",
       " 'disgracefulness',\n",
       " 'mulct',\n",
       " 'trixy',\n",
       " 'browst',\n",
       " 'carapacho',\n",
       " 'optatively',\n",
       " 'sikh',\n",
       " 'nondisfranchised',\n",
       " 'sugarer',\n",
       " 'lumbrous',\n",
       " 'husbandfield',\n",
       " 'invariantly',\n",
       " 'settlerdom',\n",
       " 'passalus',\n",
       " 'nutritial',\n",
       " 'searchlight',\n",
       " 'cinnamein',\n",
       " 'shoulder',\n",
       " 'eudaemonic',\n",
       " 'phragmites',\n",
       " 'knosped',\n",
       " 'fustianist',\n",
       " 'maza',\n",
       " 'uncompassionated',\n",
       " 'nonreception',\n",
       " 'stumpless',\n",
       " 'tricostate',\n",
       " 'afterimage',\n",
       " 'miridae',\n",
       " 'fager',\n",
       " 'sexradiate',\n",
       " 'avidity',\n",
       " 'checkerboard',\n",
       " 'slavish',\n",
       " 'synovitis',\n",
       " 'monkeyshine',\n",
       " 'cruciferae',\n",
       " 'lora',\n",
       " 'demipike',\n",
       " 'johannine',\n",
       " 'calibration',\n",
       " 'actiniform',\n",
       " 'douter',\n",
       " 'leadenness',\n",
       " 'maggie',\n",
       " 'simmon',\n",
       " 'prohydrotropic',\n",
       " 'aluminosilicate',\n",
       " 'semimessianic',\n",
       " 'unmendable',\n",
       " 'podargine',\n",
       " 'remuneration',\n",
       " 'earner',\n",
       " 'unvitrescibility',\n",
       " 'antaeus',\n",
       " 'subchorioid',\n",
       " 'rallentando',\n",
       " 'pejoratively',\n",
       " 'destitution',\n",
       " 'temperably',\n",
       " 'disorder',\n",
       " 'astrometeorological',\n",
       " 'chenille',\n",
       " 'recordership',\n",
       " 'saqib',\n",
       " 'sporophyte',\n",
       " 'jovicentrical',\n",
       " 'exoenzyme',\n",
       " 'ungloomed',\n",
       " 'dimethylamino',\n",
       " 'clew',\n",
       " 'discovery',\n",
       " 'benzoglyoxaline',\n",
       " 'unbrowned',\n",
       " 'ribroast',\n",
       " 'impudicity',\n",
       " 'stenosphere',\n",
       " 'pedetes',\n",
       " 'childe',\n",
       " 'principia',\n",
       " 'counterstream',\n",
       " 'substantiate',\n",
       " 'grun',\n",
       " 'sulphocyanate',\n",
       " 'chromotypographic',\n",
       " 'raphia',\n",
       " 'bruang',\n",
       " 'edentalous',\n",
       " 'noncollusive',\n",
       " 'rahdar',\n",
       " 'afterstudy',\n",
       " 'unasserted',\n",
       " 'retraceable',\n",
       " 'acclimature',\n",
       " 'platitude',\n",
       " 'gaudful',\n",
       " 'ectal',\n",
       " 'scopet',\n",
       " 'bumptious',\n",
       " 'sympodial',\n",
       " 'fulicinae',\n",
       " 'unogled',\n",
       " 'steadier',\n",
       " 'likelihead',\n",
       " 'weightlessness',\n",
       " 'pistillaceous',\n",
       " 'quotably',\n",
       " 'concealment',\n",
       " 'antidemocratical',\n",
       " 'keeping',\n",
       " 'headset',\n",
       " 'lecturer',\n",
       " 'interindicate',\n",
       " 'mazur',\n",
       " 'unsoberness',\n",
       " 'emydea',\n",
       " 'rheumaticky',\n",
       " 'olympianize',\n",
       " 'cibol',\n",
       " 'macrochires',\n",
       " 'cauma',\n",
       " 'conringia',\n",
       " 'supermedicine',\n",
       " 'theodotian',\n",
       " 'unenveloped',\n",
       " 'logicaster',\n",
       " 'viridine',\n",
       " 'spurl',\n",
       " 'despisal',\n",
       " 'tricky',\n",
       " 'smilelessly',\n",
       " 'passiflorales',\n",
       " 'nonadjustive',\n",
       " 'podology',\n",
       " 'sideroxylon',\n",
       " 'runout',\n",
       " 'pulpital',\n",
       " 'unpacified',\n",
       " 'arend',\n",
       " 'bypass',\n",
       " 'meretrix',\n",
       " 'leftward',\n",
       " 'toshy',\n",
       " 'masslike',\n",
       " 'nonmaintenance',\n",
       " 'obstetrist',\n",
       " 'liftable',\n",
       " 'cataphora',\n",
       " 'rejective',\n",
       " 'oecumenicity',\n",
       " 'mesenteron',\n",
       " 'sapharensian',\n",
       " 'plateman',\n",
       " 'neolater',\n",
       " 'jibstay',\n",
       " 'purler',\n",
       " 'sorediate',\n",
       " 'solitidal',\n",
       " 'whiteside',\n",
       " 'prearrange',\n",
       " 'martensite',\n",
       " 'heptatonic',\n",
       " 'holdback',\n",
       " 'magellanian',\n",
       " 'gonidangium',\n",
       " 'spuddle',\n",
       " 'cramp',\n",
       " 'zygomorphous',\n",
       " 'valleywise',\n",
       " 'chaperone',\n",
       " 'iguaniform',\n",
       " 'overpour',\n",
       " 'expiatoriness',\n",
       " 'caesardom',\n",
       " 'nonreciprocating',\n",
       " 'antitank',\n",
       " 'icica',\n",
       " 'noachic',\n",
       " 'highermost',\n",
       " 'intersticed',\n",
       " 'boterol',\n",
       " 'paintproof',\n",
       " 'comprehendible',\n",
       " 'rostellar',\n",
       " 'tally',\n",
       " 'wincing',\n",
       " 'becker',\n",
       " 'megalodon',\n",
       " 'hoofrot',\n",
       " 'corresponding',\n",
       " 'saleslady',\n",
       " 'aby',\n",
       " 'fenland',\n",
       " 'never',\n",
       " 'platysmamyoides',\n",
       " 'artifactitious',\n",
       " 'towerproof',\n",
       " 'dream',\n",
       " 'inquiring',\n",
       " 'elenchically',\n",
       " 'inrigged',\n",
       " 'overhaste',\n",
       " 'scumming',\n",
       " 'affectivity',\n",
       " 'noncertain',\n",
       " 'thomist',\n",
       " 'unsophisticated',\n",
       " 'pantatrophia',\n",
       " 'cyathos',\n",
       " 'undernsong',\n",
       " 'omphacite',\n",
       " 'precirculation',\n",
       " 'neffy',\n",
       " 'heaps',\n",
       " 'sporular',\n",
       " 'contraindicate',\n",
       " 'periangitis',\n",
       " 'carte',\n",
       " 'dittology',\n",
       " 'eyetooth',\n",
       " 'pyrotechnian',\n",
       " 'conversionist',\n",
       " 'apiin',\n",
       " 'usable',\n",
       " 'killingness',\n",
       " 'chicha',\n",
       " 'confirmee',\n",
       " 'interscapilium',\n",
       " 'alcaligenes',\n",
       " 'propulsor',\n",
       " 'taws',\n",
       " 'psychopannychist',\n",
       " 'semitailored',\n",
       " 'vaticanical',\n",
       " 'starchedness',\n",
       " 'tashnakist',\n",
       " 'pillarlet',\n",
       " 'hypothenal',\n",
       " 'bebled',\n",
       " 'revalescence',\n",
       " 'borsht',\n",
       " 'opaque',\n",
       " 'swabberly',\n",
       " 'wariness',\n",
       " 'dabble',\n",
       " 'wimbrel',\n",
       " 'unjuggled',\n",
       " 'septimanal',\n",
       " 'mignonness',\n",
       " 'aggeration',\n",
       " 'dorical',\n",
       " 'simulator',\n",
       " 'unbelieve',\n",
       " 'aerify',\n",
       " 'epistemophilia',\n",
       " 'trebleness',\n",
       " 'agre',\n",
       " 'hypermonosyllable',\n",
       " 'exclusionism',\n",
       " 'aknee',\n",
       " 'dedanite',\n",
       " 'serendipity',\n",
       " 'vasotribe',\n",
       " 'crater',\n",
       " 'electropositive',\n",
       " 'vacoua',\n",
       " 'validity',\n",
       " 'prasophagous',\n",
       " 'aditus',\n",
       " 'antrophore',\n",
       " 'thoracostomy',\n",
       " 'beliked',\n",
       " 'sleeveband',\n",
       " 'loudly',\n",
       " 'cameloid',\n",
       " 'overgrow',\n",
       " 'state',\n",
       " 'parker',\n",
       " 'sackdoudle',\n",
       " 'epiplectic',\n",
       " 'uninweaved',\n",
       " 'gentlemanhood',\n",
       " 'progressionally',\n",
       " 'satellitarian',\n",
       " 'azoospermia',\n",
       " 'poundmaster',\n",
       " 'guahivo',\n",
       " 'annapurna',\n",
       " 'collapse',\n",
       " 'parchable',\n",
       " 'otherism',\n",
       " 'woodhung',\n",
       " 'nonastronomical',\n",
       " 'psychosophy',\n",
       " 'hydroplatinocyanic',\n",
       " 'mushroom',\n",
       " 'phytophagy',\n",
       " 'homosteus',\n",
       " 'evolutionist',\n",
       " 'wealthless',\n",
       " 'ararao',\n",
       " 'khaya',\n",
       " 'plexodont',\n",
       " 'pinsons',\n",
       " 'barbarousness',\n",
       " 'contemptuous',\n",
       " 'mesocardium',\n",
       " 'scambler',\n",
       " 'platypellic',\n",
       " 'kitchen',\n",
       " 'dodecylic',\n",
       " 'cloyingness',\n",
       " 'samshu',\n",
       " 'sunsetting',\n",
       " 'odontoglossate',\n",
       " 'openness',\n",
       " 'whitecap',\n",
       " 'umbellate',\n",
       " 'fou',\n",
       " 'selfwards',\n",
       " 'gall',\n",
       " 'doughfoot',\n",
       " 'unshaved',\n",
       " 'antiministerial',\n",
       " 'starlike',\n",
       " 'ozoned',\n",
       " 'exergue',\n",
       " 'anteposthumous',\n",
       " 'cratered',\n",
       " 'overspeedily',\n",
       " 'unreconsidered',\n",
       " 'wheesht',\n",
       " 'electrolyzable',\n",
       " 'heroineship',\n",
       " 'waistcoateer',\n",
       " 'naegate',\n",
       " 'cynorrhodon',\n",
       " 'dissuasory',\n",
       " 'ouabain',\n",
       " 'arched',\n",
       " 'demonograph',\n",
       " 'enjambment',\n",
       " 'kibblerman',\n",
       " 'multivoltine',\n",
       " 'contagiously',\n",
       " 'osteosarcoma',\n",
       " 'sculptile',\n",
       " 'unamortized',\n",
       " 'sasin',\n",
       " 'smilefulness',\n",
       " 'caesarism',\n",
       " 'erthen',\n",
       " 'outsoler',\n",
       " 'precoloring',\n",
       " 'moschidae',\n",
       " 'movement',\n",
       " 'forereach',\n",
       " 'boanbura',\n",
       " 'aeolicism',\n",
       " 'raucously',\n",
       " 'diplonema',\n",
       " 'dauphine',\n",
       " 'sizer',\n",
       " 'vise',\n",
       " 'jarosite',\n",
       " 'affinity',\n",
       " 'pathfarer',\n",
       " 'coccogoneae',\n",
       " 'shaftfoot',\n",
       " 'podalgia',\n",
       " 'reintercede',\n",
       " 'tug',\n",
       " 'ascidium',\n",
       " 'silicean',\n",
       " 'itchingly',\n",
       " 'sedge',\n",
       " 'start',\n",
       " 'ketolysis',\n",
       " 'mussable',\n",
       " 'jeremiah',\n",
       " 'ungone',\n",
       " 'aforethought',\n",
       " 'cytoblastemal',\n",
       " 'gasman',\n",
       " 'disbarment',\n",
       " 'bactericidal',\n",
       " 'atone',\n",
       " 'hydrocephaly',\n",
       " 'sulphonaphthoic',\n",
       " 'prettyface',\n",
       " 'sarcolemmic',\n",
       " 'windlessness',\n",
       " 'protobasidium',\n",
       " 'tetrasporangiate',\n",
       " 'riff',\n",
       " 'phthalazin',\n",
       " 'hemicycle',\n",
       " 'paraparesis',\n",
       " 'gliddery',\n",
       " 'tauchnitz',\n",
       " 'amphion',\n",
       " 'halberdier',\n",
       " 'pyroclastic',\n",
       " 'birminghamize',\n",
       " 'shillaber',\n",
       " 'eutectoid',\n",
       " 'corridored',\n",
       " 'suffixment',\n",
       " 'azthionium',\n",
       " 'oboe',\n",
       " 'presprinkle',\n",
       " 'fugitive',\n",
       " 'sulphonphthalein',\n",
       " 'tactually',\n",
       " 'glossospasm',\n",
       " 'thionurate',\n",
       " 'geognostic',\n",
       " 'chromochalcography',\n",
       " 'horticulture',\n",
       " 'stahlism',\n",
       " 'intercorrelate',\n",
       " 'sicklelike',\n",
       " 'sittidae',\n",
       " 'thrillfully',\n",
       " 'scarth',\n",
       " 'underemployment',\n",
       " 'ajowan',\n",
       " 'technocausis',\n",
       " 'beauseant',\n",
       " 'archbishop',\n",
       " 'houvari',\n",
       " 'begaze',\n",
       " 'dichroism',\n",
       " 'dreissensia',\n",
       " 'pylorostenosis',\n",
       " 'sealyham',\n",
       " 'unsuspiciously',\n",
       " 'nullisomic',\n",
       " 'housebound',\n",
       " 'diplopy',\n",
       " 'subdebutante',\n",
       " 'antivibratory',\n",
       " 'debatement',\n",
       " 'labyrinthodontian',\n",
       " 'vexingness',\n",
       " 'cauldrifeness',\n",
       " 'bergama',\n",
       " 'clothing',\n",
       " 'hattery',\n",
       " 'cotylar',\n",
       " 'righter',\n",
       " 'sesquialteral',\n",
       " 'aminomalonic',\n",
       " 'semuncial',\n",
       " 'zetetic',\n",
       " 'experimentally',\n",
       " 'ostreodynamometer',\n",
       " 'tabulator',\n",
       " 'glonoin',\n",
       " 'lurement',\n",
       " 'tibionavicular',\n",
       " 'metestick',\n",
       " 'shakiness',\n",
       " 'unamortization',\n",
       " 'labidura',\n",
       " 'perisigmoiditis',\n",
       " 'microphysiography',\n",
       " 'eggler',\n",
       " 'aequiculi',\n",
       " 'hostilely',\n",
       " 'orchestral',\n",
       " 'pasmo',\n",
       " 'tigerishly',\n",
       " 'pedate',\n",
       " 'splinterless',\n",
       " 'garnishment',\n",
       " 'uncartooned',\n",
       " 'convoke',\n",
       " 'micropterygid',\n",
       " 'endore',\n",
       " 'vedic',\n",
       " 'allosyndetic',\n",
       " 'gabelled',\n",
       " 'supercaption',\n",
       " 'uncontainable',\n",
       " 'scapulare',\n",
       " 'unlevigated',\n",
       " 'spectrologically',\n",
       " 'untactfully',\n",
       " 'hydrodromica',\n",
       " 'siol',\n",
       " 'asymptotic',\n",
       " 'laemodipodous',\n",
       " 'interdome',\n",
       " 'paroophoric',\n",
       " ...}"
      ]
     },
     "execution_count": 2,
     "metadata": {},
     "output_type": "execute_result"
    }
   ],
   "source": [
    "english_vocab"
   ]
  },
  {
   "cell_type": "code",
   "execution_count": 3,
   "metadata": {},
   "outputs": [
    {
     "data": {
      "text/plain": [
       "234377"
      ]
     },
     "execution_count": 3,
     "metadata": {},
     "output_type": "execute_result"
    }
   ],
   "source": [
    "len(english_vocab)"
   ]
  },
  {
   "cell_type": "code",
   "execution_count": 4,
   "metadata": {},
   "outputs": [],
   "source": [
    "text = [\"Pogba\",\"Thuram\",\"Serendipity\",\"stealth\",\"bogusses\"]\n",
    "\n",
    "text_vocab = set(w.lower() for w in text if w.isalpha())"
   ]
  },
  {
   "cell_type": "code",
   "execution_count": 5,
   "metadata": {},
   "outputs": [
    {
     "data": {
      "text/plain": [
       "{'bogusses', 'pogba', 'serendipity', 'stealth', 'thuram'}"
      ]
     },
     "execution_count": 5,
     "metadata": {},
     "output_type": "execute_result"
    }
   ],
   "source": [
    "text_vocab"
   ]
  },
  {
   "cell_type": "code",
   "execution_count": 6,
   "metadata": {},
   "outputs": [],
   "source": [
    "unusual = text_vocab.difference(english_vocab) # or unusual = text_vocab - english_vocab"
   ]
  },
  {
   "cell_type": "code",
   "execution_count": 7,
   "metadata": {},
   "outputs": [
    {
     "data": {
      "text/plain": [
       "{'bogusses', 'pogba', 'thuram'}"
      ]
     },
     "execution_count": 7,
     "metadata": {},
     "output_type": "execute_result"
    }
   ],
   "source": [
    "unusual"
   ]
  },
  {
   "cell_type": "code",
   "execution_count": 8,
   "metadata": {},
   "outputs": [],
   "source": [
    "unusual = text_vocab - english_vocab"
   ]
  },
  {
   "cell_type": "code",
   "execution_count": 9,
   "metadata": {},
   "outputs": [],
   "source": [
    "def unusual_words(text):\n",
    "    text_vocab = set(w.lower() for w in text if w.isalpha())\n",
    "    english_vocab = set(w.lower() for w in nltk.corpus.words.words())\n",
    "    unusual = text_vocab - english_vocab\n",
    "    return sorted(unusual)"
   ]
  },
  {
   "cell_type": "code",
   "execution_count": 10,
   "metadata": {},
   "outputs": [
    {
     "data": {
      "text/plain": [
       "['abbeyland',\n",
       " 'abhorred',\n",
       " 'abilities',\n",
       " 'abounded',\n",
       " 'abridgement',\n",
       " 'abused',\n",
       " 'abuses',\n",
       " 'accents',\n",
       " 'accepting',\n",
       " 'accommodations',\n",
       " 'accompanied',\n",
       " 'accounted',\n",
       " 'accounts',\n",
       " 'accustomary',\n",
       " 'aches',\n",
       " 'acknowledging',\n",
       " 'acknowledgment',\n",
       " 'acknowledgments',\n",
       " 'acquaintances',\n",
       " 'acquiesced',\n",
       " 'acquitted',\n",
       " 'acquitting',\n",
       " 'acted',\n",
       " 'actions',\n",
       " 'adapted',\n",
       " 'adding',\n",
       " 'additions',\n",
       " 'addressed',\n",
       " 'addresses',\n",
       " 'addressing',\n",
       " 'adhering',\n",
       " 'adieus',\n",
       " 'adjusting',\n",
       " 'administering',\n",
       " 'admirers',\n",
       " 'admires',\n",
       " 'admitting',\n",
       " 'adorned',\n",
       " 'advances',\n",
       " 'advantages',\n",
       " 'affairs',\n",
       " 'affections',\n",
       " 'affects',\n",
       " 'affixed',\n",
       " 'afflictions',\n",
       " 'afforded',\n",
       " 'affording',\n",
       " 'ages',\n",
       " 'agitated',\n",
       " 'agonies',\n",
       " 'ailments',\n",
       " 'aimed',\n",
       " 'alarms',\n",
       " 'alienated',\n",
       " 'alighted',\n",
       " 'alleged',\n",
       " 'allenham',\n",
       " 'allowances',\n",
       " 'allowed',\n",
       " 'allowing',\n",
       " 'alluded',\n",
       " 'alterations',\n",
       " 'altered',\n",
       " 'altering',\n",
       " 'amended',\n",
       " 'amounted',\n",
       " 'amusements',\n",
       " 'ankles',\n",
       " 'annamaria',\n",
       " 'annexed',\n",
       " 'announced',\n",
       " 'announcing',\n",
       " 'annuities',\n",
       " 'annum',\n",
       " 'answered',\n",
       " 'answering',\n",
       " 'answers',\n",
       " 'anticipated',\n",
       " 'anticipating',\n",
       " 'anticipations',\n",
       " 'anymore',\n",
       " 'apartments',\n",
       " 'apologies',\n",
       " 'apologising',\n",
       " 'apologized',\n",
       " 'appearances',\n",
       " 'appeared',\n",
       " 'appearing',\n",
       " 'appeased',\n",
       " 'appetites',\n",
       " 'applauded',\n",
       " 'applying',\n",
       " 'appointed',\n",
       " 'apprehended',\n",
       " 'apprehensions',\n",
       " 'approached',\n",
       " 'approved',\n",
       " 'arbour',\n",
       " 'ardour',\n",
       " 'arguments',\n",
       " 'arranged',\n",
       " 'arrangements',\n",
       " 'arranging',\n",
       " 'arrived',\n",
       " 'arrives',\n",
       " 'arriving',\n",
       " 'ascended',\n",
       " 'ascertained',\n",
       " 'asked',\n",
       " 'asking',\n",
       " 'assembled',\n",
       " 'assemblies',\n",
       " 'asserted',\n",
       " 'assertions',\n",
       " 'assiduities',\n",
       " 'assisted',\n",
       " 'assisting',\n",
       " 'associating',\n",
       " 'assurances',\n",
       " 'astonished',\n",
       " 'atoned',\n",
       " 'atoning',\n",
       " 'attaching',\n",
       " 'attachments',\n",
       " 'attacked',\n",
       " 'attacks',\n",
       " 'attained',\n",
       " 'attempted',\n",
       " 'attempting',\n",
       " 'attempts',\n",
       " 'attendants',\n",
       " 'attended',\n",
       " 'attending',\n",
       " 'attentions',\n",
       " 'attracted',\n",
       " 'attractions',\n",
       " 'attributed',\n",
       " 'attributing',\n",
       " 'auditors',\n",
       " 'augmenting',\n",
       " 'austen',\n",
       " 'authorised',\n",
       " 'authors',\n",
       " 'availed',\n",
       " 'avignon',\n",
       " 'avoided',\n",
       " 'avoiding',\n",
       " 'awaited',\n",
       " 'awakened',\n",
       " 'awaking',\n",
       " 'bags',\n",
       " 'balls',\n",
       " 'banished',\n",
       " 'barouches',\n",
       " 'bathed',\n",
       " 'bears',\n",
       " 'beasts',\n",
       " 'beauties',\n",
       " 'became',\n",
       " 'bedrooms',\n",
       " 'beds',\n",
       " 'befallen',\n",
       " 'befalls',\n",
       " 'befell',\n",
       " 'began',\n",
       " 'begged',\n",
       " 'begins',\n",
       " 'behaved',\n",
       " 'beings',\n",
       " 'believed',\n",
       " 'believes',\n",
       " 'belonged',\n",
       " 'belongs',\n",
       " 'benefited',\n",
       " 'bequeathed',\n",
       " 'berkeley',\n",
       " 'bestowed',\n",
       " 'betrayed',\n",
       " 'betraying',\n",
       " 'biased',\n",
       " 'blackest',\n",
       " 'blameable',\n",
       " 'blessings',\n",
       " 'blights',\n",
       " 'blossoms',\n",
       " 'blundered',\n",
       " 'blushed',\n",
       " 'blushes',\n",
       " 'bolder',\n",
       " 'bones',\n",
       " 'bonomi',\n",
       " 'books',\n",
       " 'booksellers',\n",
       " 'borrowed',\n",
       " 'bottoms',\n",
       " 'boys',\n",
       " 'breakfasting',\n",
       " 'bribing',\n",
       " 'brightened',\n",
       " 'brighter',\n",
       " 'bringing',\n",
       " 'brings',\n",
       " 'broader',\n",
       " 'brothers',\n",
       " 'bruised',\n",
       " 'buildings',\n",
       " 'bursts',\n",
       " 'buying',\n",
       " 'called',\n",
       " 'calls',\n",
       " 'calming',\n",
       " 'candles',\n",
       " 'candour',\n",
       " 'canvassing',\n",
       " 'cards',\n",
       " 'cares',\n",
       " 'caresses',\n",
       " 'careys',\n",
       " 'carriages',\n",
       " 'carries',\n",
       " 'cases',\n",
       " 'casts',\n",
       " 'cats',\n",
       " 'caused',\n",
       " 'ceased',\n",
       " 'ceasing',\n",
       " 'censured',\n",
       " 'centre',\n",
       " 'certainties',\n",
       " 'chagrined',\n",
       " 'chairs',\n",
       " 'chambers',\n",
       " 'chanced',\n",
       " 'changed',\n",
       " 'changes',\n",
       " 'changing',\n",
       " 'characters',\n",
       " 'charged',\n",
       " 'charmed',\n",
       " 'charms',\n",
       " 'cheated',\n",
       " 'checking',\n",
       " 'cheeks',\n",
       " 'cheerfuller',\n",
       " 'cherished',\n",
       " 'cherries',\n",
       " 'children',\n",
       " 'choked',\n",
       " 'chuse',\n",
       " 'chusing',\n",
       " 'circles',\n",
       " 'circumstances',\n",
       " 'civilities',\n",
       " 'claimed',\n",
       " 'claiming',\n",
       " 'claims',\n",
       " 'clarke',\n",
       " 'cleared',\n",
       " 'cleveland',\n",
       " 'clogged',\n",
       " 'closing',\n",
       " 'clouds',\n",
       " 'coats',\n",
       " 'collecting',\n",
       " 'coloured',\n",
       " 'colouring',\n",
       " 'combe',\n",
       " 'comforted',\n",
       " 'comforts',\n",
       " 'comings',\n",
       " 'commanded',\n",
       " 'commands',\n",
       " 'commended',\n",
       " 'comments',\n",
       " 'commissioned',\n",
       " 'commonest',\n",
       " 'communicated',\n",
       " 'companions',\n",
       " 'compared',\n",
       " 'compares',\n",
       " 'comparisons',\n",
       " 'complained',\n",
       " 'complaining',\n",
       " 'complaints',\n",
       " 'completed',\n",
       " 'compliments',\n",
       " 'comprehended',\n",
       " 'concealing',\n",
       " 'concerns',\n",
       " 'concessions',\n",
       " 'concluded',\n",
       " 'conclusions',\n",
       " 'conditions',\n",
       " 'conducted',\n",
       " 'confessed',\n",
       " 'confidante',\n",
       " 'conforming',\n",
       " 'congratulated',\n",
       " 'congratulating',\n",
       " 'congratulations',\n",
       " 'conjectured',\n",
       " 'conjectures',\n",
       " 'conjecturing',\n",
       " 'connections',\n",
       " 'conquests',\n",
       " 'consented',\n",
       " 'consequences',\n",
       " 'considerations',\n",
       " 'considers',\n",
       " 'consisted',\n",
       " 'consists',\n",
       " 'consoled',\n",
       " 'conspired',\n",
       " 'constantia',\n",
       " 'consulted',\n",
       " 'contained',\n",
       " 'containing',\n",
       " 'contend',\n",
       " 'contenting',\n",
       " 'continuing',\n",
       " 'contradicted',\n",
       " 'contrasted',\n",
       " 'contributed',\n",
       " 'contributing',\n",
       " 'contrived',\n",
       " 'contrives',\n",
       " 'contriving',\n",
       " 'controlled',\n",
       " 'conveniences',\n",
       " 'conversations',\n",
       " 'conversed',\n",
       " 'conversing',\n",
       " 'conveyed',\n",
       " 'conveying',\n",
       " 'copying',\n",
       " 'cordials',\n",
       " 'cottages',\n",
       " 'counsellor',\n",
       " 'counteracted',\n",
       " 'couples',\n",
       " 'courted',\n",
       " 'courting',\n",
       " 'courtland',\n",
       " 'cousins',\n",
       " 'cowper',\n",
       " 'cows',\n",
       " 'coxcombs',\n",
       " 'cramps',\n",
       " 'created',\n",
       " 'creating',\n",
       " 'creatures',\n",
       " 'cries',\n",
       " 'crimsoned',\n",
       " 'curtsying',\n",
       " 'cutlets',\n",
       " 'danced',\n",
       " 'dances',\n",
       " 'dared',\n",
       " 'darker',\n",
       " 'dartford',\n",
       " 'dashwood',\n",
       " 'dashwoods',\n",
       " 'daughters',\n",
       " 'davies',\n",
       " 'dawdled',\n",
       " 'dawlish',\n",
       " 'dawned',\n",
       " 'dearer',\n",
       " 'dearest',\n",
       " 'debated',\n",
       " 'debts',\n",
       " 'deceived',\n",
       " 'deciding',\n",
       " 'decisions',\n",
       " 'declares',\n",
       " 'declaring',\n",
       " 'declining',\n",
       " 'deemed',\n",
       " 'deeper',\n",
       " 'deepest',\n",
       " 'defects',\n",
       " 'defended',\n",
       " 'deficiencies',\n",
       " 'degrees',\n",
       " 'delaford',\n",
       " 'delayed',\n",
       " 'delays',\n",
       " 'deliberating',\n",
       " 'delicacies',\n",
       " 'delighful',\n",
       " 'delineated',\n",
       " 'delivered',\n",
       " 'demanded',\n",
       " 'demands',\n",
       " 'demonstrations',\n",
       " 'demur',\n",
       " 'denied',\n",
       " 'dennison',\n",
       " 'denoted',\n",
       " 'denoting',\n",
       " 'departing',\n",
       " 'depended',\n",
       " 'depends',\n",
       " 'deprived',\n",
       " 'described',\n",
       " 'describing',\n",
       " 'deserts',\n",
       " 'deserves',\n",
       " 'designs',\n",
       " 'desiring',\n",
       " 'despatch',\n",
       " 'despatching',\n",
       " 'despised',\n",
       " 'despising',\n",
       " 'destroyed',\n",
       " 'destroys',\n",
       " 'detaining',\n",
       " 'detected',\n",
       " 'detecting',\n",
       " 'determining',\n",
       " 'deterred',\n",
       " 'detested',\n",
       " 'devolved',\n",
       " 'died',\n",
       " 'dies',\n",
       " 'differed',\n",
       " 'differing',\n",
       " 'difficulties',\n",
       " 'dimensions',\n",
       " 'diminished',\n",
       " 'dined',\n",
       " 'dinners',\n",
       " 'directing',\n",
       " 'directions',\n",
       " 'disagreements',\n",
       " 'disappeared',\n",
       " 'disappointments',\n",
       " 'disapproved',\n",
       " 'disapproves',\n",
       " 'disapproving',\n",
       " 'discarded',\n",
       " 'discharged',\n",
       " 'disclaiming',\n",
       " 'disclosing',\n",
       " 'discontents',\n",
       " 'discovering',\n",
       " 'discussions',\n",
       " 'disgraced',\n",
       " 'disinherited',\n",
       " 'disliked',\n",
       " 'dismissed',\n",
       " 'dismounted',\n",
       " 'dispatched',\n",
       " 'dispatches',\n",
       " 'dispersing',\n",
       " 'disposing',\n",
       " 'disputes',\n",
       " 'disqualifications',\n",
       " 'disregarded',\n",
       " 'dissembling',\n",
       " 'dissented',\n",
       " 'distresses',\n",
       " 'distrusts',\n",
       " 'diverted',\n",
       " 'doatingly',\n",
       " 'donavan',\n",
       " 'doomed',\n",
       " 'dooming',\n",
       " 'doors',\n",
       " 'dorsetshire',\n",
       " 'doubted',\n",
       " 'doubts',\n",
       " 'douceur',\n",
       " 'downs',\n",
       " 'dr',\n",
       " 'drains',\n",
       " 'drawings',\n",
       " 'draws',\n",
       " 'dreaded',\n",
       " 'dreading',\n",
       " 'dreaming',\n",
       " 'dresses',\n",
       " 'drives',\n",
       " 'dropped',\n",
       " 'drops',\n",
       " 'drury',\n",
       " 'duets',\n",
       " 'duties',\n",
       " 'earlier',\n",
       " 'earliest',\n",
       " 'earned',\n",
       " 'ears',\n",
       " 'echoed',\n",
       " 'editions',\n",
       " 'edtions',\n",
       " 'effected',\n",
       " 'effecting',\n",
       " 'effusions',\n",
       " 'ellison',\n",
       " 'ellisons',\n",
       " 'eloping',\n",
       " 'eluded',\n",
       " 'embellishments',\n",
       " 'embraced',\n",
       " 'embraces',\n",
       " 'employments',\n",
       " 'enabled',\n",
       " 'enamoured',\n",
       " 'encouraged',\n",
       " 'encouragements',\n",
       " 'encroachments',\n",
       " 'encumbered',\n",
       " 'endeavoring',\n",
       " 'endeavors',\n",
       " 'endeavour',\n",
       " 'endeavoured',\n",
       " 'endeavouring',\n",
       " 'endeavours',\n",
       " 'endowed',\n",
       " 'ends',\n",
       " 'endured',\n",
       " 'enfeebled',\n",
       " 'enforcing',\n",
       " 'engagements',\n",
       " 'england',\n",
       " 'enjoyed',\n",
       " 'enjoyments',\n",
       " 'enquired',\n",
       " 'enquiries',\n",
       " 'enquiring',\n",
       " 'ensued',\n",
       " 'ensured',\n",
       " 'entered',\n",
       " 'entertained',\n",
       " 'entitled',\n",
       " 'entreated',\n",
       " 'entreaties',\n",
       " 'entrusted',\n",
       " 'equalled',\n",
       " 'equals',\n",
       " 'erred',\n",
       " 'errors',\n",
       " 'escaped',\n",
       " 'esq',\n",
       " 'establishing',\n",
       " 'esteemed',\n",
       " 'esteeming',\n",
       " 'esteems',\n",
       " 'estimating',\n",
       " 'estranged',\n",
       " 'evenings',\n",
       " 'events',\n",
       " 'evils',\n",
       " 'examined',\n",
       " 'exceeded',\n",
       " 'excellencies',\n",
       " 'exchanged',\n",
       " 'exclaimed',\n",
       " 'exclamations',\n",
       " 'excused',\n",
       " 'excuses',\n",
       " 'exercised',\n",
       " 'exercising',\n",
       " 'exerted',\n",
       " 'exertions',\n",
       " 'exeter',\n",
       " 'exhilarated',\n",
       " 'existed',\n",
       " 'expectations',\n",
       " 'expected',\n",
       " 'expecting',\n",
       " 'expects',\n",
       " 'expenses',\n",
       " 'experiencing',\n",
       " 'explained',\n",
       " 'explanations',\n",
       " 'expressing',\n",
       " 'expressions',\n",
       " 'extolling',\n",
       " 'extorted',\n",
       " 'extorting',\n",
       " 'extremest',\n",
       " 'eyeing',\n",
       " 'eyes',\n",
       " 'faces',\n",
       " 'facts',\n",
       " 'failed',\n",
       " 'falls',\n",
       " 'familiarized',\n",
       " 'families',\n",
       " 'fancying',\n",
       " 'fates',\n",
       " 'fatigued',\n",
       " 'fatigues',\n",
       " 'faults',\n",
       " 'favour',\n",
       " 'favourable',\n",
       " 'favourite',\n",
       " 'favourites',\n",
       " 'fearing',\n",
       " 'fears',\n",
       " 'features',\n",
       " 'feelings',\n",
       " 'feels',\n",
       " 'feet',\n",
       " 'felicitations',\n",
       " 'females',\n",
       " 'ferrars',\n",
       " 'fetches',\n",
       " 'fettered',\n",
       " 'finds',\n",
       " 'finest',\n",
       " 'fingers',\n",
       " 'flattered',\n",
       " 'flatteries',\n",
       " 'flowed',\n",
       " 'fluctuating',\n",
       " 'flushed',\n",
       " 'foibles',\n",
       " 'followed',\n",
       " 'follows',\n",
       " 'fond',\n",
       " 'footsteps',\n",
       " 'forebodings',\n",
       " 'foreplanned',\n",
       " 'foresaw',\n",
       " 'foreseeing',\n",
       " 'foreseen',\n",
       " 'forfeited',\n",
       " 'forfeiting',\n",
       " 'forgave',\n",
       " 'forgiven',\n",
       " 'forms',\n",
       " 'forsaking',\n",
       " 'fortunes',\n",
       " 'forwarded',\n",
       " 'foundations',\n",
       " 'founded',\n",
       " 'fowls',\n",
       " 'friendliest',\n",
       " 'friends',\n",
       " 'frightens',\n",
       " 'froid',\n",
       " 'frosts',\n",
       " 'fulfil',\n",
       " 'fulfilled',\n",
       " 'fullest',\n",
       " 'gained',\n",
       " 'gales',\n",
       " 'gardens',\n",
       " 'garrets',\n",
       " 'gates',\n",
       " 'gathered',\n",
       " 'generations',\n",
       " 'gentlemen',\n",
       " 'gigs',\n",
       " 'gilberts',\n",
       " 'girls',\n",
       " 'gives',\n",
       " 'glances',\n",
       " 'gloried',\n",
       " 'gloves',\n",
       " 'godby',\n",
       " 'goings',\n",
       " 'goodby',\n",
       " 'governed',\n",
       " 'gowns',\n",
       " 'graces',\n",
       " 'grandmothers',\n",
       " 'granted',\n",
       " 'greatest',\n",
       " 'grieves',\n",
       " 'grows',\n",
       " 'guardians',\n",
       " 'guessed',\n",
       " 'guests',\n",
       " 'guided',\n",
       " 'guineas',\n",
       " 'habits',\n",
       " 'hallooing',\n",
       " 'hands',\n",
       " 'handsomer',\n",
       " 'handsomest',\n",
       " 'hang',\n",
       " 'hanover',\n",
       " 'happened',\n",
       " 'happens',\n",
       " 'hardened',\n",
       " 'hardships',\n",
       " 'harley',\n",
       " 'has',\n",
       " 'hastened',\n",
       " 'hastening',\n",
       " 'hated',\n",
       " 'hates',\n",
       " 'hating',\n",
       " 'having',\n",
       " 'hazarded',\n",
       " 'hazarding',\n",
       " 'heads',\n",
       " 'heard',\n",
       " 'hears',\n",
       " 'heightened',\n",
       " 'heightening',\n",
       " 'heights',\n",
       " 'heirs',\n",
       " 'held',\n",
       " 'hens',\n",
       " 'henshawe',\n",
       " 'hesitated',\n",
       " 'hiding',\n",
       " 'hills',\n",
       " 'hinted',\n",
       " 'hints',\n",
       " 'hoarded',\n",
       " 'holborn',\n",
       " 'holburn',\n",
       " 'holds',\n",
       " 'holidays',\n",
       " 'homes',\n",
       " 'honeysuckles',\n",
       " 'honiton',\n",
       " 'honour',\n",
       " 'honourable',\n",
       " 'honourably',\n",
       " 'honoured',\n",
       " 'honours',\n",
       " 'hopes',\n",
       " 'hoping',\n",
       " 'horrors',\n",
       " 'horses',\n",
       " 'hours',\n",
       " 'houses',\n",
       " 'howsever',\n",
       " 'humbled',\n",
       " 'humiliations',\n",
       " 'humored',\n",
       " 'humoured',\n",
       " 'humouring',\n",
       " 'hunted',\n",
       " 'hunters',\n",
       " 'hunts',\n",
       " 'hurrying',\n",
       " 'husbands',\n",
       " 'huswifes',\n",
       " 'ideas',\n",
       " 'idled',\n",
       " 'idolized',\n",
       " 'ii',\n",
       " 'imaginations',\n",
       " 'imagined',\n",
       " 'imagining',\n",
       " 'imbibed',\n",
       " 'immoveable',\n",
       " 'imparted',\n",
       " 'imperfections',\n",
       " 'implied',\n",
       " 'implies',\n",
       " 'impoverished',\n",
       " 'impoverishing',\n",
       " 'improved',\n",
       " 'improvements',\n",
       " 'imputed',\n",
       " 'inclinations',\n",
       " 'inclined',\n",
       " 'inclosing',\n",
       " 'including',\n",
       " 'incommoded',\n",
       " 'inconveniences',\n",
       " 'increased',\n",
       " 'incurred',\n",
       " 'incurring',\n",
       " 'indulged',\n",
       " 'infants',\n",
       " 'inflicted',\n",
       " 'inflicting',\n",
       " 'influenced',\n",
       " 'inforce',\n",
       " 'inforced',\n",
       " 'informing',\n",
       " 'inhabitants',\n",
       " 'inhabiting',\n",
       " 'inheriting',\n",
       " 'injuries',\n",
       " 'inquired',\n",
       " 'inquiries',\n",
       " 'insinuations',\n",
       " 'insisted',\n",
       " 'installed',\n",
       " 'instigated',\n",
       " 'instructions',\n",
       " 'insulted',\n",
       " 'intends',\n",
       " 'intentions',\n",
       " 'intents',\n",
       " 'interests',\n",
       " 'interposed',\n",
       " 'interspersed',\n",
       " 'intervals',\n",
       " 'interviews',\n",
       " 'intimated',\n",
       " 'introduced',\n",
       " 'introducing',\n",
       " 'intruded',\n",
       " 'invented',\n",
       " 'inventing',\n",
       " 'invitations',\n",
       " 'invited',\n",
       " 'irritated',\n",
       " 'irritates',\n",
       " 'issued',\n",
       " 'jealousies',\n",
       " 'jenning',\n",
       " 'jennings',\n",
       " 'jewels',\n",
       " 'jilting',\n",
       " 'joined',\n",
       " 'joked',\n",
       " 'jokes',\n",
       " 'joking',\n",
       " 'joys',\n",
       " 'judged',\n",
       " 'judging',\n",
       " 'judgments',\n",
       " 'jumbled',\n",
       " 'justified',\n",
       " 'keeps',\n",
       " 'keys',\n",
       " 'kicked',\n",
       " 'kinder',\n",
       " 'kindest',\n",
       " 'kingham',\n",
       " 'kissed',\n",
       " 'kisses',\n",
       " 'knees',\n",
       " 'knives',\n",
       " 'knows',\n",
       " 'laboured',\n",
       " 'lamentations',\n",
       " 'lamps',\n",
       " 'lanes',\n",
       " 'languages',\n",
       " 'larger',\n",
       " 'largest',\n",
       " 'lasted',\n",
       " 'laughed',\n",
       " 'laughs',\n",
       " 'leagued',\n",
       " 'legacies',\n",
       " 'lengthened',\n",
       " 'lengths',\n",
       " 'lessened',\n",
       " 'lessening',\n",
       " 'letters',\n",
       " 'letting',\n",
       " 'lies',\n",
       " 'lifted',\n",
       " 'lightened',\n",
       " 'liked',\n",
       " 'likes',\n",
       " 'limbs',\n",
       " 'limits',\n",
       " 'lines',\n",
       " 'lingered',\n",
       " 'lingering',\n",
       " 'lips',\n",
       " 'listened',\n",
       " 'lives',\n",
       " 'livings',\n",
       " 'll',\n",
       " 'lodges',\n",
       " 'loitered',\n",
       " 'lombardy',\n",
       " 'london',\n",
       " 'longed',\n",
       " 'longest',\n",
       " 'longstaple',\n",
       " 'looked',\n",
       " 'looks',\n",
       " 'loved',\n",
       " 'lovers',\n",
       " 'loves',\n",
       " 'lowered',\n",
       " 'lurking',\n",
       " 'magna',\n",
       " 'maids',\n",
       " 'maintained',\n",
       " 'makes',\n",
       " 'mama',\n",
       " 'managed',\n",
       " 'marlborough',\n",
       " 'marriages',\n",
       " 'marries',\n",
       " 'matters',\n",
       " 'maxims',\n",
       " 'meadows',\n",
       " 'meals',\n",
       " 'means',\n",
       " 'meantime',\n",
       " 'measures',\n",
       " 'medicines',\n",
       " 'meditated',\n",
       " 'meditations',\n",
       " 'meetings',\n",
       " 'mentioned',\n",
       " 'mentioning',\n",
       " 'merest',\n",
       " 'merits',\n",
       " 'merrier',\n",
       " 'messages',\n",
       " 'middleton',\n",
       " 'middletons',\n",
       " 'militated',\n",
       " 'minds',\n",
       " 'minutes',\n",
       " 'misapplied',\n",
       " 'misinformed',\n",
       " 'missed',\n",
       " 'misses',\n",
       " 'mistakes',\n",
       " 'mixing',\n",
       " 'modestest',\n",
       " 'mohrs',\n",
       " 'moments',\n",
       " 'months',\n",
       " 'mosquitoes',\n",
       " 'mothers',\n",
       " 'motives',\n",
       " 'moved',\n",
       " 'murmurings',\n",
       " 'muttered',\n",
       " 'nabobs',\n",
       " 'named',\n",
       " 'names',\n",
       " 'natured',\n",
       " 'nearer',\n",
       " 'needed',\n",
       " 'neglected',\n",
       " 'neighbour',\n",
       " 'neighbourhood',\n",
       " 'neighbouring',\n",
       " 'neighbourly',\n",
       " 'neighbours',\n",
       " 'nerves',\n",
       " 'nests',\n",
       " 'nettles',\n",
       " 'newer',\n",
       " 'newspapers',\n",
       " 'nicest',\n",
       " 'nieces',\n",
       " 'nipped',\n",
       " 'nodded',\n",
       " 'nods',\n",
       " 'noisier',\n",
       " 'notes',\n",
       " 'noticed',\n",
       " 'noticing',\n",
       " 'notions',\n",
       " 'nt',\n",
       " 'nurses',\n",
       " 'obeyed',\n",
       " 'objected',\n",
       " 'objections',\n",
       " 'objects',\n",
       " 'obligations',\n",
       " 'observations',\n",
       " 'observed',\n",
       " 'obstacles',\n",
       " 'obstructed',\n",
       " 'obtained',\n",
       " 'obtaining',\n",
       " 'obviated',\n",
       " 'obviating',\n",
       " 'occasioned',\n",
       " 'occasions',\n",
       " 'occupations',\n",
       " 'occupied',\n",
       " 'occurred',\n",
       " 'oddest',\n",
       " 'offence',\n",
       " 'offences',\n",
       " 'offending',\n",
       " 'offered',\n",
       " 'offices',\n",
       " 'oftener',\n",
       " 'oftenest',\n",
       " 'oldest',\n",
       " 'olives',\n",
       " 'omitted',\n",
       " 'ones',\n",
       " 'opened',\n",
       " 'opinions',\n",
       " 'opportunities',\n",
       " 'ordained',\n",
       " 'orders',\n",
       " 'originated',\n",
       " 'ornamented',\n",
       " 'ornaments',\n",
       " 'others',\n",
       " 'outdone',\n",
       " ...]"
      ]
     },
     "execution_count": 10,
     "metadata": {},
     "output_type": "execute_result"
    }
   ],
   "source": [
    "unusual_words(nltk.corpus.gutenberg.words('austen-sense.txt'))"
   ]
  },
  {
   "cell_type": "code",
   "execution_count": 11,
   "metadata": {},
   "outputs": [
    {
     "data": {
      "text/plain": [
       "True"
      ]
     },
     "execution_count": 11,
     "metadata": {},
     "output_type": "execute_result"
    }
   ],
   "source": [
    "'accept' in english_vocab"
   ]
  },
  {
   "cell_type": "code",
   "execution_count": 12,
   "metadata": {},
   "outputs": [
    {
     "data": {
      "text/plain": [
       "True"
      ]
     },
     "execution_count": 12,
     "metadata": {},
     "output_type": "execute_result"
    }
   ],
   "source": [
    "'abridge' in english_vocab"
   ]
  },
  {
   "cell_type": "code",
   "execution_count": 13,
   "metadata": {},
   "outputs": [
    {
     "data": {
      "text/plain": [
       "True"
      ]
     },
     "execution_count": 13,
     "metadata": {},
     "output_type": "execute_result"
    }
   ],
   "source": [
    "\"accompany\" in english_vocab"
   ]
  },
  {
   "cell_type": "code",
   "execution_count": 14,
   "metadata": {},
   "outputs": [
    {
     "data": {
      "text/plain": [
       "['aaaaaaaaaaaaaaaaa',\n",
       " 'aaahhhh',\n",
       " 'abortions',\n",
       " 'abou',\n",
       " 'abourted',\n",
       " 'abs',\n",
       " 'ack',\n",
       " 'acros',\n",
       " 'actualy',\n",
       " 'adams',\n",
       " 'adds',\n",
       " 'adduser',\n",
       " 'adjusts',\n",
       " 'adoted',\n",
       " 'adreniline',\n",
       " 'ads',\n",
       " 'adults',\n",
       " 'afe',\n",
       " 'affairs',\n",
       " 'affari',\n",
       " 'affects',\n",
       " 'afk',\n",
       " 'agaibn',\n",
       " 'ages',\n",
       " 'aggravated',\n",
       " 'agurlwithbigguns',\n",
       " 'ahah',\n",
       " 'ahahah',\n",
       " 'ahahh',\n",
       " 'ahahha',\n",
       " 'ahh',\n",
       " 'ahhah',\n",
       " 'ahhahahaha',\n",
       " 'ahhh',\n",
       " 'ahhhh',\n",
       " 'ahhhhhh',\n",
       " 'ahhhhhhhhhhhhhh',\n",
       " 'aiiiiiiiiiiiiiiiiiiiiiiii',\n",
       " 'aiken',\n",
       " 'aime',\n",
       " 'akdt',\n",
       " 'akon',\n",
       " 'akron',\n",
       " 'akst',\n",
       " 'aligator',\n",
       " 'allergies',\n",
       " 'allo',\n",
       " 'allowed',\n",
       " 'aloha',\n",
       " 'alohaaa',\n",
       " 'alohas',\n",
       " 'alot',\n",
       " 'alotta',\n",
       " 'alternatives',\n",
       " 'alterz',\n",
       " 'alwys',\n",
       " 'alzheimers',\n",
       " 'amazingness',\n",
       " 'americans',\n",
       " 'anithing',\n",
       " 'ans',\n",
       " 'answering',\n",
       " 'answers',\n",
       " 'antidepressants',\n",
       " 'anygirl',\n",
       " 'anymore',\n",
       " 'anythin',\n",
       " 'anytime',\n",
       " 'anyyyyyyyyyyyyyyyyy',\n",
       " 'aok',\n",
       " 'apoligize',\n",
       " 'appearently',\n",
       " 'appears',\n",
       " 'applaudes',\n",
       " 'appleton',\n",
       " 'appologise',\n",
       " 'appologize',\n",
       " 'aqwesome',\n",
       " 'arggghhh',\n",
       " 'argh',\n",
       " 'armtnpeat',\n",
       " 'arrested',\n",
       " 'arrived',\n",
       " 'arround',\n",
       " 'asked',\n",
       " 'askin',\n",
       " 'asking',\n",
       " 'asks',\n",
       " 'asl',\n",
       " 'asnwer',\n",
       " 'asses',\n",
       " 'asshole',\n",
       " 'assholes',\n",
       " 'asss',\n",
       " 'assumes',\n",
       " 'aterry',\n",
       " 'atl',\n",
       " 'attempted',\n",
       " 'attracted',\n",
       " 'aussies',\n",
       " 'awesomee',\n",
       " 'awesomes',\n",
       " 'awrighty',\n",
       " 'awsome',\n",
       " 'aww',\n",
       " 'awww',\n",
       " 'awwww',\n",
       " 'awwwwww',\n",
       " 'awwwwwww',\n",
       " 'awwwwwwwwww',\n",
       " 'aynawy',\n",
       " 'az',\n",
       " 'azerbaijan',\n",
       " 'baaaaalllllllliiiiiiinnnnnnnnnnn',\n",
       " 'babay',\n",
       " 'babblein',\n",
       " 'babes',\n",
       " 'babies',\n",
       " 'babiess',\n",
       " 'babycakeses',\n",
       " 'bachelorette',\n",
       " 'backatchya',\n",
       " 'backfrontsidewaysandallaroundtheworld',\n",
       " 'backroom',\n",
       " 'bacl',\n",
       " 'bagels',\n",
       " 'bahahahaa',\n",
       " 'bak',\n",
       " 'balad',\n",
       " 'balck',\n",
       " 'ballin',\n",
       " 'balls',\n",
       " 'bandito',\n",
       " 'bandsaw',\n",
       " 'banjoes',\n",
       " 'banned',\n",
       " 'baord',\n",
       " 'barbie',\n",
       " 'barbieee',\n",
       " 'bares',\n",
       " 'barfights',\n",
       " 'barks',\n",
       " 'bbbbbyyyyyyyeeeeeeeee',\n",
       " 'bbiam',\n",
       " 'bbl',\n",
       " 'bbs',\n",
       " 'bc',\n",
       " 'beachhhh',\n",
       " 'beams',\n",
       " 'beans',\n",
       " 'bears',\n",
       " 'beatles',\n",
       " 'beats',\n",
       " 'beattles',\n",
       " 'beckley',\n",
       " 'beeeeehave',\n",
       " 'beeehave',\n",
       " 'bein',\n",
       " 'beleive',\n",
       " 'belongings',\n",
       " 'benz',\n",
       " 'beuty',\n",
       " 'bf',\n",
       " 'bi',\n",
       " 'biatch',\n",
       " 'biebsa',\n",
       " 'bied',\n",
       " 'bigest',\n",
       " 'biiiatch',\n",
       " 'biiiiiitch',\n",
       " 'bikes',\n",
       " 'bio',\n",
       " 'biographys',\n",
       " 'birdgang',\n",
       " 'birfday',\n",
       " 'bishes',\n",
       " 'bitches',\n",
       " 'bitdh',\n",
       " 'bites',\n",
       " 'biyatch',\n",
       " 'bj',\n",
       " 'blankie',\n",
       " 'blazed',\n",
       " 'blech',\n",
       " 'blessings',\n",
       " 'blew',\n",
       " 'bloe',\n",
       " 'blondes',\n",
       " 'bloooooooood',\n",
       " 'bloooooooooood',\n",
       " 'bloooooooooooood',\n",
       " 'blowjob',\n",
       " 'bodies',\n",
       " 'boed',\n",
       " 'boght',\n",
       " 'boi',\n",
       " 'boing',\n",
       " 'boinked',\n",
       " 'bones',\n",
       " 'boning',\n",
       " 'booboo',\n",
       " 'boobs',\n",
       " 'books',\n",
       " 'boooooooooooglyyyyyy',\n",
       " 'bootay',\n",
       " 'booyah',\n",
       " 'borat',\n",
       " 'bored',\n",
       " 'bothering',\n",
       " 'bounced',\n",
       " 'bouncers',\n",
       " 'bouts',\n",
       " 'boyfriend',\n",
       " 'boys',\n",
       " 'boyz',\n",
       " 'brady',\n",
       " 'brakes',\n",
       " 'brb',\n",
       " 'brbbb',\n",
       " 'breaks',\n",
       " 'brightened',\n",
       " 'brings',\n",
       " 'bro',\n",
       " 'brooklyn',\n",
       " 'brothers',\n",
       " 'brrrrrrr',\n",
       " 'bruises',\n",
       " 'brwn',\n",
       " 'btw',\n",
       " 'bucks',\n",
       " 'buddyyyyyy',\n",
       " 'bugs',\n",
       " 'buh',\n",
       " 'builds',\n",
       " 'bulls',\n",
       " 'bumber',\n",
       " 'bumped',\n",
       " 'burger',\n",
       " 'burito',\n",
       " 'burns',\n",
       " 'burpin',\n",
       " 'burps',\n",
       " 'burried',\n",
       " 'burryed',\n",
       " 'buses',\n",
       " 'buying',\n",
       " 'bwahahahahahahahahahaha',\n",
       " 'bwhaha',\n",
       " 'byb',\n",
       " 'byeee',\n",
       " 'byeeee',\n",
       " 'byeeeeeeee',\n",
       " 'byeeeeeeeeeeeee',\n",
       " 'byes',\n",
       " 'caan',\n",
       " 'caint',\n",
       " 'caiuse',\n",
       " 'cakes',\n",
       " 'cali',\n",
       " 'called',\n",
       " 'callifornia',\n",
       " 'calls',\n",
       " 'cams',\n",
       " 'canadaian',\n",
       " 'canadain',\n",
       " 'canehda',\n",
       " 'caps',\n",
       " 'cardinals',\n",
       " 'cardnials',\n",
       " 'cards',\n",
       " 'cares',\n",
       " 'cars',\n",
       " 'casts',\n",
       " 'catches',\n",
       " 'categories',\n",
       " 'catterick',\n",
       " 'caused',\n",
       " 'cdt',\n",
       " 'cepn',\n",
       " 'cereals',\n",
       " 'chamillionaire',\n",
       " 'changed',\n",
       " 'changing',\n",
       " 'chanop',\n",
       " 'chanowner',\n",
       " 'chathide',\n",
       " 'chatland',\n",
       " 'chatr',\n",
       " 'chatroom',\n",
       " 'chats',\n",
       " 'chatt',\n",
       " 'chatted',\n",
       " 'chattin',\n",
       " 'chcken',\n",
       " 'cheaking',\n",
       " 'checkin',\n",
       " 'checking',\n",
       " 'checks',\n",
       " 'cheeeez',\n",
       " 'cheers',\n",
       " 'cheking',\n",
       " 'chews',\n",
       " 'chica',\n",
       " 'chickens',\n",
       " 'chics',\n",
       " 'chik',\n",
       " 'children',\n",
       " 'chineese',\n",
       " 'chingy',\n",
       " 'choc',\n",
       " 'chocha',\n",
       " 'chococake',\n",
       " 'choices',\n",
       " 'chokes',\n",
       " 'chops',\n",
       " 'chp',\n",
       " 'chuckles',\n",
       " 'chunks',\n",
       " 'churches',\n",
       " 'ciao',\n",
       " 'ciara',\n",
       " 'cigars',\n",
       " 'ciggareets',\n",
       " 'ck',\n",
       " 'claws',\n",
       " 'cleared',\n",
       " 'cleveland',\n",
       " 'clicked',\n",
       " 'clients',\n",
       " 'clinicals',\n",
       " 'clooney',\n",
       " 'closes',\n",
       " 'clubs',\n",
       " 'cmon',\n",
       " 'cnnecticut',\n",
       " 'co',\n",
       " 'coconuts',\n",
       " 'coem',\n",
       " 'coffe',\n",
       " 'coggieeee',\n",
       " 'com',\n",
       " 'combo',\n",
       " 'comenting',\n",
       " 'comin',\n",
       " 'commanded',\n",
       " 'comments',\n",
       " 'comon',\n",
       " 'comp',\n",
       " 'complains',\n",
       " 'completly',\n",
       " 'compliments',\n",
       " 'compoud',\n",
       " 'comprende',\n",
       " 'comps',\n",
       " 'computers',\n",
       " 'computor',\n",
       " 'concernin',\n",
       " 'confessed',\n",
       " 'confusing',\n",
       " 'confusting',\n",
       " 'congrat',\n",
       " 'congrats',\n",
       " 'connecticutt',\n",
       " 'constituents',\n",
       " 'contast',\n",
       " 'contemplating',\n",
       " 'controll',\n",
       " 'controllers',\n",
       " 'controllin',\n",
       " 'controlling',\n",
       " 'convo',\n",
       " 'conway',\n",
       " 'cookie',\n",
       " 'cookies',\n",
       " 'coolcat',\n",
       " 'coonarsee',\n",
       " 'cooooooooookiiiiiiiiiiiieeeeeeeeeeee',\n",
       " 'copone',\n",
       " 'cops',\n",
       " 'costumes',\n",
       " 'cottons',\n",
       " 'coudl',\n",
       " 'coughed',\n",
       " 'coughs',\n",
       " 'cougs',\n",
       " 'couldnt',\n",
       " 'counts',\n",
       " 'coupons',\n",
       " 'courst',\n",
       " 'covers',\n",
       " 'coworkers',\n",
       " 'cpr',\n",
       " 'cramps',\n",
       " 'crashed',\n",
       " 'creme',\n",
       " 'cries',\n",
       " 'cripos',\n",
       " 'crosses',\n",
       " 'csi',\n",
       " 'cst',\n",
       " 'ct',\n",
       " 'ctrl',\n",
       " 'cuddlicious',\n",
       " 'cuffed',\n",
       " 'cums',\n",
       " 'cuppers',\n",
       " 'curls',\n",
       " 'currious',\n",
       " 'cus',\n",
       " 'cusion',\n",
       " 'cutes',\n",
       " 'cuz',\n",
       " 'cya',\n",
       " 'cyas',\n",
       " 'cyber',\n",
       " 'czeching',\n",
       " 'daamn',\n",
       " 'dahlin',\n",
       " 'damnit',\n",
       " 'dances',\n",
       " 'danes',\n",
       " 'dangit',\n",
       " 'darlin',\n",
       " 'darlings',\n",
       " 'darwin',\n",
       " 'dat',\n",
       " 'dated',\n",
       " 'daughters',\n",
       " 'daveeee',\n",
       " 'davis',\n",
       " 'dawg',\n",
       " 'dawnstar',\n",
       " 'dayum',\n",
       " 'dd',\n",
       " 'deals',\n",
       " 'deaths',\n",
       " 'decades',\n",
       " 'deceived',\n",
       " 'deciding',\n",
       " 'declaw',\n",
       " 'declawed',\n",
       " 'deeper',\n",
       " 'definately',\n",
       " 'definitley',\n",
       " 'defragging',\n",
       " 'defrags',\n",
       " 'degrees',\n",
       " 'deleware',\n",
       " 'delivers',\n",
       " 'dem',\n",
       " 'democrats',\n",
       " 'denver',\n",
       " 'denzel',\n",
       " 'deop',\n",
       " 'depeche',\n",
       " 'depends',\n",
       " 'descriminate',\n",
       " 'despie',\n",
       " 'despises',\n",
       " 'detroit',\n",
       " 'didnts',\n",
       " 'died',\n",
       " 'dies',\n",
       " 'diggin',\n",
       " 'dik',\n",
       " 'dipset',\n",
       " 'dirrrrty',\n",
       " 'diseast',\n",
       " 'disocvered',\n",
       " 'dissing',\n",
       " 'divorced',\n",
       " 'dj',\n",
       " 'dl',\n",
       " 'dman',\n",
       " 'docs',\n",
       " 'doggies',\n",
       " 'doin',\n",
       " 'dojn',\n",
       " 'dokey',\n",
       " 'dokken',\n",
       " 'dollars',\n",
       " 'dolls',\n",
       " 'donno',\n",
       " 'dontcha',\n",
       " 'donuts',\n",
       " 'dood',\n",
       " 'doody',\n",
       " 'doors',\n",
       " 'dork',\n",
       " 'dotn',\n",
       " 'doublewide',\n",
       " 'douchebag',\n",
       " 'doupt',\n",
       " 'downloaded',\n",
       " 'downloading',\n",
       " 'downnnnnn',\n",
       " 'downs',\n",
       " 'dr',\n",
       " 'drags',\n",
       " 'dratts',\n",
       " 'dreaded',\n",
       " 'dreammm',\n",
       " 'dreams',\n",
       " 'drinks',\n",
       " 'driveby',\n",
       " 'drivers',\n",
       " 'drivin',\n",
       " 'drools',\n",
       " 'dropped',\n",
       " 'drops',\n",
       " 'drugs',\n",
       " 'dryer',\n",
       " 'dsklgjsdk',\n",
       " 'du',\n",
       " 'duh',\n",
       " 'dumbass',\n",
       " 'dummmm',\n",
       " 'dunkin',\n",
       " 'dunno',\n",
       " 'dvd',\n",
       " 'dya',\n",
       " 'dyed',\n",
       " 'dyslexic',\n",
       " 'earplugs',\n",
       " 'earrings',\n",
       " 'ears',\n",
       " 'eay',\n",
       " 'ebay',\n",
       " 'edgewood',\n",
       " 'edmonton',\n",
       " 'eeeeeeeeewwwwwwww',\n",
       " 'eeeek',\n",
       " 'eeek',\n",
       " 'eeekk',\n",
       " 'eeewww',\n",
       " 'eeewwwwww',\n",
       " 'eeww',\n",
       " 'eggs',\n",
       " 'ehh',\n",
       " 'eitther',\n",
       " 'elbows',\n",
       " 'elected',\n",
       " 'elections',\n",
       " 'elev',\n",
       " 'ello',\n",
       " 'elo',\n",
       " 'email',\n",
       " 'eng',\n",
       " 'england',\n",
       " 'enjoys',\n",
       " 'enters',\n",
       " 'entitled',\n",
       " 'enuf',\n",
       " 'enuff',\n",
       " 'ep',\n",
       " 'erics',\n",
       " 'erm',\n",
       " 'eroticaust',\n",
       " 'errrrr',\n",
       " 'escaped',\n",
       " 'est',\n",
       " 'este',\n",
       " 'estefan',\n",
       " 'estra',\n",
       " 'eticket',\n",
       " 'euphamisms',\n",
       " 'evah',\n",
       " 'everbody',\n",
       " 'everone',\n",
       " 'evertonr',\n",
       " 'everytime',\n",
       " 'ewedding',\n",
       " 'eww',\n",
       " 'ewww',\n",
       " 'ewwww',\n",
       " 'ewwwww',\n",
       " 'ewwwwww',\n",
       " 'ewwwwwww',\n",
       " 'exchanged',\n",
       " 'exchanging',\n",
       " 'excitin',\n",
       " 'excuuuuuuse',\n",
       " 'experimenting',\n",
       " 'extensions',\n",
       " 'extras',\n",
       " 'exwife',\n",
       " 'eyes',\n",
       " 'facilitated',\n",
       " 'fails',\n",
       " 'fairbanks',\n",
       " 'fallout',\n",
       " 'falls',\n",
       " 'fallz',\n",
       " 'farms',\n",
       " 'fart',\n",
       " 'farting',\n",
       " 'farts',\n",
       " 'fav',\n",
       " 'fawk',\n",
       " 'fawked',\n",
       " 'fawker',\n",
       " 'fck',\n",
       " 'febe',\n",
       " 'feeds',\n",
       " 'feelings',\n",
       " 'feels',\n",
       " 'feet',\n",
       " 'fella',\n",
       " 'fellows',\n",
       " 'females',\n",
       " 'femine',\n",
       " 'fer',\n",
       " 'fergalicious',\n",
       " 'fergie',\n",
       " 'fetterline',\n",
       " 'fettish',\n",
       " 'ff',\n",
       " 'fiddles',\n",
       " 'files',\n",
       " 'fillin',\n",
       " 'finds',\n",
       " 'finers',\n",
       " 'fingers',\n",
       " 'firs',\n",
       " 'fishercat',\n",
       " 'fishercats',\n",
       " 'fishers',\n",
       " 'fishin',\n",
       " 'fits',\n",
       " 'fkajslf',\n",
       " 'fl',\n",
       " 'flames',\n",
       " 'flashed',\n",
       " 'flattered',\n",
       " 'flatts',\n",
       " 'flavors',\n",
       " 'flippin',\n",
       " 'flirts',\n",
       " 'fliuds',\n",
       " 'flops',\n",
       " 'fluids',\n",
       " 'fock',\n",
       " 'foley',\n",
       " 'folks',\n",
       " 'fongul',\n",
       " 'foothills',\n",
       " 'footprints',\n",
       " 'foreplay',\n",
       " 'forgets',\n",
       " 'forwads',\n",
       " 'foxes',\n",
       " 'foxwoods',\n",
       " 'fractured',\n",
       " 'fragged',\n",
       " 'fraggle',\n",
       " 'frags',\n",
       " 'freaing',\n",
       " 'freaked',\n",
       " 'freakin',\n",
       " 'freaking',\n",
       " 'freaks',\n",
       " 'freeeezinggg',\n",
       " 'freeezinggggg',\n",
       " 'freesbee',\n",
       " 'freind',\n",
       " 'frenchkiss',\n",
       " 'friends',\n",
       " 'fries',\n",
       " 'frm',\n",
       " 'froogle',\n",
       " 'frst',\n",
       " 'frustrating',\n",
       " 'ft',\n",
       " 'fuck',\n",
       " 'fucker',\n",
       " 'fuckin',\n",
       " 'fucking',\n",
       " 'fucks',\n",
       " 'fuddahnut',\n",
       " 'fuked',\n",
       " 'fulfilling',\n",
       " 'futurama',\n",
       " 'fwd',\n",
       " 'gaaaaaaay',\n",
       " 'gagas',\n",
       " 'gags',\n",
       " 'gained',\n",
       " 'gals',\n",
       " 'gamefly',\n",
       " 'games',\n",
       " 'garciae',\n",
       " 'gaspppp',\n",
       " 'gawd',\n",
       " 'gayoholic',\n",
       " 'gays',\n",
       " 'geeks',\n",
       " 'gees',\n",
       " 'geesh',\n",
       " 'geeshh',\n",
       " 'geeshhh',\n",
       " 'geessh',\n",
       " 'geeze',\n",
       " 'gente',\n",
       " 'gentlemen',\n",
       " 'gets',\n",
       " 'gettign',\n",
       " 'gettin',\n",
       " 'gettysburg',\n",
       " 'gezzz',\n",
       " 'gf',\n",
       " 'gguyyyzzzz',\n",
       " 'ghet',\n",
       " 'giggles',\n",
       " 'girlfriend',\n",
       " 'girls',\n",
       " 'giva',\n",
       " 'gives',\n",
       " 'givs',\n",
       " 'glitches',\n",
       " 'gm',\n",
       " 'gn',\n",
       " 'gng',\n",
       " 'goddamn',\n",
       " 'goin',\n",
       " 'goneee',\n",
       " 'gonna',\n",
       " 'goodbye',\n",
       " 'goodie',\n",
       " 'goodnight',\n",
       " 'goodnite',\n",
       " 'google',\n",
       " 'gooo',\n",
       " 'goooooo',\n",
       " 'gorda',\n",
       " 'gotaa',\n",
       " 'goths',\n",
       " 'gotta',\n",
       " 'gottsa',\n",
       " 'grabs',\n",
       " 'gracemont',\n",
       " 'grea',\n",
       " 'greetings',\n",
       " 'gret',\n",
       " 'grettings',\n",
       " 'grilfriend',\n",
       " 'grins',\n",
       " 'gritt',\n",
       " 'grlz',\n",
       " 'groups',\n",
       " 'grrl',\n",
       " 'grrr',\n",
       " 'grrrrrring',\n",
       " 'grrrrrrrr',\n",
       " 'grrrrrrrrr',\n",
       " 'grrrrrrrrrrrrrrrrr',\n",
       " 'gs',\n",
       " 'gtg',\n",
       " 'guns',\n",
       " 'gurlie',\n",
       " 'gurls',\n",
       " 'gurrrrl',\n",
       " 'guts',\n",
       " 'guys',\n",
       " 'guyz',\n",
       " 'guyzz',\n",
       " 'haaa',\n",
       " 'hafta',\n",
       " 'haha',\n",
       " 'hahaaa',\n",
       " 'hahaaaa',\n",
       " 'hahah',\n",
       " 'hahaha',\n",
       " 'hahahaa',\n",
       " 'hahahah',\n",
       " 'hahahaha',\n",
       " 'hahahahaaa',\n",
       " 'hahahahahaha',\n",
       " 'hahahahahahaha',\n",
       " 'hahahahahahahahahahahahahahahaha',\n",
       " 'hahahhahah',\n",
       " 'hahhaa',\n",
       " 'hahhahahaha',\n",
       " 'hairs',\n",
       " 'halfa',\n",
       " 'hallo',\n",
       " 'handheld',\n",
       " 'handing',\n",
       " 'hands',\n",
       " 'handyman',\n",
       " 'hang',\n",
       " 'hangin',\n",
       " 'hangs',\n",
       " 'happend',\n",
       " 'happened',\n",
       " 'happens',\n",
       " 'happpy',\n",
       " 'harley',\n",
       " 'hartford',\n",
       " 'has',\n",
       " 'haters',\n",
       " 'hates',\n",
       " 'hav',\n",
       " 'havin',\n",
       " 'having',\n",
       " 'hawaii',\n",
       " 'hawt',\n",
       " 'hb',\n",
       " 'headach',\n",
       " 'headlights',\n",
       " 'heads',\n",
       " 'heard',\n",
       " 'hearin',\n",
       " 'hearthechatters',\n",
       " 'heee',\n",
       " 'heeee',\n",
       " 'heeeey',\n",
       " 'heeheeheeheeheehee',\n",
       " 'heh',\n",
       " 'heheh',\n",
       " 'hehehe',\n",
       " 'hehehee',\n",
       " 'hehehehe',\n",
       " 'hel',\n",
       " 'helloooo',\n",
       " 'hellos',\n",
       " 'helped',\n",
       " 'hendrix',\n",
       " 'heroes',\n",
       " 'hertory',\n",
       " 'hes',\n",
       " 'heya',\n",
       " 'heyheyhey',\n",
       " 'heys',\n",
       " 'heyy',\n",
       " 'heyyy',\n",
       " 'heyyyy',\n",
       " 'heyyyyy',\n",
       " 'heyyyyyy',\n",
       " 'heyyyyyyy',\n",
       " 'heyyyyyyyy',\n",
       " 'heyyyyyyyyy',\n",
       " 'heyyyyyyyyyy',\n",
       " 'heyyyyyyyyyyyyyy',\n",
       " 'hfglhs',\n",
       " 'hgey',\n",
       " 'hgfhgfjgf',\n",
       " 'hhaaaaatttee',\n",
       " 'hheeyy',\n",
       " 'hheeyyy',\n",
       " 'hheeyyyyyyyyyyyyyyyyyyyyyyyyyyyyyyyyyyyyyyyyyyyyyyy',\n",
       " 'hhehe',\n",
       " 'hiding',\n",
       " 'hih',\n",
       " 'hii',\n",
       " 'hiii',\n",
       " 'hiiii',\n",
       " 'hio',\n",
       " 'hiom',\n",
       " 'hissy',\n",
       " 'hits',\n",
       " 'hitting',\n",
       " 'hix',\n",
       " 'hiy',\n",
       " 'hiya',\n",
       " 'hiyas',\n",
       " 'hm',\n",
       " 'hmm',\n",
       " 'hmmm',\n",
       " 'hmmmm',\n",
       " 'hmmmmm',\n",
       " 'hmmmmmmm',\n",
       " 'hmmmmmmmm',\n",
       " 'hmmmmmmmmmm',\n",
       " 'hmph',\n",
       " 'hogs',\n",
       " 'hohohohhohhoo',\n",
       " 'hola',\n",
       " 'holdin',\n",
       " 'holds',\n",
       " 'holocaustyourmom',\n",
       " 'hom',\n",
       " 'homeade',\n",
       " 'homeboys',\n",
       " 'homes',\n",
       " 'homies',\n",
       " 'homophobic',\n",
       " 'hoo',\n",
       " 'hooo',\n",
       " 'hooooo',\n",
       " 'hopin',\n",
       " 'hoping',\n",
       " 'horace',\n",
       " 'horriable',\n",
       " 'horrified',\n",
       " 'hots',\n",
       " 'hott',\n",
       " 'hottie',\n",
       " 'hotties',\n",
       " 'hours',\n",
       " 'houses',\n",
       " 'hows',\n",
       " 'howz',\n",
       " 'hpa',\n",
       " 'hr',\n",
       " 'hrs',\n",
       " 'http',\n",
       " 'hubbys',\n",
       " 'hugggs',\n",
       " 'huggs',\n",
       " 'huggss',\n",
       " 'hugs',\n",
       " 'hugss',\n",
       " 'hugsss',\n",
       " 'hugsssss',\n",
       " 'hugsssssssss',\n",
       " 'hugzzzzzzz',\n",
       " 'humm',\n",
       " 'hummmm',\n",
       " 'humple',\n",
       " 'hunters',\n",
       " 'huskers',\n",
       " 'husteling',\n",
       " 'huuuuuuuuuuuuuuuuuuuuuuuuuuuuuuuuuuugz',\n",
       " 'hx',\n",
       " 'hyy',\n",
       " 'iamahotnip',\n",
       " 'iamahotniplickme',\n",
       " 'iamahotnipwithhotnippics',\n",
       " 'iamahotnipwithpics',\n",
       " 'icky',\n",
       " 'ico',\n",
       " 'idiots',\n",
       " 'idnt',\n",
       " 'ifr',\n",
       " 'ignored',\n",
       " 'ignoring',\n",
       " 'ihavehotnips',\n",
       " 'ii',\n",
       " 'il',\n",
       " 'illin',\n",
       " 'im',\n",
       " 'images',\n",
       " 'imhave',\n",
       " 'imma',\n",
       " 'immersed',\n",
       " 'impaired',\n",
       " 'impared',\n",
       " 'impressed',\n",
       " 'indiantown',\n",
       " 'infor',\n",
       " 'inhales',\n",
       " 'injureis',\n",
       " 'innit',\n",
       " 'innocense',\n",
       " 'insuklting',\n",
       " 'internet',\n",
       " 'intersting',\n",
       " 'invisiable',\n",
       " 'involves',\n",
       " 'irc',\n",
       " 'irl',\n",
       " 'isnt',\n",
       " 'issues',\n",
       " 'italians',\n",
       " 'italy',\n",
       " 'itches',\n",
       " 'items',\n",
       " 'itz',\n",
       " 'ive',\n",
       " 'iz',\n",
       " 'ja',\n",
       " 'jackie',\n",
       " 'jacking',\n",
       " 'jajajaaa',\n",
       " 'jammed',\n",
       " 'jammers',\n",
       " 'jammies',\n",
       " 'jayse',\n",
       " 'jerimiah',\n",
       " 'jerkettes',\n",
       " 'jerketts',\n",
       " 'jerks',\n",
       " 'jeter',\n",
       " 'jk',\n",
       " 'johnson',\n",
       " 'johny',\n",
       " 'joined',\n",
       " 'jokes',\n",
       " 'joking',\n",
       " 'jonesboro',\n",
       " 'jordison',\n",
       " 'joshy',\n",
       " 'jr',\n",
       " 'jrz',\n",
       " 'jto',\n",
       " 'jucilicious',\n",
       " 'judges',\n",
       " 'jujubees',\n",
       " 'jumpin',\n",
       " 'jumps',\n",
       " ...]"
      ]
     },
     "execution_count": 14,
     "metadata": {},
     "output_type": "execute_result"
    }
   ],
   "source": [
    "unusual_words(nltk.corpus.nps_chat.words())"
   ]
  },
  {
   "cell_type": "markdown",
   "metadata": {},
   "source": [
    "**Word corpus probably has the lemma (head/root/steam word)**"
   ]
  },
  {
   "cell_type": "markdown",
   "metadata": {},
   "source": [
    "# (H) Stopwords\n",
    "\n",
    "**This is a high frequency words such as the, to, and also that we sometimes want to filter out of a documents before further processing.**\n",
    "\n",
    "**Stopwords usually have little lexical content, and their presence in a text fails to distinguish it from other texts.**"
   ]
  },
  {
   "cell_type": "code",
   "execution_count": 178,
   "metadata": {},
   "outputs": [
    {
     "name": "stdout",
     "output_type": "stream",
     "text": [
      "['i', 'me', 'my', 'myself', 'we', 'our', 'ours', 'ourselves', 'you', \"you're\", \"you've\", \"you'll\", \"you'd\", 'your', 'yours', 'yourself', 'yourselves', 'he', 'him', 'his', 'himself', 'she', \"she's\", 'her', 'hers', 'herself', 'it', \"it's\", 'its', 'itself', 'they', 'them', 'their', 'theirs', 'themselves', 'what', 'which', 'who', 'whom', 'this', 'that', \"that'll\", 'these', 'those', 'am', 'is', 'are', 'was', 'were', 'be', 'been', 'being', 'have', 'has', 'had', 'having', 'do', 'does', 'did', 'doing', 'a', 'an', 'the', 'and', 'but', 'if', 'or', 'because', 'as', 'until', 'while', 'of', 'at', 'by', 'for', 'with', 'about', 'against', 'between', 'into', 'through', 'during', 'before', 'after', 'above', 'below', 'to', 'from', 'up', 'down', 'in', 'out', 'on', 'off', 'over', 'under', 'again', 'further', 'then', 'once', 'here', 'there', 'when', 'where', 'why', 'how', 'all', 'any', 'both', 'each', 'few', 'more', 'most', 'other', 'some', 'such', 'no', 'nor', 'not', 'only', 'own', 'same', 'so', 'than', 'too', 'very', 's', 't', 'can', 'will', 'just', 'don', \"don't\", 'should', \"should've\", 'now', 'd', 'll', 'm', 'o', 're', 've', 'y', 'ain', 'aren', \"aren't\", 'couldn', \"couldn't\", 'didn', \"didn't\", 'doesn', \"doesn't\", 'hadn', \"hadn't\", 'hasn', \"hasn't\", 'haven', \"haven't\", 'isn', \"isn't\", 'ma', 'mightn', \"mightn't\", 'mustn', \"mustn't\", 'needn', \"needn't\", 'shan', \"shan't\", 'shouldn', \"shouldn't\", 'wasn', \"wasn't\", 'weren', \"weren't\", 'won', \"won't\", 'wouldn', \"wouldn't\"]\n"
     ]
    }
   ],
   "source": [
    "from nltk.corpus import stopwords\n",
    "\n",
    "print(stopwords.words('english'))"
   ]
  },
  {
   "cell_type": "code",
   "execution_count": 16,
   "metadata": {},
   "outputs": [
    {
     "name": "stdout",
     "output_type": "stream",
     "text": [
      "179\n"
     ]
    }
   ],
   "source": [
    "print(len(stopwords.words('english')))"
   ]
  },
  {
   "cell_type": "markdown",
   "metadata": {},
   "source": [
    "**Let's define a function to compute what fraction of words in a text are not in the stop-words list:**"
   ]
  },
  {
   "cell_type": "code",
   "execution_count": 179,
   "metadata": {},
   "outputs": [
    {
     "data": {
      "text/plain": [
       "0.735240435097661"
      ]
     },
     "execution_count": 179,
     "metadata": {},
     "output_type": "execute_result"
    }
   ],
   "source": [
    "def content_fraction(text):\n",
    "    stopwords = nltk.corpus.stopwords.words('english')\n",
    "    content = [w for w in text if w.lower() not in stopwords]\n",
    "    return len(content) / len(text)\n",
    "\n",
    "content_fraction(nltk.corpus.reuters.words())"
   ]
  },
  {
   "cell_type": "markdown",
   "metadata": {},
   "source": [
    "**Thus, with the help of stopwords, we filter out a third of the words of the text.**"
   ]
  },
  {
   "cell_type": "markdown",
   "metadata": {},
   "source": [
    "# (I) Names Corpus\n",
    "\n",
    "**The male and female names are stored in separate files.**\n",
    "\n",
    "**Let's find the names that appear in both files**"
   ]
  },
  {
   "cell_type": "code",
   "execution_count": 180,
   "metadata": {},
   "outputs": [
    {
     "data": {
      "text/plain": [
       "['female.txt', 'male.txt']"
      ]
     },
     "execution_count": 180,
     "metadata": {},
     "output_type": "execute_result"
    }
   ],
   "source": [
    "import nltk\n",
    "names = nltk.corpus.names\n",
    "names.fileids()"
   ]
  },
  {
   "cell_type": "code",
   "execution_count": 181,
   "metadata": {},
   "outputs": [],
   "source": [
    "male_names = names.words('male.txt')\n",
    "female_names = names.words('female.txt')"
   ]
  },
  {
   "cell_type": "code",
   "execution_count": 182,
   "metadata": {},
   "outputs": [
    {
     "data": {
      "text/plain": [
       "{'Abbey',\n",
       " 'Abbie',\n",
       " 'Abby',\n",
       " 'Addie',\n",
       " 'Adrian',\n",
       " 'Adrien',\n",
       " 'Ajay',\n",
       " 'Alex',\n",
       " 'Alexis',\n",
       " 'Alfie',\n",
       " 'Ali',\n",
       " 'Alix',\n",
       " 'Allie',\n",
       " 'Allyn',\n",
       " 'Andie',\n",
       " 'Andrea',\n",
       " 'Andy',\n",
       " 'Angel',\n",
       " 'Angie',\n",
       " 'Ariel',\n",
       " 'Ashley',\n",
       " 'Aubrey',\n",
       " 'Augustine',\n",
       " 'Austin',\n",
       " 'Averil',\n",
       " 'Barrie',\n",
       " 'Barry',\n",
       " 'Beau',\n",
       " 'Bennie',\n",
       " 'Benny',\n",
       " 'Bernie',\n",
       " 'Bert',\n",
       " 'Bertie',\n",
       " 'Bill',\n",
       " 'Billie',\n",
       " 'Billy',\n",
       " 'Blair',\n",
       " 'Blake',\n",
       " 'Bo',\n",
       " 'Bobbie',\n",
       " 'Bobby',\n",
       " 'Brandy',\n",
       " 'Brett',\n",
       " 'Britt',\n",
       " 'Brook',\n",
       " 'Brooke',\n",
       " 'Brooks',\n",
       " 'Bryn',\n",
       " 'Cal',\n",
       " 'Cam',\n",
       " 'Cammy',\n",
       " 'Carey',\n",
       " 'Carlie',\n",
       " 'Carlin',\n",
       " 'Carmine',\n",
       " 'Carroll',\n",
       " 'Cary',\n",
       " 'Caryl',\n",
       " 'Casey',\n",
       " 'Cass',\n",
       " 'Cat',\n",
       " 'Cecil',\n",
       " 'Chad',\n",
       " 'Chris',\n",
       " 'Chrissy',\n",
       " 'Christian',\n",
       " 'Christie',\n",
       " 'Christy',\n",
       " 'Clair',\n",
       " 'Claire',\n",
       " 'Clare',\n",
       " 'Claude',\n",
       " 'Clem',\n",
       " 'Clemmie',\n",
       " 'Cody',\n",
       " 'Connie',\n",
       " 'Constantine',\n",
       " 'Corey',\n",
       " 'Corrie',\n",
       " 'Cory',\n",
       " 'Courtney',\n",
       " 'Cris',\n",
       " 'Daffy',\n",
       " 'Dale',\n",
       " 'Dallas',\n",
       " 'Dana',\n",
       " 'Dani',\n",
       " 'Daniel',\n",
       " 'Dannie',\n",
       " 'Danny',\n",
       " 'Darby',\n",
       " 'Darcy',\n",
       " 'Darryl',\n",
       " 'Daryl',\n",
       " 'Deane',\n",
       " 'Del',\n",
       " 'Dell',\n",
       " 'Demetris',\n",
       " 'Dennie',\n",
       " 'Denny',\n",
       " 'Devin',\n",
       " 'Devon',\n",
       " 'Dion',\n",
       " 'Dionis',\n",
       " 'Dominique',\n",
       " 'Donnie',\n",
       " 'Donny',\n",
       " 'Dorian',\n",
       " 'Dory',\n",
       " 'Drew',\n",
       " 'Eddie',\n",
       " 'Eddy',\n",
       " 'Edie',\n",
       " 'Elisha',\n",
       " 'Emmy',\n",
       " 'Erin',\n",
       " 'Esme',\n",
       " 'Evelyn',\n",
       " 'Felice',\n",
       " 'Fran',\n",
       " 'Francis',\n",
       " 'Frank',\n",
       " 'Frankie',\n",
       " 'Franky',\n",
       " 'Fred',\n",
       " 'Freddie',\n",
       " 'Freddy',\n",
       " 'Gabriel',\n",
       " 'Gabriell',\n",
       " 'Gail',\n",
       " 'Gale',\n",
       " 'Gay',\n",
       " 'Gayle',\n",
       " 'Gene',\n",
       " 'George',\n",
       " 'Georgia',\n",
       " 'Georgie',\n",
       " 'Geri',\n",
       " 'Germaine',\n",
       " 'Gerri',\n",
       " 'Gerry',\n",
       " 'Gill',\n",
       " 'Ginger',\n",
       " 'Glen',\n",
       " 'Glenn',\n",
       " 'Grace',\n",
       " 'Gretchen',\n",
       " 'Gus',\n",
       " 'Haleigh',\n",
       " 'Haley',\n",
       " 'Hannibal',\n",
       " 'Harley',\n",
       " 'Hazel',\n",
       " 'Heath',\n",
       " 'Henrie',\n",
       " 'Hilary',\n",
       " 'Hillary',\n",
       " 'Holly',\n",
       " 'Ike',\n",
       " 'Ikey',\n",
       " 'Ira',\n",
       " 'Isa',\n",
       " 'Isador',\n",
       " 'Isadore',\n",
       " 'Jackie',\n",
       " 'Jaime',\n",
       " 'Jamie',\n",
       " 'Jan',\n",
       " 'Jean',\n",
       " 'Jere',\n",
       " 'Jermaine',\n",
       " 'Jerrie',\n",
       " 'Jerry',\n",
       " 'Jess',\n",
       " 'Jesse',\n",
       " 'Jessie',\n",
       " 'Jo',\n",
       " 'Jodi',\n",
       " 'Jodie',\n",
       " 'Jody',\n",
       " 'Joey',\n",
       " 'Jordan',\n",
       " 'Juanita',\n",
       " 'Jude',\n",
       " 'Judith',\n",
       " 'Judy',\n",
       " 'Julie',\n",
       " 'Justin',\n",
       " 'Karel',\n",
       " 'Kellen',\n",
       " 'Kelley',\n",
       " 'Kelly',\n",
       " 'Kelsey',\n",
       " 'Kerry',\n",
       " 'Kim',\n",
       " 'Kip',\n",
       " 'Kirby',\n",
       " 'Kit',\n",
       " 'Kris',\n",
       " 'Kyle',\n",
       " 'Lane',\n",
       " 'Lanny',\n",
       " 'Lauren',\n",
       " 'Laurie',\n",
       " 'Lee',\n",
       " 'Leigh',\n",
       " 'Leland',\n",
       " 'Lesley',\n",
       " 'Leslie',\n",
       " 'Lin',\n",
       " 'Lind',\n",
       " 'Lindsay',\n",
       " 'Lindsey',\n",
       " 'Lindy',\n",
       " 'Lonnie',\n",
       " 'Loren',\n",
       " 'Lorne',\n",
       " 'Lorrie',\n",
       " 'Lou',\n",
       " 'Luce',\n",
       " 'Lyn',\n",
       " 'Lynn',\n",
       " 'Maddie',\n",
       " 'Maddy',\n",
       " 'Marietta',\n",
       " 'Marion',\n",
       " 'Marlo',\n",
       " 'Martie',\n",
       " 'Marty',\n",
       " 'Mattie',\n",
       " 'Matty',\n",
       " 'Maurise',\n",
       " 'Max',\n",
       " 'Maxie',\n",
       " 'Mead',\n",
       " 'Meade',\n",
       " 'Mel',\n",
       " 'Meredith',\n",
       " 'Merle',\n",
       " 'Merrill',\n",
       " 'Merry',\n",
       " 'Meryl',\n",
       " 'Michal',\n",
       " 'Michel',\n",
       " 'Michele',\n",
       " 'Mickie',\n",
       " 'Micky',\n",
       " 'Millicent',\n",
       " 'Morgan',\n",
       " 'Morlee',\n",
       " 'Muffin',\n",
       " 'Nat',\n",
       " 'Nichole',\n",
       " 'Nickie',\n",
       " 'Nicky',\n",
       " 'Niki',\n",
       " 'Nikki',\n",
       " 'Noel',\n",
       " 'Ollie',\n",
       " 'Page',\n",
       " 'Paige',\n",
       " 'Pat',\n",
       " 'Patrice',\n",
       " 'Patsy',\n",
       " 'Pattie',\n",
       " 'Patty',\n",
       " 'Pen',\n",
       " 'Pennie',\n",
       " 'Penny',\n",
       " 'Perry',\n",
       " 'Phil',\n",
       " 'Pooh',\n",
       " 'Quentin',\n",
       " 'Quinn',\n",
       " 'Randi',\n",
       " 'Randie',\n",
       " 'Randy',\n",
       " 'Ray',\n",
       " 'Regan',\n",
       " 'Reggie',\n",
       " 'Rene',\n",
       " 'Rey',\n",
       " 'Ricki',\n",
       " 'Rickie',\n",
       " 'Ricky',\n",
       " 'Rikki',\n",
       " 'Robbie',\n",
       " 'Robin',\n",
       " 'Ronnie',\n",
       " 'Ronny',\n",
       " 'Rory',\n",
       " 'Ruby',\n",
       " 'Sal',\n",
       " 'Sam',\n",
       " 'Sammy',\n",
       " 'Sandy',\n",
       " 'Sascha',\n",
       " 'Sasha',\n",
       " 'Saundra',\n",
       " 'Sayre',\n",
       " 'Scotty',\n",
       " 'Sean',\n",
       " 'Shaine',\n",
       " 'Shane',\n",
       " 'Shannon',\n",
       " 'Shaun',\n",
       " 'Shawn',\n",
       " 'Shay',\n",
       " 'Shayne',\n",
       " 'Shea',\n",
       " 'Shelby',\n",
       " 'Shell',\n",
       " 'Shelley',\n",
       " 'Sibyl',\n",
       " 'Simone',\n",
       " 'Sonnie',\n",
       " 'Sonny',\n",
       " 'Stacy',\n",
       " 'Sunny',\n",
       " 'Sydney',\n",
       " 'Tabbie',\n",
       " 'Tabby',\n",
       " 'Tallie',\n",
       " 'Tally',\n",
       " 'Tammie',\n",
       " 'Tammy',\n",
       " 'Tate',\n",
       " 'Ted',\n",
       " 'Teddie',\n",
       " 'Teddy',\n",
       " 'Terri',\n",
       " 'Terry',\n",
       " 'Theo',\n",
       " 'Tim',\n",
       " 'Timmie',\n",
       " 'Timmy',\n",
       " 'Tobe',\n",
       " 'Tobie',\n",
       " 'Toby',\n",
       " 'Tommie',\n",
       " 'Tommy',\n",
       " 'Tony',\n",
       " 'Torey',\n",
       " 'Trace',\n",
       " 'Tracey',\n",
       " 'Tracie',\n",
       " 'Tracy',\n",
       " 'Val',\n",
       " 'Vale',\n",
       " 'Valentine',\n",
       " 'Van',\n",
       " 'Vin',\n",
       " 'Vinnie',\n",
       " 'Vinny',\n",
       " 'Virgie',\n",
       " 'Wallie',\n",
       " 'Wallis',\n",
       " 'Wally',\n",
       " 'Whitney',\n",
       " 'Willi',\n",
       " 'Willie',\n",
       " 'Willy',\n",
       " 'Winnie',\n",
       " 'Winny',\n",
       " 'Wynn'}"
      ]
     },
     "execution_count": 182,
     "metadata": {},
     "output_type": "execute_result"
    }
   ],
   "source": [
    "set(female_names).intersection(set(male_names))"
   ]
  },
  {
   "cell_type": "code",
   "execution_count": 183,
   "metadata": {},
   "outputs": [
    {
     "data": {
      "text/plain": [
       "['Abbey',\n",
       " 'Abbie',\n",
       " 'Abby',\n",
       " 'Addie',\n",
       " 'Adrian',\n",
       " 'Adrien',\n",
       " 'Ajay',\n",
       " 'Alex',\n",
       " 'Alexis',\n",
       " 'Alfie',\n",
       " 'Ali',\n",
       " 'Alix',\n",
       " 'Allie',\n",
       " 'Allyn',\n",
       " 'Andie',\n",
       " 'Andrea',\n",
       " 'Andy',\n",
       " 'Angel',\n",
       " 'Angie',\n",
       " 'Ariel',\n",
       " 'Ashley',\n",
       " 'Aubrey',\n",
       " 'Augustine',\n",
       " 'Austin',\n",
       " 'Averil',\n",
       " 'Barrie',\n",
       " 'Barry',\n",
       " 'Beau',\n",
       " 'Bennie',\n",
       " 'Benny',\n",
       " 'Bernie',\n",
       " 'Bert',\n",
       " 'Bertie',\n",
       " 'Bill',\n",
       " 'Billie',\n",
       " 'Billy',\n",
       " 'Blair',\n",
       " 'Blake',\n",
       " 'Bo',\n",
       " 'Bobbie',\n",
       " 'Bobby',\n",
       " 'Brandy',\n",
       " 'Brett',\n",
       " 'Britt',\n",
       " 'Brook',\n",
       " 'Brooke',\n",
       " 'Brooks',\n",
       " 'Bryn',\n",
       " 'Cal',\n",
       " 'Cam',\n",
       " 'Cammy',\n",
       " 'Carey',\n",
       " 'Carlie',\n",
       " 'Carlin',\n",
       " 'Carmine',\n",
       " 'Carroll',\n",
       " 'Cary',\n",
       " 'Caryl',\n",
       " 'Casey',\n",
       " 'Cass',\n",
       " 'Cat',\n",
       " 'Cecil',\n",
       " 'Chad',\n",
       " 'Chris',\n",
       " 'Chrissy',\n",
       " 'Christian',\n",
       " 'Christie',\n",
       " 'Christy',\n",
       " 'Clair',\n",
       " 'Claire',\n",
       " 'Clare',\n",
       " 'Claude',\n",
       " 'Clem',\n",
       " 'Clemmie',\n",
       " 'Cody',\n",
       " 'Connie',\n",
       " 'Constantine',\n",
       " 'Corey',\n",
       " 'Corrie',\n",
       " 'Cory',\n",
       " 'Courtney',\n",
       " 'Cris',\n",
       " 'Daffy',\n",
       " 'Dale',\n",
       " 'Dallas',\n",
       " 'Dana',\n",
       " 'Dani',\n",
       " 'Daniel',\n",
       " 'Dannie',\n",
       " 'Danny',\n",
       " 'Darby',\n",
       " 'Darcy',\n",
       " 'Darryl',\n",
       " 'Daryl',\n",
       " 'Deane',\n",
       " 'Del',\n",
       " 'Dell',\n",
       " 'Demetris',\n",
       " 'Dennie',\n",
       " 'Denny',\n",
       " 'Devin',\n",
       " 'Devon',\n",
       " 'Dion',\n",
       " 'Dionis',\n",
       " 'Dominique',\n",
       " 'Donnie',\n",
       " 'Donny',\n",
       " 'Dorian',\n",
       " 'Dory',\n",
       " 'Drew',\n",
       " 'Eddie',\n",
       " 'Eddy',\n",
       " 'Edie',\n",
       " 'Elisha',\n",
       " 'Emmy',\n",
       " 'Erin',\n",
       " 'Esme',\n",
       " 'Evelyn',\n",
       " 'Felice',\n",
       " 'Fran',\n",
       " 'Francis',\n",
       " 'Frank',\n",
       " 'Frankie',\n",
       " 'Franky',\n",
       " 'Fred',\n",
       " 'Freddie',\n",
       " 'Freddy',\n",
       " 'Gabriel',\n",
       " 'Gabriell',\n",
       " 'Gail',\n",
       " 'Gale',\n",
       " 'Gay',\n",
       " 'Gayle',\n",
       " 'Gene',\n",
       " 'George',\n",
       " 'Georgia',\n",
       " 'Georgie',\n",
       " 'Geri',\n",
       " 'Germaine',\n",
       " 'Gerri',\n",
       " 'Gerry',\n",
       " 'Gill',\n",
       " 'Ginger',\n",
       " 'Glen',\n",
       " 'Glenn',\n",
       " 'Grace',\n",
       " 'Gretchen',\n",
       " 'Gus',\n",
       " 'Haleigh',\n",
       " 'Haley',\n",
       " 'Hannibal',\n",
       " 'Harley',\n",
       " 'Hazel',\n",
       " 'Heath',\n",
       " 'Henrie',\n",
       " 'Hilary',\n",
       " 'Hillary',\n",
       " 'Holly',\n",
       " 'Ike',\n",
       " 'Ikey',\n",
       " 'Ira',\n",
       " 'Isa',\n",
       " 'Isador',\n",
       " 'Isadore',\n",
       " 'Jackie',\n",
       " 'Jaime',\n",
       " 'Jamie',\n",
       " 'Jan',\n",
       " 'Jean',\n",
       " 'Jere',\n",
       " 'Jermaine',\n",
       " 'Jerrie',\n",
       " 'Jerry',\n",
       " 'Jess',\n",
       " 'Jesse',\n",
       " 'Jessie',\n",
       " 'Jo',\n",
       " 'Jodi',\n",
       " 'Jodie',\n",
       " 'Jody',\n",
       " 'Joey',\n",
       " 'Jordan',\n",
       " 'Juanita',\n",
       " 'Jude',\n",
       " 'Judith',\n",
       " 'Judy',\n",
       " 'Julie',\n",
       " 'Justin',\n",
       " 'Karel',\n",
       " 'Kellen',\n",
       " 'Kelley',\n",
       " 'Kelly',\n",
       " 'Kelsey',\n",
       " 'Kerry',\n",
       " 'Kim',\n",
       " 'Kip',\n",
       " 'Kirby',\n",
       " 'Kit',\n",
       " 'Kris',\n",
       " 'Kyle',\n",
       " 'Lane',\n",
       " 'Lanny',\n",
       " 'Lauren',\n",
       " 'Laurie',\n",
       " 'Lee',\n",
       " 'Leigh',\n",
       " 'Leland',\n",
       " 'Lesley',\n",
       " 'Leslie',\n",
       " 'Lin',\n",
       " 'Lind',\n",
       " 'Lindsay',\n",
       " 'Lindsey',\n",
       " 'Lindy',\n",
       " 'Lonnie',\n",
       " 'Loren',\n",
       " 'Lorne',\n",
       " 'Lorrie',\n",
       " 'Lou',\n",
       " 'Luce',\n",
       " 'Lyn',\n",
       " 'Lynn',\n",
       " 'Maddie',\n",
       " 'Maddy',\n",
       " 'Marietta',\n",
       " 'Marion',\n",
       " 'Marlo',\n",
       " 'Martie',\n",
       " 'Marty',\n",
       " 'Mattie',\n",
       " 'Matty',\n",
       " 'Maurise',\n",
       " 'Max',\n",
       " 'Maxie',\n",
       " 'Mead',\n",
       " 'Meade',\n",
       " 'Mel',\n",
       " 'Meredith',\n",
       " 'Merle',\n",
       " 'Merrill',\n",
       " 'Merry',\n",
       " 'Meryl',\n",
       " 'Michal',\n",
       " 'Michel',\n",
       " 'Michele',\n",
       " 'Mickie',\n",
       " 'Micky',\n",
       " 'Millicent',\n",
       " 'Morgan',\n",
       " 'Morlee',\n",
       " 'Muffin',\n",
       " 'Nat',\n",
       " 'Nichole',\n",
       " 'Nickie',\n",
       " 'Nicky',\n",
       " 'Niki',\n",
       " 'Nikki',\n",
       " 'Noel',\n",
       " 'Ollie',\n",
       " 'Page',\n",
       " 'Paige',\n",
       " 'Pat',\n",
       " 'Patrice',\n",
       " 'Patsy',\n",
       " 'Pattie',\n",
       " 'Patty',\n",
       " 'Pen',\n",
       " 'Pennie',\n",
       " 'Penny',\n",
       " 'Perry',\n",
       " 'Phil',\n",
       " 'Pooh',\n",
       " 'Quentin',\n",
       " 'Quinn',\n",
       " 'Randi',\n",
       " 'Randie',\n",
       " 'Randy',\n",
       " 'Ray',\n",
       " 'Regan',\n",
       " 'Reggie',\n",
       " 'Rene',\n",
       " 'Rey',\n",
       " 'Ricki',\n",
       " 'Rickie',\n",
       " 'Ricky',\n",
       " 'Rikki',\n",
       " 'Robbie',\n",
       " 'Robin',\n",
       " 'Ronnie',\n",
       " 'Ronny',\n",
       " 'Rory',\n",
       " 'Ruby',\n",
       " 'Sal',\n",
       " 'Sam',\n",
       " 'Sammy',\n",
       " 'Sandy',\n",
       " 'Sascha',\n",
       " 'Sasha',\n",
       " 'Saundra',\n",
       " 'Sayre',\n",
       " 'Scotty',\n",
       " 'Sean',\n",
       " 'Shaine',\n",
       " 'Shane',\n",
       " 'Shannon',\n",
       " 'Shaun',\n",
       " 'Shawn',\n",
       " 'Shay',\n",
       " 'Shayne',\n",
       " 'Shea',\n",
       " 'Shelby',\n",
       " 'Shell',\n",
       " 'Shelley',\n",
       " 'Sibyl',\n",
       " 'Simone',\n",
       " 'Sonnie',\n",
       " 'Sonny',\n",
       " 'Stacy',\n",
       " 'Sunny',\n",
       " 'Sydney',\n",
       " 'Tabbie',\n",
       " 'Tabby',\n",
       " 'Tallie',\n",
       " 'Tally',\n",
       " 'Tammie',\n",
       " 'Tammy',\n",
       " 'Tate',\n",
       " 'Ted',\n",
       " 'Teddie',\n",
       " 'Teddy',\n",
       " 'Terri',\n",
       " 'Terry',\n",
       " 'Theo',\n",
       " 'Tim',\n",
       " 'Timmie',\n",
       " 'Timmy',\n",
       " 'Tobe',\n",
       " 'Tobie',\n",
       " 'Toby',\n",
       " 'Tommie',\n",
       " 'Tommy',\n",
       " 'Tony',\n",
       " 'Torey',\n",
       " 'Trace',\n",
       " 'Tracey',\n",
       " 'Tracie',\n",
       " 'Tracy',\n",
       " 'Val',\n",
       " 'Vale',\n",
       " 'Valentine',\n",
       " 'Van',\n",
       " 'Vin',\n",
       " 'Vinnie',\n",
       " 'Vinny',\n",
       " 'Virgie',\n",
       " 'Wallie',\n",
       " 'Wallis',\n",
       " 'Wally',\n",
       " 'Whitney',\n",
       " 'Willi',\n",
       " 'Willie',\n",
       " 'Willy',\n",
       " 'Winnie',\n",
       " 'Winny',\n",
       " 'Wynn']"
      ]
     },
     "execution_count": 183,
     "metadata": {},
     "output_type": "execute_result"
    }
   ],
   "source": [
    "# Or do this way\n",
    "[w for w in male_names if w in female_names]"
   ]
  },
  {
   "cell_type": "code",
   "execution_count": 187,
   "metadata": {},
   "outputs": [
    {
     "data": {
      "text/plain": [
       "365"
      ]
     },
     "execution_count": 187,
     "metadata": {},
     "output_type": "execute_result"
    }
   ],
   "source": [
    "len(set(female_names).intersection(set(male_names)))"
   ]
  },
  {
   "cell_type": "code",
   "execution_count": 186,
   "metadata": {},
   "outputs": [
    {
     "data": {
      "text/plain": [
       "365"
      ]
     },
     "execution_count": 186,
     "metadata": {},
     "output_type": "execute_result"
    }
   ],
   "source": [
    "len([w for w in male_names if w in female_names])"
   ]
  },
  {
   "cell_type": "markdown",
   "metadata": {},
   "source": [
    "# (J) A Pronouncing Dictionary\n",
    "\n",
    "**It contains a word plus some properties in each row.**\n",
    "\n",
    "**NLTK includes the CMU Pronouncing Dictionary: It is a list of entries of different ways that something can be pronounced.**\n",
    "    \n",
    "**The way Siri, Google, and Alexa works is that it has an underlying phoneme pronouncing dictionary**"
   ]
  },
  {
   "cell_type": "code",
   "execution_count": 188,
   "metadata": {},
   "outputs": [
    {
     "data": {
      "text/plain": [
       "133737"
      ]
     },
     "execution_count": 188,
     "metadata": {},
     "output_type": "execute_result"
    }
   ],
   "source": [
    "import nltk\n",
    "entries = nltk.corpus.cmudict.entries()\n",
    "len(entries)"
   ]
  },
  {
   "cell_type": "code",
   "execution_count": 189,
   "metadata": {},
   "outputs": [
    {
     "name": "stdout",
     "output_type": "stream",
     "text": [
      "('fir', ['F', 'ER1'])\n",
      "('fire', ['F', 'AY1', 'ER0'])\n",
      "('fire', ['F', 'AY1', 'R'])\n",
      "('firearm', ['F', 'AY1', 'ER0', 'AA2', 'R', 'M'])\n",
      "('firearm', ['F', 'AY1', 'R', 'AA2', 'R', 'M'])\n",
      "('firearms', ['F', 'AY1', 'ER0', 'AA2', 'R', 'M', 'Z'])\n",
      "('firearms', ['F', 'AY1', 'R', 'AA2', 'R', 'M', 'Z'])\n",
      "('fireball', ['F', 'AY1', 'ER0', 'B', 'AO2', 'L'])\n"
     ]
    }
   ],
   "source": [
    "for entry in entries[42371:42379]:\n",
    "    print(entry)"
   ]
  },
  {
   "cell_type": "code",
   "execution_count": 190,
   "metadata": {},
   "outputs": [
    {
     "name": "stdout",
     "output_type": "stream",
     "text": [
      "pait EY1 pat AE1 pate EY1 patt AE1 peart ER1 peat IY1 peet IY1 peete IY1 pert ER1 pet EH1 pete IY1 pett EH1 piet IY1 piette IY1 pit IH1 pitt IH1 pot AA1 pote OW1 pott AA1 pout AW1 puett UW1 purt ER1 put UH1 putt AH1 "
     ]
    }
   ],
   "source": [
    "# Starts with 'P' Phonemes, end with 'T' Phonemes, and just print the middle Phonemes\n",
    "for word, pron in entries:\n",
    "    if len(pron) == 3:\n",
    "        ph1, ph2, ph3 = pron\n",
    "        if ph1 == 'P' and ph3 == 'T':\n",
    "            print(word, ph2, end=' ')\n",
    "            \n",
    "#pick the most probable word based on the frequency of inner phoneme\n",
    "#context of the sentence to disambiguate the phoneme ph2"
   ]
  },
  {
   "cell_type": "code",
   "execution_count": 191,
   "metadata": {},
   "outputs": [],
   "source": [
    "a = ['a','b','c','d','e','f','g','h','i']"
   ]
  },
  {
   "cell_type": "code",
   "execution_count": 192,
   "metadata": {},
   "outputs": [
    {
     "data": {
      "text/plain": [
       "['f', 'g', 'h', 'i']"
      ]
     },
     "execution_count": 192,
     "metadata": {},
     "output_type": "execute_result"
    }
   ],
   "source": [
    "a[-4:]"
   ]
  },
  {
   "cell_type": "markdown",
   "metadata": {},
   "source": [
    "**This program finds all words whose pronunciation ends with a syllable sounding like nicks.**"
   ]
  },
  {
   "cell_type": "code",
   "execution_count": 194,
   "metadata": {},
   "outputs": [
    {
     "data": {
      "text/plain": [
       "[\"atlantic's\",\n",
       " 'audiotronics',\n",
       " 'avionics',\n",
       " 'beatniks',\n",
       " 'calisthenics',\n",
       " 'centronics',\n",
       " 'chamonix',\n",
       " 'chetniks',\n",
       " \"clinic's\",\n",
       " 'clinics',\n",
       " 'conics',\n",
       " 'conics',\n",
       " 'cryogenics',\n",
       " 'cynics',\n",
       " 'diasonics',\n",
       " \"dominic's\",\n",
       " 'ebonics',\n",
       " 'electronics',\n",
       " \"electronics'\",\n",
       " \"endotronics'\",\n",
       " 'endotronics',\n",
       " 'enix',\n",
       " 'environics',\n",
       " 'ethnics',\n",
       " 'eugenics',\n",
       " 'fibronics',\n",
       " 'flextronics',\n",
       " 'harmonics',\n",
       " 'hispanics',\n",
       " 'histrionics',\n",
       " 'identics',\n",
       " 'ionics',\n",
       " 'kibbutzniks',\n",
       " 'lasersonics',\n",
       " 'lumonics',\n",
       " 'mannix',\n",
       " 'mechanics',\n",
       " \"mechanics'\",\n",
       " 'microelectronics',\n",
       " 'minix',\n",
       " 'minnix',\n",
       " 'mnemonics',\n",
       " 'mnemonics',\n",
       " 'molonicks',\n",
       " 'mullenix',\n",
       " 'mullenix',\n",
       " 'mullinix',\n",
       " 'mulnix',\n",
       " \"munich's\",\n",
       " 'nucleonics',\n",
       " 'onyx',\n",
       " 'organics',\n",
       " \"panic's\",\n",
       " 'panics',\n",
       " 'penix',\n",
       " 'pennix',\n",
       " 'personics',\n",
       " 'phenix',\n",
       " \"philharmonic's\",\n",
       " 'phoenix',\n",
       " 'phonics',\n",
       " 'photronics',\n",
       " 'pinnix',\n",
       " 'plantronics',\n",
       " 'pyrotechnics',\n",
       " 'refuseniks',\n",
       " \"resnick's\",\n",
       " 'respironics',\n",
       " 'sconnix',\n",
       " 'siliconix',\n",
       " 'skolniks',\n",
       " 'sonics',\n",
       " 'sputniks',\n",
       " 'technics',\n",
       " 'tectonics',\n",
       " 'tektronix',\n",
       " 'telectronics',\n",
       " 'telephonics',\n",
       " 'tonics',\n",
       " 'unix',\n",
       " \"vinick's\",\n",
       " \"vinnick's\",\n",
       " 'vitronics']"
      ]
     },
     "execution_count": 194,
     "metadata": {},
     "output_type": "execute_result"
    }
   ],
   "source": [
    "syllable = ['N', 'IH0', 'K', 'S']\n",
    "[word for word, pron in entries if pron[-4:] == syllable]"
   ]
  },
  {
   "cell_type": "code",
   "execution_count": 195,
   "metadata": {},
   "outputs": [
    {
     "data": {
      "text/plain": [
       "[('a', ['AH0']),\n",
       " ('a.', ['EY1']),\n",
       " ('a', ['EY1']),\n",
       " ('a42128',\n",
       "  ['EY1',\n",
       "   'F',\n",
       "   'AO1',\n",
       "   'R',\n",
       "   'T',\n",
       "   'UW1',\n",
       "   'W',\n",
       "   'AH1',\n",
       "   'N',\n",
       "   'T',\n",
       "   'UW1',\n",
       "   'EY1',\n",
       "   'T']),\n",
       " ('aaa', ['T', 'R', 'IH2', 'P', 'AH0', 'L', 'EY1']),\n",
       " ('aaberg', ['AA1', 'B', 'ER0', 'G']),\n",
       " ('aachen', ['AA1', 'K', 'AH0', 'N']),\n",
       " ('aachener', ['AA1', 'K', 'AH0', 'N', 'ER0']),\n",
       " ('aaker', ['AA1', 'K', 'ER0']),\n",
       " ('aalseth', ['AA1', 'L', 'S', 'EH0', 'TH']),\n",
       " ('aamodt', ['AA1', 'M', 'AH0', 'T']),\n",
       " ('aancor', ['AA1', 'N', 'K', 'AO2', 'R']),\n",
       " ('aardema', ['AA0', 'R', 'D', 'EH1', 'M', 'AH0']),\n",
       " ('aardvark', ['AA1', 'R', 'D', 'V', 'AA2', 'R', 'K']),\n",
       " ('aaron', ['EH1', 'R', 'AH0', 'N']),\n",
       " (\"aaron's\", ['EH1', 'R', 'AH0', 'N', 'Z']),\n",
       " ('aarons', ['EH1', 'R', 'AH0', 'N', 'Z']),\n",
       " ('aaronson', ['EH1', 'R', 'AH0', 'N', 'S', 'AH0', 'N']),\n",
       " ('aaronson', ['AA1', 'R', 'AH0', 'N', 'S', 'AH0', 'N']),\n",
       " (\"aaronson's\", ['EH1', 'R', 'AH0', 'N', 'S', 'AH0', 'N', 'Z'])]"
      ]
     },
     "execution_count": 195,
     "metadata": {},
     "output_type": "execute_result"
    }
   ],
   "source": [
    "entries[:20]"
   ]
  },
  {
   "cell_type": "code",
   "execution_count": 196,
   "metadata": {},
   "outputs": [
    {
     "name": "stdout",
     "output_type": "stream",
     "text": [
      "['AH0', 'T', 'L', 'AE1', 'N', 'IH0', 'K', 'S']\n",
      "atlantic's\n",
      "\n",
      "['AO2', 'D', 'IY0', 'OW0', 'T', 'R', 'AA1', 'N', 'IH0', 'K', 'S']\n",
      "audiotronics\n",
      "\n",
      "['EY2', 'V', 'IY0', 'AA1', 'N', 'IH0', 'K', 'S']\n",
      "avionics\n",
      "\n",
      "['B', 'IY1', 'T', 'N', 'IH0', 'K', 'S']\n",
      "beatniks\n",
      "\n",
      "['K', 'AE2', 'L', 'AH0', 'S', 'TH', 'EH1', 'N', 'IH0', 'K', 'S']\n",
      "calisthenics\n",
      "\n",
      "['S', 'EH2', 'N', 'T', 'R', 'AA1', 'N', 'IH0', 'K', 'S']\n",
      "centronics\n",
      "\n",
      "['CH', 'AE1', 'M', 'AH0', 'N', 'IH0', 'K', 'S']\n",
      "chamonix\n",
      "\n",
      "['CH', 'EH1', 'T', 'N', 'IH0', 'K', 'S']\n",
      "chetniks\n",
      "\n",
      "['K', 'L', 'IH1', 'N', 'IH0', 'K', 'S']\n",
      "clinic's\n",
      "\n",
      "['K', 'L', 'IH1', 'N', 'IH0', 'K', 'S']\n",
      "clinics\n",
      "\n",
      "['K', 'AA1', 'N', 'IH0', 'K', 'S']\n",
      "conics\n",
      "\n",
      "['K', 'OW1', 'N', 'IH0', 'K', 'S']\n",
      "conics\n",
      "\n",
      "['K', 'R', 'AY1', 'AH0', 'JH', 'EH2', 'N', 'IH0', 'K', 'S']\n",
      "cryogenics\n",
      "\n",
      "['S', 'IH1', 'N', 'IH0', 'K', 'S']\n",
      "cynics\n",
      "\n",
      "['D', 'AY2', 'AH0', 'S', 'AA1', 'N', 'IH0', 'K', 'S']\n",
      "diasonics\n",
      "\n",
      "['D', 'AA1', 'M', 'AH0', 'N', 'IH0', 'K', 'S']\n",
      "dominic's\n",
      "\n",
      "['IY0', 'B', 'AO1', 'N', 'IH0', 'K', 'S']\n",
      "ebonics\n",
      "\n",
      "['IH0', 'L', 'EH2', 'K', 'T', 'R', 'AA1', 'N', 'IH0', 'K', 'S']\n",
      "electronics\n",
      "\n",
      "['IH0', 'L', 'EH2', 'K', 'T', 'R', 'AA1', 'N', 'IH0', 'K', 'S']\n",
      "electronics'\n",
      "\n",
      "['EH2', 'N', 'D', 'AH0', 'T', 'R', 'AA1', 'N', 'IH0', 'K', 'S']\n",
      "endotronics'\n",
      "\n",
      "['EH2', 'N', 'D', 'OW0', 'T', 'R', 'AA1', 'N', 'IH0', 'K', 'S']\n",
      "endotronics\n",
      "\n",
      "['EH1', 'N', 'IH0', 'K', 'S']\n",
      "enix\n",
      "\n",
      "['EH2', 'N', 'V', 'AY0', 'R', 'AO1', 'N', 'IH0', 'K', 'S']\n",
      "environics\n",
      "\n",
      "['EH1', 'TH', 'N', 'IH0', 'K', 'S']\n",
      "ethnics\n",
      "\n",
      "['Y', 'UW0', 'JH', 'EH1', 'N', 'IH0', 'K', 'S']\n",
      "eugenics\n",
      "\n",
      "['F', 'IH0', 'B', 'R', 'AA1', 'N', 'IH0', 'K', 'S']\n",
      "fibronics\n",
      "\n",
      "['F', 'L', 'EH2', 'K', 'S', 'T', 'R', 'AA1', 'N', 'IH0', 'K', 'S']\n",
      "flextronics\n",
      "\n",
      "['HH', 'AA0', 'R', 'M', 'AA1', 'N', 'IH0', 'K', 'S']\n",
      "harmonics\n",
      "\n",
      "['HH', 'IH0', 'S', 'P', 'AE1', 'N', 'IH0', 'K', 'S']\n",
      "hispanics\n",
      "\n",
      "['HH', 'IH2', 'S', 'T', 'R', 'IY0', 'AA1', 'N', 'IH0', 'K', 'S']\n",
      "histrionics\n",
      "\n",
      "['AY0', 'D', 'EH1', 'N', 'IH0', 'K', 'S']\n",
      "identics\n",
      "\n",
      "['AY0', 'AA1', 'N', 'IH0', 'K', 'S']\n",
      "ionics\n",
      "\n",
      "['K', 'IH0', 'B', 'UH1', 'T', 'S', 'N', 'IH0', 'K', 'S']\n",
      "kibbutzniks\n",
      "\n",
      "['L', 'EY0', 'Z', 'ER0', 'S', 'AA1', 'N', 'IH0', 'K', 'S']\n",
      "lasersonics\n",
      "\n",
      "['L', 'UW0', 'M', 'AA1', 'N', 'IH0', 'K', 'S']\n",
      "lumonics\n",
      "\n",
      "['M', 'AE1', 'N', 'IH0', 'K', 'S']\n",
      "mannix\n",
      "\n",
      "['M', 'AH0', 'K', 'AE1', 'N', 'IH0', 'K', 'S']\n",
      "mechanics\n",
      "\n",
      "['M', 'AH0', 'K', 'AE1', 'N', 'IH0', 'K', 'S']\n",
      "mechanics'\n",
      "\n",
      "['M', 'AY2', 'K', 'R', 'OW0', 'IH0', 'L', 'EH0', 'K', 'T', 'R', 'AA1', 'N', 'IH0', 'K', 'S']\n",
      "microelectronics\n",
      "\n",
      "['M', 'IH1', 'N', 'IH0', 'K', 'S']\n",
      "minix\n",
      "\n",
      "['M', 'IH1', 'N', 'IH0', 'K', 'S']\n",
      "minnix\n",
      "\n",
      "['N', 'IH0', 'M', 'AA1', 'N', 'IH0', 'K', 'S']\n",
      "mnemonics\n",
      "\n",
      "['N', 'IY0', 'M', 'AA1', 'N', 'IH0', 'K', 'S']\n",
      "mnemonics\n",
      "\n",
      "['M', 'AH0', 'L', 'AO1', 'N', 'IH0', 'K', 'S']\n",
      "molonicks\n",
      "\n",
      "['M', 'UW1', 'L', 'IH0', 'N', 'IH0', 'K', 'S']\n",
      "mullenix\n",
      "\n",
      "['M', 'AH1', 'L', 'AH0', 'N', 'IH0', 'K', 'S']\n",
      "mullenix\n",
      "\n",
      "['M', 'AH1', 'L', 'IH0', 'N', 'IH0', 'K', 'S']\n",
      "mullinix\n",
      "\n",
      "['M', 'AH1', 'L', 'N', 'IH0', 'K', 'S']\n",
      "mulnix\n",
      "\n",
      "['M', 'Y', 'UW1', 'N', 'IH0', 'K', 'S']\n",
      "munich's\n",
      "\n",
      "['N', 'UW2', 'K', 'L', 'IY0', 'AA1', 'N', 'IH0', 'K', 'S']\n",
      "nucleonics\n",
      "\n",
      "['AA1', 'N', 'IH0', 'K', 'S']\n",
      "onyx\n",
      "\n",
      "['AO0', 'R', 'G', 'AE1', 'N', 'IH0', 'K', 'S']\n",
      "organics\n",
      "\n",
      "['P', 'AE1', 'N', 'IH0', 'K', 'S']\n",
      "panic's\n",
      "\n",
      "['P', 'AE1', 'N', 'IH0', 'K', 'S']\n",
      "panics\n",
      "\n",
      "['P', 'EH1', 'N', 'IH0', 'K', 'S']\n",
      "penix\n",
      "\n",
      "['P', 'EH1', 'N', 'IH0', 'K', 'S']\n",
      "pennix\n",
      "\n",
      "['P', 'ER0', 'S', 'AA1', 'N', 'IH0', 'K', 'S']\n",
      "personics\n",
      "\n",
      "['F', 'EH1', 'N', 'IH0', 'K', 'S']\n",
      "phenix\n",
      "\n",
      "['F', 'IH2', 'L', 'HH', 'AA0', 'R', 'M', 'AA1', 'N', 'IH0', 'K', 'S']\n",
      "philharmonic's\n",
      "\n",
      "['F', 'IY1', 'N', 'IH0', 'K', 'S']\n",
      "phoenix\n",
      "\n",
      "['F', 'AA1', 'N', 'IH0', 'K', 'S']\n",
      "phonics\n",
      "\n",
      "['F', 'OW2', 'T', 'R', 'AA1', 'N', 'IH0', 'K', 'S']\n",
      "photronics\n",
      "\n",
      "['P', 'IH1', 'N', 'IH0', 'K', 'S']\n",
      "pinnix\n",
      "\n",
      "['P', 'L', 'AE2', 'N', 'T', 'R', 'AA1', 'N', 'IH0', 'K', 'S']\n",
      "plantronics\n",
      "\n",
      "['P', 'AY2', 'R', 'OW0', 'T', 'EH1', 'K', 'N', 'IH0', 'K', 'S']\n",
      "pyrotechnics\n",
      "\n",
      "['R', 'IH0', 'F', 'Y', 'UW1', 'Z', 'N', 'IH0', 'K', 'S']\n",
      "refuseniks\n",
      "\n",
      "['R', 'EH1', 'Z', 'N', 'IH0', 'K', 'S']\n",
      "resnick's\n",
      "\n",
      "['R', 'EH2', 'S', 'ER0', 'AA1', 'N', 'IH0', 'K', 'S']\n",
      "respironics\n",
      "\n",
      "['S', 'K', 'AA1', 'N', 'IH0', 'K', 'S']\n",
      "sconnix\n",
      "\n",
      "['S', 'IH2', 'L', 'IH0', 'K', 'AA1', 'N', 'IH0', 'K', 'S']\n",
      "siliconix\n",
      "\n",
      "['S', 'K', 'OW1', 'L', 'N', 'IH0', 'K', 'S']\n",
      "skolniks\n",
      "\n",
      "['S', 'AA1', 'N', 'IH0', 'K', 'S']\n",
      "sonics\n",
      "\n",
      "['S', 'P', 'AH1', 'T', 'N', 'IH0', 'K', 'S']\n",
      "sputniks\n",
      "\n",
      "['T', 'EH1', 'K', 'N', 'IH0', 'K', 'S']\n",
      "technics\n",
      "\n",
      "['T', 'EH0', 'K', 'T', 'AA1', 'N', 'IH0', 'K', 'S']\n",
      "tectonics\n",
      "\n",
      "['T', 'EH2', 'K', 'T', 'R', 'AA1', 'N', 'IH0', 'K', 'S']\n",
      "tektronix\n",
      "\n",
      "['T', 'EH2', 'L', 'AH0', 'K', 'T', 'R', 'AA1', 'N', 'IH0', 'K', 'S']\n",
      "telectronics\n",
      "\n",
      "['T', 'EH2', 'L', 'AH0', 'F', 'AA1', 'N', 'IH0', 'K', 'S']\n",
      "telephonics\n",
      "\n",
      "['T', 'AA1', 'N', 'IH0', 'K', 'S']\n",
      "tonics\n",
      "\n",
      "['Y', 'UW1', 'N', 'IH0', 'K', 'S']\n",
      "unix\n",
      "\n",
      "['V', 'IH1', 'N', 'IH0', 'K', 'S']\n",
      "vinick's\n",
      "\n",
      "['V', 'IH1', 'N', 'IH0', 'K', 'S']\n",
      "vinnick's\n",
      "\n",
      "['V', 'AY2', 'T', 'R', 'AA1', 'N', 'IH0', 'K', 'S']\n",
      "vitronics\n",
      "\n"
     ]
    }
   ],
   "source": [
    "syllable = ['N', 'IH0', 'K', 'S']\n",
    "for word, pron in entries:\n",
    "    if pron[-4:] == syllable:\n",
    "        print(pron)\n",
    "        print(word)\n",
    "        print()"
   ]
  },
  {
   "cell_type": "code",
   "execution_count": 197,
   "metadata": {},
   "outputs": [
    {
     "name": "stdout",
     "output_type": "stream",
     "text": [
      "atlantic's\n",
      "\n",
      "audiotronics\n",
      "\n",
      "avionics\n",
      "\n",
      "beatniks\n",
      "\n",
      "calisthenics\n",
      "\n",
      "centronics\n",
      "\n",
      "chamonix\n",
      "\n",
      "chetniks\n",
      "\n",
      "clinic's\n",
      "\n",
      "clinics\n",
      "\n",
      "conics\n",
      "\n",
      "conics\n",
      "\n",
      "cryogenics\n",
      "\n",
      "cynics\n",
      "\n",
      "diasonics\n",
      "\n",
      "dominic's\n",
      "\n",
      "ebonics\n",
      "\n",
      "electronics\n",
      "\n",
      "electronics'\n",
      "\n",
      "endotronics'\n",
      "\n",
      "endotronics\n",
      "\n",
      "enix\n",
      "\n",
      "environics\n",
      "\n",
      "ethnics\n",
      "\n",
      "eugenics\n",
      "\n",
      "fibronics\n",
      "\n",
      "flextronics\n",
      "\n",
      "harmonics\n",
      "\n",
      "hispanics\n",
      "\n",
      "histrionics\n",
      "\n",
      "identics\n",
      "\n",
      "ionics\n",
      "\n",
      "kibbutzniks\n",
      "\n",
      "lasersonics\n",
      "\n",
      "lumonics\n",
      "\n",
      "mannix\n",
      "\n",
      "mechanics\n",
      "\n",
      "mechanics'\n",
      "\n",
      "microelectronics\n",
      "\n",
      "minix\n",
      "\n",
      "minnix\n",
      "\n",
      "mnemonics\n",
      "\n",
      "mnemonics\n",
      "\n",
      "molonicks\n",
      "\n",
      "mullenix\n",
      "\n",
      "mullenix\n",
      "\n",
      "mullinix\n",
      "\n",
      "mulnix\n",
      "\n",
      "munich's\n",
      "\n",
      "nucleonics\n",
      "\n",
      "onyx\n",
      "\n",
      "organics\n",
      "\n",
      "panic's\n",
      "\n",
      "panics\n",
      "\n",
      "penix\n",
      "\n",
      "pennix\n",
      "\n",
      "personics\n",
      "\n",
      "phenix\n",
      "\n",
      "philharmonic's\n",
      "\n",
      "phoenix\n",
      "\n",
      "phonics\n",
      "\n",
      "photronics\n",
      "\n",
      "pinnix\n",
      "\n",
      "plantronics\n",
      "\n",
      "pyrotechnics\n",
      "\n",
      "refuseniks\n",
      "\n",
      "resnick's\n",
      "\n",
      "respironics\n",
      "\n",
      "sconnix\n",
      "\n",
      "siliconix\n",
      "\n",
      "skolniks\n",
      "\n",
      "sonics\n",
      "\n",
      "sputniks\n",
      "\n",
      "technics\n",
      "\n",
      "tectonics\n",
      "\n",
      "tektronix\n",
      "\n",
      "telectronics\n",
      "\n",
      "telephonics\n",
      "\n",
      "tonics\n",
      "\n",
      "unix\n",
      "\n",
      "vinick's\n",
      "\n",
      "vinnick's\n",
      "\n",
      "vitronics\n",
      "\n"
     ]
    }
   ],
   "source": [
    "syllable = ['N', 'IH0', 'K', 'S']\n",
    "for word, pron in entries:\n",
    "    if pron[-4:] == syllable:\n",
    "        print(word)\n",
    "        print()"
   ]
  },
  {
   "cell_type": "markdown",
   "metadata": {},
   "source": [
    "**Another option we might consider is using dictionary data structure in Python, rather than just lists or loops over lists.**"
   ]
  },
  {
   "cell_type": "code",
   "execution_count": 33,
   "metadata": {},
   "outputs": [
    {
     "data": {
      "text/plain": [
       "[['F', 'AY1', 'ER0'], ['F', 'AY1', 'R']]"
      ]
     },
     "execution_count": 33,
     "metadata": {},
     "output_type": "execute_result"
    }
   ],
   "source": [
    "prondict = nltk.corpus.cmudict.dict()\n",
    "\n",
    "prondict['fire']"
   ]
  },
  {
   "cell_type": "code",
   "execution_count": 34,
   "metadata": {},
   "outputs": [
    {
     "data": {
      "text/plain": [
       "[['K', 'OW1', 'L', 'D']]"
      ]
     },
     "execution_count": 34,
     "metadata": {},
     "output_type": "execute_result"
    }
   ],
   "source": [
    "prondict['cold']"
   ]
  },
  {
   "cell_type": "code",
   "execution_count": 35,
   "metadata": {},
   "outputs": [
    {
     "ename": "KeyError",
     "evalue": "'blog'",
     "output_type": "error",
     "traceback": [
      "\u001b[0;31m---------------------------------------------------------------------------\u001b[0m",
      "\u001b[0;31mKeyError\u001b[0m                                  Traceback (most recent call last)",
      "Cell \u001b[0;32mIn [35], line 1\u001b[0m\n\u001b[0;32m----> 1\u001b[0m \u001b[43mprondict\u001b[49m\u001b[43m[\u001b[49m\u001b[38;5;124;43m'\u001b[39;49m\u001b[38;5;124;43mblog\u001b[39;49m\u001b[38;5;124;43m'\u001b[39;49m\u001b[43m]\u001b[49m\n",
      "\u001b[0;31mKeyError\u001b[0m: 'blog'"
     ]
    }
   ],
   "source": [
    "prondict['blog']"
   ]
  },
  {
   "cell_type": "code",
   "execution_count": 36,
   "metadata": {},
   "outputs": [
    {
     "data": {
      "text/plain": [
       "[['B', 'L', 'AA1', 'G']]"
      ]
     },
     "execution_count": 36,
     "metadata": {},
     "output_type": "execute_result"
    }
   ],
   "source": [
    "prondict['blog'] = [['B', 'L', 'AA1', 'G']]\n",
    "prondict['blog']"
   ]
  },
  {
   "cell_type": "markdown",
   "metadata": {},
   "source": [
    "# (K) Comparative Wordlists"
   ]
  },
  {
   "cell_type": "markdown",
   "metadata": {},
   "source": [
    "**Swadesh wordlists, lists of about 200 common words in several languages.**\n",
    "\n",
    "**The languages are identified using an ISO 639 two-letter codes**"
   ]
  },
  {
   "cell_type": "code",
   "execution_count": 37,
   "metadata": {},
   "outputs": [
    {
     "data": {
      "text/plain": [
       "['be',\n",
       " 'bg',\n",
       " 'bs',\n",
       " 'ca',\n",
       " 'cs',\n",
       " 'cu',\n",
       " 'de',\n",
       " 'en',\n",
       " 'es',\n",
       " 'fr',\n",
       " 'hr',\n",
       " 'it',\n",
       " 'la',\n",
       " 'mk',\n",
       " 'nl',\n",
       " 'pl',\n",
       " 'pt',\n",
       " 'ro',\n",
       " 'ru',\n",
       " 'sk',\n",
       " 'sl',\n",
       " 'sr',\n",
       " 'sw',\n",
       " 'uk']"
      ]
     },
     "execution_count": 37,
     "metadata": {},
     "output_type": "execute_result"
    }
   ],
   "source": [
    "from nltk.corpus import swadesh\n",
    "swadesh.fileids()"
   ]
  },
  {
   "cell_type": "code",
   "execution_count": 38,
   "metadata": {},
   "outputs": [
    {
     "data": {
      "text/plain": [
       "207"
      ]
     },
     "execution_count": 38,
     "metadata": {},
     "output_type": "execute_result"
    }
   ],
   "source": [
    "len(swadesh.words('en'))"
   ]
  },
  {
   "cell_type": "code",
   "execution_count": 39,
   "metadata": {},
   "outputs": [
    {
     "data": {
      "text/plain": [
       "207"
      ]
     },
     "execution_count": 39,
     "metadata": {},
     "output_type": "execute_result"
    }
   ],
   "source": [
    "len(swadesh.words('uk'))"
   ]
  },
  {
   "cell_type": "code",
   "execution_count": 40,
   "metadata": {},
   "outputs": [
    {
     "data": {
      "text/plain": [
       "207"
      ]
     },
     "execution_count": 40,
     "metadata": {},
     "output_type": "execute_result"
    }
   ],
   "source": [
    "len(swadesh.words('de'))"
   ]
  },
  {
   "cell_type": "code",
   "execution_count": 41,
   "metadata": {},
   "outputs": [
    {
     "data": {
      "text/plain": [
       "['je',\n",
       " 'tu, vous',\n",
       " 'il',\n",
       " 'nous',\n",
       " 'vous',\n",
       " 'ils, elles',\n",
       " 'ceci',\n",
       " 'cela',\n",
       " 'ici',\n",
       " 'là',\n",
       " 'qui',\n",
       " 'quoi',\n",
       " 'où',\n",
       " 'quand',\n",
       " 'comment',\n",
       " 'ne...pas',\n",
       " 'tout',\n",
       " 'plusieurs',\n",
       " 'quelques',\n",
       " 'peu',\n",
       " 'autre',\n",
       " 'un',\n",
       " 'deux',\n",
       " 'trois',\n",
       " 'quatre',\n",
       " 'cinq',\n",
       " 'grand',\n",
       " 'long',\n",
       " 'large',\n",
       " 'épais',\n",
       " 'lourd',\n",
       " 'petit',\n",
       " 'court',\n",
       " 'étroit',\n",
       " 'mince',\n",
       " 'femme',\n",
       " 'homme',\n",
       " 'homme',\n",
       " 'enfant',\n",
       " 'femme, épouse',\n",
       " 'mari, époux',\n",
       " 'mère',\n",
       " 'père',\n",
       " 'animal',\n",
       " 'poisson',\n",
       " 'oiseau',\n",
       " 'chien',\n",
       " 'pou',\n",
       " 'serpent',\n",
       " 'ver',\n",
       " 'arbre',\n",
       " 'forêt',\n",
       " 'bâton',\n",
       " 'fruit',\n",
       " 'graine',\n",
       " 'feuille',\n",
       " 'racine',\n",
       " 'écorce',\n",
       " 'fleur',\n",
       " 'herbe',\n",
       " 'corde',\n",
       " 'peau',\n",
       " 'viande',\n",
       " 'sang',\n",
       " 'os',\n",
       " 'graisse',\n",
       " 'œuf',\n",
       " 'corne',\n",
       " 'queue',\n",
       " 'plume',\n",
       " 'cheveu',\n",
       " 'tête',\n",
       " 'oreille',\n",
       " 'œil',\n",
       " 'nez',\n",
       " 'bouche',\n",
       " 'dent',\n",
       " 'langue',\n",
       " 'ongle',\n",
       " 'pied',\n",
       " 'jambe',\n",
       " 'genou',\n",
       " 'main',\n",
       " 'aile',\n",
       " 'ventre',\n",
       " 'entrailles',\n",
       " 'cou',\n",
       " 'dos',\n",
       " 'sein, poitrine',\n",
       " 'cœur',\n",
       " 'foie',\n",
       " 'boire',\n",
       " 'manger',\n",
       " 'mordre',\n",
       " 'sucer',\n",
       " 'cracher',\n",
       " 'vomir',\n",
       " 'souffler',\n",
       " 'respirer',\n",
       " 'rire',\n",
       " 'voir',\n",
       " 'entendre',\n",
       " 'savoir',\n",
       " 'penser',\n",
       " 'sentir',\n",
       " 'craindre, avoir peur',\n",
       " 'dormir',\n",
       " 'vivre',\n",
       " 'mourir',\n",
       " 'tuer',\n",
       " 'se battre',\n",
       " 'chasser',\n",
       " 'frapper',\n",
       " 'couper',\n",
       " 'fendre',\n",
       " 'poignarder',\n",
       " 'gratter',\n",
       " 'creuser',\n",
       " 'nager',\n",
       " 'voler',\n",
       " 'marcher',\n",
       " 'venir',\n",
       " \"s'étendre\",\n",
       " \"s'asseoir\",\n",
       " 'se lever',\n",
       " 'tourner',\n",
       " 'tomber',\n",
       " 'donner',\n",
       " 'tenir',\n",
       " 'serrer',\n",
       " 'frotter',\n",
       " 'laver',\n",
       " 'essuyer',\n",
       " 'tirer',\n",
       " 'pousser',\n",
       " 'jeter',\n",
       " 'lier',\n",
       " 'coudre',\n",
       " 'compter',\n",
       " 'dire',\n",
       " 'chanter',\n",
       " 'jouer',\n",
       " 'flotter',\n",
       " 'couler',\n",
       " 'geler',\n",
       " 'gonfler',\n",
       " 'soleil',\n",
       " 'lune',\n",
       " 'étoile',\n",
       " 'eau',\n",
       " 'pluie',\n",
       " 'rivière',\n",
       " 'lac',\n",
       " 'mer',\n",
       " 'sel',\n",
       " 'pierre',\n",
       " 'sable',\n",
       " 'poussière',\n",
       " 'terre',\n",
       " 'nuage',\n",
       " 'brouillard',\n",
       " 'ciel',\n",
       " 'vent',\n",
       " 'neige',\n",
       " 'glace',\n",
       " 'fumée',\n",
       " 'feu',\n",
       " 'cendres',\n",
       " 'brûler',\n",
       " 'route',\n",
       " 'montagne',\n",
       " 'rouge',\n",
       " 'vert',\n",
       " 'jaune',\n",
       " 'blanc',\n",
       " 'noir',\n",
       " 'nuit',\n",
       " 'jour',\n",
       " 'an, année',\n",
       " 'chaud',\n",
       " 'froid',\n",
       " 'plein',\n",
       " 'nouveau',\n",
       " 'vieux',\n",
       " 'bon',\n",
       " 'mauvais',\n",
       " 'pourri',\n",
       " 'sale',\n",
       " 'droit',\n",
       " 'rond',\n",
       " 'tranchant, pointu, aigu',\n",
       " 'émoussé',\n",
       " 'lisse',\n",
       " 'mouillé',\n",
       " 'sec',\n",
       " 'juste, correct',\n",
       " 'proche',\n",
       " 'loin',\n",
       " 'à droite',\n",
       " 'à gauche',\n",
       " 'à',\n",
       " 'dans',\n",
       " 'avec',\n",
       " 'et',\n",
       " 'si',\n",
       " 'parce que',\n",
       " 'nom']"
      ]
     },
     "execution_count": 41,
     "metadata": {},
     "output_type": "execute_result"
    }
   ],
   "source": [
    "swadesh.words('fr')"
   ]
  },
  {
   "cell_type": "code",
   "execution_count": 42,
   "metadata": {},
   "outputs": [
    {
     "data": {
      "text/plain": [
       "[('je', 'I'),\n",
       " ('tu, vous', 'you (singular), thou'),\n",
       " ('il', 'he'),\n",
       " ('nous', 'we'),\n",
       " ('vous', 'you (plural)'),\n",
       " ('ils, elles', 'they'),\n",
       " ('ceci', 'this'),\n",
       " ('cela', 'that'),\n",
       " ('ici', 'here'),\n",
       " ('là', 'there'),\n",
       " ('qui', 'who'),\n",
       " ('quoi', 'what'),\n",
       " ('où', 'where'),\n",
       " ('quand', 'when'),\n",
       " ('comment', 'how'),\n",
       " ('ne...pas', 'not'),\n",
       " ('tout', 'all'),\n",
       " ('plusieurs', 'many'),\n",
       " ('quelques', 'some'),\n",
       " ('peu', 'few'),\n",
       " ('autre', 'other'),\n",
       " ('un', 'one'),\n",
       " ('deux', 'two'),\n",
       " ('trois', 'three'),\n",
       " ('quatre', 'four'),\n",
       " ('cinq', 'five'),\n",
       " ('grand', 'big'),\n",
       " ('long', 'long'),\n",
       " ('large', 'wide'),\n",
       " ('épais', 'thick'),\n",
       " ('lourd', 'heavy'),\n",
       " ('petit', 'small'),\n",
       " ('court', 'short'),\n",
       " ('étroit', 'narrow'),\n",
       " ('mince', 'thin'),\n",
       " ('femme', 'woman'),\n",
       " ('homme', 'man (adult male)'),\n",
       " ('homme', 'man (human being)'),\n",
       " ('enfant', 'child'),\n",
       " ('femme, épouse', 'wife'),\n",
       " ('mari, époux', 'husband'),\n",
       " ('mère', 'mother'),\n",
       " ('père', 'father'),\n",
       " ('animal', 'animal'),\n",
       " ('poisson', 'fish'),\n",
       " ('oiseau', 'bird'),\n",
       " ('chien', 'dog'),\n",
       " ('pou', 'louse'),\n",
       " ('serpent', 'snake'),\n",
       " ('ver', 'worm'),\n",
       " ('arbre', 'tree'),\n",
       " ('forêt', 'forest'),\n",
       " ('bâton', 'stick'),\n",
       " ('fruit', 'fruit'),\n",
       " ('graine', 'seed'),\n",
       " ('feuille', 'leaf'),\n",
       " ('racine', 'root'),\n",
       " ('écorce', 'bark (from tree)'),\n",
       " ('fleur', 'flower'),\n",
       " ('herbe', 'grass'),\n",
       " ('corde', 'rope'),\n",
       " ('peau', 'skin'),\n",
       " ('viande', 'meat'),\n",
       " ('sang', 'blood'),\n",
       " ('os', 'bone'),\n",
       " ('graisse', 'fat (noun)'),\n",
       " ('œuf', 'egg'),\n",
       " ('corne', 'horn'),\n",
       " ('queue', 'tail'),\n",
       " ('plume', 'feather'),\n",
       " ('cheveu', 'hair'),\n",
       " ('tête', 'head'),\n",
       " ('oreille', 'ear'),\n",
       " ('œil', 'eye'),\n",
       " ('nez', 'nose'),\n",
       " ('bouche', 'mouth'),\n",
       " ('dent', 'tooth'),\n",
       " ('langue', 'tongue'),\n",
       " ('ongle', 'fingernail'),\n",
       " ('pied', 'foot'),\n",
       " ('jambe', 'leg'),\n",
       " ('genou', 'knee'),\n",
       " ('main', 'hand'),\n",
       " ('aile', 'wing'),\n",
       " ('ventre', 'belly'),\n",
       " ('entrailles', 'guts'),\n",
       " ('cou', 'neck'),\n",
       " ('dos', 'back'),\n",
       " ('sein, poitrine', 'breast'),\n",
       " ('cœur', 'heart'),\n",
       " ('foie', 'liver'),\n",
       " ('boire', 'drink'),\n",
       " ('manger', 'eat'),\n",
       " ('mordre', 'bite'),\n",
       " ('sucer', 'suck'),\n",
       " ('cracher', 'spit'),\n",
       " ('vomir', 'vomit'),\n",
       " ('souffler', 'blow'),\n",
       " ('respirer', 'breathe'),\n",
       " ('rire', 'laugh'),\n",
       " ('voir', 'see'),\n",
       " ('entendre', 'hear'),\n",
       " ('savoir', 'know (a fact)'),\n",
       " ('penser', 'think'),\n",
       " ('sentir', 'smell'),\n",
       " ('craindre, avoir peur', 'fear'),\n",
       " ('dormir', 'sleep'),\n",
       " ('vivre', 'live'),\n",
       " ('mourir', 'die'),\n",
       " ('tuer', 'kill'),\n",
       " ('se battre', 'fight'),\n",
       " ('chasser', 'hunt'),\n",
       " ('frapper', 'hit'),\n",
       " ('couper', 'cut'),\n",
       " ('fendre', 'split'),\n",
       " ('poignarder', 'stab'),\n",
       " ('gratter', 'scratch'),\n",
       " ('creuser', 'dig'),\n",
       " ('nager', 'swim'),\n",
       " ('voler', 'fly (verb)'),\n",
       " ('marcher', 'walk'),\n",
       " ('venir', 'come'),\n",
       " (\"s'étendre\", 'lie'),\n",
       " (\"s'asseoir\", 'sit'),\n",
       " ('se lever', 'stand'),\n",
       " ('tourner', 'turn'),\n",
       " ('tomber', 'fall'),\n",
       " ('donner', 'give'),\n",
       " ('tenir', 'hold'),\n",
       " ('serrer', 'squeeze'),\n",
       " ('frotter', 'rub'),\n",
       " ('laver', 'wash'),\n",
       " ('essuyer', 'wipe'),\n",
       " ('tirer', 'pull'),\n",
       " ('pousser', 'push'),\n",
       " ('jeter', 'throw'),\n",
       " ('lier', 'tie'),\n",
       " ('coudre', 'sew'),\n",
       " ('compter', 'count'),\n",
       " ('dire', 'say'),\n",
       " ('chanter', 'sing'),\n",
       " ('jouer', 'play'),\n",
       " ('flotter', 'float'),\n",
       " ('couler', 'flow'),\n",
       " ('geler', 'freeze'),\n",
       " ('gonfler', 'swell'),\n",
       " ('soleil', 'sun'),\n",
       " ('lune', 'moon'),\n",
       " ('étoile', 'star'),\n",
       " ('eau', 'water'),\n",
       " ('pluie', 'rain'),\n",
       " ('rivière', 'river'),\n",
       " ('lac', 'lake'),\n",
       " ('mer', 'sea'),\n",
       " ('sel', 'salt'),\n",
       " ('pierre', 'stone'),\n",
       " ('sable', 'sand'),\n",
       " ('poussière', 'dust'),\n",
       " ('terre', 'earth'),\n",
       " ('nuage', 'cloud'),\n",
       " ('brouillard', 'fog'),\n",
       " ('ciel', 'sky'),\n",
       " ('vent', 'wind'),\n",
       " ('neige', 'snow'),\n",
       " ('glace', 'ice'),\n",
       " ('fumée', 'smoke'),\n",
       " ('feu', 'fire'),\n",
       " ('cendres', 'ashes'),\n",
       " ('brûler', 'burn'),\n",
       " ('route', 'road'),\n",
       " ('montagne', 'mountain'),\n",
       " ('rouge', 'red'),\n",
       " ('vert', 'green'),\n",
       " ('jaune', 'yellow'),\n",
       " ('blanc', 'white'),\n",
       " ('noir', 'black'),\n",
       " ('nuit', 'night'),\n",
       " ('jour', 'day'),\n",
       " ('an, année', 'year'),\n",
       " ('chaud', 'warm'),\n",
       " ('froid', 'cold'),\n",
       " ('plein', 'full'),\n",
       " ('nouveau', 'new'),\n",
       " ('vieux', 'old'),\n",
       " ('bon', 'good'),\n",
       " ('mauvais', 'bad'),\n",
       " ('pourri', 'rotten'),\n",
       " ('sale', 'dirty'),\n",
       " ('droit', 'straight'),\n",
       " ('rond', 'round'),\n",
       " ('tranchant, pointu, aigu', 'sharp'),\n",
       " ('émoussé', 'dull'),\n",
       " ('lisse', 'smooth'),\n",
       " ('mouillé', 'wet'),\n",
       " ('sec', 'dry'),\n",
       " ('juste, correct', 'correct'),\n",
       " ('proche', 'near'),\n",
       " ('loin', 'far'),\n",
       " ('à droite', 'right'),\n",
       " ('à gauche', 'left'),\n",
       " ('à', 'at'),\n",
       " ('dans', 'in'),\n",
       " ('avec', 'with'),\n",
       " ('et', 'and'),\n",
       " ('si', 'if'),\n",
       " ('parce que', 'because'),\n",
       " ('nom', 'name')]"
      ]
     },
     "execution_count": 42,
     "metadata": {},
     "output_type": "execute_result"
    }
   ],
   "source": [
    "fr2en = swadesh.entries(['fr', 'en'])\n",
    "fr2en"
   ]
  },
  {
   "cell_type": "code",
   "execution_count": 43,
   "metadata": {},
   "outputs": [],
   "source": [
    "translate = dict(fr2en)"
   ]
  },
  {
   "cell_type": "code",
   "execution_count": 44,
   "metadata": {},
   "outputs": [
    {
     "data": {
      "text/plain": [
       "{'je': 'I',\n",
       " 'tu, vous': 'you (singular), thou',\n",
       " 'il': 'he',\n",
       " 'nous': 'we',\n",
       " 'vous': 'you (plural)',\n",
       " 'ils, elles': 'they',\n",
       " 'ceci': 'this',\n",
       " 'cela': 'that',\n",
       " 'ici': 'here',\n",
       " 'là': 'there',\n",
       " 'qui': 'who',\n",
       " 'quoi': 'what',\n",
       " 'où': 'where',\n",
       " 'quand': 'when',\n",
       " 'comment': 'how',\n",
       " 'ne...pas': 'not',\n",
       " 'tout': 'all',\n",
       " 'plusieurs': 'many',\n",
       " 'quelques': 'some',\n",
       " 'peu': 'few',\n",
       " 'autre': 'other',\n",
       " 'un': 'one',\n",
       " 'deux': 'two',\n",
       " 'trois': 'three',\n",
       " 'quatre': 'four',\n",
       " 'cinq': 'five',\n",
       " 'grand': 'big',\n",
       " 'long': 'long',\n",
       " 'large': 'wide',\n",
       " 'épais': 'thick',\n",
       " 'lourd': 'heavy',\n",
       " 'petit': 'small',\n",
       " 'court': 'short',\n",
       " 'étroit': 'narrow',\n",
       " 'mince': 'thin',\n",
       " 'femme': 'woman',\n",
       " 'homme': 'man (human being)',\n",
       " 'enfant': 'child',\n",
       " 'femme, épouse': 'wife',\n",
       " 'mari, époux': 'husband',\n",
       " 'mère': 'mother',\n",
       " 'père': 'father',\n",
       " 'animal': 'animal',\n",
       " 'poisson': 'fish',\n",
       " 'oiseau': 'bird',\n",
       " 'chien': 'dog',\n",
       " 'pou': 'louse',\n",
       " 'serpent': 'snake',\n",
       " 'ver': 'worm',\n",
       " 'arbre': 'tree',\n",
       " 'forêt': 'forest',\n",
       " 'bâton': 'stick',\n",
       " 'fruit': 'fruit',\n",
       " 'graine': 'seed',\n",
       " 'feuille': 'leaf',\n",
       " 'racine': 'root',\n",
       " 'écorce': 'bark (from tree)',\n",
       " 'fleur': 'flower',\n",
       " 'herbe': 'grass',\n",
       " 'corde': 'rope',\n",
       " 'peau': 'skin',\n",
       " 'viande': 'meat',\n",
       " 'sang': 'blood',\n",
       " 'os': 'bone',\n",
       " 'graisse': 'fat (noun)',\n",
       " 'œuf': 'egg',\n",
       " 'corne': 'horn',\n",
       " 'queue': 'tail',\n",
       " 'plume': 'feather',\n",
       " 'cheveu': 'hair',\n",
       " 'tête': 'head',\n",
       " 'oreille': 'ear',\n",
       " 'œil': 'eye',\n",
       " 'nez': 'nose',\n",
       " 'bouche': 'mouth',\n",
       " 'dent': 'tooth',\n",
       " 'langue': 'tongue',\n",
       " 'ongle': 'fingernail',\n",
       " 'pied': 'foot',\n",
       " 'jambe': 'leg',\n",
       " 'genou': 'knee',\n",
       " 'main': 'hand',\n",
       " 'aile': 'wing',\n",
       " 'ventre': 'belly',\n",
       " 'entrailles': 'guts',\n",
       " 'cou': 'neck',\n",
       " 'dos': 'back',\n",
       " 'sein, poitrine': 'breast',\n",
       " 'cœur': 'heart',\n",
       " 'foie': 'liver',\n",
       " 'boire': 'drink',\n",
       " 'manger': 'eat',\n",
       " 'mordre': 'bite',\n",
       " 'sucer': 'suck',\n",
       " 'cracher': 'spit',\n",
       " 'vomir': 'vomit',\n",
       " 'souffler': 'blow',\n",
       " 'respirer': 'breathe',\n",
       " 'rire': 'laugh',\n",
       " 'voir': 'see',\n",
       " 'entendre': 'hear',\n",
       " 'savoir': 'know (a fact)',\n",
       " 'penser': 'think',\n",
       " 'sentir': 'smell',\n",
       " 'craindre, avoir peur': 'fear',\n",
       " 'dormir': 'sleep',\n",
       " 'vivre': 'live',\n",
       " 'mourir': 'die',\n",
       " 'tuer': 'kill',\n",
       " 'se battre': 'fight',\n",
       " 'chasser': 'hunt',\n",
       " 'frapper': 'hit',\n",
       " 'couper': 'cut',\n",
       " 'fendre': 'split',\n",
       " 'poignarder': 'stab',\n",
       " 'gratter': 'scratch',\n",
       " 'creuser': 'dig',\n",
       " 'nager': 'swim',\n",
       " 'voler': 'fly (verb)',\n",
       " 'marcher': 'walk',\n",
       " 'venir': 'come',\n",
       " \"s'étendre\": 'lie',\n",
       " \"s'asseoir\": 'sit',\n",
       " 'se lever': 'stand',\n",
       " 'tourner': 'turn',\n",
       " 'tomber': 'fall',\n",
       " 'donner': 'give',\n",
       " 'tenir': 'hold',\n",
       " 'serrer': 'squeeze',\n",
       " 'frotter': 'rub',\n",
       " 'laver': 'wash',\n",
       " 'essuyer': 'wipe',\n",
       " 'tirer': 'pull',\n",
       " 'pousser': 'push',\n",
       " 'jeter': 'throw',\n",
       " 'lier': 'tie',\n",
       " 'coudre': 'sew',\n",
       " 'compter': 'count',\n",
       " 'dire': 'say',\n",
       " 'chanter': 'sing',\n",
       " 'jouer': 'play',\n",
       " 'flotter': 'float',\n",
       " 'couler': 'flow',\n",
       " 'geler': 'freeze',\n",
       " 'gonfler': 'swell',\n",
       " 'soleil': 'sun',\n",
       " 'lune': 'moon',\n",
       " 'étoile': 'star',\n",
       " 'eau': 'water',\n",
       " 'pluie': 'rain',\n",
       " 'rivière': 'river',\n",
       " 'lac': 'lake',\n",
       " 'mer': 'sea',\n",
       " 'sel': 'salt',\n",
       " 'pierre': 'stone',\n",
       " 'sable': 'sand',\n",
       " 'poussière': 'dust',\n",
       " 'terre': 'earth',\n",
       " 'nuage': 'cloud',\n",
       " 'brouillard': 'fog',\n",
       " 'ciel': 'sky',\n",
       " 'vent': 'wind',\n",
       " 'neige': 'snow',\n",
       " 'glace': 'ice',\n",
       " 'fumée': 'smoke',\n",
       " 'feu': 'fire',\n",
       " 'cendres': 'ashes',\n",
       " 'brûler': 'burn',\n",
       " 'route': 'road',\n",
       " 'montagne': 'mountain',\n",
       " 'rouge': 'red',\n",
       " 'vert': 'green',\n",
       " 'jaune': 'yellow',\n",
       " 'blanc': 'white',\n",
       " 'noir': 'black',\n",
       " 'nuit': 'night',\n",
       " 'jour': 'day',\n",
       " 'an, année': 'year',\n",
       " 'chaud': 'warm',\n",
       " 'froid': 'cold',\n",
       " 'plein': 'full',\n",
       " 'nouveau': 'new',\n",
       " 'vieux': 'old',\n",
       " 'bon': 'good',\n",
       " 'mauvais': 'bad',\n",
       " 'pourri': 'rotten',\n",
       " 'sale': 'dirty',\n",
       " 'droit': 'straight',\n",
       " 'rond': 'round',\n",
       " 'tranchant, pointu, aigu': 'sharp',\n",
       " 'émoussé': 'dull',\n",
       " 'lisse': 'smooth',\n",
       " 'mouillé': 'wet',\n",
       " 'sec': 'dry',\n",
       " 'juste, correct': 'correct',\n",
       " 'proche': 'near',\n",
       " 'loin': 'far',\n",
       " 'à droite': 'right',\n",
       " 'à gauche': 'left',\n",
       " 'à': 'at',\n",
       " 'dans': 'in',\n",
       " 'avec': 'with',\n",
       " 'et': 'and',\n",
       " 'si': 'if',\n",
       " 'parce que': 'because',\n",
       " 'nom': 'name'}"
      ]
     },
     "execution_count": 44,
     "metadata": {},
     "output_type": "execute_result"
    }
   ],
   "source": [
    "translate"
   ]
  },
  {
   "cell_type": "code",
   "execution_count": 45,
   "metadata": {},
   "outputs": [
    {
     "data": {
      "text/plain": [
       "'dog'"
      ]
     },
     "execution_count": 45,
     "metadata": {},
     "output_type": "execute_result"
    }
   ],
   "source": [
    "translate['chien']"
   ]
  },
  {
   "cell_type": "code",
   "execution_count": 46,
   "metadata": {},
   "outputs": [
    {
     "data": {
      "text/plain": [
       "'throw'"
      ]
     },
     "execution_count": 46,
     "metadata": {},
     "output_type": "execute_result"
    }
   ],
   "source": [
    "translate['jeter']"
   ]
  },
  {
   "cell_type": "code",
   "execution_count": 47,
   "metadata": {},
   "outputs": [
    {
     "data": {
      "text/plain": [
       "'you (plural)'"
      ]
     },
     "execution_count": 47,
     "metadata": {},
     "output_type": "execute_result"
    }
   ],
   "source": [
    "translate['vous']"
   ]
  },
  {
   "cell_type": "code",
   "execution_count": 48,
   "metadata": {},
   "outputs": [
    {
     "data": {
      "text/plain": [
       "'dog'"
      ]
     },
     "execution_count": 48,
     "metadata": {},
     "output_type": "execute_result"
    }
   ],
   "source": [
    "de2en = swadesh.entries(['de', 'en'])    # German-English\n",
    "es2en = swadesh.entries(['es', 'en'])    # Spanish-English\n",
    "translate.update(dict(de2en))\n",
    "translate.update(dict(es2en))\n",
    "translate['Hund']"
   ]
  },
  {
   "cell_type": "code",
   "execution_count": 49,
   "metadata": {},
   "outputs": [
    {
     "data": {
      "text/plain": [
       "'dog'"
      ]
     },
     "execution_count": 49,
     "metadata": {},
     "output_type": "execute_result"
    }
   ],
   "source": [
    "translate['perro']"
   ]
  },
  {
   "cell_type": "code",
   "execution_count": 50,
   "metadata": {},
   "outputs": [
    {
     "data": {
      "text/plain": [
       "612"
      ]
     },
     "execution_count": 50,
     "metadata": {},
     "output_type": "execute_result"
    }
   ],
   "source": [
    "len(translate)"
   ]
  },
  {
   "cell_type": "code",
   "execution_count": 51,
   "metadata": {},
   "outputs": [
    {
     "data": {
      "text/plain": [
       "621"
      ]
     },
     "execution_count": 51,
     "metadata": {},
     "output_type": "execute_result"
    }
   ],
   "source": [
    "207 * 3"
   ]
  },
  {
   "cell_type": "markdown",
   "metadata": {},
   "source": [
    "# lOOK ABOUT THE Update method in dictionary ?"
   ]
  },
  {
   "cell_type": "markdown",
   "metadata": {},
   "source": [
    "# (L) WordNet"
   ]
  },
  {
   "cell_type": "markdown",
   "metadata": {},
   "source": [
    "**WordNet is a semantically oriented dictionary of English, similar to thesaurus but with a richer structure**"
   ]
  },
  {
   "cell_type": "markdown",
   "metadata": {},
   "source": [
    "**NLTK includes the English WordNet, with 155,287 words and 117,659 synonyms sets.**"
   ]
  },
  {
   "cell_type": "markdown",
   "metadata": {},
   "source": [
    "**Senses and Synonyms**"
   ]
  },
  {
   "cell_type": "code",
   "execution_count": 52,
   "metadata": {},
   "outputs": [
    {
     "name": "stderr",
     "output_type": "stream",
     "text": [
      "[nltk_data] Downloading package omw-1.4 to\n",
      "[nltk_data]     /homes/t326h379/nltk_data...\n",
      "[nltk_data]   Package omw-1.4 is already up-to-date!\n"
     ]
    }
   ],
   "source": [
    "import nltk \n",
    "\n",
    "nltk.download('omw-1.4')\n",
    "from nltk.corpus import wordnet as wn \n",
    "\n",
    "word1 = \"weapon\"\n",
    "\n",
    "synArray = wn.synsets(word1)"
   ]
  },
  {
   "cell_type": "code",
   "execution_count": 53,
   "metadata": {},
   "outputs": [
    {
     "data": {
      "text/plain": [
       "[Synset('weapon.n.01'), Synset('weapon.n.02')]"
      ]
     },
     "execution_count": 53,
     "metadata": {},
     "output_type": "execute_result"
    }
   ],
   "source": [
    "synArray"
   ]
  },
  {
   "cell_type": "code",
   "execution_count": 54,
   "metadata": {},
   "outputs": [],
   "source": [
    "woi = synArray[0]"
   ]
  },
  {
   "cell_type": "code",
   "execution_count": 55,
   "metadata": {},
   "outputs": [
    {
     "data": {
      "text/plain": [
       "Synset('weapon.n.01')"
      ]
     },
     "execution_count": 55,
     "metadata": {},
     "output_type": "execute_result"
    }
   ],
   "source": [
    "woi"
   ]
  },
  {
   "cell_type": "code",
   "execution_count": 56,
   "metadata": {},
   "outputs": [
    {
     "data": {
      "text/plain": [
       "'any instrument or instrumentality used in fighting or hunting'"
      ]
     },
     "execution_count": 56,
     "metadata": {},
     "output_type": "execute_result"
    }
   ],
   "source": [
    "woi.definition()"
   ]
  },
  {
   "cell_type": "code",
   "execution_count": 57,
   "metadata": {},
   "outputs": [
    {
     "data": {
      "text/plain": [
       "'weapon.n.01'"
      ]
     },
     "execution_count": 57,
     "metadata": {},
     "output_type": "execute_result"
    }
   ],
   "source": [
    "woi.name()"
   ]
  },
  {
   "cell_type": "code",
   "execution_count": 58,
   "metadata": {},
   "outputs": [
    {
     "data": {
      "text/plain": [
       "'n'"
      ]
     },
     "execution_count": 58,
     "metadata": {},
     "output_type": "execute_result"
    }
   ],
   "source": [
    "woi.pos()"
   ]
  },
  {
   "cell_type": "code",
   "execution_count": 59,
   "metadata": {},
   "outputs": [
    {
     "data": {
      "text/plain": [
       "['he was licensed to carry a weapon']"
      ]
     },
     "execution_count": 59,
     "metadata": {},
     "output_type": "execute_result"
    }
   ],
   "source": [
    "woi.examples()"
   ]
  },
  {
   "cell_type": "code",
   "execution_count": 60,
   "metadata": {},
   "outputs": [
    {
     "data": {
      "text/plain": [
       "['weapon', 'arm', 'weapon_system']"
      ]
     },
     "execution_count": 60,
     "metadata": {},
     "output_type": "execute_result"
    }
   ],
   "source": [
    "woi.lemma_names()"
   ]
  },
  {
   "cell_type": "markdown",
   "metadata": {},
   "source": [
    "**hypernyms and hyponyms**"
   ]
  },
  {
   "cell_type": "markdown",
   "metadata": {},
   "source": [
    "**hypernyms are more abstract**\n",
    "\n",
    "**hyponyms are more specific**"
   ]
  },
  {
   "cell_type": "markdown",
   "metadata": {},
   "source": [
    "**Hypernyms(cat) => animal, mammal, living being**\n",
    "\n",
    "**Hyponyms(cat) => tiger, panther**"
   ]
  },
  {
   "cell_type": "code",
   "execution_count": 61,
   "metadata": {},
   "outputs": [
    {
     "data": {
      "text/plain": [
       "[Synset('instrument.n.01')]"
      ]
     },
     "execution_count": 61,
     "metadata": {},
     "output_type": "execute_result"
    }
   ],
   "source": [
    " woi.hypernyms()"
   ]
  },
  {
   "cell_type": "code",
   "execution_count": 62,
   "metadata": {},
   "outputs": [
    {
     "data": {
      "text/plain": [
       "[Synset('sling.n.04'),\n",
       " Synset('brass_knucks.n.01'),\n",
       " Synset('projectile.n.01'),\n",
       " Synset('flamethrower.n.01'),\n",
       " Synset('pike.n.04'),\n",
       " Synset('knife.n.02'),\n",
       " Synset('bow_and_arrow.n.01'),\n",
       " Synset('missile.n.01'),\n",
       " Synset('spear.n.01'),\n",
       " Synset('sword.n.01'),\n",
       " Synset('light_arm.n.01'),\n",
       " Synset('bow.n.04'),\n",
       " Synset('gun.n.01'),\n",
       " Synset('weapon_of_mass_destruction.n.01'),\n",
       " Synset('tomahawk.n.01'),\n",
       " Synset('fire_ship.n.01'),\n",
       " Synset('greek_fire.n.01'),\n",
       " Synset('slasher.n.02'),\n",
       " Synset('stun_gun.n.01')]"
      ]
     },
     "execution_count": 62,
     "metadata": {},
     "output_type": "execute_result"
    }
   ],
   "source": [
    " woi.hyponyms()"
   ]
  },
  {
   "cell_type": "code",
   "execution_count": 63,
   "metadata": {},
   "outputs": [
    {
     "data": {
      "text/plain": [
       "Synset('brass_knucks.n.01')"
      ]
     },
     "execution_count": 63,
     "metadata": {},
     "output_type": "execute_result"
    }
   ],
   "source": [
    " woi.hyponyms()[1]"
   ]
  },
  {
   "cell_type": "code",
   "execution_count": 64,
   "metadata": {},
   "outputs": [
    {
     "data": {
      "text/plain": [
       "'a small metal weapon; worn over the knuckles on the back of the hand'"
      ]
     },
     "execution_count": 64,
     "metadata": {},
     "output_type": "execute_result"
    }
   ],
   "source": [
    " woi.hyponyms()[1].definition()"
   ]
  },
  {
   "cell_type": "code",
   "execution_count": 65,
   "metadata": {},
   "outputs": [],
   "source": [
    " tree = woi.hyponyms()[1]"
   ]
  },
  {
   "cell_type": "code",
   "execution_count": 66,
   "metadata": {},
   "outputs": [
    {
     "data": {
      "text/plain": [
       "Synset('weapon.n.01')"
      ]
     },
     "execution_count": 66,
     "metadata": {},
     "output_type": "execute_result"
    }
   ],
   "source": [
    "woi"
   ]
  },
  {
   "cell_type": "code",
   "execution_count": 67,
   "metadata": {},
   "outputs": [
    {
     "data": {
      "text/plain": [
       "Synset('brass_knucks.n.01')"
      ]
     },
     "execution_count": 67,
     "metadata": {},
     "output_type": "execute_result"
    }
   ],
   "source": [
    "tree"
   ]
  },
  {
   "cell_type": "markdown",
   "metadata": {},
   "source": [
    "**Lemmas, Synonyms and Antonyms**"
   ]
  },
  {
   "cell_type": "code",
   "execution_count": 68,
   "metadata": {},
   "outputs": [],
   "source": [
    "from nltk.corpus import wordnet"
   ]
  },
  {
   "cell_type": "code",
   "execution_count": 69,
   "metadata": {},
   "outputs": [],
   "source": [
    "sArr = wordnet.synsets(\"win\")"
   ]
  },
  {
   "cell_type": "code",
   "execution_count": 70,
   "metadata": {},
   "outputs": [
    {
     "data": {
      "text/plain": [
       "[Synset('win.n.01'),\n",
       " Synset('winnings.n.01'),\n",
       " Synset('win.v.01'),\n",
       " Synset('acquire.v.05'),\n",
       " Synset('gain.v.05'),\n",
       " Synset('succeed.v.01')]"
      ]
     },
     "execution_count": 70,
     "metadata": {},
     "output_type": "execute_result"
    }
   ],
   "source": [
    "sArr"
   ]
  },
  {
   "cell_type": "code",
   "execution_count": 71,
   "metadata": {},
   "outputs": [
    {
     "data": {
      "text/plain": [
       "Synset('win.v.01')"
      ]
     },
     "execution_count": 71,
     "metadata": {},
     "output_type": "execute_result"
    }
   ],
   "source": [
    "sArr[2]"
   ]
  },
  {
   "cell_type": "code",
   "execution_count": 72,
   "metadata": {},
   "outputs": [],
   "source": [
    "woi = sArr[2]"
   ]
  },
  {
   "cell_type": "code",
   "execution_count": 73,
   "metadata": {},
   "outputs": [
    {
     "data": {
      "text/plain": [
       "'v'"
      ]
     },
     "execution_count": 73,
     "metadata": {},
     "output_type": "execute_result"
    }
   ],
   "source": [
    "woi.pos()"
   ]
  },
  {
   "cell_type": "code",
   "execution_count": 74,
   "metadata": {},
   "outputs": [
    {
     "data": {
      "text/plain": [
       "'be the winner in a contest or competition; be victorious'"
      ]
     },
     "execution_count": 74,
     "metadata": {},
     "output_type": "execute_result"
    }
   ],
   "source": [
    "woi.definition()"
   ]
  },
  {
   "cell_type": "code",
   "execution_count": 75,
   "metadata": {},
   "outputs": [
    {
     "data": {
      "text/plain": [
       "['He won the Gold Medal in skating', 'Our home team won', 'Win the game']"
      ]
     },
     "execution_count": 75,
     "metadata": {},
     "output_type": "execute_result"
    }
   ],
   "source": [
    "woi.examples()"
   ]
  },
  {
   "cell_type": "code",
   "execution_count": 76,
   "metadata": {},
   "outputs": [
    {
     "data": {
      "text/plain": [
       "[Lemma('win.v.01.win')]"
      ]
     },
     "execution_count": 76,
     "metadata": {},
     "output_type": "execute_result"
    }
   ],
   "source": [
    "woi.lemmas()"
   ]
  },
  {
   "cell_type": "code",
   "execution_count": 77,
   "metadata": {},
   "outputs": [
    {
     "data": {
      "text/plain": [
       "Lemma('win.v.01.win')"
      ]
     },
     "execution_count": 77,
     "metadata": {},
     "output_type": "execute_result"
    }
   ],
   "source": [
    "woi.lemmas()[0]"
   ]
  },
  {
   "cell_type": "code",
   "execution_count": 78,
   "metadata": {},
   "outputs": [
    {
     "data": {
      "text/plain": [
       "[Synset('win.n.01'),\n",
       " Synset('winnings.n.01'),\n",
       " Synset('win.v.01'),\n",
       " Synset('acquire.v.05'),\n",
       " Synset('gain.v.05'),\n",
       " Synset('succeed.v.01')]"
      ]
     },
     "execution_count": 78,
     "metadata": {},
     "output_type": "execute_result"
    }
   ],
   "source": [
    "sArr"
   ]
  },
  {
   "cell_type": "code",
   "execution_count": 79,
   "metadata": {},
   "outputs": [],
   "source": [
    "synArr = set()\n",
    "antArr = set()\n",
    "\n",
    "for syn in sArr:\n",
    "    for lem in syn.lemmas():\n",
    "        synArr.add(lem.name())"
   ]
  },
  {
   "cell_type": "code",
   "execution_count": 80,
   "metadata": {},
   "outputs": [
    {
     "data": {
      "text/plain": [
       "{'acquire',\n",
       " 'advance',\n",
       " 'bring_home_the_bacon',\n",
       " 'come_through',\n",
       " 'deliver_the_goods',\n",
       " 'gain',\n",
       " 'gain_ground',\n",
       " 'get_ahead',\n",
       " 'make_headway',\n",
       " 'profits',\n",
       " 'pull_ahead',\n",
       " 'succeed',\n",
       " 'win',\n",
       " 'winnings'}"
      ]
     },
     "execution_count": 80,
     "metadata": {},
     "output_type": "execute_result"
    }
   ],
   "source": [
    "synArr"
   ]
  },
  {
   "cell_type": "code",
   "execution_count": 81,
   "metadata": {},
   "outputs": [
    {
     "data": {
      "text/plain": [
       "'win'"
      ]
     },
     "execution_count": 81,
     "metadata": {},
     "output_type": "execute_result"
    }
   ],
   "source": [
    "woi.lemmas()[0].name()"
   ]
  },
  {
   "cell_type": "code",
   "execution_count": 82,
   "metadata": {},
   "outputs": [
    {
     "data": {
      "text/plain": [
       "Synset('win.v.01')"
      ]
     },
     "execution_count": 82,
     "metadata": {},
     "output_type": "execute_result"
    }
   ],
   "source": [
    "woi"
   ]
  },
  {
   "cell_type": "code",
   "execution_count": 83,
   "metadata": {},
   "outputs": [
    {
     "data": {
      "text/plain": [
       "[Lemma('win.v.01.win')]"
      ]
     },
     "execution_count": 83,
     "metadata": {},
     "output_type": "execute_result"
    }
   ],
   "source": [
    "woi.lemmas()"
   ]
  },
  {
   "cell_type": "code",
   "execution_count": 84,
   "metadata": {},
   "outputs": [
    {
     "data": {
      "text/plain": [
       "[Lemma('lose.v.02.lose')]"
      ]
     },
     "execution_count": 84,
     "metadata": {},
     "output_type": "execute_result"
    }
   ],
   "source": [
    "woi.lemmas()[0].antonyms()"
   ]
  },
  {
   "cell_type": "code",
   "execution_count": 85,
   "metadata": {},
   "outputs": [
    {
     "data": {
      "text/plain": [
       "Lemma('lose.v.02.lose')"
      ]
     },
     "execution_count": 85,
     "metadata": {},
     "output_type": "execute_result"
    }
   ],
   "source": [
    "woi.lemmas()[0].antonyms()[0]"
   ]
  },
  {
   "cell_type": "code",
   "execution_count": 86,
   "metadata": {},
   "outputs": [
    {
     "data": {
      "text/plain": [
       "'lose'"
      ]
     },
     "execution_count": 86,
     "metadata": {},
     "output_type": "execute_result"
    }
   ],
   "source": [
    "woi.lemmas()[0].antonyms()[0].name()"
   ]
  },
  {
   "cell_type": "code",
   "execution_count": 87,
   "metadata": {},
   "outputs": [],
   "source": [
    "antArr = set()\n",
    "\n",
    "for syn in sArr:\n",
    "    for lem in syn.lemmas():\n",
    "        for ant in lem.antonyms():\n",
    "            antArr.add(ant.name())"
   ]
  },
  {
   "cell_type": "code",
   "execution_count": 88,
   "metadata": {},
   "outputs": [
    {
     "data": {
      "text/plain": [
       "{'fail', 'fall_back', 'lose', 'losings'}"
      ]
     },
     "execution_count": 88,
     "metadata": {},
     "output_type": "execute_result"
    }
   ],
   "source": [
    "antArr"
   ]
  },
  {
   "cell_type": "markdown",
   "metadata": {},
   "source": [
    "**Wu Palmer Similarity**"
   ]
  },
  {
   "cell_type": "code",
   "execution_count": 89,
   "metadata": {},
   "outputs": [],
   "source": [
    "from nltk.corpus import wordnet"
   ]
  },
  {
   "cell_type": "markdown",
   "metadata": {},
   "source": [
    "**cake, loaf, bread**"
   ]
  },
  {
   "cell_type": "code",
   "execution_count": 90,
   "metadata": {},
   "outputs": [],
   "source": [
    "sarr1 = wordnet.synsets('cake')\n",
    "sarr2 = wordnet.synsets('loaf')\n",
    "sarr3 = wordnet.synsets('bread')"
   ]
  },
  {
   "cell_type": "code",
   "execution_count": 91,
   "metadata": {},
   "outputs": [
    {
     "data": {
      "text/plain": [
       "[Synset('cake.n.01'),\n",
       " Synset('patty.n.01'),\n",
       " Synset('cake.n.03'),\n",
       " Synset('coat.v.03')]"
      ]
     },
     "execution_count": 91,
     "metadata": {},
     "output_type": "execute_result"
    }
   ],
   "source": [
    "sarr1"
   ]
  },
  {
   "cell_type": "code",
   "execution_count": 92,
   "metadata": {},
   "outputs": [],
   "source": [
    "cake = sarr1[0]"
   ]
  },
  {
   "cell_type": "code",
   "execution_count": 93,
   "metadata": {},
   "outputs": [
    {
     "data": {
      "text/plain": [
       "[Synset('loaf_of_bread.n.01'),\n",
       " Synset('loaf.n.02'),\n",
       " Synset('bum.v.02'),\n",
       " Synset('loiter.v.01')]"
      ]
     },
     "execution_count": 93,
     "metadata": {},
     "output_type": "execute_result"
    }
   ],
   "source": [
    "sarr2"
   ]
  },
  {
   "cell_type": "code",
   "execution_count": 94,
   "metadata": {},
   "outputs": [],
   "source": [
    "loafb = sarr2[0]\n",
    "loaf = sarr2[1]"
   ]
  },
  {
   "cell_type": "code",
   "execution_count": 95,
   "metadata": {},
   "outputs": [
    {
     "data": {
      "text/plain": [
       "[Synset('bread.n.01'), Synset('boodle.n.01'), Synset('bread.v.01')]"
      ]
     },
     "execution_count": 95,
     "metadata": {},
     "output_type": "execute_result"
    }
   ],
   "source": [
    "sarr3"
   ]
  },
  {
   "cell_type": "code",
   "execution_count": 96,
   "metadata": {},
   "outputs": [],
   "source": [
    "bread = sarr3[0]"
   ]
  },
  {
   "cell_type": "code",
   "execution_count": 97,
   "metadata": {},
   "outputs": [
    {
     "data": {
      "text/plain": [
       "Synset('cake.n.01')"
      ]
     },
     "execution_count": 97,
     "metadata": {},
     "output_type": "execute_result"
    }
   ],
   "source": [
    "cake"
   ]
  },
  {
   "cell_type": "code",
   "execution_count": 98,
   "metadata": {},
   "outputs": [
    {
     "data": {
      "text/plain": [
       "Synset('loaf_of_bread.n.01')"
      ]
     },
     "execution_count": 98,
     "metadata": {},
     "output_type": "execute_result"
    }
   ],
   "source": [
    "loafb"
   ]
  },
  {
   "cell_type": "code",
   "execution_count": 99,
   "metadata": {},
   "outputs": [
    {
     "data": {
      "text/plain": [
       "Synset('loaf.n.02')"
      ]
     },
     "execution_count": 99,
     "metadata": {},
     "output_type": "execute_result"
    }
   ],
   "source": [
    "loaf"
   ]
  },
  {
   "cell_type": "code",
   "execution_count": 100,
   "metadata": {},
   "outputs": [
    {
     "data": {
      "text/plain": [
       "Synset('bread.n.01')"
      ]
     },
     "execution_count": 100,
     "metadata": {},
     "output_type": "execute_result"
    }
   ],
   "source": [
    "bread"
   ]
  },
  {
   "cell_type": "markdown",
   "metadata": {},
   "source": [
    "# How do you compare how similar are these words"
   ]
  },
  {
   "cell_type": "code",
   "execution_count": 101,
   "metadata": {},
   "outputs": [
    {
     "data": {
      "text/plain": [
       "0.3076923076923077"
      ]
     },
     "execution_count": 101,
     "metadata": {},
     "output_type": "execute_result"
    }
   ],
   "source": [
    "cake.wup_similarity(loaf)"
   ]
  },
  {
   "cell_type": "code",
   "execution_count": 102,
   "metadata": {},
   "outputs": [
    {
     "data": {
      "text/plain": [
       "1.0"
      ]
     },
     "execution_count": 102,
     "metadata": {},
     "output_type": "execute_result"
    }
   ],
   "source": [
    "cake.wup_similarity(cake)"
   ]
  },
  {
   "cell_type": "code",
   "execution_count": 103,
   "metadata": {},
   "outputs": [
    {
     "data": {
      "text/plain": [
       "0.26666666666666666"
      ]
     },
     "execution_count": 103,
     "metadata": {},
     "output_type": "execute_result"
    }
   ],
   "source": [
    "cake.wup_similarity(loafb)"
   ]
  },
  {
   "cell_type": "code",
   "execution_count": 104,
   "metadata": {},
   "outputs": [
    {
     "data": {
      "text/plain": [
       "0.7142857142857143"
      ]
     },
     "execution_count": 104,
     "metadata": {},
     "output_type": "execute_result"
    }
   ],
   "source": [
    "loaf.wup_similarity(loafb)"
   ]
  },
  {
   "cell_type": "code",
   "execution_count": 105,
   "metadata": {},
   "outputs": [
    {
     "data": {
      "text/plain": [
       "0.7692307692307693"
      ]
     },
     "execution_count": 105,
     "metadata": {},
     "output_type": "execute_result"
    }
   ],
   "source": [
    "bread.wup_similarity(loaf)"
   ]
  },
  {
   "cell_type": "code",
   "execution_count": 106,
   "metadata": {},
   "outputs": [
    {
     "data": {
      "text/plain": [
       "0.9411764705882353"
      ]
     },
     "execution_count": 106,
     "metadata": {},
     "output_type": "execute_result"
    }
   ],
   "source": [
    "bread.wup_similarity(loafb)"
   ]
  },
  {
   "cell_type": "code",
   "execution_count": 107,
   "metadata": {},
   "outputs": [
    {
     "data": {
      "text/plain": [
       "[Synset('food.n.02')]"
      ]
     },
     "execution_count": 107,
     "metadata": {},
     "output_type": "execute_result"
    }
   ],
   "source": [
    "loaf.hypernyms()"
   ]
  },
  {
   "cell_type": "code",
   "execution_count": 108,
   "metadata": {},
   "outputs": [
    {
     "data": {
      "text/plain": [
       "Synset('food.n.02')"
      ]
     },
     "execution_count": 108,
     "metadata": {},
     "output_type": "execute_result"
    }
   ],
   "source": [
    "loaf.hypernyms()[0] "
   ]
  },
  {
   "cell_type": "code",
   "execution_count": 109,
   "metadata": {},
   "outputs": [],
   "source": [
    "ref = loaf.hypernyms()[0] "
   ]
  },
  {
   "cell_type": "code",
   "execution_count": 110,
   "metadata": {},
   "outputs": [
    {
     "data": {
      "text/plain": [
       "Synset('food.n.02')"
      ]
     },
     "execution_count": 110,
     "metadata": {},
     "output_type": "execute_result"
    }
   ],
   "source": [
    "ref"
   ]
  },
  {
   "cell_type": "code",
   "execution_count": 111,
   "metadata": {},
   "outputs": [
    {
     "data": {
      "text/plain": [
       "1"
      ]
     },
     "execution_count": 111,
     "metadata": {},
     "output_type": "execute_result"
    }
   ],
   "source": [
    "loaf.shortest_path_distance(ref)"
   ]
  },
  {
   "cell_type": "code",
   "execution_count": 112,
   "metadata": {},
   "outputs": [
    {
     "data": {
      "text/plain": [
       "2"
      ]
     },
     "execution_count": 112,
     "metadata": {},
     "output_type": "execute_result"
    }
   ],
   "source": [
    "bread.shortest_path_distance(ref)"
   ]
  },
  {
   "cell_type": "code",
   "execution_count": 113,
   "metadata": {},
   "outputs": [
    {
     "data": {
      "text/plain": [
       "3"
      ]
     },
     "execution_count": 113,
     "metadata": {},
     "output_type": "execute_result"
    }
   ],
   "source": [
    "loafb.shortest_path_distance(ref)"
   ]
  },
  {
   "cell_type": "code",
   "execution_count": 114,
   "metadata": {},
   "outputs": [
    {
     "data": {
      "text/plain": [
       "8"
      ]
     },
     "execution_count": 114,
     "metadata": {},
     "output_type": "execute_result"
    }
   ],
   "source": [
    "cake.shortest_path_distance(ref)"
   ]
  },
  {
   "cell_type": "code",
   "execution_count": 115,
   "metadata": {},
   "outputs": [
    {
     "data": {
      "text/plain": [
       "0.3076923076923077"
      ]
     },
     "execution_count": 115,
     "metadata": {},
     "output_type": "execute_result"
    }
   ],
   "source": [
    "cake.wup_similarity(loaf)"
   ]
  },
  {
   "cell_type": "code",
   "execution_count": 116,
   "metadata": {},
   "outputs": [
    {
     "data": {
      "text/plain": [
       "1.0"
      ]
     },
     "execution_count": 116,
     "metadata": {},
     "output_type": "execute_result"
    }
   ],
   "source": [
    "cake.wup_similarity(cake)"
   ]
  },
  {
   "cell_type": "markdown",
   "metadata": {},
   "source": [
    "**Path and LCH Similarities**"
   ]
  },
  {
   "cell_type": "code",
   "execution_count": 117,
   "metadata": {},
   "outputs": [],
   "source": [
    "from nltk.corpus import wordnet"
   ]
  },
  {
   "cell_type": "code",
   "execution_count": 118,
   "metadata": {},
   "outputs": [],
   "source": [
    "catArr = wordnet.synsets('cat')"
   ]
  },
  {
   "cell_type": "code",
   "execution_count": 119,
   "metadata": {},
   "outputs": [],
   "source": [
    "dogArr = wordnet.synsets('dog')"
   ]
  },
  {
   "cell_type": "code",
   "execution_count": 120,
   "metadata": {},
   "outputs": [
    {
     "data": {
      "text/plain": [
       "[Synset('dog.n.01'),\n",
       " Synset('frump.n.01'),\n",
       " Synset('dog.n.03'),\n",
       " Synset('cad.n.01'),\n",
       " Synset('frank.n.02'),\n",
       " Synset('pawl.n.01'),\n",
       " Synset('andiron.n.01'),\n",
       " Synset('chase.v.01')]"
      ]
     },
     "execution_count": 120,
     "metadata": {},
     "output_type": "execute_result"
    }
   ],
   "source": [
    "dogArr"
   ]
  },
  {
   "cell_type": "code",
   "execution_count": 121,
   "metadata": {},
   "outputs": [
    {
     "data": {
      "text/plain": [
       "[Synset('cat.n.01'),\n",
       " Synset('guy.n.01'),\n",
       " Synset('cat.n.03'),\n",
       " Synset('kat.n.01'),\n",
       " Synset('cat-o'-nine-tails.n.01'),\n",
       " Synset('caterpillar.n.02'),\n",
       " Synset('big_cat.n.01'),\n",
       " Synset('computerized_tomography.n.01'),\n",
       " Synset('cat.v.01'),\n",
       " Synset('vomit.v.01')]"
      ]
     },
     "execution_count": 121,
     "metadata": {},
     "output_type": "execute_result"
    }
   ],
   "source": [
    "catArr"
   ]
  },
  {
   "cell_type": "code",
   "execution_count": 122,
   "metadata": {},
   "outputs": [],
   "source": [
    "doi = dogArr[0]\n",
    "coi = catArr[0]"
   ]
  },
  {
   "cell_type": "code",
   "execution_count": 123,
   "metadata": {},
   "outputs": [
    {
     "data": {
      "text/plain": [
       "Synset('dog.n.01')"
      ]
     },
     "execution_count": 123,
     "metadata": {},
     "output_type": "execute_result"
    }
   ],
   "source": [
    "doi"
   ]
  },
  {
   "cell_type": "code",
   "execution_count": 124,
   "metadata": {},
   "outputs": [
    {
     "data": {
      "text/plain": [
       "Synset('cat.n.01')"
      ]
     },
     "execution_count": 124,
     "metadata": {},
     "output_type": "execute_result"
    }
   ],
   "source": [
    "coi"
   ]
  },
  {
   "cell_type": "code",
   "execution_count": 125,
   "metadata": {},
   "outputs": [
    {
     "data": {
      "text/plain": [
       "0.8571428571428571"
      ]
     },
     "execution_count": 125,
     "metadata": {},
     "output_type": "execute_result"
    }
   ],
   "source": [
    "doi.wup_similarity(coi)"
   ]
  },
  {
   "cell_type": "code",
   "execution_count": 126,
   "metadata": {},
   "outputs": [
    {
     "data": {
      "text/plain": [
       "0.2"
      ]
     },
     "execution_count": 126,
     "metadata": {},
     "output_type": "execute_result"
    }
   ],
   "source": [
    "doi.path_similarity(coi)"
   ]
  },
  {
   "cell_type": "code",
   "execution_count": 127,
   "metadata": {},
   "outputs": [
    {
     "data": {
      "text/plain": [
       "1.0"
      ]
     },
     "execution_count": 127,
     "metadata": {},
     "output_type": "execute_result"
    }
   ],
   "source": [
    "doi.path_similarity(doi)"
   ]
  },
  {
   "cell_type": "markdown",
   "metadata": {},
   "source": [
    "# Things close to \"0\" are unrelated\n",
    "# Things close to \"1\" are related"
   ]
  },
  {
   "cell_type": "markdown",
   "metadata": {},
   "source": [
    "# leacock chodorow similarity"
   ]
  },
  {
   "cell_type": "code",
   "execution_count": 128,
   "metadata": {},
   "outputs": [
    {
     "data": {
      "text/plain": [
       "3.6375861597263857"
      ]
     },
     "execution_count": 128,
     "metadata": {},
     "output_type": "execute_result"
    }
   ],
   "source": [
    "doi.lch_similarity(doi)"
   ]
  },
  {
   "cell_type": "code",
   "execution_count": 129,
   "metadata": {},
   "outputs": [
    {
     "data": {
      "text/plain": [
       "2.0281482472922856"
      ]
     },
     "execution_count": 129,
     "metadata": {},
     "output_type": "execute_result"
    }
   ],
   "source": [
    "coi.lch_similarity(doi)"
   ]
  },
  {
   "cell_type": "code",
   "execution_count": 130,
   "metadata": {},
   "outputs": [
    {
     "data": {
      "text/plain": [
       "3.6375861597263857"
      ]
     },
     "execution_count": 130,
     "metadata": {},
     "output_type": "execute_result"
    }
   ],
   "source": [
    "coi.lch_similarity(coi)"
   ]
  },
  {
   "cell_type": "code",
   "execution_count": 131,
   "metadata": {},
   "outputs": [
    {
     "data": {
      "text/plain": [
       "2.0281482472922856"
      ]
     },
     "execution_count": 131,
     "metadata": {},
     "output_type": "execute_result"
    }
   ],
   "source": [
    "doi.lch_similarity(coi)"
   ]
  },
  {
   "cell_type": "code",
   "execution_count": null,
   "metadata": {},
   "outputs": [],
   "source": []
  },
  {
   "cell_type": "markdown",
   "metadata": {},
   "source": [
    "# (L) WordNet the book way"
   ]
  },
  {
   "cell_type": "markdown",
   "metadata": {},
   "source": [
    "**Semantically focused dictionary with a hierarchical strucutre.**"
   ]
  },
  {
   "cell_type": "code",
   "execution_count": 198,
   "metadata": {
    "scrolled": true
   },
   "outputs": [
    {
     "data": {
      "image/png": "[encoded data removed]",
      "text/plain": [
       "<IPython.core.display.Image object>"
      ]
     },
     "execution_count": 198,
     "metadata": {},
     "output_type": "execute_result"
    }
   ],
   "source": [
    "from IPython import display\n",
    "display.Image(\"wordnet.PNG\")"
   ]
  },
  {
   "cell_type": "markdown",
   "metadata": {},
   "source": [
    "# Senses and Synonyms\n",
    "\n",
    "**Synonyms: words with the same or similar meaning.** \n",
    "    \n",
    "**Benz is credited with the invention of the motorcar.**\n",
    "\n",
    "**Benz is credited with the invention of the automobile.**\n",
    "\n",
    "**Replacing motorcar with automobile keeps the same meaning of the sentence, so they are related. We can view them using the synsets funciton in WordNet.**"
   ]
  },
  {
   "cell_type": "markdown",
   "metadata": {},
   "source": [
    "**polysemi one word multiple meaning**"
   ]
  },
  {
   "cell_type": "code",
   "execution_count": 133,
   "metadata": {},
   "outputs": [
    {
     "data": {
      "text/plain": [
       "[Synset('car.n.01')]"
      ]
     },
     "execution_count": 133,
     "metadata": {},
     "output_type": "execute_result"
    }
   ],
   "source": [
    "from nltk.corpus import wordnet as wn \n",
    "wn.synsets('motorcar')"
   ]
  },
  {
   "cell_type": "markdown",
   "metadata": {},
   "source": [
    "**We see the that motorcar has one realted word, which is car.n.01:**\n",
    "    \n",
    "**Word**\n",
    "\n",
    "**Part of Speech**\n",
    "\n",
    "**Definition number**\n",
    "\n",
    "**We can view the words related to car.n.01 and just get the name by using the lemma_names function, which pulls the name of the listings (lemmas) instead of the complete listing with lemma.pos.definition number.**"
   ]
  },
  {
   "cell_type": "code",
   "execution_count": 134,
   "metadata": {},
   "outputs": [
    {
     "data": {
      "text/plain": [
       "['car', 'auto', 'automobile', 'machine', 'motorcar']"
      ]
     },
     "execution_count": 134,
     "metadata": {},
     "output_type": "execute_result"
    }
   ],
   "source": [
    "wn.synset('car.n.01').lemma_names()"
   ]
  },
  {
   "cell_type": "markdown",
   "metadata": {},
   "source": [
    "**You can figure out what the definition of a word is by using the definition function, which is related the .01 at the end of the marker.**\n",
    "\n",
    "**Another function is examples, which gives the word in an example sentence.**"
   ]
  },
  {
   "cell_type": "code",
   "execution_count": 135,
   "metadata": {},
   "outputs": [
    {
     "data": {
      "text/plain": [
       "'a motor vehicle with four wheels; usually propelled by an internal combustion engine'"
      ]
     },
     "execution_count": 135,
     "metadata": {},
     "output_type": "execute_result"
    }
   ],
   "source": [
    "wn.synset('car.n.01').definition()"
   ]
  },
  {
   "cell_type": "code",
   "execution_count": 136,
   "metadata": {},
   "outputs": [
    {
     "data": {
      "text/plain": [
       "['he needs a car to get to work']"
      ]
     },
     "execution_count": 136,
     "metadata": {},
     "output_type": "execute_result"
    }
   ],
   "source": [
    "wn.synset('car.n.01').examples()"
   ]
  },
  {
   "cell_type": "markdown",
   "metadata": {},
   "source": [
    "**Lots of words have multiple synsets**"
   ]
  },
  {
   "cell_type": "code",
   "execution_count": 137,
   "metadata": {},
   "outputs": [
    {
     "data": {
      "text/plain": [
       "[Synset('car.n.01'),\n",
       " Synset('car.n.02'),\n",
       " Synset('car.n.03'),\n",
       " Synset('car.n.04'),\n",
       " Synset('cable_car.n.01')]"
      ]
     },
     "execution_count": 137,
     "metadata": {},
     "output_type": "execute_result"
    }
   ],
   "source": [
    "wn.synsets('car')"
   ]
  },
  {
   "cell_type": "code",
   "execution_count": 138,
   "metadata": {},
   "outputs": [
    {
     "name": "stdout",
     "output_type": "stream",
     "text": [
      "['car', 'auto', 'automobile', 'machine', 'motorcar']\n",
      "['car', 'railcar', 'railway_car', 'railroad_car']\n",
      "['car', 'gondola']\n",
      "['car', 'elevator_car']\n",
      "['cable_car', 'car']\n"
     ]
    }
   ],
   "source": [
    "for synset in wn.synsets('car'):\n",
    "    print(synset.lemma_names())"
   ]
  },
  {
   "cell_type": "markdown",
   "metadata": {},
   "source": [
    "# The WordNet Hierarchy\n",
    "\n",
    "**Because WordNet has a hierarchy, that means we can move between realted words thorugh the hierarchy. The hyponyms function lets you look at the words below a chosen one in a category.**"
   ]
  },
  {
   "cell_type": "markdown",
   "metadata": {},
   "source": [
    "**Basic level category-most general name for something-the level that you are working at \"car\"**"
   ]
  },
  {
   "cell_type": "markdown",
   "metadata": {},
   "source": [
    "**Superordinate-the more abstract level naming for the words above it in a strucutre (hypernym) \"vehicle\"**\n",
    "\n",
    "**Subordinate-the more concrete level naming for words lower in the structure (hyponym) \"Nissan\"**"
   ]
  },
  {
   "cell_type": "code",
   "execution_count": 139,
   "metadata": {},
   "outputs": [
    {
     "name": "stdout",
     "output_type": "stream",
     "text": [
      "Synset('car.n.01')\n",
      "\n",
      "\n",
      "[Synset('cruiser.n.01'), Synset('hatchback.n.01'), Synset('sedan.n.01'), Synset('sports_car.n.01'), Synset('hardtop.n.01'), Synset('stock_car.n.01'), Synset('model_t.n.01'), Synset('cab.n.03'), Synset('minivan.n.01'), Synset('racer.n.02'), Synset('limousine.n.01'), Synset('used-car.n.01'), Synset('bus.n.04'), Synset('sport_utility.n.01'), Synset('horseless_carriage.n.01'), Synset('ambulance.n.01'), Synset('roadster.n.01'), Synset('convertible.n.01'), Synset('subcompact.n.01'), Synset('touring_car.n.01'), Synset('gas_guzzler.n.01'), Synset('pace_car.n.01'), Synset('beach_wagon.n.01'), Synset('coupe.n.01'), Synset('stanley_steamer.n.01'), Synset('jeep.n.01'), Synset('electric.n.01'), Synset('loaner.n.02'), Synset('minicar.n.01'), Synset('compact.n.03'), Synset('hot_rod.n.01')]\n"
     ]
    }
   ],
   "source": [
    "motorcar = wn.synset('car.n.01')\n",
    "print(motorcar)\n",
    "print()\n",
    "types_of_motorcar = motorcar.hyponyms()\n",
    "print()\n",
    "print(types_of_motorcar)"
   ]
  },
  {
   "cell_type": "code",
   "execution_count": 140,
   "metadata": {},
   "outputs": [
    {
     "name": "stdout",
     "output_type": "stream",
     "text": [
      "Synset('cruiser.n.01')\n",
      "\n",
      "cruiser\n",
      "police_cruiser\n",
      "patrol_car\n",
      "police_car\n",
      "prowl_car\n",
      "squad_car\n",
      "\n",
      "Synset('hatchback.n.01')\n",
      "\n",
      "hatchback\n",
      "\n",
      "Synset('sedan.n.01')\n",
      "\n",
      "sedan\n",
      "saloon\n",
      "\n",
      "Synset('sports_car.n.01')\n",
      "\n",
      "sports_car\n",
      "sport_car\n",
      "\n",
      "Synset('hardtop.n.01')\n",
      "\n",
      "hardtop\n",
      "\n",
      "Synset('stock_car.n.01')\n",
      "\n",
      "stock_car\n",
      "\n",
      "Synset('model_t.n.01')\n",
      "\n",
      "Model_T\n",
      "\n",
      "Synset('cab.n.03')\n",
      "\n",
      "cab\n",
      "hack\n",
      "taxi\n",
      "taxicab\n",
      "\n",
      "Synset('minivan.n.01')\n",
      "\n",
      "minivan\n",
      "\n",
      "Synset('racer.n.02')\n",
      "\n",
      "racer\n",
      "race_car\n",
      "racing_car\n",
      "\n",
      "Synset('limousine.n.01')\n",
      "\n",
      "limousine\n",
      "limo\n",
      "\n",
      "Synset('used-car.n.01')\n",
      "\n",
      "used-car\n",
      "secondhand_car\n",
      "\n",
      "Synset('bus.n.04')\n",
      "\n",
      "bus\n",
      "jalopy\n",
      "heap\n",
      "\n",
      "Synset('sport_utility.n.01')\n",
      "\n",
      "sport_utility\n",
      "sport_utility_vehicle\n",
      "S.U.V.\n",
      "SUV\n",
      "\n",
      "Synset('horseless_carriage.n.01')\n",
      "\n",
      "horseless_carriage\n",
      "\n",
      "Synset('ambulance.n.01')\n",
      "\n",
      "ambulance\n",
      "\n",
      "Synset('roadster.n.01')\n",
      "\n",
      "roadster\n",
      "runabout\n",
      "two-seater\n",
      "\n",
      "Synset('convertible.n.01')\n",
      "\n",
      "convertible\n",
      "\n",
      "Synset('subcompact.n.01')\n",
      "\n",
      "subcompact\n",
      "subcompact_car\n",
      "\n",
      "Synset('touring_car.n.01')\n",
      "\n",
      "touring_car\n",
      "phaeton\n",
      "tourer\n",
      "\n",
      "Synset('gas_guzzler.n.01')\n",
      "\n",
      "gas_guzzler\n",
      "\n",
      "Synset('pace_car.n.01')\n",
      "\n",
      "pace_car\n",
      "\n",
      "Synset('beach_wagon.n.01')\n",
      "\n",
      "beach_wagon\n",
      "station_wagon\n",
      "wagon\n",
      "estate_car\n",
      "beach_waggon\n",
      "station_waggon\n",
      "waggon\n",
      "\n",
      "Synset('coupe.n.01')\n",
      "\n",
      "coupe\n",
      "\n",
      "Synset('stanley_steamer.n.01')\n",
      "\n",
      "Stanley_Steamer\n",
      "\n",
      "Synset('jeep.n.01')\n",
      "\n",
      "jeep\n",
      "landrover\n",
      "\n",
      "Synset('electric.n.01')\n",
      "\n",
      "electric\n",
      "electric_automobile\n",
      "electric_car\n",
      "\n",
      "Synset('loaner.n.02')\n",
      "\n",
      "loaner\n",
      "\n",
      "Synset('minicar.n.01')\n",
      "\n",
      "minicar\n",
      "\n",
      "Synset('compact.n.03')\n",
      "\n",
      "compact\n",
      "compact_car\n",
      "\n",
      "Synset('hot_rod.n.01')\n",
      "\n",
      "hot_rod\n",
      "hot-rod\n",
      "\n"
     ]
    }
   ],
   "source": [
    "for synset in types_of_motorcar:\n",
    "    print(synset)\n",
    "    print()\n",
    "    for lemma in synset.lemmas():\n",
    "        print(lemma.name())\n",
    "    print() "
   ]
  },
  {
   "cell_type": "code",
   "execution_count": 141,
   "metadata": {},
   "outputs": [
    {
     "data": {
      "text/plain": [
       "['Model_T',\n",
       " 'S.U.V.',\n",
       " 'SUV',\n",
       " 'Stanley_Steamer',\n",
       " 'ambulance',\n",
       " 'beach_waggon',\n",
       " 'beach_wagon',\n",
       " 'bus',\n",
       " 'cab',\n",
       " 'compact',\n",
       " 'compact_car',\n",
       " 'convertible',\n",
       " 'coupe',\n",
       " 'cruiser',\n",
       " 'electric',\n",
       " 'electric_automobile',\n",
       " 'electric_car',\n",
       " 'estate_car',\n",
       " 'gas_guzzler',\n",
       " 'hack',\n",
       " 'hardtop',\n",
       " 'hatchback',\n",
       " 'heap',\n",
       " 'horseless_carriage',\n",
       " 'hot-rod',\n",
       " 'hot_rod',\n",
       " 'jalopy',\n",
       " 'jeep',\n",
       " 'landrover',\n",
       " 'limo',\n",
       " 'limousine',\n",
       " 'loaner',\n",
       " 'minicar',\n",
       " 'minivan',\n",
       " 'pace_car',\n",
       " 'patrol_car',\n",
       " 'phaeton',\n",
       " 'police_car',\n",
       " 'police_cruiser',\n",
       " 'prowl_car',\n",
       " 'race_car',\n",
       " 'racer',\n",
       " 'racing_car',\n",
       " 'roadster',\n",
       " 'runabout',\n",
       " 'saloon',\n",
       " 'secondhand_car',\n",
       " 'sedan',\n",
       " 'sport_car',\n",
       " 'sport_utility',\n",
       " 'sport_utility_vehicle',\n",
       " 'sports_car',\n",
       " 'squad_car',\n",
       " 'station_waggon',\n",
       " 'station_wagon',\n",
       " 'stock_car',\n",
       " 'subcompact',\n",
       " 'subcompact_car',\n",
       " 'taxi',\n",
       " 'taxicab',\n",
       " 'tourer',\n",
       " 'touring_car',\n",
       " 'two-seater',\n",
       " 'used-car',\n",
       " 'waggon',\n",
       " 'wagon']"
      ]
     },
     "execution_count": 141,
     "metadata": {},
     "output_type": "execute_result"
    }
   ],
   "source": [
    "sorted([lemma.name() for synset in types_of_motorcar for lemma in synset.lemmas()])"
   ]
  },
  {
   "cell_type": "markdown",
   "metadata": {},
   "source": [
    "**Moving up in the structure, we might find more than one path:**\n",
    "    \n",
    "**For example, there are two paths between car.n.01 and entitiy.n.01 because wheeled_vehicle.n.01 can be classified as both a vehicle and a contianer.**"
   ]
  },
  {
   "cell_type": "code",
   "execution_count": 142,
   "metadata": {},
   "outputs": [
    {
     "name": "stdout",
     "output_type": "stream",
     "text": [
      "[Synset('motor_vehicle.n.01')]\n"
     ]
    }
   ],
   "source": [
    "print(motorcar.hypernyms())"
   ]
  },
  {
   "cell_type": "code",
   "execution_count": 143,
   "metadata": {},
   "outputs": [],
   "source": [
    "paths = motorcar.hypernym_paths()"
   ]
  },
  {
   "cell_type": "code",
   "execution_count": 144,
   "metadata": {},
   "outputs": [
    {
     "data": {
      "text/plain": [
       "[[Synset('entity.n.01'),\n",
       "  Synset('physical_entity.n.01'),\n",
       "  Synset('object.n.01'),\n",
       "  Synset('whole.n.02'),\n",
       "  Synset('artifact.n.01'),\n",
       "  Synset('instrumentality.n.03'),\n",
       "  Synset('container.n.01'),\n",
       "  Synset('wheeled_vehicle.n.01'),\n",
       "  Synset('self-propelled_vehicle.n.01'),\n",
       "  Synset('motor_vehicle.n.01'),\n",
       "  Synset('car.n.01')],\n",
       " [Synset('entity.n.01'),\n",
       "  Synset('physical_entity.n.01'),\n",
       "  Synset('object.n.01'),\n",
       "  Synset('whole.n.02'),\n",
       "  Synset('artifact.n.01'),\n",
       "  Synset('instrumentality.n.03'),\n",
       "  Synset('conveyance.n.03'),\n",
       "  Synset('vehicle.n.01'),\n",
       "  Synset('wheeled_vehicle.n.01'),\n",
       "  Synset('self-propelled_vehicle.n.01'),\n",
       "  Synset('motor_vehicle.n.01'),\n",
       "  Synset('car.n.01')]]"
      ]
     },
     "execution_count": 144,
     "metadata": {},
     "output_type": "execute_result"
    }
   ],
   "source": [
    "paths"
   ]
  },
  {
   "cell_type": "code",
   "execution_count": 145,
   "metadata": {},
   "outputs": [
    {
     "name": "stdout",
     "output_type": "stream",
     "text": [
      "2\n"
     ]
    }
   ],
   "source": [
    "print(len(paths))"
   ]
  },
  {
   "cell_type": "code",
   "execution_count": 146,
   "metadata": {},
   "outputs": [
    {
     "name": "stdout",
     "output_type": "stream",
     "text": [
      "['entity.n.01', 'physical_entity.n.01', 'object.n.01', 'whole.n.02', 'artifact.n.01', 'instrumentality.n.03', 'container.n.01', 'wheeled_vehicle.n.01', 'self-propelled_vehicle.n.01', 'motor_vehicle.n.01', 'car.n.01']\n"
     ]
    }
   ],
   "source": [
    "print([synset.name() for synset in paths[0]])"
   ]
  },
  {
   "cell_type": "code",
   "execution_count": 147,
   "metadata": {},
   "outputs": [
    {
     "name": "stdout",
     "output_type": "stream",
     "text": [
      "['entity.n.01', 'physical_entity.n.01', 'object.n.01', 'whole.n.02', 'artifact.n.01', 'instrumentality.n.03', 'conveyance.n.03', 'vehicle.n.01', 'wheeled_vehicle.n.01', 'self-propelled_vehicle.n.01', 'motor_vehicle.n.01', 'car.n.01']\n"
     ]
    }
   ],
   "source": [
    "print([synset.name() for synset in paths[1]])"
   ]
  },
  {
   "cell_type": "markdown",
   "metadata": {},
   "source": [
    "**To get the most generalized hypernym:**"
   ]
  },
  {
   "cell_type": "code",
   "execution_count": 148,
   "metadata": {},
   "outputs": [
    {
     "data": {
      "text/plain": [
       "[Synset('entity.n.01')]"
      ]
     },
     "execution_count": 148,
     "metadata": {},
     "output_type": "execute_result"
    }
   ],
   "source": [
    "motorcar.root_hypernyms()"
   ]
  },
  {
   "cell_type": "markdown",
   "metadata": {},
   "source": [
    "# More Lexical Relations\n",
    "\n",
    "**Hyper/hyponyms are what is called \"isa\" relations, and we can move up and down the hierarchy between them.**\n",
    "\n",
    "**Meronyms: features of items using the part_meronyms and substance_meronyms functions.**\n",
    "    \n",
    "    **Part of a zabra: stripes, legs, tail**\n",
    "        \n",
    "**Holonyms: things items are contained in using the member_holonyms function.**\n",
    "    \n",
    "    **A group of zebras is called a dazzle.**"
   ]
  },
  {
   "cell_type": "code",
   "execution_count": 149,
   "metadata": {},
   "outputs": [
    {
     "data": {
      "text/plain": [
       "[Synset('stump.n.01'),\n",
       " Synset('crown.n.07'),\n",
       " Synset('burl.n.02'),\n",
       " Synset('trunk.n.01'),\n",
       " Synset('limb.n.02')]"
      ]
     },
     "execution_count": 149,
     "metadata": {},
     "output_type": "execute_result"
    }
   ],
   "source": [
    "wn.synset('tree.n.01').part_meronyms()"
   ]
  },
  {
   "cell_type": "code",
   "execution_count": 150,
   "metadata": {},
   "outputs": [
    {
     "data": {
      "text/plain": [
       "[Synset('heartwood.n.01'), Synset('sapwood.n.01')]"
      ]
     },
     "execution_count": 150,
     "metadata": {},
     "output_type": "execute_result"
    }
   ],
   "source": [
    "wn.synset('tree.n.01').substance_meronyms()\n"
   ]
  },
  {
   "cell_type": "code",
   "execution_count": 151,
   "metadata": {},
   "outputs": [
    {
     "data": {
      "text/plain": [
       "[Synset('forest.n.01')]"
      ]
     },
     "execution_count": 151,
     "metadata": {},
     "output_type": "execute_result"
    }
   ],
   "source": [
    "wn.synset('tree.n.01').member_holonyms()"
   ]
  },
  {
   "cell_type": "markdown",
   "metadata": {},
   "source": [
    "# Consider the word mint with lots of definitions:"
   ]
  },
  {
   "cell_type": "code",
   "execution_count": 152,
   "metadata": {},
   "outputs": [
    {
     "name": "stdout",
     "output_type": "stream",
     "text": [
      "batch.n.02: (often followed by `of') a large number or amount or extent\n",
      "mint.n.02: any north temperate plant of the genus Mentha with aromatic leaves and small mauve flowers\n",
      "mint.n.03: any member of the mint family of plants\n",
      "mint.n.04: the leaves of a mint plant used fresh or candied\n",
      "mint.n.05: a candy that is flavored with a mint oil\n",
      "mint.n.06: a plant where money is coined by authority of the government\n"
     ]
    }
   ],
   "source": [
    "for synset in wn.synsets('mint', wn.NOUN):\n",
    "    print(synset.name() + ':', synset.definition())"
   ]
  },
  {
   "cell_type": "code",
   "execution_count": 153,
   "metadata": {},
   "outputs": [
    {
     "data": {
      "text/plain": [
       "[Synset('mint.n.02')]"
      ]
     },
     "execution_count": 153,
     "metadata": {},
     "output_type": "execute_result"
    }
   ],
   "source": [
    "wn.synset('mint.n.04').part_holonyms() # comprised of or part of "
   ]
  },
  {
   "cell_type": "code",
   "execution_count": 154,
   "metadata": {},
   "outputs": [
    {
     "data": {
      "text/plain": [
       "[Synset('mint.n.05')]"
      ]
     },
     "execution_count": 154,
     "metadata": {},
     "output_type": "execute_result"
    }
   ],
   "source": [
    "wn.synset('mint.n.04').substance_holonyms() # made of "
   ]
  },
  {
   "cell_type": "markdown",
   "metadata": {},
   "source": [
    "# Entailments: drawing conclusions from a particular word use (if A then B)."
   ]
  },
  {
   "cell_type": "code",
   "execution_count": 155,
   "metadata": {},
   "outputs": [
    {
     "data": {
      "text/plain": [
       "[Synset('step.v.01')]"
      ]
     },
     "execution_count": 155,
     "metadata": {},
     "output_type": "execute_result"
    }
   ],
   "source": [
    "wn.synset('walk.v.01').entailments()"
   ]
  },
  {
   "cell_type": "code",
   "execution_count": 156,
   "metadata": {},
   "outputs": [
    {
     "data": {
      "text/plain": [
       "[Synset('swallow.v.01'), Synset('chew.v.01')]"
      ]
     },
     "execution_count": 156,
     "metadata": {},
     "output_type": "execute_result"
    }
   ],
   "source": [
    "wn.synset('eat.v.01').entailments()"
   ]
  },
  {
   "cell_type": "code",
   "execution_count": 157,
   "metadata": {},
   "outputs": [
    {
     "data": {
      "text/plain": [
       "[Synset('arouse.v.07'), Synset('disappoint.v.01')]"
      ]
     },
     "execution_count": 157,
     "metadata": {},
     "output_type": "execute_result"
    }
   ],
   "source": [
    "wn.synset('tease.v.03').entailments()"
   ]
  },
  {
   "cell_type": "markdown",
   "metadata": {},
   "source": [
    "# Antonyms"
   ]
  },
  {
   "cell_type": "code",
   "execution_count": 158,
   "metadata": {},
   "outputs": [
    {
     "data": {
      "text/plain": [
       "[Lemma('demand.n.02.demand')]"
      ]
     },
     "execution_count": 158,
     "metadata": {},
     "output_type": "execute_result"
    }
   ],
   "source": [
    "wn.lemma('supply.n.02.supply').antonyms()"
   ]
  },
  {
   "cell_type": "code",
   "execution_count": 159,
   "metadata": {},
   "outputs": [
    {
     "data": {
      "text/plain": [
       "[Lemma('linger.v.04.linger')]"
      ]
     },
     "execution_count": 159,
     "metadata": {},
     "output_type": "execute_result"
    }
   ],
   "source": [
    "wn.lemma('rush.v.01.rush').antonyms()"
   ]
  },
  {
   "cell_type": "code",
   "execution_count": 160,
   "metadata": {},
   "outputs": [
    {
     "data": {
      "text/plain": [
       "[Lemma('vertical.a.01.vertical'), Lemma('inclined.a.02.inclined')]"
      ]
     },
     "execution_count": 160,
     "metadata": {},
     "output_type": "execute_result"
    }
   ],
   "source": [
    "wn.lemma('horizontal.a.01.horizontal').antonyms()"
   ]
  },
  {
   "cell_type": "markdown",
   "metadata": {},
   "source": [
    "# Semantic Similarity \n",
    "\n",
    "**The structure of WordNet gives us the opportunity to calculate the relation between synsets or words.**\n",
    "\n",
    "**If two words are in the same hierarchy, they are probably related, and we can also calculate the distance between words in a hierarchy.**\n",
    "\n",
    "**The lowest_common_hypernym function finds the closest link between the words.**"
   ]
  },
  {
   "cell_type": "code",
   "execution_count": 161,
   "metadata": {},
   "outputs": [
    {
     "data": {
      "text/plain": [
       "[Synset('baleen_whale.n.01')]"
      ]
     },
     "execution_count": 161,
     "metadata": {},
     "output_type": "execute_result"
    }
   ],
   "source": [
    "right = wn.synset('right_whale.n.01')\n",
    "orca = wn.synset('orca.n.01')\n",
    "minke = wn.synset('minke_whale.n.01')\n",
    "tortoise = wn.synset('tortoise.n.01')\n",
    "novel = wn.synset('novel.n.01')\n",
    "right.lowest_common_hypernyms(minke)"
   ]
  },
  {
   "cell_type": "code",
   "execution_count": 162,
   "metadata": {},
   "outputs": [
    {
     "data": {
      "text/plain": [
       "[Synset('whale.n.02')]"
      ]
     },
     "execution_count": 162,
     "metadata": {},
     "output_type": "execute_result"
    }
   ],
   "source": [
    "right.lowest_common_hypernyms(orca)"
   ]
  },
  {
   "cell_type": "code",
   "execution_count": 163,
   "metadata": {},
   "outputs": [
    {
     "data": {
      "text/plain": [
       "[Synset('vertebrate.n.01')]"
      ]
     },
     "execution_count": 163,
     "metadata": {},
     "output_type": "execute_result"
    }
   ],
   "source": [
    "right.lowest_common_hypernyms(tortoise)"
   ]
  },
  {
   "cell_type": "code",
   "execution_count": 164,
   "metadata": {},
   "outputs": [
    {
     "data": {
      "text/plain": [
       "[Synset('entity.n.01')]"
      ]
     },
     "execution_count": 164,
     "metadata": {},
     "output_type": "execute_result"
    }
   ],
   "source": [
    "right.lowest_common_hypernyms(novel)"
   ]
  },
  {
   "cell_type": "markdown",
   "metadata": {},
   "source": [
    "**The min_depth function finds the depth of the item in the structure (remember the entity is the highest, so it has zero, while each point after that gets one more step down).**\n",
    "\n",
    "**This number allows us to view specificity of a concept.**"
   ]
  },
  {
   "cell_type": "code",
   "execution_count": 165,
   "metadata": {},
   "outputs": [
    {
     "data": {
      "text/plain": [
       "14"
      ]
     },
     "execution_count": 165,
     "metadata": {},
     "output_type": "execute_result"
    }
   ],
   "source": [
    "wn.synset('baleen_whale.n.01').min_depth()"
   ]
  },
  {
   "cell_type": "code",
   "execution_count": 166,
   "metadata": {},
   "outputs": [
    {
     "data": {
      "text/plain": [
       "15"
      ]
     },
     "execution_count": 166,
     "metadata": {},
     "output_type": "execute_result"
    }
   ],
   "source": [
    "wn.synset('right_whale.n.01').min_depth()"
   ]
  },
  {
   "cell_type": "code",
   "execution_count": 167,
   "metadata": {},
   "outputs": [
    {
     "data": {
      "text/plain": [
       "16"
      ]
     },
     "execution_count": 167,
     "metadata": {},
     "output_type": "execute_result"
    }
   ],
   "source": [
    "wn.synset('orca.n.01').min_depth()"
   ]
  },
  {
   "cell_type": "code",
   "execution_count": 168,
   "metadata": {},
   "outputs": [
    {
     "data": {
      "text/plain": [
       "16"
      ]
     },
     "execution_count": 168,
     "metadata": {},
     "output_type": "execute_result"
    }
   ],
   "source": [
    "wn.synset('minke_whale.n.01').min_depth()"
   ]
  },
  {
   "cell_type": "code",
   "execution_count": 169,
   "metadata": {},
   "outputs": [
    {
     "data": {
      "text/plain": [
       "13"
      ]
     },
     "execution_count": 169,
     "metadata": {},
     "output_type": "execute_result"
    }
   ],
   "source": [
    "wn.synset('whale.n.02').min_depth()"
   ]
  },
  {
   "cell_type": "code",
   "execution_count": 170,
   "metadata": {},
   "outputs": [
    {
     "data": {
      "text/plain": [
       "8"
      ]
     },
     "execution_count": 170,
     "metadata": {},
     "output_type": "execute_result"
    }
   ],
   "source": [
    "wn.synset('vertebrate.n.01').min_depth()"
   ]
  },
  {
   "cell_type": "code",
   "execution_count": 171,
   "metadata": {},
   "outputs": [
    {
     "data": {
      "text/plain": [
       "0"
      ]
     },
     "execution_count": 171,
     "metadata": {},
     "output_type": "execute_result"
    }
   ],
   "source": [
    "wn.synset('entity.n.01').min_depth()"
   ]
  },
  {
   "cell_type": "markdown",
   "metadata": {},
   "source": [
    "**The path_similarity function gives us a score from 0 to 1 based on the shortest path connection between concepts.**\n",
    "\n",
    "**0 indicates almost no relation, a long path between items**\n",
    "\n",
    "**1 indicates the same path (they are the same item), vey connected**"
   ]
  },
  {
   "cell_type": "code",
   "execution_count": 172,
   "metadata": {},
   "outputs": [
    {
     "data": {
      "text/plain": [
       "0.25"
      ]
     },
     "execution_count": 172,
     "metadata": {},
     "output_type": "execute_result"
    }
   ],
   "source": [
    "right.path_similarity(minke)"
   ]
  },
  {
   "cell_type": "code",
   "execution_count": 173,
   "metadata": {},
   "outputs": [
    {
     "data": {
      "text/plain": [
       "0.16666666666666666"
      ]
     },
     "execution_count": 173,
     "metadata": {},
     "output_type": "execute_result"
    }
   ],
   "source": [
    "right.path_similarity(orca) "
   ]
  },
  {
   "cell_type": "code",
   "execution_count": 174,
   "metadata": {},
   "outputs": [
    {
     "data": {
      "text/plain": [
       "0.07692307692307693"
      ]
     },
     "execution_count": 174,
     "metadata": {},
     "output_type": "execute_result"
    }
   ],
   "source": [
    "right.path_similarity(tortoise)"
   ]
  },
  {
   "cell_type": "code",
   "execution_count": 175,
   "metadata": {},
   "outputs": [
    {
     "data": {
      "text/plain": [
       "0.043478260869565216"
      ]
     },
     "execution_count": 175,
     "metadata": {},
     "output_type": "execute_result"
    }
   ],
   "source": [
    "right.path_similarity(novel)"
   ]
  },
  {
   "cell_type": "code",
   "execution_count": 176,
   "metadata": {},
   "outputs": [
    {
     "data": {
      "text/plain": [
       "1.0"
      ]
     },
     "execution_count": 176,
     "metadata": {},
     "output_type": "execute_result"
    }
   ],
   "source": [
    "right.path_similarity(right)"
   ]
  },
  {
   "cell_type": "code",
   "execution_count": null,
   "metadata": {},
   "outputs": [],
   "source": []
  }
 ],
 "metadata": {
  "kernelspec": {
   "display_name": "Python 3 (ipykernel)",
   "language": "python",
   "name": "python3"
  },
  "language_info": {
   "codemirror_mode": {
    "name": "ipython",
    "version": 3
   },
   "file_extension": ".py",
   "mimetype": "text/x-python",
   "name": "python",
   "nbconvert_exporter": "python",
   "pygments_lexer": "ipython3",
   "version": "3.10.4"
  }
 },
 "nbformat": 4,
 "nbformat_minor": 4
}
