{
 "cells": [
  {
   "cell_type": "markdown",
   "metadata": {},
   "source": [
    "**Explain Binary Cross Entropy in your own words:**\n",
    "\n",
    "Binary Cross Entropy is used in Binary Classification problems where the output is one of two classes, and it is a measure of how well the model is able to predict the class. It is also known as log loss. The lower the value of the Binary Cross Entropy, the better the model is at predicting the class."
   ]
  }
 ],
 "metadata": {
  "language_info": {
   "name": "python"
  }
 },
 "nbformat": 4,
 "nbformat_minor": 2
}
