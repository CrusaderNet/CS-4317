{
 "cells": [
  {
   "cell_type": "markdown",
   "metadata": {},
   "source": [
    "# Neural Network to recognize handwritten digits \n",
    "\n",
    "\n",
    "- We will use the handwritten digits dataset used in Week 4 - logistic regression\n",
    "- Use the CSV files that contain the pixel values "
   ]
  },
  {
   "cell_type": "markdown",
   "metadata": {},
   "source": [
    "## Load the 2D matrices in csv files."
   ]
  },
  {
   "cell_type": "code",
   "execution_count": 2,
   "metadata": {},
   "outputs": [],
   "source": [
    "import pandas as pd\n",
    "import numpy as np"
   ]
  },
  {
   "cell_type": "code",
   "execution_count": 14,
   "metadata": {},
   "outputs": [
    {
     "name": "stdout",
     "output_type": "stream",
     "text": [
      "(60000, 784)\n",
      "(10000, 784)\n",
      "(60000,)\n",
      "(10000,)\n"
     ]
    }
   ],
   "source": [
    "x_train = pd.read_csv('mnist_training.csv', header=None) \n",
    "x_test = pd.read_csv('mnist_testing.csv', header=None) \n",
    "y_train = pd.read_csv('mnist_train_class.csv', header=None) \n",
    "y_test =pd.read_csv('mnist_test_class.csv',header=None)\n",
    "\n",
    "y_train=np.reshape(y_train,(60000,))\n",
    "y_test=np.reshape(y_test,(10000,))\n",
    "print(x_train.shape)\n",
    "print(x_test.shape)\n",
    "print(y_train.shape)\n",
    "print(y_test.shape)"
   ]
  },
  {
   "cell_type": "markdown",
   "metadata": {},
   "source": [
    "### Scaling Training and Testing data\n",
    "If x_train and x_test are not already scaled between 0 and 1, scale it."
   ]
  },
  {
   "cell_type": "code",
   "execution_count": 10,
   "metadata": {
    "scrolled": true
   },
   "outputs": [
    {
     "name": "stdout",
     "output_type": "stream",
     "text": [
      "1.0\n",
      "1.0\n",
      "0.0\n",
      "0.0\n"
     ]
    }
   ],
   "source": [
    "x_train1 = x_train/255\n",
    "x_test1 = x_test/255\n",
    "print(np.max(x_train1))\n",
    "print(np.max(x_test1))\n",
    "print(np.min(x_train1))\n",
    "print(np.min(x_test1))"
   ]
  },
  {
   "cell_type": "code",
   "execution_count": 11,
   "metadata": {},
   "outputs": [],
   "source": [
    "from sklearn.linear_model import LogisticRegression\n",
    "from sklearn.metrics import accuracy_score\n",
    "from sklearn.neural_network import MLPClassifier"
   ]
  },
  {
   "cell_type": "markdown",
   "metadata": {},
   "source": [
    "- Try different solver options if there is no convergence.\n",
    "- Increase the tolerance value if optimization is not converging."
   ]
  },
  {
   "cell_type": "markdown",
   "metadata": {},
   "source": [
    "### Results of Neural network \n",
    "\n",
    "- Two hidden layers with 50 nodes and 50 nodes.\n",
    "- early stopping\n",
    "- No need to provide number of nodes in input layer and output layer. Automatically determined from x_train, and y_train.\n",
    "- classification - softmax or sigmoid\n",
    "- NN model achieves higher accuracy than logistic regression"
   ]
  },
  {
   "cell_type": "code",
   "execution_count": 13,
   "metadata": {},
   "outputs": [
    {
     "name": "stderr",
     "output_type": "stream",
     "text": [
      "/Users/soibamb/anaconda3/lib/python3.11/site-packages/sklearn/neural_network/_multilayer_perceptron.py:1102: DataConversionWarning: A column-vector y was passed when a 1d array was expected. Please change the shape of y to (n_samples, ), for example using ravel().\n",
      "  y = column_or_1d(y, warn=True)\n"
     ]
    },
    {
     "name": "stdout",
     "output_type": "stream",
     "text": [
      "0.9746833333333333\n",
      "0.9626\n"
     ]
    }
   ],
   "source": [
    "nn_model = MLPClassifier (hidden_layer_sizes=(50,50),# two hidden layers\n",
    "                                                 max_iter=200,\n",
    "                                                 activation = 'relu',\n",
    "                                                 solver='adam',batch_size=200,# mini batch\n",
    "                                                 n_iter_no_change=10,\n",
    "                                                 early_stopping=True) #early stopping\n",
    "\n",
    "nn_model.fit(x_train1,y_train)\n",
    "nn_model.predict(x_test1)\n",
    "print(accuracy_score(y_train,nn_model.predict(x_train1)))\n",
    "print(accuracy_score(y_test,nn_model.predict(x_test1)))"
   ]
  },
  {
   "cell_type": "markdown",
   "metadata": {},
   "source": [
    "### Exploring the weights of the NN model"
   ]
  },
  {
   "cell_type": "code",
   "execution_count": 17,
   "metadata": {},
   "outputs": [
    {
     "name": "stdout",
     "output_type": "stream",
     "text": [
      "weights in the model \n",
      "weights between layer 0 and layer 1\n",
      "(784, 50)\n",
      "weights between layer 1 and layer 2\n",
      "(50, 50)\n",
      "weights between layer 2 and layer 3\n",
      "(50, 10)\n",
      "bias/intercepts weights in the model\n",
      "bias/intercepts weights between layer 0 and layer 1\n",
      "(50,)\n",
      "bias/intercepts weights between layer 1 and layer 2\n",
      "(50,)\n",
      "bias/intercepts weights between layer 2 and layer 3\n",
      "(10,)\n"
     ]
    }
   ],
   "source": [
    "print(\"weights in the model \")\n",
    "for i in range(0,len(nn_model.coefs_)):\n",
    "    print(f\"weights between layer {i} and layer {i+1}\")\n",
    "    print(nn_model.coefs_[i].shape)\n",
    "\n",
    "print(\"bias/intercepts weights in the model\")\n",
    "for i in range(0,len(nn_model.intercepts_)):\n",
    "    print(f\"bias/intercepts weights between layer {i} and layer {i+1}\")\n",
    "    print(nn_model.intercepts_[i].shape)"
   ]
  },
  {
   "cell_type": "markdown",
   "metadata": {},
   "source": [
    "### Plot accuracy vs iteration"
   ]
  },
  {
   "cell_type": "code",
   "execution_count": 22,
   "metadata": {},
   "outputs": [
    {
     "data": {
      "text/plain": [
       "<matplotlib.legend.Legend at 0x28bba3910>"
      ]
     },
     "execution_count": 22,
     "metadata": {},
     "output_type": "execute_result"
    },
    {
     "data": {
      "image/png": "[encoded data removed]",
      "text/plain": [
       "<Figure size 640x480 with 1 Axes>"
      ]
     },
     "metadata": {},
     "output_type": "display_data"
    }
   ],
   "source": [
    "from matplotlib import pyplot as plt\n",
    "plt.plot(nn_model.loss_curve_,label='loss - training set')\n",
    "plt.plot(nn_model.validation_scores_,label='accuracy - validation set')\n",
    "plt.legend()"
   ]
  }
 ],
 "metadata": {
  "kernelspec": {
   "display_name": "Python 3 (ipykernel)",
   "language": "python",
   "name": "python3"
  },
  "language_info": {
   "codemirror_mode": {
    "name": "ipython",
    "version": 3
   },
   "file_extension": ".py",
   "mimetype": "text/x-python",
   "name": "python",
   "nbconvert_exporter": "python",
   "pygments_lexer": "ipython3",
   "version": "3.11.5"
  }
 },
 "nbformat": 4,
 "nbformat_minor": 2
}
