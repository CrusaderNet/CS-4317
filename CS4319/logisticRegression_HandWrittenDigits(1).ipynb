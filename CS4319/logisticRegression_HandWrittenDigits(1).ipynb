{
 "cells": [
  {
   "cell_type": "markdown",
   "metadata": {},
   "source": [
    "# Logistic regression to recognize handwritten digits\n",
    "\n",
    "\n",
    "### Files preparation\n",
    "\n",
    "Here, we will use gradyscale images of mnist dataset that contains images of hand written single digits which contains 10 different classes. More Description of the data is available and can be downloaded from below:\n",
    "\n",
    "Training set\n",
    "\n",
    "https://www.dropbox.com/scl/fo/rbclih463v71w6gudlctr/AEol0xdFwoubUeKlA_AZdu4?rlkey=06bdrrd9pmb4mn3csv8w8bsgb&dl=0\n",
    "\n",
    "Testing images\n",
    "https://www.dropbox.com/scl/fo/9pz4tyvbbtokgoftol3d5/ABUKSCMUV3xHDHKA-hDNCaw?rlkey=y5b6xf3eo8yaksxqx0dqlwwk1&dl=0\n",
    "\n",
    "\n",
    "To run this code, all training and testing images should be in the folder `'mnist-train-images-tiff'` and `'mnist-test-images-tiff'`, respectively.\n",
    "\n",
    "Also you will need two csv files \n",
    "\n",
    "'mnist-train-labels.csv' \n",
    "\n",
    "https://www.dropbox.com/scl/fi/tbijfsy8yiznnrwsdjbvb/mnist-train-labels.csv?rlkey=pgns5m2dp6hxyne1tx5y54tg0&dl=0\n",
    "\n",
    "and 'mnist-test-labels.csv' \n",
    "\n",
    "https://www.dropbox.com/scl/fi/u67lumxn2e8zjoql1xqdc/mnist-test-labels.csv?rlkey=q441aypbidt0r6xm5rxh701wq&dl=0\n",
    "\n",
    "\n",
    "that contain the class labels of the trainingand testing images, respectively. There are two columns in the csv file. The first column is the class label and the second column is the name of the image file. Since, we will be dealing with numpy matrices, always make the class labels numeric.\n",
    "\n"
   ]
  },
  {
   "cell_type": "markdown",
   "metadata": {},
   "source": [
    "\n",
    "The actual images of the hand-written digits have to be transformed into row vectors. The pixel values will serve as features or predictors."
   ]
  },
  {
   "cell_type": "markdown",
   "metadata": {},
   "source": [
    "### Load Class labels\n",
    "\n",
    "Read the files containing class labels and file names in Pandas DataFrame. First Column in the data frame is `class` and second column is `file`"
   ]
  },
  {
   "cell_type": "code",
   "execution_count": 1,
   "metadata": {},
   "outputs": [
    {
     "data": {
      "text/html": [
       "<div>\n",
       "<style scoped>\n",
       "    .dataframe tbody tr th:only-of-type {\n",
       "        vertical-align: middle;\n",
       "    }\n",
       "\n",
       "    .dataframe tbody tr th {\n",
       "        vertical-align: top;\n",
       "    }\n",
       "\n",
       "    .dataframe thead th {\n",
       "        text-align: right;\n",
       "    }\n",
       "</style>\n",
       "<table border=\"1\" class=\"dataframe\">\n",
       "  <thead>\n",
       "    <tr style=\"text-align: right;\">\n",
       "      <th></th>\n",
       "      <th>class</th>\n",
       "      <th>file</th>\n",
       "    </tr>\n",
       "  </thead>\n",
       "  <tbody>\n",
       "    <tr>\n",
       "      <th>0</th>\n",
       "      <td>7</td>\n",
       "      <td>00001.tif</td>\n",
       "    </tr>\n",
       "    <tr>\n",
       "      <th>1</th>\n",
       "      <td>2</td>\n",
       "      <td>00002.tif</td>\n",
       "    </tr>\n",
       "    <tr>\n",
       "      <th>2</th>\n",
       "      <td>1</td>\n",
       "      <td>00003.tif</td>\n",
       "    </tr>\n",
       "    <tr>\n",
       "      <th>3</th>\n",
       "      <td>0</td>\n",
       "      <td>00004.tif</td>\n",
       "    </tr>\n",
       "    <tr>\n",
       "      <th>4</th>\n",
       "      <td>4</td>\n",
       "      <td>00005.tif</td>\n",
       "    </tr>\n",
       "  </tbody>\n",
       "</table>\n",
       "</div>"
      ],
      "text/plain": [
       "   class       file\n",
       "0      7  00001.tif\n",
       "1      2  00002.tif\n",
       "2      1  00003.tif\n",
       "3      0  00004.tif\n",
       "4      4  00005.tif"
      ]
     },
     "execution_count": 1,
     "metadata": {},
     "output_type": "execute_result"
    }
   ],
   "source": [
    "import pandas as pd\n",
    "train_class=pd.read_csv('mnist-train-labels.csv',header=None,names=['class','file'])\n",
    "train_class.head()\n",
    "\n",
    "test_class=pd.read_csv('mnist-test-labels.csv',header=None,names=['class','file'])\n",
    "test_class.head()"
   ]
  },
  {
   "cell_type": "code",
   "execution_count": 2,
   "metadata": {},
   "outputs": [
    {
     "data": {
      "text/plain": [
       "7"
      ]
     },
     "execution_count": 2,
     "metadata": {},
     "output_type": "execute_result"
    }
   ],
   "source": [
    "'''\n",
    "To access class label for a specific image file\n",
    "'''\n",
    "test_class.loc[train_class['file'] == '00001.tif','class'].item()"
   ]
  },
  {
   "cell_type": "markdown",
   "metadata": {},
   "source": [
    "### Load training and testing images"
   ]
  },
  {
   "cell_type": "code",
   "execution_count": 3,
   "metadata": {
    "scrolled": true
   },
   "outputs": [],
   "source": [
    "from os import listdir\n",
    "from skimage import io\n",
    "imagedir='mnist-train-images-tiff/mnist-train-images-tiff/'\n",
    "files=listdir(imagedir)\n",
    "import numpy as np\n",
    "#creating numpy matrix to store the images\n",
    "x_train = np.empty(shape=(len(files),28,28),dtype=int)\n",
    "#creating numpy matrix to store class labels\n",
    "y_train_original = np.empty(shape=(len(files)),dtype=int)\n",
    "for i in range(0,len(files)):                  \n",
    "    #if(i%2000 == 0):\n",
    "    #    print('done processing ' + str(i) + ' images')\n",
    "    I = io.imread(imagedir+files[i])\n",
    "    x_train[i,:,:] = I\n",
    "    y_train_original[i] = train_class.loc[train_class['file'] == files[i],'class'].item()"
   ]
  },
  {
   "cell_type": "code",
   "execution_count": 4,
   "metadata": {},
   "outputs": [],
   "source": [
    "from os import listdir\n",
    "imagedir='mnist-test-images-tiff/mnist-test-images-tiff/'\n",
    "files=listdir(imagedir)\n",
    "import numpy as np\n",
    "#creating numpy matrix to store the images\n",
    "x_test = np.empty(shape=(len(files),28,28),dtype=int)\n",
    "#creating numpy matrix to store class labels\n",
    "y_test_original = np.empty(shape=(len(files)),dtype=int)\n",
    "for i in range(0,len(files)):\n",
    "    I = io.imread(imagedir+files[i])\n",
    "    x_test[i,:,:] = I\n",
    "    y_test_original[i] = test_class.loc[test_class['file'] == files[i],'class'].item()"
   ]
  },
  {
   "cell_type": "code",
   "execution_count": 5,
   "metadata": {},
   "outputs": [
    {
     "name": "stdout",
     "output_type": "stream",
     "text": [
      "(60000, 28, 28)\n",
      "(10000, 28, 28)\n",
      "(60000,)\n"
     ]
    }
   ],
   "source": [
    "print(x_train.shape)\n",
    "print(x_test.shape)\n",
    "print(y_train_original.shape)"
   ]
  },
  {
   "cell_type": "markdown",
   "metadata": {},
   "source": [
    "### Display example images"
   ]
  },
  {
   "cell_type": "code",
   "execution_count": 31,
   "metadata": {},
   "outputs": [],
   "source": [
    "import matplotlib.pyplot as plt"
   ]
  },
  {
   "cell_type": "code",
   "execution_count": 35,
   "metadata": {},
   "outputs": [
    {
     "data": {
      "text/plain": [
       "<Figure size 640x480 with 0 Axes>"
      ]
     },
     "metadata": {},
     "output_type": "display_data"
    },
    {
     "data": {
      "image/png": "[encoded data removed]",
      "text/plain": [
       "<Figure size 640x480 with 4 Axes>"
      ]
     },
     "metadata": {},
     "output_type": "display_data"
    }
   ],
   "source": [
    "plt.figure()\n",
    "f, axarr = plt.subplots(1,4) \n",
    "\n",
    "for i in range(0,4):\n",
    "  axarr[i].imshow(x_train[i,:,:],cmap='gray')"
   ]
  },
  {
   "cell_type": "markdown",
   "metadata": {},
   "source": [
    "### Reshape matrices to 2D matrices in (rows,columns) format. \n",
    "\n",
    "- use pixel values as features."
   ]
  },
  {
   "cell_type": "code",
   "execution_count": 7,
   "metadata": {},
   "outputs": [
    {
     "name": "stdout",
     "output_type": "stream",
     "text": [
      "(60000, 784)\n",
      "(10000, 784)\n"
     ]
    }
   ],
   "source": [
    "x_train1=np.reshape(x_train,(60000,28*28))\n",
    "x_test1=np.reshape(x_test,(10000,28*28))\n",
    "print(x_train1.shape)\n",
    "print(x_test1.shape)"
   ]
  },
  {
   "cell_type": "markdown",
   "metadata": {},
   "source": [
    "## Save the 2D matrices in csv files."
   ]
  },
  {
   "cell_type": "code",
   "execution_count": 8,
   "metadata": {},
   "outputs": [],
   "source": [
    "np.savetxt('mnist_training.csv', x_train1, fmt='%d', delimiter=',') \n",
    "np.savetxt('mnist_testing.csv', x_test1, fmt='%d', delimiter=',') \n",
    "np.savetxt('mnist_train_class.csv', y_train_original, fmt='%d', delimiter=',') \n",
    "np.savetxt('mnist_test_class.csv', y_test_original, fmt='%d', delimiter=',') "
   ]
  },
  {
   "cell_type": "markdown",
   "metadata": {},
   "source": [
    "### Scaling Training and Testing data\n",
    "If x_train and x_test are not already scaled between 0 and 1, scale it."
   ]
  },
  {
   "cell_type": "code",
   "execution_count": 9,
   "metadata": {
    "scrolled": true
   },
   "outputs": [
    {
     "name": "stdout",
     "output_type": "stream",
     "text": [
      "1.0\n",
      "1.0\n",
      "0.0\n",
      "0.0\n"
     ]
    }
   ],
   "source": [
    "x_train1 = x_train1/255\n",
    "x_test1 = x_test1/255\n",
    "print(np.max(x_train1))\n",
    "print(np.max(x_test1))\n",
    "print(np.min(x_train1))\n",
    "print(np.min(x_test1))"
   ]
  },
  {
   "cell_type": "code",
   "execution_count": 10,
   "metadata": {},
   "outputs": [],
   "source": [
    "from sklearn.linear_model import LogisticRegression\n",
    "from sklearn.metrics import accuracy_score\n",
    "from sklearn.metrics import log_loss\n",
    "from sklearn.preprocessing import StandardScaler"
   ]
  },
  {
   "cell_type": "markdown",
   "metadata": {},
   "source": [
    "- Try different solver options if there is no convergence.\n",
    "- Increase the tolerance value if optimization is not converging."
   ]
  },
  {
   "cell_type": "code",
   "execution_count": 22,
   "metadata": {},
   "outputs": [
    {
     "name": "stderr",
     "output_type": "stream",
     "text": [
      "[Parallel(n_jobs=4)]: Using backend ThreadingBackend with 4 concurrent workers.\n"
     ]
    },
    {
     "name": "stdout",
     "output_type": "stream",
     "text": [
      "convergence after 41 epochs took 58 seconds\n"
     ]
    },
    {
     "name": "stderr",
     "output_type": "stream",
     "text": [
      "[Parallel(n_jobs=4)]: Done   1 out of   1 | elapsed:   58.2s finished\n"
     ]
    }
   ],
   "source": [
    "logit       = LogisticRegression(penalty=None,multi_class= 'multinomial',max_iter=500,solver='saga',tol=0.01,verbose=1,n_jobs=4) # no regularization as indicated by parameter penalty\n",
    "model_logit = logit.fit(x_train1, y_train_original)"
   ]
  },
  {
   "cell_type": "code",
   "execution_count": 23,
   "metadata": {},
   "outputs": [],
   "source": [
    "def model_summary(model,x,y): #x = features, y = class label\n",
    "    y_pred_prob = model.predict_proba(x) \n",
    "    # y_pred_prob = (n_samples,10)\n",
    "    # y_pred_prob[:,i] = prob that belongs to class i\n",
    "\n",
    "    y_pred_class =  np.argmax(y_pred_prob , axis=1)\n",
    "    \n",
    "    \n",
    "    print('coef',model.coef_.shape) #coefficients\n",
    "    print('intercept',model.intercept_.shape) #intercept\n",
    "    print('accuracy ',accuracy_score(y,y_pred_class))\n",
    "    print('Log loss/ -loglikelihood / cross-entropy loss', log_loss(y,y_pred_prob,normalize=True))"
   ]
  },
  {
   "cell_type": "code",
   "execution_count": 24,
   "metadata": {},
   "outputs": [
    {
     "name": "stdout",
     "output_type": "stream",
     "text": [
      "coef (10, 784)\n",
      "intercept (10,)\n",
      "accuracy  0.9343666666666667\n",
      "Log loss/ -loglikelihood / cross-entropy loss 0.2388720070417901\n"
     ]
    }
   ],
   "source": [
    "model_summary(model_logit,x_train1,y_train_original)"
   ]
  },
  {
   "cell_type": "code",
   "execution_count": 25,
   "metadata": {},
   "outputs": [
    {
     "name": "stdout",
     "output_type": "stream",
     "text": [
      "coef (10, 784)\n",
      "intercept (10,)\n",
      "accuracy  0.9258\n",
      "Log loss/ -loglikelihood / cross-entropy loss 0.2655256270734242\n"
     ]
    }
   ],
   "source": [
    "model_summary(model_logit,x_test1,y_test_original)"
   ]
  },
  {
   "cell_type": "markdown",
   "metadata": {},
   "source": [
    "- There are 10 biases ($\\beta_{0}$)\n",
    "- There are 784*10 model weights"
   ]
  },
  {
   "cell_type": "markdown",
   "metadata": {},
   "source": [
    "### Training using the one-vs-rest (OvR) scheme for multi class case\n",
    "\n",
    "- set the `multi_class` option"
   ]
  },
  {
   "cell_type": "code",
   "execution_count": 17,
   "metadata": {},
   "outputs": [
    {
     "name": "stderr",
     "output_type": "stream",
     "text": [
      "[Parallel(n_jobs=4)]: Using backend ThreadingBackend with 4 concurrent workers.\n"
     ]
    },
    {
     "name": "stdout",
     "output_type": "stream",
     "text": [
      "convergence after 40 epochs took 57 seconds\n"
     ]
    },
    {
     "name": "stderr",
     "output_type": "stream",
     "text": [
      "[Parallel(n_jobs=4)]: Done   1 out of   1 | elapsed:   57.0s finished\n"
     ]
    }
   ],
   "source": [
    "logit_ovr       = LogisticRegression(penalty=None,multi_class='ovr',max_iter=500,solver='saga',tol=0.01,verbose=1,n_jobs=4) # no regularization as indicated by parameter penalty\n",
    "model_logit_ovr = logit.fit(x_train1, y_train_original)"
   ]
  },
  {
   "cell_type": "markdown",
   "metadata": {},
   "source": [
    "#### Training set results"
   ]
  },
  {
   "cell_type": "code",
   "execution_count": 19,
   "metadata": {},
   "outputs": [
    {
     "name": "stdout",
     "output_type": "stream",
     "text": [
      "coef (10, 784)\n",
      "intercept (10,)\n",
      "accuracy  0.9340666666666667\n",
      "Log loss/ -loglikelihood / cross-entropy loss 0.23916966132377132\n"
     ]
    }
   ],
   "source": [
    "model_summary(model_logit_ovr,x_train1,y_train_original)"
   ]
  },
  {
   "cell_type": "markdown",
   "metadata": {},
   "source": [
    "#### Testing results"
   ]
  },
  {
   "cell_type": "code",
   "execution_count": 20,
   "metadata": {},
   "outputs": [
    {
     "name": "stdout",
     "output_type": "stream",
     "text": [
      "coef (10, 784)\n",
      "intercept (10,)\n",
      "accuracy  0.9257\n",
      "Log loss/ -loglikelihood / cross-entropy loss 0.26535413944835656\n"
     ]
    }
   ],
   "source": [
    "model_summary(model_logit_ovr,x_test1,y_test_original)"
   ]
  }
 ],
 "metadata": {
  "kernelspec": {
   "display_name": "Python 3 (ipykernel)",
   "language": "python",
   "name": "python3"
  },
  "language_info": {
   "codemirror_mode": {
    "name": "ipython",
    "version": 3
   },
   "file_extension": ".py",
   "mimetype": "text/x-python",
   "name": "python",
   "nbconvert_exporter": "python",
   "pygments_lexer": "ipython3",
   "version": "3.11.5"
  }
 },
 "nbformat": 4,
 "nbformat_minor": 2
}
