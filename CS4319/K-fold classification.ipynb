{
 "cells": [
  {
   "cell_type": "markdown",
   "metadata": {},
   "source": [
    "# K-fold cross-validaton for classification"
   ]
  },
  {
   "cell_type": "markdown",
   "metadata": {},
   "source": [
    "## Load data\n",
    "\n",
    "- We will use a simple data with two features (x1,x2)\n",
    "- Two class labels 0 and 1.\n",
    "- The data are drawn from two 2D normal distributions centered at (0,0) (class 0 and (1,1) (class 1)\n",
    "- We will use this data to illustrate K-fold cross validation using Multilayer perceptron model\n"
   ]
  },
  {
   "cell_type": "code",
   "execution_count": 36,
   "metadata": {},
   "outputs": [],
   "source": [
    "import pandas as pd\n",
    "import numpy as np\n",
    "from matplotlib import pyplot  as plt"
   ]
  },
  {
   "cell_type": "code",
   "execution_count": 3,
   "metadata": {},
   "outputs": [
    {
     "data": {
      "text/html": [
       "<div>\n",
       "<style scoped>\n",
       "    .dataframe tbody tr th:only-of-type {\n",
       "        vertical-align: middle;\n",
       "    }\n",
       "\n",
       "    .dataframe tbody tr th {\n",
       "        vertical-align: top;\n",
       "    }\n",
       "\n",
       "    .dataframe thead th {\n",
       "        text-align: right;\n",
       "    }\n",
       "</style>\n",
       "<table border=\"1\" class=\"dataframe\">\n",
       "  <thead>\n",
       "    <tr style=\"text-align: right;\">\n",
       "      <th></th>\n",
       "      <th>x1</th>\n",
       "      <th>y1</th>\n",
       "      <th>class</th>\n",
       "    </tr>\n",
       "  </thead>\n",
       "  <tbody>\n",
       "    <tr>\n",
       "      <th>0</th>\n",
       "      <td>0.615173</td>\n",
       "      <td>0.552483</td>\n",
       "      <td>0.0</td>\n",
       "    </tr>\n",
       "    <tr>\n",
       "      <th>1</th>\n",
       "      <td>0.842144</td>\n",
       "      <td>1.333714</td>\n",
       "      <td>0.0</td>\n",
       "    </tr>\n",
       "    <tr>\n",
       "      <th>2</th>\n",
       "      <td>0.009547</td>\n",
       "      <td>-0.949798</td>\n",
       "      <td>0.0</td>\n",
       "    </tr>\n",
       "    <tr>\n",
       "      <th>3</th>\n",
       "      <td>-1.211606</td>\n",
       "      <td>0.534083</td>\n",
       "      <td>0.0</td>\n",
       "    </tr>\n",
       "    <tr>\n",
       "      <th>4</th>\n",
       "      <td>-0.333486</td>\n",
       "      <td>1.388597</td>\n",
       "      <td>0.0</td>\n",
       "    </tr>\n",
       "    <tr>\n",
       "      <th>5</th>\n",
       "      <td>-0.554051</td>\n",
       "      <td>-1.452701</td>\n",
       "      <td>0.0</td>\n",
       "    </tr>\n",
       "    <tr>\n",
       "      <th>6</th>\n",
       "      <td>0.128686</td>\n",
       "      <td>0.553576</td>\n",
       "      <td>0.0</td>\n",
       "    </tr>\n",
       "    <tr>\n",
       "      <th>7</th>\n",
       "      <td>-0.494526</td>\n",
       "      <td>-0.285008</td>\n",
       "      <td>0.0</td>\n",
       "    </tr>\n",
       "    <tr>\n",
       "      <th>8</th>\n",
       "      <td>1.085658</td>\n",
       "      <td>-0.629356</td>\n",
       "      <td>0.0</td>\n",
       "    </tr>\n",
       "    <tr>\n",
       "      <th>9</th>\n",
       "      <td>-0.495954</td>\n",
       "      <td>0.754311</td>\n",
       "      <td>0.0</td>\n",
       "    </tr>\n",
       "    <tr>\n",
       "      <th>10</th>\n",
       "      <td>-0.651343</td>\n",
       "      <td>-0.814012</td>\n",
       "      <td>0.0</td>\n",
       "    </tr>\n",
       "    <tr>\n",
       "      <th>11</th>\n",
       "      <td>0.407041</td>\n",
       "      <td>-0.405713</td>\n",
       "      <td>0.0</td>\n",
       "    </tr>\n",
       "    <tr>\n",
       "      <th>12</th>\n",
       "      <td>-1.029320</td>\n",
       "      <td>0.144701</td>\n",
       "      <td>0.0</td>\n",
       "    </tr>\n",
       "    <tr>\n",
       "      <th>13</th>\n",
       "      <td>0.374587</td>\n",
       "      <td>-0.466983</td>\n",
       "      <td>0.0</td>\n",
       "    </tr>\n",
       "    <tr>\n",
       "      <th>14</th>\n",
       "      <td>1.752723</td>\n",
       "      <td>0.098057</td>\n",
       "      <td>0.0</td>\n",
       "    </tr>\n",
       "    <tr>\n",
       "      <th>15</th>\n",
       "      <td>0.987309</td>\n",
       "      <td>0.127939</td>\n",
       "      <td>0.0</td>\n",
       "    </tr>\n",
       "    <tr>\n",
       "      <th>16</th>\n",
       "      <td>-0.555288</td>\n",
       "      <td>1.185368</td>\n",
       "      <td>0.0</td>\n",
       "    </tr>\n",
       "    <tr>\n",
       "      <th>17</th>\n",
       "      <td>-0.786738</td>\n",
       "      <td>0.774187</td>\n",
       "      <td>0.0</td>\n",
       "    </tr>\n",
       "    <tr>\n",
       "      <th>18</th>\n",
       "      <td>0.397550</td>\n",
       "      <td>0.566926</td>\n",
       "      <td>0.0</td>\n",
       "    </tr>\n",
       "    <tr>\n",
       "      <th>19</th>\n",
       "      <td>0.411920</td>\n",
       "      <td>-0.524554</td>\n",
       "      <td>0.0</td>\n",
       "    </tr>\n",
       "    <tr>\n",
       "      <th>20</th>\n",
       "      <td>0.387928</td>\n",
       "      <td>-0.920926</td>\n",
       "      <td>0.0</td>\n",
       "    </tr>\n",
       "    <tr>\n",
       "      <th>21</th>\n",
       "      <td>1.042051</td>\n",
       "      <td>0.530032</td>\n",
       "      <td>0.0</td>\n",
       "    </tr>\n",
       "    <tr>\n",
       "      <th>22</th>\n",
       "      <td>-1.641678</td>\n",
       "      <td>0.165512</td>\n",
       "      <td>0.0</td>\n",
       "    </tr>\n",
       "    <tr>\n",
       "      <th>23</th>\n",
       "      <td>-1.477270</td>\n",
       "      <td>-1.025961</td>\n",
       "      <td>0.0</td>\n",
       "    </tr>\n",
       "    <tr>\n",
       "      <th>24</th>\n",
       "      <td>0.873076</td>\n",
       "      <td>0.503000</td>\n",
       "      <td>0.0</td>\n",
       "    </tr>\n",
       "    <tr>\n",
       "      <th>25</th>\n",
       "      <td>0.336221</td>\n",
       "      <td>0.762988</td>\n",
       "      <td>0.0</td>\n",
       "    </tr>\n",
       "    <tr>\n",
       "      <th>26</th>\n",
       "      <td>-0.002297</td>\n",
       "      <td>-0.616110</td>\n",
       "      <td>0.0</td>\n",
       "    </tr>\n",
       "    <tr>\n",
       "      <th>27</th>\n",
       "      <td>-1.409897</td>\n",
       "      <td>0.723312</td>\n",
       "      <td>0.0</td>\n",
       "    </tr>\n",
       "    <tr>\n",
       "      <th>28</th>\n",
       "      <td>0.727934</td>\n",
       "      <td>-2.087992</td>\n",
       "      <td>0.0</td>\n",
       "    </tr>\n",
       "    <tr>\n",
       "      <th>29</th>\n",
       "      <td>-0.859582</td>\n",
       "      <td>0.840992</td>\n",
       "      <td>0.0</td>\n",
       "    </tr>\n",
       "    <tr>\n",
       "      <th>30</th>\n",
       "      <td>3.002018</td>\n",
       "      <td>1.855844</td>\n",
       "      <td>1.0</td>\n",
       "    </tr>\n",
       "    <tr>\n",
       "      <th>31</th>\n",
       "      <td>1.116321</td>\n",
       "      <td>0.079499</td>\n",
       "      <td>1.0</td>\n",
       "    </tr>\n",
       "    <tr>\n",
       "      <th>32</th>\n",
       "      <td>2.185531</td>\n",
       "      <td>0.275498</td>\n",
       "      <td>1.0</td>\n",
       "    </tr>\n",
       "    <tr>\n",
       "      <th>33</th>\n",
       "      <td>0.684310</td>\n",
       "      <td>-1.066367</td>\n",
       "      <td>1.0</td>\n",
       "    </tr>\n",
       "    <tr>\n",
       "      <th>34</th>\n",
       "      <td>1.779360</td>\n",
       "      <td>0.529825</td>\n",
       "      <td>1.0</td>\n",
       "    </tr>\n",
       "    <tr>\n",
       "      <th>35</th>\n",
       "      <td>0.155799</td>\n",
       "      <td>1.760767</td>\n",
       "      <td>1.0</td>\n",
       "    </tr>\n",
       "    <tr>\n",
       "      <th>36</th>\n",
       "      <td>1.894531</td>\n",
       "      <td>0.702434</td>\n",
       "      <td>1.0</td>\n",
       "    </tr>\n",
       "    <tr>\n",
       "      <th>37</th>\n",
       "      <td>2.374811</td>\n",
       "      <td>1.328251</td>\n",
       "      <td>1.0</td>\n",
       "    </tr>\n",
       "    <tr>\n",
       "      <th>38</th>\n",
       "      <td>0.163824</td>\n",
       "      <td>1.876826</td>\n",
       "      <td>1.0</td>\n",
       "    </tr>\n",
       "    <tr>\n",
       "      <th>39</th>\n",
       "      <td>0.870141</td>\n",
       "      <td>1.586325</td>\n",
       "      <td>1.0</td>\n",
       "    </tr>\n",
       "    <tr>\n",
       "      <th>40</th>\n",
       "      <td>1.818057</td>\n",
       "      <td>0.634825</td>\n",
       "      <td>1.0</td>\n",
       "    </tr>\n",
       "    <tr>\n",
       "      <th>41</th>\n",
       "      <td>0.816077</td>\n",
       "      <td>0.185578</td>\n",
       "      <td>1.0</td>\n",
       "    </tr>\n",
       "    <tr>\n",
       "      <th>42</th>\n",
       "      <td>1.171283</td>\n",
       "      <td>0.991687</td>\n",
       "      <td>1.0</td>\n",
       "    </tr>\n",
       "    <tr>\n",
       "      <th>43</th>\n",
       "      <td>0.980725</td>\n",
       "      <td>1.588591</td>\n",
       "      <td>1.0</td>\n",
       "    </tr>\n",
       "    <tr>\n",
       "      <th>44</th>\n",
       "      <td>2.081982</td>\n",
       "      <td>0.507325</td>\n",
       "      <td>1.0</td>\n",
       "    </tr>\n",
       "    <tr>\n",
       "      <th>45</th>\n",
       "      <td>1.589813</td>\n",
       "      <td>-1.336727</td>\n",
       "      <td>1.0</td>\n",
       "    </tr>\n",
       "    <tr>\n",
       "      <th>46</th>\n",
       "      <td>1.343265</td>\n",
       "      <td>1.996845</td>\n",
       "      <td>1.0</td>\n",
       "    </tr>\n",
       "    <tr>\n",
       "      <th>47</th>\n",
       "      <td>-0.475218</td>\n",
       "      <td>-0.607230</td>\n",
       "      <td>1.0</td>\n",
       "    </tr>\n",
       "    <tr>\n",
       "      <th>48</th>\n",
       "      <td>-0.141791</td>\n",
       "      <td>0.812569</td>\n",
       "      <td>1.0</td>\n",
       "    </tr>\n",
       "    <tr>\n",
       "      <th>49</th>\n",
       "      <td>1.674943</td>\n",
       "      <td>0.889789</td>\n",
       "      <td>1.0</td>\n",
       "    </tr>\n",
       "    <tr>\n",
       "      <th>50</th>\n",
       "      <td>1.272002</td>\n",
       "      <td>3.368338</td>\n",
       "      <td>1.0</td>\n",
       "    </tr>\n",
       "    <tr>\n",
       "      <th>51</th>\n",
       "      <td>2.225017</td>\n",
       "      <td>-0.344297</td>\n",
       "      <td>1.0</td>\n",
       "    </tr>\n",
       "    <tr>\n",
       "      <th>52</th>\n",
       "      <td>1.002801</td>\n",
       "      <td>1.759631</td>\n",
       "      <td>1.0</td>\n",
       "    </tr>\n",
       "    <tr>\n",
       "      <th>53</th>\n",
       "      <td>1.423666</td>\n",
       "      <td>0.416249</td>\n",
       "      <td>1.0</td>\n",
       "    </tr>\n",
       "    <tr>\n",
       "      <th>54</th>\n",
       "      <td>1.755610</td>\n",
       "      <td>2.179060</td>\n",
       "      <td>1.0</td>\n",
       "    </tr>\n",
       "    <tr>\n",
       "      <th>55</th>\n",
       "      <td>0.469423</td>\n",
       "      <td>-0.845890</td>\n",
       "      <td>1.0</td>\n",
       "    </tr>\n",
       "    <tr>\n",
       "      <th>56</th>\n",
       "      <td>0.646590</td>\n",
       "      <td>-0.937802</td>\n",
       "      <td>1.0</td>\n",
       "    </tr>\n",
       "    <tr>\n",
       "      <th>57</th>\n",
       "      <td>2.872389</td>\n",
       "      <td>1.882790</td>\n",
       "      <td>1.0</td>\n",
       "    </tr>\n",
       "    <tr>\n",
       "      <th>58</th>\n",
       "      <td>2.497470</td>\n",
       "      <td>-0.987803</td>\n",
       "      <td>1.0</td>\n",
       "    </tr>\n",
       "    <tr>\n",
       "      <th>59</th>\n",
       "      <td>1.041667</td>\n",
       "      <td>0.808839</td>\n",
       "      <td>1.0</td>\n",
       "    </tr>\n",
       "  </tbody>\n",
       "</table>\n",
       "</div>"
      ],
      "text/plain": [
       "          x1        y1  class\n",
       "0   0.615173  0.552483    0.0\n",
       "1   0.842144  1.333714    0.0\n",
       "2   0.009547 -0.949798    0.0\n",
       "3  -1.211606  0.534083    0.0\n",
       "4  -0.333486  1.388597    0.0\n",
       "5  -0.554051 -1.452701    0.0\n",
       "6   0.128686  0.553576    0.0\n",
       "7  -0.494526 -0.285008    0.0\n",
       "8   1.085658 -0.629356    0.0\n",
       "9  -0.495954  0.754311    0.0\n",
       "10 -0.651343 -0.814012    0.0\n",
       "11  0.407041 -0.405713    0.0\n",
       "12 -1.029320  0.144701    0.0\n",
       "13  0.374587 -0.466983    0.0\n",
       "14  1.752723  0.098057    0.0\n",
       "15  0.987309  0.127939    0.0\n",
       "16 -0.555288  1.185368    0.0\n",
       "17 -0.786738  0.774187    0.0\n",
       "18  0.397550  0.566926    0.0\n",
       "19  0.411920 -0.524554    0.0\n",
       "20  0.387928 -0.920926    0.0\n",
       "21  1.042051  0.530032    0.0\n",
       "22 -1.641678  0.165512    0.0\n",
       "23 -1.477270 -1.025961    0.0\n",
       "24  0.873076  0.503000    0.0\n",
       "25  0.336221  0.762988    0.0\n",
       "26 -0.002297 -0.616110    0.0\n",
       "27 -1.409897  0.723312    0.0\n",
       "28  0.727934 -2.087992    0.0\n",
       "29 -0.859582  0.840992    0.0\n",
       "30  3.002018  1.855844    1.0\n",
       "31  1.116321  0.079499    1.0\n",
       "32  2.185531  0.275498    1.0\n",
       "33  0.684310 -1.066367    1.0\n",
       "34  1.779360  0.529825    1.0\n",
       "35  0.155799  1.760767    1.0\n",
       "36  1.894531  0.702434    1.0\n",
       "37  2.374811  1.328251    1.0\n",
       "38  0.163824  1.876826    1.0\n",
       "39  0.870141  1.586325    1.0\n",
       "40  1.818057  0.634825    1.0\n",
       "41  0.816077  0.185578    1.0\n",
       "42  1.171283  0.991687    1.0\n",
       "43  0.980725  1.588591    1.0\n",
       "44  2.081982  0.507325    1.0\n",
       "45  1.589813 -1.336727    1.0\n",
       "46  1.343265  1.996845    1.0\n",
       "47 -0.475218 -0.607230    1.0\n",
       "48 -0.141791  0.812569    1.0\n",
       "49  1.674943  0.889789    1.0\n",
       "50  1.272002  3.368338    1.0\n",
       "51  2.225017 -0.344297    1.0\n",
       "52  1.002801  1.759631    1.0\n",
       "53  1.423666  0.416249    1.0\n",
       "54  1.755610  2.179060    1.0\n",
       "55  0.469423 -0.845890    1.0\n",
       "56  0.646590 -0.937802    1.0\n",
       "57  2.872389  1.882790    1.0\n",
       "58  2.497470 -0.987803    1.0\n",
       "59  1.041667  0.808839    1.0"
      ]
     },
     "metadata": {},
     "output_type": "display_data"
    },
    {
     "data": {
      "text/html": [
       "<div>\n",
       "<style scoped>\n",
       "    .dataframe tbody tr th:only-of-type {\n",
       "        vertical-align: middle;\n",
       "    }\n",
       "\n",
       "    .dataframe tbody tr th {\n",
       "        vertical-align: top;\n",
       "    }\n",
       "\n",
       "    .dataframe thead th {\n",
       "        text-align: right;\n",
       "    }\n",
       "</style>\n",
       "<table border=\"1\" class=\"dataframe\">\n",
       "  <thead>\n",
       "    <tr style=\"text-align: right;\">\n",
       "      <th></th>\n",
       "      <th>x1</th>\n",
       "      <th>y1</th>\n",
       "      <th>class</th>\n",
       "    </tr>\n",
       "  </thead>\n",
       "  <tbody>\n",
       "    <tr>\n",
       "      <th>0</th>\n",
       "      <td>-0.747561</td>\n",
       "      <td>-0.350130</td>\n",
       "      <td>0.0</td>\n",
       "    </tr>\n",
       "    <tr>\n",
       "      <th>1</th>\n",
       "      <td>-1.021639</td>\n",
       "      <td>1.520665</td>\n",
       "      <td>0.0</td>\n",
       "    </tr>\n",
       "    <tr>\n",
       "      <th>2</th>\n",
       "      <td>0.133480</td>\n",
       "      <td>-0.157031</td>\n",
       "      <td>0.0</td>\n",
       "    </tr>\n",
       "    <tr>\n",
       "      <th>3</th>\n",
       "      <td>0.125565</td>\n",
       "      <td>0.378423</td>\n",
       "      <td>0.0</td>\n",
       "    </tr>\n",
       "    <tr>\n",
       "      <th>4</th>\n",
       "      <td>-0.378043</td>\n",
       "      <td>0.493251</td>\n",
       "      <td>0.0</td>\n",
       "    </tr>\n",
       "    <tr>\n",
       "      <th>...</th>\n",
       "      <td>...</td>\n",
       "      <td>...</td>\n",
       "      <td>...</td>\n",
       "    </tr>\n",
       "    <tr>\n",
       "      <th>395</th>\n",
       "      <td>2.432310</td>\n",
       "      <td>1.249967</td>\n",
       "      <td>1.0</td>\n",
       "    </tr>\n",
       "    <tr>\n",
       "      <th>396</th>\n",
       "      <td>0.812550</td>\n",
       "      <td>1.065843</td>\n",
       "      <td>1.0</td>\n",
       "    </tr>\n",
       "    <tr>\n",
       "      <th>397</th>\n",
       "      <td>-0.211510</td>\n",
       "      <td>-0.242653</td>\n",
       "      <td>1.0</td>\n",
       "    </tr>\n",
       "    <tr>\n",
       "      <th>398</th>\n",
       "      <td>0.257731</td>\n",
       "      <td>1.224265</td>\n",
       "      <td>1.0</td>\n",
       "    </tr>\n",
       "    <tr>\n",
       "      <th>399</th>\n",
       "      <td>-1.513845</td>\n",
       "      <td>-0.761647</td>\n",
       "      <td>1.0</td>\n",
       "    </tr>\n",
       "  </tbody>\n",
       "</table>\n",
       "<p>400 rows × 3 columns</p>\n",
       "</div>"
      ],
      "text/plain": [
       "           x1        y1  class\n",
       "0   -0.747561 -0.350130    0.0\n",
       "1   -1.021639  1.520665    0.0\n",
       "2    0.133480 -0.157031    0.0\n",
       "3    0.125565  0.378423    0.0\n",
       "4   -0.378043  0.493251    0.0\n",
       "..        ...       ...    ...\n",
       "395  2.432310  1.249967    1.0\n",
       "396  0.812550  1.065843    1.0\n",
       "397 -0.211510 -0.242653    1.0\n",
       "398  0.257731  1.224265    1.0\n",
       "399 -1.513845 -0.761647    1.0\n",
       "\n",
       "[400 rows x 3 columns]"
      ]
     },
     "metadata": {},
     "output_type": "display_data"
    }
   ],
   "source": [
    "df_train = pd.read_csv('small_xy_train.csv')\n",
    "df_test = pd.read_csv('xy_test.csv')\n",
    "display(df_train)\n",
    "display(df_test)\n",
    "x_train =df_train.iloc[:,[0,1]]\n",
    "y_train =df_train['class']\n",
    "x_test =df_test.iloc[:,[0,1]]\n",
    "y_test =df_test['class']"
   ]
  },
  {
   "cell_type": "markdown",
   "metadata": {},
   "source": [
    "### Scale data"
   ]
  },
  {
   "cell_type": "code",
   "execution_count": 4,
   "metadata": {},
   "outputs": [],
   "source": [
    "from sklearn.preprocessing import StandardScaler\n",
    "S = StandardScaler()\n",
    "x_train_t = S.fit_transform(x_train)\n",
    "x_test_t = S.transform(x_test)"
   ]
  },
  {
   "cell_type": "markdown",
   "metadata": {},
   "source": [
    "### Scatter plot data with different colors for class labels"
   ]
  },
  {
   "cell_type": "code",
   "execution_count": 122,
   "metadata": {},
   "outputs": [
    {
     "data": {
      "text/plain": [
       "Text(0, 0.5, 'x2')"
      ]
     },
     "execution_count": 122,
     "metadata": {},
     "output_type": "execute_result"
    },
    {
     "data": {
      "image/png": "[encoded data removed]",
      "text/plain": [
       "<Figure size 640x480 with 1 Axes>"
      ]
     },
     "metadata": {},
     "output_type": "display_data"
    }
   ],
   "source": [
    "plt.scatter(x_train_t[:,0], x_train_t[:,1], alpha=0.5,c=y_train)\n",
    "plt.xlabel('x1')\n",
    "plt.ylabel('x2')"
   ]
  },
  {
   "cell_type": "markdown",
   "metadata": {},
   "source": [
    "## Perform K-fold cross validation\n"
   ]
  },
  {
   "cell_type": "code",
   "execution_count": 5,
   "metadata": {},
   "outputs": [],
   "source": [
    "from sklearn.metrics import accuracy_score\n",
    "from sklearn.neural_network import MLPClassifier"
   ]
  },
  {
   "cell_type": "markdown",
   "metadata": {},
   "source": [
    "- Decide parameter(s) in the model you want to tune. Here we will simply choose one parameter to tune which is hidden layer and sizes.\n",
    "- Create the space to search using a python dictionary.\n",
    "- Use `GridSearchCV`. It performs K-fold cross validation for each possible option in the space to search. "
   ]
  },
  {
   "cell_type": "code",
   "execution_count": 6,
   "metadata": {},
   "outputs": [],
   "source": [
    "from sklearn.model_selection import GridSearchCV"
   ]
  },
  {
   "cell_type": "code",
   "execution_count": 11,
   "metadata": {},
   "outputs": [],
   "source": [
    "mlp_grid ={'hidden_layer_sizes':[(2),(5),(10),(15),(20),(50),(50,50),(100,100),(200,200),(100,100,100),(200,200,200),(500,500,500),(1000,1000,1000)]}"
   ]
  },
  {
   "cell_type": "code",
   "execution_count": 12,
   "metadata": {},
   "outputs": [
    {
     "name": "stderr",
     "output_type": "stream",
     "text": [
      "/Users/soibamb/anaconda3/lib/python3.11/site-packages/joblib/externals/loky/process_executor.py:700: UserWarning: A worker stopped while some jobs were given to the executor. This can be caused by a too short worker timeout or by a memory leak.\n",
      "  warnings.warn(\n"
     ]
    },
    {
     "data": {
      "text/html": [
       "<style>#sk-container-id-2 {color: black;}#sk-container-id-2 pre{padding: 0;}#sk-container-id-2 div.sk-toggleable {background-color: white;}#sk-container-id-2 label.sk-toggleable__label {cursor: pointer;display: block;width: 100%;margin-bottom: 0;padding: 0.3em;box-sizing: border-box;text-align: center;}#sk-container-id-2 label.sk-toggleable__label-arrow:before {content: \"▸\";float: left;margin-right: 0.25em;color: #696969;}#sk-container-id-2 label.sk-toggleable__label-arrow:hover:before {color: black;}#sk-container-id-2 div.sk-estimator:hover label.sk-toggleable__label-arrow:before {color: black;}#sk-container-id-2 div.sk-toggleable__content {max-height: 0;max-width: 0;overflow: hidden;text-align: left;background-color: #f0f8ff;}#sk-container-id-2 div.sk-toggleable__content pre {margin: 0.2em;color: black;border-radius: 0.25em;background-color: #f0f8ff;}#sk-container-id-2 input.sk-toggleable__control:checked~div.sk-toggleable__content {max-height: 200px;max-width: 100%;overflow: auto;}#sk-container-id-2 input.sk-toggleable__control:checked~label.sk-toggleable__label-arrow:before {content: \"▾\";}#sk-container-id-2 div.sk-estimator input.sk-toggleable__control:checked~label.sk-toggleable__label {background-color: #d4ebff;}#sk-container-id-2 div.sk-label input.sk-toggleable__control:checked~label.sk-toggleable__label {background-color: #d4ebff;}#sk-container-id-2 input.sk-hidden--visually {border: 0;clip: rect(1px 1px 1px 1px);clip: rect(1px, 1px, 1px, 1px);height: 1px;margin: -1px;overflow: hidden;padding: 0;position: absolute;width: 1px;}#sk-container-id-2 div.sk-estimator {font-family: monospace;background-color: #f0f8ff;border: 1px dotted black;border-radius: 0.25em;box-sizing: border-box;margin-bottom: 0.5em;}#sk-container-id-2 div.sk-estimator:hover {background-color: #d4ebff;}#sk-container-id-2 div.sk-parallel-item::after {content: \"\";width: 100%;border-bottom: 1px solid gray;flex-grow: 1;}#sk-container-id-2 div.sk-label:hover label.sk-toggleable__label {background-color: #d4ebff;}#sk-container-id-2 div.sk-serial::before {content: \"\";position: absolute;border-left: 1px solid gray;box-sizing: border-box;top: 0;bottom: 0;left: 50%;z-index: 0;}#sk-container-id-2 div.sk-serial {display: flex;flex-direction: column;align-items: center;background-color: white;padding-right: 0.2em;padding-left: 0.2em;position: relative;}#sk-container-id-2 div.sk-item {position: relative;z-index: 1;}#sk-container-id-2 div.sk-parallel {display: flex;align-items: stretch;justify-content: center;background-color: white;position: relative;}#sk-container-id-2 div.sk-item::before, #sk-container-id-2 div.sk-parallel-item::before {content: \"\";position: absolute;border-left: 1px solid gray;box-sizing: border-box;top: 0;bottom: 0;left: 50%;z-index: -1;}#sk-container-id-2 div.sk-parallel-item {display: flex;flex-direction: column;z-index: 1;position: relative;background-color: white;}#sk-container-id-2 div.sk-parallel-item:first-child::after {align-self: flex-end;width: 50%;}#sk-container-id-2 div.sk-parallel-item:last-child::after {align-self: flex-start;width: 50%;}#sk-container-id-2 div.sk-parallel-item:only-child::after {width: 0;}#sk-container-id-2 div.sk-dashed-wrapped {border: 1px dashed gray;margin: 0 0.4em 0.5em 0.4em;box-sizing: border-box;padding-bottom: 0.4em;background-color: white;}#sk-container-id-2 div.sk-label label {font-family: monospace;font-weight: bold;display: inline-block;line-height: 1.2em;}#sk-container-id-2 div.sk-label-container {text-align: center;}#sk-container-id-2 div.sk-container {/* jupyter's `normalize.less` sets `[hidden] { display: none; }` but bootstrap.min.css set `[hidden] { display: none !important; }` so we also need the `!important` here to be able to override the default hidden behavior on the sphinx rendered scikit-learn.org. See: https://github.com/scikit-learn/scikit-learn/issues/21755 */display: inline-block !important;position: relative;}#sk-container-id-2 div.sk-text-repr-fallback {display: none;}</style><div id=\"sk-container-id-2\" class=\"sk-top-container\"><div class=\"sk-text-repr-fallback\"><pre>GridSearchCV(cv=5, estimator=MLPClassifier(batch_size=5, max_iter=5000),\n",
       "             n_jobs=4,\n",
       "             param_grid={&#x27;hidden_layer_sizes&#x27;: [2, 5, 10, 15, 20, 50, (50, 50),\n",
       "                                                (100, 100), (200, 200),\n",
       "                                                (100, 100, 100),\n",
       "                                                (200, 200, 200),\n",
       "                                                (500, 500, 500),\n",
       "                                                (1000, 1000, 1000)]},\n",
       "             return_train_score=True, scoring=&#x27;accuracy&#x27;)</pre><b>In a Jupyter environment, please rerun this cell to show the HTML representation or trust the notebook. <br />On GitHub, the HTML representation is unable to render, please try loading this page with nbviewer.org.</b></div><div class=\"sk-container\" hidden><div class=\"sk-item sk-dashed-wrapped\"><div class=\"sk-label-container\"><div class=\"sk-label sk-toggleable\"><input class=\"sk-toggleable__control sk-hidden--visually\" id=\"sk-estimator-id-4\" type=\"checkbox\" ><label for=\"sk-estimator-id-4\" class=\"sk-toggleable__label sk-toggleable__label-arrow\">GridSearchCV</label><div class=\"sk-toggleable__content\"><pre>GridSearchCV(cv=5, estimator=MLPClassifier(batch_size=5, max_iter=5000),\n",
       "             n_jobs=4,\n",
       "             param_grid={&#x27;hidden_layer_sizes&#x27;: [2, 5, 10, 15, 20, 50, (50, 50),\n",
       "                                                (100, 100), (200, 200),\n",
       "                                                (100, 100, 100),\n",
       "                                                (200, 200, 200),\n",
       "                                                (500, 500, 500),\n",
       "                                                (1000, 1000, 1000)]},\n",
       "             return_train_score=True, scoring=&#x27;accuracy&#x27;)</pre></div></div></div><div class=\"sk-parallel\"><div class=\"sk-parallel-item\"><div class=\"sk-item\"><div class=\"sk-label-container\"><div class=\"sk-label sk-toggleable\"><input class=\"sk-toggleable__control sk-hidden--visually\" id=\"sk-estimator-id-5\" type=\"checkbox\" ><label for=\"sk-estimator-id-5\" class=\"sk-toggleable__label sk-toggleable__label-arrow\">estimator: MLPClassifier</label><div class=\"sk-toggleable__content\"><pre>MLPClassifier(batch_size=5, max_iter=5000)</pre></div></div></div><div class=\"sk-serial\"><div class=\"sk-item\"><div class=\"sk-estimator sk-toggleable\"><input class=\"sk-toggleable__control sk-hidden--visually\" id=\"sk-estimator-id-6\" type=\"checkbox\" ><label for=\"sk-estimator-id-6\" class=\"sk-toggleable__label sk-toggleable__label-arrow\">MLPClassifier</label><div class=\"sk-toggleable__content\"><pre>MLPClassifier(batch_size=5, max_iter=5000)</pre></div></div></div></div></div></div></div></div></div></div>"
      ],
      "text/plain": [
       "GridSearchCV(cv=5, estimator=MLPClassifier(batch_size=5, max_iter=5000),\n",
       "             n_jobs=4,\n",
       "             param_grid={'hidden_layer_sizes': [2, 5, 10, 15, 20, 50, (50, 50),\n",
       "                                                (100, 100), (200, 200),\n",
       "                                                (100, 100, 100),\n",
       "                                                (200, 200, 200),\n",
       "                                                (500, 500, 500),\n",
       "                                                (1000, 1000, 1000)]},\n",
       "             return_train_score=True, scoring='accuracy')"
      ]
     },
     "execution_count": 12,
     "metadata": {},
     "output_type": "execute_result"
    }
   ],
   "source": [
    "nn_model = MLPClassifier (max_iter=5000,\n",
    "                           activation = 'relu',\n",
    "                           solver='adam',batch_size=5,# mini batch\n",
    "                           n_iter_no_change=10,\n",
    "                           early_stopping=False)#early stopping\n",
    "clf = GridSearchCV(nn_model, \n",
    "                   param_grid = mlp_grid,\n",
    "                   scoring = 'accuracy',\n",
    "                   cv = 5, \n",
    "                   n_jobs = 4, #parallel processing to reduce computation time\n",
    "                   return_train_score = True)\n",
    "clf.fit(x_train_t,y_train)"
   ]
  },
  {
   "cell_type": "markdown",
   "metadata": {},
   "source": [
    "## View results from each fold\n",
    "\n",
    "- `cv_results_` is a dictionary\n",
    "- `cv_results_['mean_train_score']` score (in this case accuracy) on train set averaged over k -folds\n",
    "- `cv_results_['mean_test_score']` score (in this case accuracy) on test set (1 validation fold) averaged over k-folds\n",
    "- `cv_results_['std_train_score']` standard deviation of score (in this case accuracy) on training \n",
    "- `cv_results_['std_test_score']` standard deviation of score (in this case accuracy) on validation (1 validation fold at a time)."
   ]
  },
  {
   "cell_type": "code",
   "execution_count": 13,
   "metadata": {},
   "outputs": [
    {
     "data": {
      "text/plain": [
       "{'mean_fit_time': array([ 0.23830662,  0.30121388,  0.51896429,  0.5800283 ,  0.60567732,\n",
       "         0.69321656,  0.6340436 ,  0.72260051,  1.87658615,  0.88295202,\n",
       "         1.18279719, 10.78968244, 35.63747544]),\n",
       " 'std_fit_time': array([ 0.09877415,  0.08886288,  0.17025455,  0.13744205,  0.2937768 ,\n",
       "         0.30545299,  0.0621088 ,  0.08779658,  0.51448712,  0.17431143,\n",
       "         0.25866395,  1.93204548, 13.14437731]),\n",
       " 'mean_score_time': array([0.00036731, 0.00033431, 0.00038948, 0.00037546, 0.00037293,\n",
       "        0.00038843, 0.00037436, 0.00057273, 0.00091009, 0.00045948,\n",
       "        0.00372381, 0.00442705, 0.00457134]),\n",
       " 'std_score_time': array([1.65803624e-05, 1.25783822e-05, 2.70915693e-05, 5.23247908e-05,\n",
       "        1.93100799e-05, 2.97102077e-05, 1.12167263e-05, 3.17390471e-04,\n",
       "        5.02517807e-04, 3.26417239e-05, 1.50143775e-03, 4.68187397e-03,\n",
       "        2.14654875e-03]),\n",
       " 'param_hidden_layer_sizes': masked_array(data=[2, 5, 10, 15, 20, 50, (50, 50), (100, 100), (200, 200),\n",
       "                    (100, 100, 100), (200, 200, 200), (500, 500, 500),\n",
       "                    (1000, 1000, 1000)],\n",
       "              mask=[False, False, False, False, False, False, False, False,\n",
       "                    False, False, False, False, False],\n",
       "        fill_value='?',\n",
       "             dtype=object),\n",
       " 'params': [{'hidden_layer_sizes': 2},\n",
       "  {'hidden_layer_sizes': 5},\n",
       "  {'hidden_layer_sizes': 10},\n",
       "  {'hidden_layer_sizes': 15},\n",
       "  {'hidden_layer_sizes': 20},\n",
       "  {'hidden_layer_sizes': 50},\n",
       "  {'hidden_layer_sizes': (50, 50)},\n",
       "  {'hidden_layer_sizes': (100, 100)},\n",
       "  {'hidden_layer_sizes': (200, 200)},\n",
       "  {'hidden_layer_sizes': (100, 100, 100)},\n",
       "  {'hidden_layer_sizes': (200, 200, 200)},\n",
       "  {'hidden_layer_sizes': (500, 500, 500)},\n",
       "  {'hidden_layer_sizes': (1000, 1000, 1000)}],\n",
       " 'split0_test_score': array([0.75      , 0.75      , 0.66666667, 0.66666667, 0.66666667,\n",
       "        0.66666667, 0.75      , 0.83333333, 0.75      , 0.83333333,\n",
       "        0.83333333, 0.75      , 0.75      ]),\n",
       " 'split1_test_score': array([0.83333333, 0.83333333, 0.83333333, 0.83333333, 0.83333333,\n",
       "        0.75      , 0.66666667, 0.75      , 0.66666667, 0.66666667,\n",
       "        0.66666667, 0.66666667, 0.66666667]),\n",
       " 'split2_test_score': array([0.75      , 0.75      , 0.75      , 0.75      , 0.83333333,\n",
       "        0.75      , 0.75      , 0.75      , 0.75      , 0.66666667,\n",
       "        0.75      , 0.66666667, 0.66666667]),\n",
       " 'split3_test_score': array([0.83333333, 0.83333333, 0.83333333, 0.91666667, 0.83333333,\n",
       "        0.91666667, 0.66666667, 0.75      , 0.75      , 0.75      ,\n",
       "        0.75      , 0.75      , 0.75      ]),\n",
       " 'split4_test_score': array([0.66666667, 0.75      , 0.75      , 0.83333333, 0.75      ,\n",
       "        0.66666667, 0.75      , 0.75      , 0.75      , 0.75      ,\n",
       "        0.75      , 0.75      , 0.83333333]),\n",
       " 'mean_test_score': array([0.76666667, 0.78333333, 0.76666667, 0.8       , 0.78333333,\n",
       "        0.75      , 0.71666667, 0.76666667, 0.73333333, 0.73333333,\n",
       "        0.75      , 0.71666667, 0.73333333]),\n",
       " 'std_test_score': array([0.06236096, 0.04082483, 0.06236096, 0.08498366, 0.06666667,\n",
       "        0.09128709, 0.04082483, 0.03333333, 0.03333333, 0.06236096,\n",
       "        0.05270463, 0.04082483, 0.06236096]),\n",
       " 'rank_test_score': array([ 4,  2,  4,  1,  2,  8, 12,  4,  9,  9,  7, 12,  9], dtype=int32),\n",
       " 'split0_train_score': array([0.8125    , 0.8125    , 0.89583333, 0.89583333, 0.83333333,\n",
       "        0.85416667, 1.        , 1.        , 1.        , 1.        ,\n",
       "        0.95833333, 0.95833333, 0.91666667]),\n",
       " 'split1_train_score': array([0.77083333, 0.83333333, 0.83333333, 0.875     , 0.875     ,\n",
       "        1.        , 1.        , 1.        , 1.        , 1.        ,\n",
       "        1.        , 0.97916667, 0.97916667]),\n",
       " 'split2_train_score': array([0.85416667, 0.83333333, 0.875     , 0.89583333, 0.9375    ,\n",
       "        0.9375    , 1.        , 1.        , 1.        , 1.        ,\n",
       "        1.        , 0.95833333, 0.9375    ]),\n",
       " 'split3_train_score': array([0.79166667, 0.79166667, 0.875     , 0.83333333, 0.875     ,\n",
       "        0.91666667, 1.        , 0.97916667, 1.        , 0.97916667,\n",
       "        0.95833333, 0.9375    , 0.95833333]),\n",
       " 'split4_train_score': array([0.83333333, 0.85416667, 0.83333333, 0.85416667, 0.83333333,\n",
       "        0.83333333, 0.97916667, 0.97916667, 0.97916667, 0.97916667,\n",
       "        0.95833333, 0.9375    , 0.9375    ]),\n",
       " 'mean_train_score': array([0.8125    , 0.825     , 0.8625    , 0.87083333, 0.87083333,\n",
       "        0.90833333, 0.99583333, 0.99166667, 0.99583333, 0.99166667,\n",
       "        0.975     , 0.95416667, 0.94583333]),\n",
       " 'std_train_score': array([0.02946278, 0.02124591, 0.025     , 0.02429563, 0.03818813,\n",
       "        0.05980292, 0.00833333, 0.01020621, 0.00833333, 0.01020621,\n",
       "        0.02041241, 0.01559024, 0.02124591])}"
      ]
     },
     "execution_count": 13,
     "metadata": {},
     "output_type": "execute_result"
    }
   ],
   "source": [
    "clf.cv_results_"
   ]
  },
  {
   "cell_type": "markdown",
   "metadata": {},
   "source": [
    "### Plot accuracy on training and validation vs model complexity\n",
    "\n",
    "- error bars = standard error of mean (SE) (SE = $\\frac{std}{\\sqrt(n)}$), `n` = number of items the mean was calculated for.\n",
    "- n = 5 since we are doing 5-fold cross validation"
   ]
  },
  {
   "cell_type": "code",
   "execution_count": 14,
   "metadata": {},
   "outputs": [
    {
     "data": {
      "text/plain": [
       "Text(0, 0.5, 'Accuracy')"
      ]
     },
     "execution_count": 14,
     "metadata": {},
     "output_type": "execute_result"
    },
    {
     "data": {
      "image/png": "[encoded data removed]",
      "text/plain": [
       "<Figure size 640x480 with 1 Axes>"
      ]
     },
     "metadata": {},
     "output_type": "display_data"
    }
   ],
   "source": [
    "plt.errorbar(range(1,1+len(mlp_grid['hidden_layer_sizes'])),clf.cv_results_['mean_test_score'],clf.cv_results_['std_test_score']/np.sqrt(5),marker='.')\n",
    "plt.errorbar(range(1,1+len(mlp_grid['hidden_layer_sizes'])),clf.cv_results_['mean_train_score'],clf.cv_results_['std_train_score']/np.sqrt(5),marker='.')\n",
    "plt.legend(['Validation','Training'])\n",
    "plt.xlabel('Model complexity')\n",
    "plt.ylabel('Accuracy')"
   ]
  },
  {
   "cell_type": "markdown",
   "metadata": {},
   "source": [
    "### Best model based on higher validation score (accuracy)"
   ]
  },
  {
   "cell_type": "code",
   "execution_count": 15,
   "metadata": {},
   "outputs": [
    {
     "name": "stdout",
     "output_type": "stream",
     "text": [
      "best parameters  {'hidden_layer_sizes': 15}\n",
      "best validation score  0.8\n"
     ]
    }
   ],
   "source": [
    "print('best parameters ',clf.best_params_)\n",
    "print('best validation score ', clf.best_score_)\n",
    "best_model = clf.best_estimator_"
   ]
  },
  {
   "cell_type": "markdown",
   "metadata": {},
   "source": [
    "### Retrain model using the entire train set with best parameters\n",
    "\n",
    "- Based on k-fold cross validation analysis, we choose two models to illustrate.\n",
    "- here we retrain models (best model, complex) on the entire train data set\n"
   ]
  },
  {
   "cell_type": "code",
   "execution_count": 16,
   "metadata": {},
   "outputs": [
    {
     "data": {
      "text/html": [
       "<style>#sk-container-id-3 {color: black;}#sk-container-id-3 pre{padding: 0;}#sk-container-id-3 div.sk-toggleable {background-color: white;}#sk-container-id-3 label.sk-toggleable__label {cursor: pointer;display: block;width: 100%;margin-bottom: 0;padding: 0.3em;box-sizing: border-box;text-align: center;}#sk-container-id-3 label.sk-toggleable__label-arrow:before {content: \"▸\";float: left;margin-right: 0.25em;color: #696969;}#sk-container-id-3 label.sk-toggleable__label-arrow:hover:before {color: black;}#sk-container-id-3 div.sk-estimator:hover label.sk-toggleable__label-arrow:before {color: black;}#sk-container-id-3 div.sk-toggleable__content {max-height: 0;max-width: 0;overflow: hidden;text-align: left;background-color: #f0f8ff;}#sk-container-id-3 div.sk-toggleable__content pre {margin: 0.2em;color: black;border-radius: 0.25em;background-color: #f0f8ff;}#sk-container-id-3 input.sk-toggleable__control:checked~div.sk-toggleable__content {max-height: 200px;max-width: 100%;overflow: auto;}#sk-container-id-3 input.sk-toggleable__control:checked~label.sk-toggleable__label-arrow:before {content: \"▾\";}#sk-container-id-3 div.sk-estimator input.sk-toggleable__control:checked~label.sk-toggleable__label {background-color: #d4ebff;}#sk-container-id-3 div.sk-label input.sk-toggleable__control:checked~label.sk-toggleable__label {background-color: #d4ebff;}#sk-container-id-3 input.sk-hidden--visually {border: 0;clip: rect(1px 1px 1px 1px);clip: rect(1px, 1px, 1px, 1px);height: 1px;margin: -1px;overflow: hidden;padding: 0;position: absolute;width: 1px;}#sk-container-id-3 div.sk-estimator {font-family: monospace;background-color: #f0f8ff;border: 1px dotted black;border-radius: 0.25em;box-sizing: border-box;margin-bottom: 0.5em;}#sk-container-id-3 div.sk-estimator:hover {background-color: #d4ebff;}#sk-container-id-3 div.sk-parallel-item::after {content: \"\";width: 100%;border-bottom: 1px solid gray;flex-grow: 1;}#sk-container-id-3 div.sk-label:hover label.sk-toggleable__label {background-color: #d4ebff;}#sk-container-id-3 div.sk-serial::before {content: \"\";position: absolute;border-left: 1px solid gray;box-sizing: border-box;top: 0;bottom: 0;left: 50%;z-index: 0;}#sk-container-id-3 div.sk-serial {display: flex;flex-direction: column;align-items: center;background-color: white;padding-right: 0.2em;padding-left: 0.2em;position: relative;}#sk-container-id-3 div.sk-item {position: relative;z-index: 1;}#sk-container-id-3 div.sk-parallel {display: flex;align-items: stretch;justify-content: center;background-color: white;position: relative;}#sk-container-id-3 div.sk-item::before, #sk-container-id-3 div.sk-parallel-item::before {content: \"\";position: absolute;border-left: 1px solid gray;box-sizing: border-box;top: 0;bottom: 0;left: 50%;z-index: -1;}#sk-container-id-3 div.sk-parallel-item {display: flex;flex-direction: column;z-index: 1;position: relative;background-color: white;}#sk-container-id-3 div.sk-parallel-item:first-child::after {align-self: flex-end;width: 50%;}#sk-container-id-3 div.sk-parallel-item:last-child::after {align-self: flex-start;width: 50%;}#sk-container-id-3 div.sk-parallel-item:only-child::after {width: 0;}#sk-container-id-3 div.sk-dashed-wrapped {border: 1px dashed gray;margin: 0 0.4em 0.5em 0.4em;box-sizing: border-box;padding-bottom: 0.4em;background-color: white;}#sk-container-id-3 div.sk-label label {font-family: monospace;font-weight: bold;display: inline-block;line-height: 1.2em;}#sk-container-id-3 div.sk-label-container {text-align: center;}#sk-container-id-3 div.sk-container {/* jupyter's `normalize.less` sets `[hidden] { display: none; }` but bootstrap.min.css set `[hidden] { display: none !important; }` so we also need the `!important` here to be able to override the default hidden behavior on the sphinx rendered scikit-learn.org. See: https://github.com/scikit-learn/scikit-learn/issues/21755 */display: inline-block !important;position: relative;}#sk-container-id-3 div.sk-text-repr-fallback {display: none;}</style><div id=\"sk-container-id-3\" class=\"sk-top-container\"><div class=\"sk-text-repr-fallback\"><pre>MLPClassifier(batch_size=5, hidden_layer_sizes=15, max_iter=1000)</pre><b>In a Jupyter environment, please rerun this cell to show the HTML representation or trust the notebook. <br />On GitHub, the HTML representation is unable to render, please try loading this page with nbviewer.org.</b></div><div class=\"sk-container\" hidden><div class=\"sk-item\"><div class=\"sk-estimator sk-toggleable\"><input class=\"sk-toggleable__control sk-hidden--visually\" id=\"sk-estimator-id-7\" type=\"checkbox\" checked><label for=\"sk-estimator-id-7\" class=\"sk-toggleable__label sk-toggleable__label-arrow\">MLPClassifier</label><div class=\"sk-toggleable__content\"><pre>MLPClassifier(batch_size=5, hidden_layer_sizes=15, max_iter=1000)</pre></div></div></div></div></div>"
      ],
      "text/plain": [
       "MLPClassifier(batch_size=5, hidden_layer_sizes=15, max_iter=1000)"
      ]
     },
     "execution_count": 16,
     "metadata": {},
     "output_type": "execute_result"
    }
   ],
   "source": [
    "nn_model_complex =MLPClassifier (hidden_layer_sizes=(1000,1000,1000),max_iter=1000,\n",
    "                           activation = 'relu',\n",
    "                           solver='adam',batch_size=5,# mini batch\n",
    "                           n_iter_no_change=10,\n",
    "                           early_stopping=False) #early stopping\n",
    "nn_model_balance =MLPClassifier (hidden_layer_sizes=(15),max_iter=1000,\n",
    "                           activation = 'relu',\n",
    "                           solver='adam',batch_size=5,# mini batch\n",
    "                           n_iter_no_change=10,\n",
    "                           early_stopping=False) #early stopping\n",
    "\n",
    "nn_model_complex.fit(x_train_t,y_train)\n",
    "nn_model_balance.fit(x_train_t,y_train)"
   ]
  },
  {
   "cell_type": "markdown",
   "metadata": {},
   "source": [
    "### Predictions on the entire train and testing set"
   ]
  },
  {
   "cell_type": "code",
   "execution_count": 17,
   "metadata": {},
   "outputs": [
    {
     "name": "stdout",
     "output_type": "stream",
     "text": [
      "\n",
      "====best model\n",
      "Training accuracy  0.8166666666666667\n",
      "Testing accuracy  0.745\n",
      "\n",
      "====overfitted model\n",
      "Training accuracy  0.9333333333333333\n",
      "Training accuracy  0.7\n"
     ]
    }
   ],
   "source": [
    "print('\\n====best model')\n",
    "print(\"Training accuracy \",accuracy_score(y_train,nn_model_balance.predict(x_train_t)))\n",
    "print(\"Testing accuracy \",accuracy_score(y_test,nn_model_balance.predict(x_test_t)))\n",
    "\n",
    "\n",
    "print('\\n====overfitted model')\n",
    "print(\"Training accuracy \",accuracy_score(y_train,nn_model_complex.predict(x_train_t)))\n",
    "print(\"Testing accuracy \",accuracy_score(y_test,nn_model_complex.predict(x_test_t)))"
   ]
  },
  {
   "cell_type": "markdown",
   "metadata": {},
   "source": [
    "- Overfitted has much higher gap between train and test accuracy"
   ]
  },
  {
   "cell_type": "markdown",
   "metadata": {},
   "source": [
    "## Visualize boundaries\n",
    "\n",
    "- create a grid of points\n",
    "- predict on the points\n",
    "- plot them as one color if predicted one class and different color if predicted the other class. \n",
    "- plot the training set data"
   ]
  },
  {
   "cell_type": "code",
   "execution_count": 18,
   "metadata": {},
   "outputs": [],
   "source": [
    "def plot_result(model,sample,class_labels, linrange=(-2.2,2.2,101)):\n",
    "    xmin, xmax, npoints = linrange\n",
    "    gridx1, gridx2 = np.meshgrid(np.linspace(xmin,xmax,npoints), np.linspace(xmin,xmax,npoints))\n",
    "    grid = np.c_[gridx1.flatten(), gridx2.flatten()]\n",
    "    probs = model.predict_proba(grid)\n",
    "    y_pred = model.predict(grid)\n",
    "    plt.pcolor(gridx1, gridx2, y_pred.reshape(npoints,npoints), cmap='cool')\n",
    "    plt.title('Training set')\n",
    "\n",
    "    plt.colorbar()\n",
    "    plt.scatter(sample[:,0], sample[:,1], c=class_labels, cmap='plasma', alpha=0.5, marker='.')\n",
    "    plt.xlabel('x1')\n",
    "    plt.ylabel('x2')\n",
    "    plt.show()"
   ]
  },
  {
   "cell_type": "markdown",
   "metadata": {},
   "source": [
    "### Decision boundary (best model)"
   ]
  },
  {
   "cell_type": "code",
   "execution_count": 19,
   "metadata": {},
   "outputs": [
    {
     "data": {
      "image/png": "[encoded data removed]",
      "text/plain": [
       "<Figure size 640x480 with 2 Axes>"
      ]
     },
     "metadata": {},
     "output_type": "display_data"
    }
   ],
   "source": [
    "plot_result(nn_model_balance,x_train_t,y_train, linrange=(-4.2,2.2,101))"
   ]
  },
  {
   "cell_type": "markdown",
   "metadata": {},
   "source": [
    "### Decision boundary (overfitted model)\n",
    "\n",
    "- The model trying really hard to capture all local variations."
   ]
  },
  {
   "cell_type": "code",
   "execution_count": 20,
   "metadata": {},
   "outputs": [
    {
     "data": {
      "image/png": "[encoded data removed]",
      "text/plain": [
       "<Figure size 640x480 with 2 Axes>"
      ]
     },
     "metadata": {},
     "output_type": "display_data"
    }
   ],
   "source": [
    "plot_result(nn_model_complex,x_train_t,y_train, linrange=(-4.2,2.2,101))"
   ]
  },
  {
   "cell_type": "markdown",
   "metadata": {},
   "source": [
    "### Can we do better (Let's tune more parameters)\n",
    "\n",
    "- Goal is to increase accuracy on the testing set and average validation accuracy without overfitting.\n",
    "- Note we only tuned one hyperparameter.\n",
    "- We can tune more (e.g: hidden layers, early_stopping, solver)"
   ]
  },
  {
   "cell_type": "code",
   "execution_count": 29,
   "metadata": {},
   "outputs": [],
   "source": [
    "mlp_grid_new ={'hidden_layer_sizes':[(10),(15),(20),50,(50,50),(100,100),(200,200),(100,100,100),(200,200,200),(500,500,500),(1000,1000,1000)],\n",
    "               'early_stopping':[True,False]}"
   ]
  },
  {
   "cell_type": "code",
   "execution_count": 30,
   "metadata": {},
   "outputs": [
    {
     "name": "stderr",
     "output_type": "stream",
     "text": [
      "/Users/soibamb/anaconda3/lib/python3.11/site-packages/joblib/externals/loky/process_executor.py:700: UserWarning: A worker stopped while some jobs were given to the executor. This can be caused by a too short worker timeout or by a memory leak.\n",
      "  warnings.warn(\n"
     ]
    },
    {
     "data": {
      "text/html": [
       "<style>#sk-container-id-8 {color: black;}#sk-container-id-8 pre{padding: 0;}#sk-container-id-8 div.sk-toggleable {background-color: white;}#sk-container-id-8 label.sk-toggleable__label {cursor: pointer;display: block;width: 100%;margin-bottom: 0;padding: 0.3em;box-sizing: border-box;text-align: center;}#sk-container-id-8 label.sk-toggleable__label-arrow:before {content: \"▸\";float: left;margin-right: 0.25em;color: #696969;}#sk-container-id-8 label.sk-toggleable__label-arrow:hover:before {color: black;}#sk-container-id-8 div.sk-estimator:hover label.sk-toggleable__label-arrow:before {color: black;}#sk-container-id-8 div.sk-toggleable__content {max-height: 0;max-width: 0;overflow: hidden;text-align: left;background-color: #f0f8ff;}#sk-container-id-8 div.sk-toggleable__content pre {margin: 0.2em;color: black;border-radius: 0.25em;background-color: #f0f8ff;}#sk-container-id-8 input.sk-toggleable__control:checked~div.sk-toggleable__content {max-height: 200px;max-width: 100%;overflow: auto;}#sk-container-id-8 input.sk-toggleable__control:checked~label.sk-toggleable__label-arrow:before {content: \"▾\";}#sk-container-id-8 div.sk-estimator input.sk-toggleable__control:checked~label.sk-toggleable__label {background-color: #d4ebff;}#sk-container-id-8 div.sk-label input.sk-toggleable__control:checked~label.sk-toggleable__label {background-color: #d4ebff;}#sk-container-id-8 input.sk-hidden--visually {border: 0;clip: rect(1px 1px 1px 1px);clip: rect(1px, 1px, 1px, 1px);height: 1px;margin: -1px;overflow: hidden;padding: 0;position: absolute;width: 1px;}#sk-container-id-8 div.sk-estimator {font-family: monospace;background-color: #f0f8ff;border: 1px dotted black;border-radius: 0.25em;box-sizing: border-box;margin-bottom: 0.5em;}#sk-container-id-8 div.sk-estimator:hover {background-color: #d4ebff;}#sk-container-id-8 div.sk-parallel-item::after {content: \"\";width: 100%;border-bottom: 1px solid gray;flex-grow: 1;}#sk-container-id-8 div.sk-label:hover label.sk-toggleable__label {background-color: #d4ebff;}#sk-container-id-8 div.sk-serial::before {content: \"\";position: absolute;border-left: 1px solid gray;box-sizing: border-box;top: 0;bottom: 0;left: 50%;z-index: 0;}#sk-container-id-8 div.sk-serial {display: flex;flex-direction: column;align-items: center;background-color: white;padding-right: 0.2em;padding-left: 0.2em;position: relative;}#sk-container-id-8 div.sk-item {position: relative;z-index: 1;}#sk-container-id-8 div.sk-parallel {display: flex;align-items: stretch;justify-content: center;background-color: white;position: relative;}#sk-container-id-8 div.sk-item::before, #sk-container-id-8 div.sk-parallel-item::before {content: \"\";position: absolute;border-left: 1px solid gray;box-sizing: border-box;top: 0;bottom: 0;left: 50%;z-index: -1;}#sk-container-id-8 div.sk-parallel-item {display: flex;flex-direction: column;z-index: 1;position: relative;background-color: white;}#sk-container-id-8 div.sk-parallel-item:first-child::after {align-self: flex-end;width: 50%;}#sk-container-id-8 div.sk-parallel-item:last-child::after {align-self: flex-start;width: 50%;}#sk-container-id-8 div.sk-parallel-item:only-child::after {width: 0;}#sk-container-id-8 div.sk-dashed-wrapped {border: 1px dashed gray;margin: 0 0.4em 0.5em 0.4em;box-sizing: border-box;padding-bottom: 0.4em;background-color: white;}#sk-container-id-8 div.sk-label label {font-family: monospace;font-weight: bold;display: inline-block;line-height: 1.2em;}#sk-container-id-8 div.sk-label-container {text-align: center;}#sk-container-id-8 div.sk-container {/* jupyter's `normalize.less` sets `[hidden] { display: none; }` but bootstrap.min.css set `[hidden] { display: none !important; }` so we also need the `!important` here to be able to override the default hidden behavior on the sphinx rendered scikit-learn.org. See: https://github.com/scikit-learn/scikit-learn/issues/21755 */display: inline-block !important;position: relative;}#sk-container-id-8 div.sk-text-repr-fallback {display: none;}</style><div id=\"sk-container-id-8\" class=\"sk-top-container\"><div class=\"sk-text-repr-fallback\"><pre>GridSearchCV(cv=5, estimator=MLPClassifier(batch_size=5, max_iter=5000),\n",
       "             n_jobs=4,\n",
       "             param_grid={&#x27;early_stopping&#x27;: [True, False],\n",
       "                         &#x27;hidden_layer_sizes&#x27;: [10, 15, 20, 50, (50, 50),\n",
       "                                                (100, 100), (200, 200),\n",
       "                                                (100, 100, 100),\n",
       "                                                (200, 200, 200),\n",
       "                                                (500, 500, 500),\n",
       "                                                (1000, 1000, 1000)]},\n",
       "             return_train_score=True, scoring=&#x27;accuracy&#x27;)</pre><b>In a Jupyter environment, please rerun this cell to show the HTML representation or trust the notebook. <br />On GitHub, the HTML representation is unable to render, please try loading this page with nbviewer.org.</b></div><div class=\"sk-container\" hidden><div class=\"sk-item sk-dashed-wrapped\"><div class=\"sk-label-container\"><div class=\"sk-label sk-toggleable\"><input class=\"sk-toggleable__control sk-hidden--visually\" id=\"sk-estimator-id-16\" type=\"checkbox\" ><label for=\"sk-estimator-id-16\" class=\"sk-toggleable__label sk-toggleable__label-arrow\">GridSearchCV</label><div class=\"sk-toggleable__content\"><pre>GridSearchCV(cv=5, estimator=MLPClassifier(batch_size=5, max_iter=5000),\n",
       "             n_jobs=4,\n",
       "             param_grid={&#x27;early_stopping&#x27;: [True, False],\n",
       "                         &#x27;hidden_layer_sizes&#x27;: [10, 15, 20, 50, (50, 50),\n",
       "                                                (100, 100), (200, 200),\n",
       "                                                (100, 100, 100),\n",
       "                                                (200, 200, 200),\n",
       "                                                (500, 500, 500),\n",
       "                                                (1000, 1000, 1000)]},\n",
       "             return_train_score=True, scoring=&#x27;accuracy&#x27;)</pre></div></div></div><div class=\"sk-parallel\"><div class=\"sk-parallel-item\"><div class=\"sk-item\"><div class=\"sk-label-container\"><div class=\"sk-label sk-toggleable\"><input class=\"sk-toggleable__control sk-hidden--visually\" id=\"sk-estimator-id-17\" type=\"checkbox\" ><label for=\"sk-estimator-id-17\" class=\"sk-toggleable__label sk-toggleable__label-arrow\">estimator: MLPClassifier</label><div class=\"sk-toggleable__content\"><pre>MLPClassifier(batch_size=5, max_iter=5000)</pre></div></div></div><div class=\"sk-serial\"><div class=\"sk-item\"><div class=\"sk-estimator sk-toggleable\"><input class=\"sk-toggleable__control sk-hidden--visually\" id=\"sk-estimator-id-18\" type=\"checkbox\" ><label for=\"sk-estimator-id-18\" class=\"sk-toggleable__label sk-toggleable__label-arrow\">MLPClassifier</label><div class=\"sk-toggleable__content\"><pre>MLPClassifier(batch_size=5, max_iter=5000)</pre></div></div></div></div></div></div></div></div></div></div>"
      ],
      "text/plain": [
       "GridSearchCV(cv=5, estimator=MLPClassifier(batch_size=5, max_iter=5000),\n",
       "             n_jobs=4,\n",
       "             param_grid={'early_stopping': [True, False],\n",
       "                         'hidden_layer_sizes': [10, 15, 20, 50, (50, 50),\n",
       "                                                (100, 100), (200, 200),\n",
       "                                                (100, 100, 100),\n",
       "                                                (200, 200, 200),\n",
       "                                                (500, 500, 500),\n",
       "                                                (1000, 1000, 1000)]},\n",
       "             return_train_score=True, scoring='accuracy')"
      ]
     },
     "execution_count": 30,
     "metadata": {},
     "output_type": "execute_result"
    }
   ],
   "source": [
    "nn_model_new = MLPClassifier(max_iter=5000,\n",
    "                            activation = 'relu',\n",
    "                            batch_size=5,\n",
    "                            n_iter_no_change=10,\n",
    "                            solver = 'adam')\n",
    "clf_new = GridSearchCV(nn_model_new, \n",
    "                   param_grid = mlp_grid_new,\n",
    "                   scoring = 'accuracy',\n",
    "                   cv = 5,\n",
    "                   n_jobs = 4,\n",
    "                   return_train_score = True)\n",
    "clf_new.fit(x_train_t,y_train)"
   ]
  },
  {
   "cell_type": "markdown",
   "metadata": {},
   "source": [
    "### Best model based on validation score"
   ]
  },
  {
   "cell_type": "code",
   "execution_count": 31,
   "metadata": {},
   "outputs": [
    {
     "name": "stdout",
     "output_type": "stream",
     "text": [
      "best parameters  {'early_stopping': True, 'hidden_layer_sizes': (500, 500, 500)}\n",
      "best validation score  0.8166666666666668\n"
     ]
    }
   ],
   "source": [
    "print('best parameters ',clf_new.best_params_)\n",
    "print('best validation score ', clf_new.best_score_)\n",
    "best_model_new = clf_new.best_estimator_"
   ]
  },
  {
   "cell_type": "markdown",
   "metadata": {},
   "source": [
    "### Retrain on entire training set"
   ]
  },
  {
   "cell_type": "code",
   "execution_count": 33,
   "metadata": {},
   "outputs": [
    {
     "data": {
      "text/html": [
       "<style>#sk-container-id-10 {color: black;}#sk-container-id-10 pre{padding: 0;}#sk-container-id-10 div.sk-toggleable {background-color: white;}#sk-container-id-10 label.sk-toggleable__label {cursor: pointer;display: block;width: 100%;margin-bottom: 0;padding: 0.3em;box-sizing: border-box;text-align: center;}#sk-container-id-10 label.sk-toggleable__label-arrow:before {content: \"▸\";float: left;margin-right: 0.25em;color: #696969;}#sk-container-id-10 label.sk-toggleable__label-arrow:hover:before {color: black;}#sk-container-id-10 div.sk-estimator:hover label.sk-toggleable__label-arrow:before {color: black;}#sk-container-id-10 div.sk-toggleable__content {max-height: 0;max-width: 0;overflow: hidden;text-align: left;background-color: #f0f8ff;}#sk-container-id-10 div.sk-toggleable__content pre {margin: 0.2em;color: black;border-radius: 0.25em;background-color: #f0f8ff;}#sk-container-id-10 input.sk-toggleable__control:checked~div.sk-toggleable__content {max-height: 200px;max-width: 100%;overflow: auto;}#sk-container-id-10 input.sk-toggleable__control:checked~label.sk-toggleable__label-arrow:before {content: \"▾\";}#sk-container-id-10 div.sk-estimator input.sk-toggleable__control:checked~label.sk-toggleable__label {background-color: #d4ebff;}#sk-container-id-10 div.sk-label input.sk-toggleable__control:checked~label.sk-toggleable__label {background-color: #d4ebff;}#sk-container-id-10 input.sk-hidden--visually {border: 0;clip: rect(1px 1px 1px 1px);clip: rect(1px, 1px, 1px, 1px);height: 1px;margin: -1px;overflow: hidden;padding: 0;position: absolute;width: 1px;}#sk-container-id-10 div.sk-estimator {font-family: monospace;background-color: #f0f8ff;border: 1px dotted black;border-radius: 0.25em;box-sizing: border-box;margin-bottom: 0.5em;}#sk-container-id-10 div.sk-estimator:hover {background-color: #d4ebff;}#sk-container-id-10 div.sk-parallel-item::after {content: \"\";width: 100%;border-bottom: 1px solid gray;flex-grow: 1;}#sk-container-id-10 div.sk-label:hover label.sk-toggleable__label {background-color: #d4ebff;}#sk-container-id-10 div.sk-serial::before {content: \"\";position: absolute;border-left: 1px solid gray;box-sizing: border-box;top: 0;bottom: 0;left: 50%;z-index: 0;}#sk-container-id-10 div.sk-serial {display: flex;flex-direction: column;align-items: center;background-color: white;padding-right: 0.2em;padding-left: 0.2em;position: relative;}#sk-container-id-10 div.sk-item {position: relative;z-index: 1;}#sk-container-id-10 div.sk-parallel {display: flex;align-items: stretch;justify-content: center;background-color: white;position: relative;}#sk-container-id-10 div.sk-item::before, #sk-container-id-10 div.sk-parallel-item::before {content: \"\";position: absolute;border-left: 1px solid gray;box-sizing: border-box;top: 0;bottom: 0;left: 50%;z-index: -1;}#sk-container-id-10 div.sk-parallel-item {display: flex;flex-direction: column;z-index: 1;position: relative;background-color: white;}#sk-container-id-10 div.sk-parallel-item:first-child::after {align-self: flex-end;width: 50%;}#sk-container-id-10 div.sk-parallel-item:last-child::after {align-self: flex-start;width: 50%;}#sk-container-id-10 div.sk-parallel-item:only-child::after {width: 0;}#sk-container-id-10 div.sk-dashed-wrapped {border: 1px dashed gray;margin: 0 0.4em 0.5em 0.4em;box-sizing: border-box;padding-bottom: 0.4em;background-color: white;}#sk-container-id-10 div.sk-label label {font-family: monospace;font-weight: bold;display: inline-block;line-height: 1.2em;}#sk-container-id-10 div.sk-label-container {text-align: center;}#sk-container-id-10 div.sk-container {/* jupyter's `normalize.less` sets `[hidden] { display: none; }` but bootstrap.min.css set `[hidden] { display: none !important; }` so we also need the `!important` here to be able to override the default hidden behavior on the sphinx rendered scikit-learn.org. See: https://github.com/scikit-learn/scikit-learn/issues/21755 */display: inline-block !important;position: relative;}#sk-container-id-10 div.sk-text-repr-fallback {display: none;}</style><div id=\"sk-container-id-10\" class=\"sk-top-container\"><div class=\"sk-text-repr-fallback\"><pre>MLPClassifier(batch_size=5, early_stopping=True,\n",
       "              hidden_layer_sizes=(500, 500, 500), max_iter=5000)</pre><b>In a Jupyter environment, please rerun this cell to show the HTML representation or trust the notebook. <br />On GitHub, the HTML representation is unable to render, please try loading this page with nbviewer.org.</b></div><div class=\"sk-container\" hidden><div class=\"sk-item\"><div class=\"sk-estimator sk-toggleable\"><input class=\"sk-toggleable__control sk-hidden--visually\" id=\"sk-estimator-id-20\" type=\"checkbox\" checked><label for=\"sk-estimator-id-20\" class=\"sk-toggleable__label sk-toggleable__label-arrow\">MLPClassifier</label><div class=\"sk-toggleable__content\"><pre>MLPClassifier(batch_size=5, early_stopping=True,\n",
       "              hidden_layer_sizes=(500, 500, 500), max_iter=5000)</pre></div></div></div></div></div>"
      ],
      "text/plain": [
       "MLPClassifier(batch_size=5, early_stopping=True,\n",
       "              hidden_layer_sizes=(500, 500, 500), max_iter=5000)"
      ]
     },
     "execution_count": 33,
     "metadata": {},
     "output_type": "execute_result"
    }
   ],
   "source": [
    "nn_model_new = MLPClassifier (hidden_layer_sizes=(500,500,500),max_iter=5000,\n",
    "                           activation = 'relu',\n",
    "                           solver='adam',batch_size=5,# mini batch\n",
    "                           n_iter_no_change=10,\n",
    "                           early_stopping=True)\n",
    "nn_model_new.fit(x_train_t,y_train)"
   ]
  },
  {
   "cell_type": "code",
   "execution_count": 34,
   "metadata": {},
   "outputs": [
    {
     "name": "stdout",
     "output_type": "stream",
     "text": [
      "\n",
      "====best model\n",
      "Training accuracy  0.8166666666666667\n",
      "Testing accuracy  0.7675\n"
     ]
    }
   ],
   "source": [
    "print('\\n====best model')\n",
    "print(\"Training accuracy \",accuracy_score(y_train,nn_model_new.predict(x_train_t)))\n",
    "print(\"Testing accuracy \",accuracy_score(y_test,nn_model_new.predict(x_test_t)))"
   ]
  },
  {
   "cell_type": "markdown",
   "metadata": {},
   "source": [
    "- This is better accuracy on the testing set\n",
    "- less overfitting \n",
    "- better results when using `early stopping = True`\n",
    "- note that model with hidden layers (200,200,200) with early stopping = True will have different weights compared to early stopping=False"
   ]
  },
  {
   "cell_type": "code",
   "execution_count": 35,
   "metadata": {},
   "outputs": [
    {
     "data": {
      "image/png": "[encoded data removed]",
      "text/plain": [
       "<Figure size 640x480 with 2 Axes>"
      ]
     },
     "metadata": {},
     "output_type": "display_data"
    }
   ],
   "source": [
    "plot_result(nn_model_new,x_train_t,y_train)"
   ]
  }
 ],
 "metadata": {
  "kernelspec": {
   "display_name": "Python 3 (ipykernel)",
   "language": "python",
   "name": "python3"
  },
  "language_info": {
   "codemirror_mode": {
    "name": "ipython",
    "version": 3
   },
   "file_extension": ".py",
   "mimetype": "text/x-python",
   "name": "python",
   "nbconvert_exporter": "python",
   "pygments_lexer": "ipython3",
   "version": "3.11.5"
  }
 },
 "nbformat": 4,
 "nbformat_minor": 2
}
