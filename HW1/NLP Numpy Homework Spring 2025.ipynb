{
 "cells": [
  {
   "cell_type": "markdown",
   "id": "e06e1b12",
   "metadata": {},
   "source": [
    "# Question 1."
   ]
  },
  {
   "cell_type": "markdown",
   "id": "5e0d05ba",
   "metadata": {},
   "source": [
    "# Can you explain the following code (10)"
   ]
  },
  {
   "cell_type": "code",
   "execution_count": 1,
   "id": "5722dd9d",
   "metadata": {},
   "outputs": [
    {
     "name": "stdout",
     "output_type": "stream",
     "text": [
      "(6, 3)\n",
      "\n",
      "6\n",
      "\n",
      "[0.9544 1.495  1.4754 0.8434 0.707  1.0865]\n"
     ]
    }
   ],
   "source": [
    "import numpy as np\n",
    "\n",
    "inputs = np.array(\n",
    "   [[0.43, 0.15, 0.89], # Your\n",
    "    [0.55, 0.87, 0.66], # journey\n",
    "    [0.57, 0.85, 0.64], # starts\n",
    "    [0.22, 0.58, 0.33], # with\n",
    "    [0.77, 0.25, 0.10], # one \n",
    "    [0.05, 0.80, 0.55]] # step\n",
    ")\n",
    "\n",
    "print(inputs.shape)\n",
    "print()\n",
    "print(inputs.shape[0])\n",
    "print()\n",
    "query = inputs[1]\n",
    "\n",
    "attn_scores_2 = np.empty(inputs.shape[0])\n",
    "\n",
    "for i, x_i in enumerate(inputs):\n",
    "    attn_scores_2[i] = np.dot(x_i, query)\n",
    "print(attn_scores_2)"
   ]
  },
  {
   "cell_type": "markdown",
   "id": "7e4b76c1",
   "metadata": {},
   "source": [
    "# Question 2."
   ]
  },
  {
   "cell_type": "markdown",
   "id": "a4c0455b",
   "metadata": {},
   "source": [
    "# Can you explain the following code (5)"
   ]
  },
  {
   "cell_type": "code",
   "execution_count": 2,
   "id": "cc6f7041",
   "metadata": {},
   "outputs": [
    {
     "name": "stdout",
     "output_type": "stream",
     "text": [
      "[0.9544 1.495  1.4754 0.8434 0.707  1.0865]\n",
      "\n",
      "[0.14545011 0.2278373  0.22485027 0.12853376 0.10774647 0.16558209]\n",
      "\n",
      "1.0\n"
     ]
    }
   ],
   "source": [
    "import numpy as np\n",
    "\n",
    "inputs = np.array(\n",
    "   [[0.43, 0.15, 0.89], # Your\n",
    "    [0.55, 0.87, 0.66], # journey\n",
    "    [0.57, 0.85, 0.64], # starts\n",
    "    [0.22, 0.58, 0.33], # with\n",
    "    [0.77, 0.25, 0.10], # one \n",
    "    [0.05, 0.80, 0.55]] # step\n",
    ")\n",
    "\n",
    "query = inputs[1]\n",
    "\n",
    "attn_scores_2 = np.empty(inputs.shape[0])\n",
    "\n",
    "for i, x_i in enumerate(inputs):\n",
    "    attn_scores_2[i] = np.dot(x_i, query)\n",
    "print(attn_scores_2)\n",
    "\n",
    "attn_weights_2_tmp = attn_scores_2 / attn_scores_2.sum()\n",
    "\n",
    "print()\n",
    "print(attn_weights_2_tmp)\n",
    "print()\n",
    "print(attn_weights_2_tmp.sum())"
   ]
  },
  {
   "cell_type": "markdown",
   "id": "fe25a6bc",
   "metadata": {},
   "source": [
    "# Question 3."
   ]
  },
  {
   "cell_type": "markdown",
   "id": "6f594eb7",
   "metadata": {},
   "source": [
    "# Can you explain the following code. Why inputs @ inputs.T is better than dot product from for loop? (10)"
   ]
  },
  {
   "cell_type": "code",
   "execution_count": 3,
   "id": "4b563554",
   "metadata": {},
   "outputs": [
    {
     "name": "stdout",
     "output_type": "stream",
     "text": [
      "[[0.9995 0.9544 0.9422 0.4753 0.4576 0.631 ]\n",
      " [0.9544 1.495  1.4754 0.8434 0.707  1.0865]\n",
      " [0.9422 1.4754 1.457  0.8296 0.7154 1.0605]\n",
      " [0.4753 0.8434 0.8296 0.4937 0.3474 0.6565]\n",
      " [0.4576 0.707  0.7154 0.3474 0.6654 0.2935]\n",
      " [0.631  1.0865 1.0605 0.6565 0.2935 0.945 ]]\n"
     ]
    }
   ],
   "source": [
    "import numpy as np\n",
    "\n",
    "inputs = np.array(\n",
    "   [[0.43, 0.15, 0.89], # Your\n",
    "    [0.55, 0.87, 0.66], # journey\n",
    "    [0.57, 0.85, 0.64], # starts\n",
    "    [0.22, 0.58, 0.33], # with\n",
    "    [0.77, 0.25, 0.10], # one \n",
    "    [0.05, 0.80, 0.55]] # step\n",
    ")\n",
    "\n",
    "attn_scores = np.empty((inputs.shape[0], inputs.shape[0]))\n",
    "\n",
    "for i, x_i in enumerate(inputs):\n",
    "    for j, x_j in enumerate(inputs):\n",
    "        attn_scores[i, j] = np.dot(x_i, x_j)\n",
    "        \n",
    "print(attn_scores)"
   ]
  },
  {
   "cell_type": "markdown",
   "id": "dfde10a3",
   "metadata": {},
   "source": [
    "# Above dot product is very slow because we have nested for loop which has a big O complexity of O(n^2)"
   ]
  },
  {
   "cell_type": "code",
   "execution_count": 4,
   "id": "7a3422ed",
   "metadata": {},
   "outputs": [
    {
     "name": "stdout",
     "output_type": "stream",
     "text": [
      "[[0.9995 0.9544 0.9422 0.4753 0.4576 0.631 ]\n",
      " [0.9544 1.495  1.4754 0.8434 0.707  1.0865]\n",
      " [0.9422 1.4754 1.457  0.8296 0.7154 1.0605]\n",
      " [0.4753 0.8434 0.8296 0.4937 0.3474 0.6565]\n",
      " [0.4576 0.707  0.7154 0.3474 0.6654 0.2935]\n",
      " [0.631  1.0865 1.0605 0.6565 0.2935 0.945 ]]\n"
     ]
    }
   ],
   "source": [
    "import numpy as np\n",
    "\n",
    "inputs = np.array(\n",
    "   [[0.43, 0.15, 0.89], # Your\n",
    "    [0.55, 0.87, 0.66], # journey\n",
    "    [0.57, 0.85, 0.64], # starts\n",
    "    [0.22, 0.58, 0.33], # with\n",
    "    [0.77, 0.25, 0.10], # one \n",
    "    [0.05, 0.80, 0.55]] # step\n",
    ")\n",
    "\n",
    "attn_scores = inputs @ inputs.T\n",
    "        \n",
    "print(attn_scores)"
   ]
  },
  {
   "cell_type": "markdown",
   "id": "8130254f",
   "metadata": {},
   "source": [
    "# The above matrix multiplication is handled by numpy is very fast.\n",
    "# Vectorized Operation:\n",
    "\n",
    "# The @ operator (or np.dot for matrix multiplication) is a vectorized operation. It is implemented in highly optimized C and Fortran libraries (e.g., BLAS, LAPACK) that are designed to perform matrix operations efficiently.\n",
    "\n",
    "# Single Function Call:\n",
    "\n",
    "# The entire matrix multiplication is computed in a single function call, avoiding the overhead of repeatedly calling np.dot in a loop.\n",
    "\n",
    "# Parallelization:\n",
    "\n",
    "# NumPy’s underlying libraries can take advantage of multi-threading and SIMD (Single Instruction, Multiple Data) instructions on modern CPUs, allowing the computation to be parallelized and executed much faster.\n",
    "\n",
    "# Memory Efficiency:\n",
    "\n",
    "# The operation is performed on entire arrays at once, which is more cache-friendly and reduces memory access overhead."
   ]
  },
  {
   "cell_type": "code",
   "execution_count": null,
   "id": "dabfc4f5",
   "metadata": {},
   "outputs": [],
   "source": []
  },
  {
   "cell_type": "markdown",
   "id": "bc921e26",
   "metadata": {},
   "source": [
    "# Question 4."
   ]
  },
  {
   "cell_type": "markdown",
   "id": "ce53645b",
   "metadata": {},
   "source": [
    "# What is following code doing please explain (2.5)"
   ]
  },
  {
   "cell_type": "code",
   "execution_count": 5,
   "id": "921db7f1",
   "metadata": {},
   "outputs": [
    {
     "name": "stdout",
     "output_type": "stream",
     "text": [
      "[4.46   6.5617 6.4801 3.6459 3.1863 4.673 ]\n"
     ]
    }
   ],
   "source": [
    "import numpy as np\n",
    "\n",
    "# Define the array\n",
    "array = np.array(\n",
    "    [[0.9995, 0.9544, 0.9422, 0.4753, 0.4576, 0.631 ],\n",
    "     [0.9544, 1.495 , 1.4754, 0.8434, 0.707 , 1.0865],\n",
    "     [0.9422, 1.4754, 1.457 , 0.8296, 0.7154, 1.0605],\n",
    "     [0.4753, 0.8434, 0.8296, 0.4937, 0.3474, 0.6565],\n",
    "     [0.4576, 0.707 , 0.7154, 0.3474, 0.6654, 0.2935],\n",
    "     [0.631 , 1.0865, 1.0605, 0.6565, 0.2935, 0.945 ]]\n",
    ")\n",
    "\n",
    "# Sum across the column axis (axis=0)\n",
    "column_sums = np.sum(array, axis=0)\n",
    "\n",
    "print(column_sums)"
   ]
  },
  {
   "cell_type": "markdown",
   "id": "280bce8e",
   "metadata": {},
   "source": [
    "# Question 5."
   ]
  },
  {
   "cell_type": "markdown",
   "id": "21ca0aad",
   "metadata": {},
   "source": [
    "# What is following code doing please explain (2.5)"
   ]
  },
  {
   "cell_type": "code",
   "execution_count": 6,
   "id": "ff2ed716",
   "metadata": {},
   "outputs": [
    {
     "name": "stdout",
     "output_type": "stream",
     "text": [
      "[[0.37 0.95 0.73 0.6  0.16 0.16]\n",
      " [0.06 0.87 0.6  0.71 0.02 0.97]\n",
      " [0.83 0.21 0.18 0.18 0.3  0.52]\n",
      " [0.43 0.29 0.61 0.14 0.29 0.37]\n",
      " [0.46 0.79 0.2  0.51 0.59 0.05]\n",
      " [0.61 0.17 0.07 0.95 0.97 0.81]]\n",
      "\n",
      "\n",
      "\n",
      "\n",
      "[2.97 3.23 2.22 2.13 2.6  3.58]\n"
     ]
    }
   ],
   "source": [
    "import numpy as np\n",
    "np.random.seed(42)  # Set a seed for reproducibility\n",
    "\n",
    "\n",
    "# Define the array\n",
    "random_matrix = np.random.rand(6, 6).round(2)\n",
    "print(random_matrix)\n",
    "\n",
    "rows_sums = np.sum(random_matrix, axis=1)\n",
    "\n",
    "print(\"\\n\\n\\n\")\n",
    "print(rows_sums)"
   ]
  },
  {
   "cell_type": "markdown",
   "id": "7662f0bf",
   "metadata": {},
   "source": [
    "# Question 6."
   ]
  },
  {
   "cell_type": "markdown",
   "id": "b359062b",
   "metadata": {},
   "source": [
    "# Can you explain the np.tril function. Where do you think this will be used? (10)"
   ]
  },
  {
   "cell_type": "code",
   "execution_count": 7,
   "id": "cc6a2683",
   "metadata": {},
   "outputs": [
    {
     "name": "stdout",
     "output_type": "stream",
     "text": [
      "Original matrix:\n",
      "[[0.37 0.95 0.73 0.6  0.16 0.16]\n",
      " [0.06 0.87 0.6  0.71 0.02 0.97]\n",
      " [0.83 0.21 0.18 0.18 0.3  0.52]\n",
      " [0.43 0.29 0.61 0.14 0.29 0.37]\n",
      " [0.46 0.79 0.2  0.51 0.59 0.05]\n",
      " [0.61 0.17 0.07 0.95 0.97 0.81]]\n",
      "\n",
      "\n",
      "Lower triangular matrix:\n",
      "[[0.37 0.   0.   0.   0.   0.  ]\n",
      " [0.06 0.87 0.   0.   0.   0.  ]\n",
      " [0.83 0.21 0.18 0.   0.   0.  ]\n",
      " [0.43 0.29 0.61 0.14 0.   0.  ]\n",
      " [0.46 0.79 0.2  0.51 0.59 0.  ]\n",
      " [0.61 0.17 0.07 0.95 0.97 0.81]]\n",
      "\n",
      "\n",
      " 0's are replaced with -inf\n",
      "[[0.37 -inf -inf -inf -inf -inf]\n",
      " [0.06 0.87 -inf -inf -inf -inf]\n",
      " [0.83 0.21 0.18 -inf -inf -inf]\n",
      " [0.43 0.29 0.61 0.14 -inf -inf]\n",
      " [0.46 0.79 0.2  0.51 0.59 -inf]\n",
      " [0.61 0.17 0.07 0.95 0.97 0.81]]\n"
     ]
    }
   ],
   "source": [
    "import numpy as np\n",
    "np.random.seed(42)  # Set a seed for reproducibility\n",
    "\n",
    "\n",
    "# Define the array\n",
    "random_matrix = np.random.rand(6, 6).round(2)\n",
    "print(\"Original matrix:\")\n",
    "print(random_matrix)\n",
    "print()\n",
    "\n",
    "# Extract the lower triangular part (default: k=0)\n",
    "lower_triangular = np.tril(random_matrix)\n",
    "\n",
    "\n",
    "print(\"\\nLower triangular matrix:\")\n",
    "print(lower_triangular)\n",
    "print()\n",
    "\n",
    "# Replace all zeros with -inf\n",
    "lower_triangular[lower_triangular == 0] = -np.inf\n",
    "print(\"\\n 0's are replaced with -inf\")\n",
    "print(lower_triangular)"
   ]
  },
  {
   "cell_type": "markdown",
   "id": "5df712ff",
   "metadata": {},
   "source": [
    "# Question 7"
   ]
  },
  {
   "cell_type": "markdown",
   "id": "a00623c2",
   "metadata": {},
   "source": [
    "# What is the following program doing can you explain it. (10)"
   ]
  },
  {
   "cell_type": "code",
   "execution_count": 8,
   "id": "f78dd413",
   "metadata": {},
   "outputs": [
    {
     "name": "stdout",
     "output_type": "stream",
     "text": [
      "Original logits shape: (3, 4, 5)\n",
      "Last token logits shape: (3, 5)\n",
      "\n",
      "Last token logits:\n",
      "[[1.6 1.7 1.8 1.9 2. ]\n",
      " [3.6 3.7 3.8 3.9 4. ]\n",
      " [5.6 5.7 5.8 5.9 6. ]]\n"
     ]
    }
   ],
   "source": [
    "import numpy as np\n",
    "\n",
    "# Create a 3D array (batch_size=3, sequence_length=4, num_classes=5)\n",
    "logits = np.array([\n",
    "    # Batch 1\n",
    "    [[0.1, 0.2, 0.3, 0.4, 0.5],\n",
    "     [0.6, 0.7, 0.8, 0.9, 1.0],\n",
    "     [1.1, 1.2, 1.3, 1.4, 1.5],\n",
    "     [1.6, 1.7, 1.8, 1.9, 2.0]],\n",
    "\n",
    "    # Batch 2\n",
    "    [[2.1, 2.2, 2.3, 2.4, 2.5],\n",
    "     [2.6, 2.7, 2.8, 2.9, 3.0],\n",
    "     [3.1, 3.2, 3.3, 3.4, 3.5],\n",
    "     [3.6, 3.7, 3.8, 3.9, 4.0]],\n",
    "\n",
    "    # Batch 3\n",
    "    [[4.1, 4.2, 4.3, 4.4, 4.5],\n",
    "     [4.6, 4.7, 4.8, 4.9, 5.0],\n",
    "     [5.1, 5.2, 5.3, 5.4, 5.5],\n",
    "     [5.6, 5.7, 5.8, 5.9, 6.0]]\n",
    "])\n",
    "\n",
    "# Extract the logits for the last token in each sequence\n",
    "last_token_logits = logits[:, -1, :]\n",
    "\n",
    "print(\"Original logits shape:\", logits.shape)\n",
    "print(\"Last token logits shape:\", last_token_logits.shape)\n",
    "print(\"\\nLast token logits:\")\n",
    "print(last_token_logits)"
   ]
  },
  {
   "cell_type": "code",
   "execution_count": null,
   "id": "ba3674a4",
   "metadata": {},
   "outputs": [],
   "source": []
  }
 ],
 "metadata": {
  "kernelspec": {
   "display_name": "Python 3",
   "language": "python",
   "name": "python3"
  },
  "language_info": {
   "codemirror_mode": {
    "name": "ipython",
    "version": 3
   },
   "file_extension": ".py",
   "mimetype": "text/x-python",
   "name": "python",
   "nbconvert_exporter": "python",
   "pygments_lexer": "ipython3",
   "version": "3.12.1"
  }
 },
 "nbformat": 4,
 "nbformat_minor": 5
}
