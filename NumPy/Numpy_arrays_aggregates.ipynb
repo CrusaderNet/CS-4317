{
 "cells": [
  {
   "cell_type": "markdown",
   "metadata": {
    "id": "0V37bTt_BIUB"
   },
   "source": [
    "<!--BOOK_INFORMATION-->\n",
    "<img align=\"left\" style=\"padding-right:10px;\" src=\"https://github.com/jakevdp/PythonDataScienceHandbook/blob/master/notebooks/figures/PDSH-cover-small.png?raw=1\">\n",
    "\n",
    "*This notebook contains an excerpt from the [Python Data Science Handbook](http://shop.oreilly.com/product/0636920034919.do) by Jake VanderPlas; the content is available [on GitHub](https://github.com/jakevdp/PythonDataScienceHandbook).*\n",
    "\n",
    "*The text is released under the [CC-BY-NC-ND license](https://creativecommons.org/licenses/by-nc-nd/3.0/us/legalcode), and code is released under the [MIT license](https://opensource.org/licenses/MIT). If you find this content useful, please consider supporting the work by [buying the book](http://shop.oreilly.com/product/0636920034919.do)!*"
   ]
  },
  {
   "cell_type": "markdown",
   "metadata": {
    "id": "fDKhXM8cBIUE"
   },
   "source": [
    "# Aggregations: Min, Max, and Everything In Between"
   ]
  },
  {
   "cell_type": "markdown",
   "metadata": {
    "id": "FSRspFI5BIUE"
   },
   "source": [
    "Often when faced with a large amount of data, a first step is to compute summary statistics for the data in question.\n",
    "Perhaps the most common summary statistics are the mean and standard deviation, which allow you to summarize the \"typical\" values in a dataset, but other aggregates are useful as well (the sum, product, median, minimum and maximum, quantiles, etc.).\n",
    "\n",
    "NumPy has fast built-in aggregation functions for working on arrays; we'll discuss and demonstrate some of them here."
   ]
  },
  {
   "cell_type": "markdown",
   "metadata": {
    "id": "U-hJcY-HBIUE"
   },
   "source": [
    "## Summing the Values in an Array\n",
    "\n",
    "As a quick example, consider computing the sum of all values in an array.\n",
    "Python itself can do this using the built-in ``sum`` function:"
   ]
  },
  {
   "cell_type": "code",
   "execution_count": 2,
   "metadata": {
    "id": "VOGCQAH4BIUF"
   },
   "outputs": [],
   "source": [
    "import numpy as np"
   ]
  },
  {
   "cell_type": "code",
   "execution_count": 3,
   "metadata": {
    "id": "HGL_fYqQBIUF",
    "outputId": "d333b000-2e16-4ee4-b696-9bbd18bdbbc5"
   },
   "outputs": [
    {
     "name": "stdout",
     "output_type": "stream",
     "text": [
      "[0.72890593 0.74518574 0.19621042 0.75248906 0.01350788 0.31741442\n",
      " 0.53667791 0.454839   0.38886595 0.97077062 0.72430782 0.77605674\n",
      " 0.39130749 0.34292717 0.93619411 0.65513934 0.74093489 0.33008441\n",
      " 0.86160953 0.85959103 0.17091335 0.46520156 0.84437169 0.10561987\n",
      " 0.22583182 0.93453412 0.65946768 0.36230003 0.40123569 0.62741756\n",
      " 0.78909674 0.13214606 0.70332297 0.85531618 0.74197456 0.15645294\n",
      " 0.04641701 0.57735243 0.13120631 0.87969995 0.19346802 0.33637544\n",
      " 0.97032347 0.71646116 0.48327299 0.15132905 0.44556015 0.25094312\n",
      " 0.43493972 0.18843868 0.66189091 0.38768974 0.26740958 0.8411657\n",
      " 0.41682494 0.42774774 0.98941604 0.28958155 0.76916945 0.70666485\n",
      " 0.71544854 0.55345496 0.44130571 0.41308986 0.62160042 0.67730253\n",
      " 0.82291537 0.15747583 0.19791879 0.02058547 0.35216482 0.82796284\n",
      " 0.47291949 0.07552156 0.74281199 0.03674605 0.27098033 0.12285868\n",
      " 0.66208599 0.4588969  0.75669614 0.00809009 0.67969667 0.44764188\n",
      " 0.78325188 0.82457011 0.90057681 0.8789345  0.43162076 0.17210816\n",
      " 0.88902923 0.98768686 0.0158692  0.21965718 0.45585489 0.84378377\n",
      " 0.35907101 0.64601727 0.11645283 0.48190586]\n"
     ]
    },
    {
     "data": {
      "text/plain": [
       "51.0041315516985"
      ]
     },
     "execution_count": 3,
     "metadata": {},
     "output_type": "execute_result"
    }
   ],
   "source": [
    "L = np.random.random(100)\n",
    "print(L)\n",
    "sum(L)"
   ]
  },
  {
   "cell_type": "markdown",
   "metadata": {
    "id": "Sw8ZOlH6BIUG"
   },
   "source": [
    "The syntax is quite similar to that of NumPy's ``sum`` function, and the result is the same in the simplest case:"
   ]
  },
  {
   "cell_type": "code",
   "execution_count": 4,
   "metadata": {
    "id": "ViQr484uBIUG",
    "outputId": "10981440-0ecf-4837-9857-837dfaa52490"
   },
   "outputs": [
    {
     "data": {
      "text/plain": [
       "51.0041315516985"
      ]
     },
     "execution_count": 4,
     "metadata": {},
     "output_type": "execute_result"
    }
   ],
   "source": [
    "np.sum(L)"
   ]
  },
  {
   "cell_type": "markdown",
   "metadata": {
    "id": "F3g5f_61BIUH"
   },
   "source": [
    "Be careful, though: the ``sum`` function and the ``np.sum`` function are not identical, which can sometimes lead to confusion!\n",
    "In particular, their optional arguments have different meanings, and ``np.sum`` is aware of multiple array dimensions, as we will see in the following section."
   ]
  },
  {
   "cell_type": "markdown",
   "metadata": {
    "id": "mkaG6ajnBIUI"
   },
   "source": [
    "## Minimum and Maximum\n",
    "\n",
    "Similarly, Python has built-in ``min`` and ``max`` functions, used to find the minimum value and maximum value of any given array:"
   ]
  },
  {
   "cell_type": "code",
   "execution_count": 6,
   "metadata": {
    "id": "Y1aFx-C0BIUI",
    "outputId": "d5e26724-ac2b-4d39-a631-75d2d683d161"
   },
   "outputs": [
    {
     "data": {
      "text/plain": [
       "(0.008090092149133477, 0.9894160417993104)"
      ]
     },
     "execution_count": 6,
     "metadata": {},
     "output_type": "execute_result"
    }
   ],
   "source": [
    "min(L), max(L)"
   ]
  },
  {
   "cell_type": "markdown",
   "metadata": {
    "id": "3J4sGIswBIUI"
   },
   "source": [
    "NumPy's corresponding functions have similar syntax [usually operate much more quickly]"
   ]
  },
  {
   "cell_type": "code",
   "execution_count": 7,
   "metadata": {
    "id": "wFJbOXCKBIUI",
    "outputId": "eda3918d-c20d-4a61-8483-cbbed8ce9dd4"
   },
   "outputs": [
    {
     "data": {
      "text/plain": [
       "(0.008090092149133477, 0.9894160417993104)"
      ]
     },
     "execution_count": 7,
     "metadata": {},
     "output_type": "execute_result"
    }
   ],
   "source": [
    "np.min(L), np.max(L)"
   ]
  },
  {
   "cell_type": "markdown",
   "metadata": {
    "id": "lzAGEAHUBIUJ"
   },
   "source": [
    "For ``min``, ``max``, ``sum``, and several other NumPy aggregates, a shorter syntax is to use methods of the array object itself:"
   ]
  },
  {
   "cell_type": "code",
   "execution_count": 8,
   "metadata": {
    "id": "Upf46d_TBIUJ",
    "outputId": "8064c071-5b92-4b93-f755-80260c2f037d"
   },
   "outputs": [
    {
     "name": "stdout",
     "output_type": "stream",
     "text": [
      "0.008090092149133477 0.9894160417993104 51.0041315516985\n"
     ]
    }
   ],
   "source": [
    "print(L.min(), L.max(), L.sum())"
   ]
  },
  {
   "cell_type": "markdown",
   "metadata": {
    "id": "Oxx8DnkABIUK"
   },
   "source": [
    "Whenever possible, make sure that you are using the NumPy version of these aggregates when operating on NumPy arrays!"
   ]
  },
  {
   "cell_type": "markdown",
   "metadata": {
    "id": "LWJXLNJCBIUK"
   },
   "source": [
    "### Multi dimensional aggregates\n",
    "\n",
    "One common type of aggregation operation is an aggregate along a row or column.\n",
    "Say you have some data stored in a two-dimensional array:"
   ]
  },
  {
   "cell_type": "code",
   "execution_count": 9,
   "metadata": {
    "id": "UHnaiex4BIUK",
    "outputId": "7c54c8ec-fb91-4889-c069-6827766a3c6e"
   },
   "outputs": [
    {
     "name": "stdout",
     "output_type": "stream",
     "text": [
      "[[0.28855397 0.78317493 0.25312424 0.93677451]\n",
      " [0.05007482 0.88107329 0.01051341 0.02723683]\n",
      " [0.07434337 0.6464296  0.18002979 0.34225116]]\n"
     ]
    }
   ],
   "source": [
    "M = np.random.random((3, 4))\n",
    "print(M)"
   ]
  },
  {
   "cell_type": "markdown",
   "metadata": {
    "id": "A_d-DNiMBIUL"
   },
   "source": [
    "By default, each NumPy aggregation function will return the aggregate over the entire array:"
   ]
  },
  {
   "cell_type": "code",
   "execution_count": 10,
   "metadata": {
    "id": "egA7iW8QBIUL",
    "outputId": "fd1f0ced-c1ce-4507-d041-7213953d52b3"
   },
   "outputs": [
    {
     "data": {
      "text/plain": [
       "4.473579914531514"
      ]
     },
     "execution_count": 10,
     "metadata": {},
     "output_type": "execute_result"
    }
   ],
   "source": [
    "M.sum()"
   ]
  },
  {
   "cell_type": "markdown",
   "metadata": {
    "id": "I2VHkb-YBIUL"
   },
   "source": [
    "Aggregation functions take an additional argument specifying the *axis* along which the aggregate is computed. For example, we can find the minimum value within each column by specifying ``axis=0``:"
   ]
  },
  {
   "cell_type": "code",
   "execution_count": 11,
   "metadata": {
    "id": "Pnm-_m97BIUL",
    "outputId": "a002eeb0-a61c-4e3f-8973-51267f42ef7e"
   },
   "outputs": [
    {
     "data": {
      "text/plain": [
       "array([0.05007482, 0.6464296 , 0.01051341, 0.02723683])"
      ]
     },
     "execution_count": 11,
     "metadata": {},
     "output_type": "execute_result"
    }
   ],
   "source": [
    "M.min(axis=0)"
   ]
  },
  {
   "cell_type": "markdown",
   "metadata": {
    "id": "HMTtp5anBIUM"
   },
   "source": [
    "The function returns four values, corresponding to the four columns of numbers.\n",
    "\n",
    "Similarly, we can find the maximum value within each row:"
   ]
  },
  {
   "cell_type": "code",
   "execution_count": 12,
   "metadata": {
    "id": "sggphJIyBIUM",
    "outputId": "f9d50bc5-bb06-4853-c217-9d98ee7abc88"
   },
   "outputs": [
    {
     "data": {
      "text/plain": [
       "array([0.93677451, 0.88107329, 0.6464296 ])"
      ]
     },
     "execution_count": 12,
     "metadata": {},
     "output_type": "execute_result"
    }
   ],
   "source": [
    "M.max(axis=1)"
   ]
  },
  {
   "cell_type": "markdown",
   "metadata": {
    "id": "y3r4EQqdBIUM"
   },
   "source": [
    "The way the axis is specified here can be confusing to users coming from other languages.\n",
    "The ``axis`` keyword specifies the *dimension of the array that will be collapsed*, rather than the dimension that will be returned.\n",
    "So specifying ``axis=0`` means that the first axis will be collapsed: for two-dimensional arrays, this means that values within each column will be aggregated."
   ]
  },
  {
   "cell_type": "markdown",
   "metadata": {
    "id": "MUq6DNUGBIUN"
   },
   "source": [
    "### Other aggregation functions\n",
    "\n",
    "NumPy provides many other aggregation functions, but we won't discuss them in detail here.\n",
    "Additionally, most aggregates have a ``NaN``-safe counterpart that computes the result while ignoring missing values, which are marked by the special IEEE floating-point ``NaN`` value (for a fuller discussion of missing data, see [Handling Missing Data](03.04-Missing-Values.ipynb)).\n",
    "Some of these ``NaN``-safe functions were not added until NumPy 1.8, so they will not be available in older NumPy versions.\n",
    "\n",
    "The following table provides a list of useful aggregation functions available in NumPy:\n",
    "\n",
    "|Function Name      |   NaN-safe Version  | Description                                   |\n",
    "|-------------------|---------------------|-----------------------------------------------|\n",
    "| ``np.sum``        | ``np.nansum``       | Compute sum of elements                       |\n",
    "| ``np.prod``       | ``np.nanprod``      | Compute product of elements                   |\n",
    "| ``np.mean``       | ``np.nanmean``      | Compute mean of elements                      |\n",
    "| ``np.std``        | ``np.nanstd``       | Compute standard deviation                    |\n",
    "| ``np.var``        | ``np.nanvar``       | Compute variance                              |\n",
    "| ``np.min``        | ``np.nanmin``       | Find minimum value                            |\n",
    "| ``np.max``        | ``np.nanmax``       | Find maximum value                            |\n",
    "| ``np.argmin``     | ``np.nanargmin``    | Find index of minimum value                   |\n",
    "| ``np.argmax``     | ``np.nanargmax``    | Find index of maximum value                   |\n",
    "| ``np.median``     | ``np.nanmedian``    | Compute median of elements                    |\n",
    "| ``np.percentile`` | ``np.nanpercentile``| Compute rank-based statistics of elements     |\n",
    "| ``np.any``        | N/A                 | Evaluate whether any elements are true        |\n",
    "| ``np.all``        | N/A                 | Evaluate whether all elements are true        |\n",
    "\n"
   ]
  },
  {
   "cell_type": "markdown",
   "metadata": {
    "id": "dG629jP6BIUN"
   },
   "source": [
    "## Loading a file to numpy array"
   ]
  },
  {
   "cell_type": "markdown",
   "metadata": {
    "id": "2xNnSldMBIUO"
   },
   "source": [
    "Aggregates available in NumPy can be extremely useful for summarizing a set of values.\n",
    "As a simple example, let's consider the heights of all US presidents.\n",
    "This data is available in the file *president_heights.csv*, which is a simple comma-separated list of labels and values:"
   ]
  },
  {
   "cell_type": "code",
   "execution_count": 25,
   "metadata": {
    "id": "5_wWrxHKBIUO",
    "outputId": "ab0a2261-359b-48b5-f821-72700684f3b4"
   },
   "outputs": [
    {
     "name": "stderr",
     "output_type": "stream",
     "text": [
      "'head' is not recognized as an internal or external command,\n",
      "operable program or batch file.\n"
     ]
    }
   ],
   "source": [
    "!head -4 president_heights.txt"
   ]
  },
  {
   "cell_type": "markdown",
   "metadata": {
    "id": "INqL3OEhBIUO"
   },
   "source": [
    "Use numpy `loadtxt` read the file and extract this information (note that the heights are measured in centimeters).\n",
    "- `?np.loadtxt` can be used to explore the function `loadtxt` arguments\n",
    "- use delimiter ',' since columns are separated by comma\n",
    "- read first and third column\n",
    "- skip the first row since it is the header"
   ]
  },
  {
   "cell_type": "code",
   "execution_count": 19,
   "metadata": {
    "id": "NbMw-UuGBIUO",
    "outputId": "46b049fc-52b2-4ad4-a2fb-a81d15ba1b12"
   },
   "outputs": [
    {
     "name": "stdout",
     "output_type": "stream",
     "text": [
      "(42, 2)\n"
     ]
    },
    {
     "data": {
      "text/plain": [
       "array([[  1., 189.],\n",
       "       [  2., 170.],\n",
       "       [  3., 189.],\n",
       "       [  4., 163.],\n",
       "       [  5., 183.],\n",
       "       [  6., 171.],\n",
       "       [  7., 185.],\n",
       "       [  8., 168.],\n",
       "       [  9., 173.],\n",
       "       [ 10., 183.],\n",
       "       [ 11., 173.],\n",
       "       [ 12., 173.],\n",
       "       [ 13., 175.],\n",
       "       [ 14., 178.],\n",
       "       [ 15., 183.],\n",
       "       [ 16., 193.],\n",
       "       [ 17., 178.],\n",
       "       [ 18., 173.],\n",
       "       [ 19., 174.],\n",
       "       [ 20., 183.],\n",
       "       [ 21., 183.],\n",
       "       [ 23., 168.],\n",
       "       [ 25., 170.],\n",
       "       [ 26., 178.],\n",
       "       [ 27., 182.],\n",
       "       [ 28., 180.],\n",
       "       [ 29., 183.],\n",
       "       [ 30., 178.],\n",
       "       [ 31., 182.],\n",
       "       [ 32., 188.],\n",
       "       [ 33., 175.],\n",
       "       [ 34., 179.],\n",
       "       [ 35., 183.],\n",
       "       [ 36., 193.],\n",
       "       [ 37., 182.],\n",
       "       [ 38., 183.],\n",
       "       [ 39., 177.],\n",
       "       [ 40., 185.],\n",
       "       [ 41., 188.],\n",
       "       [ 42., 188.],\n",
       "       [ 43., 182.],\n",
       "       [ 44., 185.]])"
      ]
     },
     "execution_count": 19,
     "metadata": {},
     "output_type": "execute_result"
    }
   ],
   "source": [
    "data = np.loadtxt('president_heights.txt',delimiter=\",\",skiprows=1,usecols=(0,2))\n",
    "print(data.shape)\n",
    "data"
   ]
  },
  {
   "cell_type": "markdown",
   "metadata": {
    "id": "g4YSgUNYBIUO"
   },
   "source": [
    "Now that we have this data array, we can compute a variety of summary statistics:"
   ]
  },
  {
   "cell_type": "code",
   "execution_count": 21,
   "metadata": {
    "id": "pM88wL2qBIUP",
    "outputId": "58f61c5a-eba1-4ada-a8e9-0389955dd369"
   },
   "outputs": [
    {
     "name": "stdout",
     "output_type": "stream",
     "text": [
      "[189. 170. 189. 163. 183. 171. 185. 168. 173. 183. 173. 173. 175. 178.\n",
      " 183. 193. 178. 173. 174. 183. 183. 168. 170. 178. 182. 180. 183. 178.\n",
      " 182. 188. 175. 179. 183. 193. 182. 183. 177. 185. 188. 188. 182. 185.]\n",
      "Mean height:        179.73809523809524\n",
      "Standard deviation: 6.931843442745892\n",
      "Minimum height:     163.0\n",
      "Maximum height:     193.0\n"
     ]
    }
   ],
   "source": [
    "heights=data[:,1].copy()\n",
    "print(heights)\n",
    "print(\"Mean height:       \", heights.mean())\n",
    "print(\"Standard deviation:\", heights.std())\n",
    "print(\"Minimum height:    \", heights.min())\n",
    "print(\"Maximum height:    \", heights.max())"
   ]
  },
  {
   "cell_type": "markdown",
   "metadata": {
    "id": "mnRU9SDqBIUP"
   },
   "source": [
    "Note that in each case, the aggregation operation reduced the entire array to a single summarizing value, which gives us information about the distribution of values.\n",
    "We may also wish to compute quantiles:"
   ]
  },
  {
   "cell_type": "code",
   "execution_count": 23,
   "metadata": {
    "id": "simVWAg3BIUP",
    "outputId": "f979b4ca-01ea-4227-bfc0-0920ae5cd16d"
   },
   "outputs": [
    {
     "name": "stdout",
     "output_type": "stream",
     "text": [
      "25th percentile:    174.25\n",
      "Median:             182.0\n",
      "75th percentile:    183.0\n"
     ]
    }
   ],
   "source": [
    "print(\"25th percentile:   \", np.percentile(heights, 25))\n",
    "print(\"Median:            \", np.median(heights))\n",
    "print(\"75th percentile:   \", np.percentile(heights, 75))"
   ]
  },
  {
   "cell_type": "markdown",
   "metadata": {
    "id": "qe_JUF7pBIUP"
   },
   "source": [
    "We see that the median height of US presidents is 182 cm, or just shy of six feet.\n"
   ]
  }
 ],
 "metadata": {
  "anaconda-cloud": {},
  "colab": {
   "name": "02.04-Computation-on-arrays-aggregates.ipynb",
   "provenance": []
  },
  "kernelspec": {
   "display_name": "Python 3 (ipykernel)",
   "language": "python",
   "name": "python3"
  },
  "language_info": {
   "codemirror_mode": {
    "name": "ipython",
    "version": 3
   },
   "file_extension": ".py",
   "mimetype": "text/x-python",
   "name": "python",
   "nbconvert_exporter": "python",
   "pygments_lexer": "ipython3",
   "version": "3.10.9"
  }
 },
 "nbformat": 4,
 "nbformat_minor": 1
}
