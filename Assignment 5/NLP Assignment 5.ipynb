{
 "cells": [
  {
   "cell_type": "markdown",
   "metadata": {},
   "source": [
    "**Question 1). Explain the Backwards Propagation Algorithm in the provided image**\n",
    "\n"
   ]
  },
  {
   "cell_type": "markdown",
   "metadata": {},
   "source": [
    "**Question 2). What are the purposes of a) max gate b) Multiplication gate c) adder gate d) What is a chain rule**\n",
    "\n"
   ]
  },
  {
   "cell_type": "markdown",
   "metadata": {},
   "source": [
    "**Question 3). Please explain the backpropagation algorithm used to update the weights on the following computational graph.**\n",
    "\n"
   ]
  },
  {
   "cell_type": "markdown",
   "metadata": {},
   "source": [
    "**Question 4). What are supervised, unsupervised, and self-supervised algorithms? Please explain each with relevant examples.**\n",
    "\n"
   ]
  },
  {
   "cell_type": "markdown",
   "metadata": {},
   "source": [
    "**Question 5). What are the differences between logistic regression and linear regression?**\n",
    "\n"
   ]
  },
  {
   "cell_type": "markdown",
   "metadata": {},
   "source": [
    "**Question 6). Word2Vec produces the static feature vector. What does static feature vector or embedding mean? Explain static feature vector or embedding in the context of [apple fruit] [apple inc]**\n",
    "\n"
   ]
  },
  {
   "cell_type": "markdown",
   "metadata": {},
   "source": [
    "**Question 7). What do handcrafted and learned features mean? Why are learned features from neural networks, such as Word2Vec, preferred over handcrafted features like TF-IDF?**\n",
    "\n"
   ]
  },
  {
   "cell_type": "markdown",
   "metadata": {},
   "source": [
    "**Question 8). Please define the evaluation metrics Sensitivity, Specificity, Precision, Recall, F1-score, Accuracy, and Matthew's Correlation Coefficient in the context of binary classification. Where are True Positive (TP), False Positive (FP), True Negative (TN), and False Negative (FN) located in the confusion matrix produced by scikit-learn module? Sometimes, accuracy can be misleading in such scenarios. What other metrics should be considered to assess the performance of a predictive model effectively?**\n",
    "\n"
   ]
  },
  {
   "cell_type": "markdown",
   "metadata": {},
   "source": [
    "**Question 9). Can you explain where are the embeddings of the words encoded in the CBOW and Skip-gram Word2Vec algorithm? Explain with the relevant diagrams.**\n",
    "\n"
   ]
  },
  {
   "cell_type": "markdown",
   "metadata": {},
   "source": [
    "**Question 10). What are the different types of techniques used to handle imbalance in the datasets? Explain in detail.**\n",
    "\n"
   ]
  },
  {
   "cell_type": "markdown",
   "metadata": {},
   "source": [
    "**Question 11). What can you infer from the following two images or plots? Are they related? If they are related how are they related please explain.**\n",
    "\n"
   ]
  },
  {
   "cell_type": "markdown",
   "metadata": {},
   "source": [
    "**Question 12). Word2Vec starts with random embedding vectors for words. After several training epochs on the dataset, these embeddings are refined. Could you explain what this process means and how the embeddings improve during training?**\n",
    "\n"
   ]
  },
  {
   "cell_type": "markdown",
   "metadata": {},
   "source": [
    "**Question 13). What do binary, multiclass, and multilabel classification mean? What types of loss functions are used for each of these classification methods?**\n",
    "\n"
   ]
  },
  {
   "cell_type": "markdown",
   "metadata": {},
   "source": [
    "**Question 14). What is the likely answer to the following question, and how do we arrive at the solution? King – Man + Woman = ?**\n",
    "\n"
   ]
  },
  {
   "cell_type": "markdown",
   "metadata": {},
   "source": [
    "**Question 15). Can you explain \"How to train custom word vectors Spring 2025 Final ipynb file.ipynb\" program in detail. (Available in the module section) Is it possible to change the vector dimension? How would you train using the Skip-gram or CBOW methods, and what parameters need to be adjusted for each? Additionally, what does it mean to freeze the embedding matrix?**\n",
    "\n"
   ]
  },
  {
   "cell_type": "markdown",
   "metadata": {},
   "source": [
    "**Question 16). What is a Receiver Operating Characteristic (ROC) curve, and what does it represent?**\n",
    "\n"
   ]
  }
 ],
 "metadata": {
  "language_info": {
   "name": "python"
  }
 },
 "nbformat": 4,
 "nbformat_minor": 2
}
