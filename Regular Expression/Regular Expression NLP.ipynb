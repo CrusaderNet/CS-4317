{
 "cells": [
  {
   "cell_type": "markdown",
   "metadata": {},
   "source": [
    "# finditer method"
   ]
  },
  {
   "cell_type": "code",
   "execution_count": 88,
   "metadata": {},
   "outputs": [
    {
     "name": "stdout",
     "output_type": "stream",
     "text": [
      "<re.Match object; span=(3, 6), match='abc'>\n",
      "<re.Match object; span=(12, 15), match='abc'>\n"
     ]
    }
   ],
   "source": [
    "import re\n",
    "\n",
    "test_string = \"123abc456789abc123ABC\"\n",
    "\n",
    "pattern = re.compile(r\"abc\")\n",
    "\n",
    "matches = pattern.finditer(test_string)\n",
    "\n",
    "for match in matches:\n",
    "    print(match)"
   ]
  },
  {
   "cell_type": "code",
   "execution_count": 2,
   "metadata": {},
   "outputs": [
    {
     "data": {
      "text/plain": [
       "<callable_iterator at 0x15b9e793f10>"
      ]
     },
     "execution_count": 2,
     "metadata": {},
     "output_type": "execute_result"
    }
   ],
   "source": [
    "matches"
   ]
  },
  {
   "cell_type": "markdown",
   "metadata": {},
   "source": []
  },
  {
   "cell_type": "code",
   "execution_count": 3,
   "metadata": {},
   "outputs": [
    {
     "name": "stdout",
     "output_type": "stream",
     "text": [
      "<re.Match object; span=(3, 6), match='abc'>\n",
      "<re.Match object; span=(12, 15), match='abc'>\n"
     ]
    }
   ],
   "source": [
    "import re \n",
    "\n",
    "test_string = \"123abc456789abc123ABC\"\n",
    "\n",
    "matches = re.finditer(r\"abc\",test_string)\n",
    "\n",
    "for match in matches:\n",
    "    print(match)"
   ]
  },
  {
   "cell_type": "markdown",
   "metadata": {},
   "source": [
    "# what does r mean its a raw string\n",
    "# \"\\t\\nHello\""
   ]
  },
  {
   "cell_type": "code",
   "execution_count": 4,
   "metadata": {},
   "outputs": [
    {
     "name": "stdout",
     "output_type": "stream",
     "text": [
      "\tHello\n"
     ]
    }
   ],
   "source": [
    "a = \"\\tHello\"\n",
    "print(a)"
   ]
  },
  {
   "cell_type": "markdown",
   "metadata": {},
   "source": [
    "# In pattern if we want to see actual words and pattern then use raw string"
   ]
  },
  {
   "cell_type": "code",
   "execution_count": 5,
   "metadata": {},
   "outputs": [
    {
     "name": "stdout",
     "output_type": "stream",
     "text": [
      "\\tHello\n"
     ]
    }
   ],
   "source": [
    "a = r\"\\tHello\"\n",
    "print(a)"
   ]
  },
  {
   "cell_type": "markdown",
   "metadata": {},
   "source": [
    "# findall method prints the strings"
   ]
  },
  {
   "cell_type": "code",
   "execution_count": 6,
   "metadata": {},
   "outputs": [
    {
     "name": "stdout",
     "output_type": "stream",
     "text": [
      "abc\n",
      "abc\n"
     ]
    }
   ],
   "source": [
    "import re \n",
    "\n",
    "test_string = \"123abc456789abc123ABC\"\n",
    "\n",
    "pattern = re.compile(r\"abc\")\n",
    "\n",
    "matches = pattern.findall(test_string)\n",
    "\n",
    "for match in matches:\n",
    "    print(match)"
   ]
  },
  {
   "cell_type": "markdown",
   "metadata": {},
   "source": [
    "# match method determines if the expression matches at the beginning of the string"
   ]
  },
  {
   "cell_type": "code",
   "execution_count": 7,
   "metadata": {},
   "outputs": [
    {
     "name": "stdout",
     "output_type": "stream",
     "text": [
      "None\n",
      "abc is not at the beginning of the string\n"
     ]
    }
   ],
   "source": [
    "import re \n",
    "\n",
    "test_string = \"123abc456789abc123ABC\"\n",
    "\n",
    "pattern = re.compile(r\"abc\")\n",
    "\n",
    "matches = pattern.match(test_string)\n",
    "\n",
    "print(matches)\n",
    "\n",
    "print(\"abc is not at the beginning of the string\")"
   ]
  },
  {
   "cell_type": "code",
   "execution_count": 8,
   "metadata": {},
   "outputs": [
    {
     "name": "stdout",
     "output_type": "stream",
     "text": [
      "<re.Match object; span=(0, 3), match='123'>\n",
      "match method only returns the matched pattern only at the beginning of the string\n"
     ]
    }
   ],
   "source": [
    "import re \n",
    "\n",
    "test_string = \"123abc456789abc123ABC\"\n",
    "\n",
    "pattern = re.compile(r\"123\")\n",
    "\n",
    "matches = pattern.match(test_string)\n",
    "\n",
    "print(matches)\n",
    "\n",
    "print(\"match method only returns the matched pattern only at the beginning of the string\")"
   ]
  },
  {
   "cell_type": "markdown",
   "metadata": {},
   "source": [
    "# search method scans through the string and looks for any location where there are matches (Provides the location of first match)"
   ]
  },
  {
   "cell_type": "code",
   "execution_count": 9,
   "metadata": {},
   "outputs": [
    {
     "name": "stdout",
     "output_type": "stream",
     "text": [
      "<re.Match object; span=(3, 6), match='abc'>\n"
     ]
    }
   ],
   "source": [
    "import re \n",
    "\n",
    "test_string = \"123abc456789abc123ABC\"\n",
    "\n",
    "pattern = re.compile(r\"abc\")\n",
    "\n",
    "matches_search = pattern.search(test_string)\n",
    "\n",
    "print(matches_search)"
   ]
  },
  {
   "cell_type": "markdown",
   "metadata": {},
   "source": [
    "# Lets learn about finditer more and more"
   ]
  },
  {
   "cell_type": "code",
   "execution_count": 10,
   "metadata": {},
   "outputs": [
    {
     "name": "stdout",
     "output_type": "stream",
     "text": [
      "<re.Match object; span=(3, 6), match='abc'>\n",
      "<re.Match object; span=(12, 15), match='abc'>\n"
     ]
    }
   ],
   "source": [
    "import re \n",
    "\n",
    "test_string = \"123abc456789abc123ABC\"\n",
    "\n",
    "pattern = re.compile(r\"abc\")\n",
    "\n",
    "matches = pattern.finditer(test_string)\n",
    "\n",
    "# group, start, end, span\n",
    "for match in matches:\n",
    "    print(match)"
   ]
  },
  {
   "cell_type": "markdown",
   "metadata": {},
   "source": [
    "# span method"
   ]
  },
  {
   "cell_type": "code",
   "execution_count": 11,
   "metadata": {},
   "outputs": [
    {
     "name": "stdout",
     "output_type": "stream",
     "text": [
      "(3, 6)\n",
      "(12, 15)\n"
     ]
    }
   ],
   "source": [
    "import re \n",
    "\n",
    "test_string = \"123abc456789abc123ABC\"\n",
    "\n",
    "pattern = re.compile(r\"abc\")\n",
    "\n",
    "matches = pattern.finditer(test_string)\n",
    "\n",
    "# group, start, end, span\n",
    "for match in matches:\n",
    "    print(match.span())"
   ]
  },
  {
   "cell_type": "markdown",
   "metadata": {},
   "source": [
    "# start and end method"
   ]
  },
  {
   "cell_type": "code",
   "execution_count": 12,
   "metadata": {},
   "outputs": [
    {
     "name": "stdout",
     "output_type": "stream",
     "text": [
      "(3, 6) 3 6\n",
      "(12, 15) 12 15\n"
     ]
    }
   ],
   "source": [
    "import re \n",
    "\n",
    "test_string = \"123abc456789abc123ABC\"\n",
    "\n",
    "pattern = re.compile(r\"abc\")\n",
    "\n",
    "matches = pattern.finditer(test_string)\n",
    "\n",
    "# group, start, end, span\n",
    "for match in matches:\n",
    "    print(match.span(), match.start(),match.end())"
   ]
  },
  {
   "cell_type": "markdown",
   "metadata": {},
   "source": [
    "# group method"
   ]
  },
  {
   "cell_type": "code",
   "execution_count": 1,
   "metadata": {},
   "outputs": [
    {
     "name": "stdout",
     "output_type": "stream",
     "text": [
      "abc\n",
      "abc\n"
     ]
    }
   ],
   "source": [
    "import re \n",
    "\n",
    "test_string = \"123abc456789abc123ABC\"\n",
    "\n",
    "pattern = re.compile(r\"abc\")\n",
    "\n",
    "matches = pattern.finditer(test_string)\n",
    "\n",
    "# group, start, end, span\n",
    "for match in matches:\n",
    "    print(match.group())"
   ]
  },
  {
   "cell_type": "markdown",
   "metadata": {},
   "source": [
    "# group method"
   ]
  },
  {
   "cell_type": "code",
   "execution_count": 2,
   "metadata": {},
   "outputs": [
    {
     "name": "stdout",
     "output_type": "stream",
     "text": [
      "abc\n",
      "abc\n"
     ]
    }
   ],
   "source": [
    "import re \n",
    "\n",
    "test_string = \"123abc456789abc123ABC\"\n",
    "\n",
    "pattern = re.compile(r\"abc\")\n",
    "\n",
    "matches = pattern.finditer(test_string)\n",
    "\n",
    "# group, start, end, span\n",
    "for match in matches:\n",
    "    print(match.group(0))"
   ]
  },
  {
   "cell_type": "code",
   "execution_count": 3,
   "metadata": {},
   "outputs": [
    {
     "name": "stdout",
     "output_type": "stream",
     "text": [
      "abc\n",
      "abc\n"
     ]
    }
   ],
   "source": [
    "import re \n",
    "\n",
    "test_string = \"123abc456789abc123ABC\"\n",
    "\n",
    "pattern = re.compile(r\"abc\")\n",
    "\n",
    "matches = pattern.finditer(test_string)\n",
    "\n",
    "# group, start, end, span\n",
    "for match in matches:\n",
    "    print(match.group(0))"
   ]
  },
  {
   "cell_type": "markdown",
   "metadata": {},
   "source": [
    "# Meta Characters: \n",
    "# . Any characters (except newline character)\n",
    "# ^ Starts with \"^hello\"\n",
    "# $(dollar symbol) Ends with \"world$\"\n",
    "# * Zero or more occurences \"aix*\"\n",
    "# + one or more occurrences \"aix+\"\n",
    "# { } Exactly the specified number of occurences \"al{2}\"\n",
    "# [] A set of characters \"[a-m]\"\n",
    "# \\ Special sequence (or escape special characters) \"\\d\"\n",
    "# | Either or \"falls|stays\"\n",
    "# ( ) Capture and group"
   ]
  },
  {
   "cell_type": "markdown",
   "metadata": {},
   "source": [
    "# 1"
   ]
  },
  {
   "cell_type": "markdown",
   "metadata": {},
   "source": [
    "# dot meta character looks for all characters except newline"
   ]
  },
  {
   "cell_type": "code",
   "execution_count": 16,
   "metadata": {},
   "outputs": [
    {
     "name": "stdout",
     "output_type": "stream",
     "text": [
      "1\n",
      "2\n",
      "3\n",
      "a\n",
      "b\n",
      "c\n",
      "4\n",
      "5\n",
      "6\n",
      "7\n",
      "8\n",
      "9\n",
      "a\n",
      "b\n",
      "c\n",
      "1\n",
      "2\n",
      "3\n",
      "A\n",
      "B\n",
      "C\n"
     ]
    }
   ],
   "source": [
    "import re \n",
    "\n",
    "test_string = \"123abc456789abc123ABC\"\n",
    "\n",
    "pattern = re.compile(r\".\")\n",
    "\n",
    "matches = pattern.finditer(test_string)\n",
    "\n",
    "# group, start, end, span\n",
    "for match in matches:\n",
    "    print(match.group(0))"
   ]
  },
  {
   "cell_type": "code",
   "execution_count": 4,
   "metadata": {},
   "outputs": [
    {
     "name": "stdout",
     "output_type": "stream",
     "text": [
      "<re.Match object; span=(21, 22), match='.'>\n"
     ]
    }
   ],
   "source": [
    "import re \n",
    "\n",
    "test_string = \"123abc456789abc123ABC.\"\n",
    "\n",
    "pattern = re.compile(r\"\\.\")\n",
    "\n",
    "matches = pattern.finditer(test_string)\n",
    "\n",
    "# group, start, end, span\n",
    "for match in matches:\n",
    "    print(match)"
   ]
  },
  {
   "cell_type": "markdown",
   "metadata": {},
   "source": [
    "# 2"
   ]
  },
  {
   "cell_type": "markdown",
   "metadata": {},
   "source": [
    "# Carat character"
   ]
  },
  {
   "cell_type": "code",
   "execution_count": 5,
   "metadata": {},
   "outputs": [
    {
     "name": "stdout",
     "output_type": "stream",
     "text": [
      "<re.Match object; span=(0, 3), match='123'>\n"
     ]
    }
   ],
   "source": [
    "import re \n",
    "\n",
    "test_string = \"123abc456789abc123ABC\"\n",
    "\n",
    "pattern = re.compile(r\"^123\")\n",
    "\n",
    "matches = pattern.finditer(test_string)\n",
    "\n",
    "# group, start, end, span\n",
    "for match in matches:\n",
    "    print(match)"
   ]
  },
  {
   "cell_type": "code",
   "execution_count": 19,
   "metadata": {},
   "outputs": [],
   "source": [
    "import re \n",
    "\n",
    "test_string = \"123abc456789abc123ABC\"\n",
    "\n",
    "pattern = re.compile(r\"^abc\")\n",
    "\n",
    "matches = pattern.finditer(test_string)\n",
    "\n",
    "# group, start, end, span\n",
    "for match in matches:\n",
    "    print(match)"
   ]
  },
  {
   "cell_type": "markdown",
   "metadata": {},
   "source": [
    "# $ character at the end"
   ]
  },
  {
   "cell_type": "code",
   "execution_count": 6,
   "metadata": {},
   "outputs": [],
   "source": [
    "import re \n",
    "\n",
    "test_string = \"123abc456789abc123ABC\"\n",
    "\n",
    "pattern = re.compile(r\"abc$\")\n",
    "\n",
    "matches = pattern.finditer(test_string)\n",
    "\n",
    "# group, start, end, span\n",
    "for match in matches:\n",
    "    print(match)"
   ]
  },
  {
   "cell_type": "code",
   "execution_count": 7,
   "metadata": {},
   "outputs": [
    {
     "name": "stdout",
     "output_type": "stream",
     "text": [
      "<re.Match object; span=(18, 21), match='ABC'>\n"
     ]
    }
   ],
   "source": [
    "import re \n",
    "\n",
    "test_string = \"123abc456789abc123ABC\"\n",
    "\n",
    "pattern = re.compile(r\"ABC$\")\n",
    "\n",
    "matches = pattern.finditer(test_string)\n",
    "\n",
    "# group, start, end, span\n",
    "for match in matches:\n",
    "    print(match)"
   ]
  },
  {
   "cell_type": "markdown",
   "metadata": {},
   "source": [
    "# More special characters:\n",
    "\n",
    "# \\d : Matches any decimal digit; [0-9].\n",
    "# \\D : Matches any non-digit character;\n",
    "# \\s : Matches any whitespace characters; (space \"  \" tab \"\\t\" newline \"\\n\")\n",
    "# \\S : Matches any non-whitespace character;\n",
    "# \\w : Matches any alphanumeric (word) character; [a-zA-Z0-9_].\n",
    "# \\W : Matches any non-alphanumeric character;\n",
    "# \\b : Matches where the specified characters are at the beginning or at the end of a word r\"\\bain\" r\"ain\\b\"\n",
    "# \\B : Matches where the specified characters are present, but Not at the beginning (or at the end) of a word r\"\\Bain\" r\"ain\\b\""
   ]
  },
  {
   "cell_type": "code",
   "execution_count": 8,
   "metadata": {},
   "outputs": [
    {
     "name": "stdout",
     "output_type": "stream",
     "text": [
      "<re.Match object; span=(6, 7), match='1'>\n",
      "<re.Match object; span=(7, 8), match='2'>\n",
      "<re.Match object; span=(8, 9), match='3'>\n"
     ]
    }
   ],
   "source": [
    "import re \n",
    "\n",
    "test_string = \"hello 123_ heyho hohey\"\n",
    "\n",
    "pattern = re.compile(r\"\\d\")\n",
    "\n",
    "matches = pattern.finditer(test_string)\n",
    "\n",
    "for match in matches:\n",
    "    print(match)"
   ]
  },
  {
   "cell_type": "code",
   "execution_count": 9,
   "metadata": {},
   "outputs": [
    {
     "name": "stdout",
     "output_type": "stream",
     "text": [
      "<re.Match object; span=(0, 1), match='h'>\n",
      "<re.Match object; span=(1, 2), match='e'>\n",
      "<re.Match object; span=(2, 3), match='l'>\n",
      "<re.Match object; span=(3, 4), match='l'>\n",
      "<re.Match object; span=(4, 5), match='o'>\n",
      "<re.Match object; span=(5, 6), match=' '>\n",
      "<re.Match object; span=(9, 10), match='_'>\n",
      "<re.Match object; span=(10, 11), match=' '>\n",
      "<re.Match object; span=(11, 12), match='h'>\n",
      "<re.Match object; span=(12, 13), match='e'>\n",
      "<re.Match object; span=(13, 14), match='y'>\n",
      "<re.Match object; span=(14, 15), match='h'>\n",
      "<re.Match object; span=(15, 16), match='o'>\n",
      "<re.Match object; span=(16, 17), match=' '>\n",
      "<re.Match object; span=(17, 18), match='h'>\n",
      "<re.Match object; span=(18, 19), match='o'>\n",
      "<re.Match object; span=(19, 20), match='h'>\n",
      "<re.Match object; span=(20, 21), match='e'>\n",
      "<re.Match object; span=(21, 22), match='y'>\n"
     ]
    }
   ],
   "source": [
    "import re \n",
    "\n",
    "test_string = \"hello 123_ heyho hohey\"\n",
    "\n",
    "pattern = re.compile(r\"\\D\")\n",
    "\n",
    "matches = pattern.finditer(test_string)\n",
    "\n",
    "for match in matches:\n",
    "    print(match)"
   ]
  },
  {
   "cell_type": "markdown",
   "metadata": {},
   "source": [
    "# \\s is a whitespace"
   ]
  },
  {
   "cell_type": "code",
   "execution_count": 10,
   "metadata": {},
   "outputs": [
    {
     "name": "stdout",
     "output_type": "stream",
     "text": [
      "<re.Match object; span=(5, 6), match=' '>\n",
      "<re.Match object; span=(10, 11), match=' '>\n",
      "<re.Match object; span=(16, 17), match=' '>\n"
     ]
    }
   ],
   "source": [
    "import re \n",
    "\n",
    "test_string = \"hello 123_ heyho hohey\"\n",
    "\n",
    "pattern = re.compile(r\"\\s\")\n",
    "\n",
    "matches = pattern.finditer(test_string)\n",
    "\n",
    "for match in matches:\n",
    "    print(match)"
   ]
  },
  {
   "cell_type": "markdown",
   "metadata": {},
   "source": [
    "# \\S is a nonwhitespace"
   ]
  },
  {
   "cell_type": "code",
   "execution_count": 11,
   "metadata": {},
   "outputs": [
    {
     "name": "stdout",
     "output_type": "stream",
     "text": [
      "<re.Match object; span=(0, 1), match='h'>\n",
      "<re.Match object; span=(1, 2), match='e'>\n",
      "<re.Match object; span=(2, 3), match='l'>\n",
      "<re.Match object; span=(3, 4), match='l'>\n",
      "<re.Match object; span=(4, 5), match='o'>\n",
      "<re.Match object; span=(6, 7), match='1'>\n",
      "<re.Match object; span=(7, 8), match='2'>\n",
      "<re.Match object; span=(8, 9), match='3'>\n",
      "<re.Match object; span=(9, 10), match='_'>\n",
      "<re.Match object; span=(11, 12), match='h'>\n",
      "<re.Match object; span=(12, 13), match='e'>\n",
      "<re.Match object; span=(13, 14), match='y'>\n",
      "<re.Match object; span=(14, 15), match='h'>\n",
      "<re.Match object; span=(15, 16), match='o'>\n",
      "<re.Match object; span=(17, 18), match='h'>\n",
      "<re.Match object; span=(18, 19), match='o'>\n",
      "<re.Match object; span=(19, 20), match='h'>\n",
      "<re.Match object; span=(20, 21), match='e'>\n",
      "<re.Match object; span=(21, 22), match='y'>\n"
     ]
    }
   ],
   "source": [
    "import re \n",
    "\n",
    "test_string = \"hello 123_ heyho hohey\"\n",
    "\n",
    "pattern = re.compile(r\"\\S\")\n",
    "\n",
    "matches = pattern.finditer(test_string)\n",
    "\n",
    "for match in matches:\n",
    "    print(match)"
   ]
  },
  {
   "cell_type": "code",
   "execution_count": 12,
   "metadata": {},
   "outputs": [
    {
     "name": "stdout",
     "output_type": "stream",
     "text": [
      "<re.Match object; span=(0, 1), match='h'>\n",
      "<re.Match object; span=(1, 2), match='e'>\n",
      "<re.Match object; span=(2, 3), match='l'>\n",
      "<re.Match object; span=(3, 4), match='l'>\n",
      "<re.Match object; span=(4, 5), match='o'>\n",
      "<re.Match object; span=(6, 7), match='1'>\n",
      "<re.Match object; span=(7, 8), match='2'>\n",
      "<re.Match object; span=(8, 9), match='3'>\n",
      "<re.Match object; span=(9, 10), match='_'>\n",
      "<re.Match object; span=(11, 12), match='h'>\n",
      "<re.Match object; span=(12, 13), match='e'>\n",
      "<re.Match object; span=(13, 14), match='y'>\n",
      "<re.Match object; span=(14, 15), match='h'>\n",
      "<re.Match object; span=(15, 16), match='o'>\n",
      "<re.Match object; span=(17, 18), match='h'>\n",
      "<re.Match object; span=(18, 19), match='o'>\n",
      "<re.Match object; span=(19, 20), match='h'>\n",
      "<re.Match object; span=(20, 21), match='e'>\n",
      "<re.Match object; span=(21, 22), match='y'>\n"
     ]
    }
   ],
   "source": [
    "import re \n",
    "\n",
    "test_string = \"hello 123_ heyho hohey\"\n",
    "\n",
    "pattern = re.compile(r\"\\w\")\n",
    "\n",
    "matches = pattern.finditer(test_string)\n",
    "\n",
    "for match in matches:\n",
    "    print(match)"
   ]
  },
  {
   "cell_type": "code",
   "execution_count": 13,
   "metadata": {},
   "outputs": [
    {
     "name": "stdout",
     "output_type": "stream",
     "text": [
      "<re.Match object; span=(5, 6), match=' '>\n",
      "<re.Match object; span=(10, 11), match=' '>\n",
      "<re.Match object; span=(16, 17), match=' '>\n"
     ]
    }
   ],
   "source": [
    "import re \n",
    "\n",
    "test_string = \"hello 123_ heyho hohey\"\n",
    "\n",
    "pattern = re.compile(r\"\\W\")\n",
    "\n",
    "matches = pattern.finditer(test_string)\n",
    "\n",
    "for match in matches:\n",
    "    print(match)"
   ]
  },
  {
   "cell_type": "markdown",
   "metadata": {},
   "source": [
    "# /b checks matches at the beginning of a block"
   ]
  },
  {
   "cell_type": "code",
   "execution_count": 14,
   "metadata": {},
   "outputs": [
    {
     "name": "stdout",
     "output_type": "stream",
     "text": [
      "<re.Match object; span=(0, 5), match='hello'>\n"
     ]
    }
   ],
   "source": [
    "import re \n",
    "\n",
    "test_string = \"hello 123_ heyho hohey\"\n",
    "\n",
    "pattern = re.compile(r\"\\bhello\")\n",
    "\n",
    "matches = pattern.finditer(test_string)\n",
    "\n",
    "for match in matches:\n",
    "    print(match)"
   ]
  },
  {
   "cell_type": "code",
   "execution_count": 15,
   "metadata": {},
   "outputs": [
    {
     "name": "stdout",
     "output_type": "stream",
     "text": [
      "<re.Match object; span=(11, 14), match='hey'>\n"
     ]
    }
   ],
   "source": [
    "import re \n",
    "\n",
    "test_string = \"hello 123_ heyho hohey\"\n",
    "\n",
    "pattern = re.compile(r\"\\bhey\")\n",
    "\n",
    "matches = pattern.finditer(test_string)\n",
    "\n",
    "for match in matches:\n",
    "    print(match)"
   ]
  },
  {
   "cell_type": "code",
   "execution_count": 16,
   "metadata": {},
   "outputs": [
    {
     "name": "stdout",
     "output_type": "stream",
     "text": [
      "<re.Match object; span=(11, 14), match='hey'>\n",
      "<re.Match object; span=(17, 20), match='hey'>\n"
     ]
    }
   ],
   "source": [
    "import re \n",
    "\n",
    "test_string = \"hello 123_ heyho hey\"\n",
    "\n",
    "pattern = re.compile(r\"\\bhey\")\n",
    "\n",
    "matches = pattern.finditer(test_string)\n",
    "\n",
    "for match in matches:\n",
    "    print(match)"
   ]
  },
  {
   "cell_type": "markdown",
   "metadata": {},
   "source": [
    "# \\B checks matches at the end of the block"
   ]
  },
  {
   "cell_type": "code",
   "execution_count": 31,
   "metadata": {},
   "outputs": [
    {
     "name": "stdout",
     "output_type": "stream",
     "text": [
      "<re.Match object; span=(19, 22), match='hey'>\n"
     ]
    }
   ],
   "source": [
    "import re \n",
    "\n",
    "test_string = \"hello 123_ heyho hohey\"\n",
    "\n",
    "pattern = re.compile(r\"\\Bhey\")\n",
    "\n",
    "matches = pattern.finditer(test_string)\n",
    "\n",
    "for match in matches:\n",
    "    print(match)"
   ]
  },
  {
   "cell_type": "markdown",
   "metadata": {},
   "source": [
    "# A set of characters"
   ]
  },
  {
   "cell_type": "code",
   "execution_count": 32,
   "metadata": {},
   "outputs": [
    {
     "name": "stdout",
     "output_type": "stream",
     "text": [
      "<re.Match object; span=(2, 3), match='l'>\n",
      "<re.Match object; span=(3, 4), match='l'>\n",
      "<re.Match object; span=(4, 5), match='o'>\n"
     ]
    }
   ],
   "source": [
    "import re \n",
    "\n",
    "test_string = \"hello 123_\"\n",
    "\n",
    "pattern = re.compile(r\"[lo]\")\n",
    "\n",
    "matches = pattern.finditer(test_string)\n",
    "\n",
    "for match in matches:\n",
    "    print(match)"
   ]
  },
  {
   "cell_type": "code",
   "execution_count": 33,
   "metadata": {},
   "outputs": [
    {
     "name": "stdout",
     "output_type": "stream",
     "text": [
      "<re.Match object; span=(0, 1), match='h'>\n",
      "<re.Match object; span=(1, 2), match='e'>\n",
      "<re.Match object; span=(2, 3), match='l'>\n",
      "<re.Match object; span=(3, 4), match='l'>\n",
      "<re.Match object; span=(4, 5), match='o'>\n"
     ]
    }
   ],
   "source": [
    "import re \n",
    "\n",
    "test_string = \"hello 123_\"\n",
    "\n",
    "pattern = re.compile(r\"[helo]\")\n",
    "\n",
    "matches = pattern.finditer(test_string)\n",
    "\n",
    "for match in matches:\n",
    "    print(match)"
   ]
  },
  {
   "cell_type": "code",
   "execution_count": 34,
   "metadata": {},
   "outputs": [
    {
     "name": "stdout",
     "output_type": "stream",
     "text": [
      "<re.Match object; span=(0, 1), match='h'>\n",
      "<re.Match object; span=(1, 2), match='e'>\n",
      "<re.Match object; span=(2, 3), match='l'>\n",
      "<re.Match object; span=(3, 4), match='l'>\n",
      "<re.Match object; span=(4, 5), match='o'>\n"
     ]
    }
   ],
   "source": [
    "import re \n",
    "\n",
    "test_string = \"hello 123_\"\n",
    "\n",
    "pattern = re.compile(r\"[a-z]\")\n",
    "\n",
    "matches = pattern.finditer(test_string)\n",
    "\n",
    "for match in matches:\n",
    "    print(match)"
   ]
  },
  {
   "cell_type": "code",
   "execution_count": 35,
   "metadata": {},
   "outputs": [
    {
     "name": "stdout",
     "output_type": "stream",
     "text": [
      "<re.Match object; span=(6, 7), match='1'>\n",
      "<re.Match object; span=(7, 8), match='2'>\n",
      "<re.Match object; span=(8, 9), match='3'>\n"
     ]
    }
   ],
   "source": [
    "import re \n",
    "\n",
    "test_string = \"hello 123_\"\n",
    "\n",
    "pattern = re.compile(r\"[0-9]\")\n",
    "\n",
    "matches = pattern.finditer(test_string)\n",
    "\n",
    "for match in matches:\n",
    "    print(match)"
   ]
  },
  {
   "cell_type": "code",
   "execution_count": 36,
   "metadata": {},
   "outputs": [
    {
     "name": "stdout",
     "output_type": "stream",
     "text": [
      "<re.Match object; span=(0, 1), match='h'>\n",
      "<re.Match object; span=(1, 2), match='e'>\n",
      "<re.Match object; span=(2, 3), match='l'>\n",
      "<re.Match object; span=(3, 4), match='l'>\n",
      "<re.Match object; span=(4, 5), match='o'>\n",
      "<re.Match object; span=(9, 10), match='-'>\n"
     ]
    }
   ],
   "source": [
    "import re \n",
    "\n",
    "test_string = \"hello 123-_\"\n",
    "\n",
    "pattern = re.compile(r\"[a-z-]\")\n",
    "\n",
    "matches = pattern.finditer(test_string)\n",
    "\n",
    "for match in matches:\n",
    "    print(match)"
   ]
  },
  {
   "cell_type": "code",
   "execution_count": 37,
   "metadata": {},
   "outputs": [
    {
     "name": "stdout",
     "output_type": "stream",
     "text": [
      "<re.Match object; span=(0, 1), match='h'>\n",
      "<re.Match object; span=(1, 2), match='e'>\n",
      "<re.Match object; span=(2, 3), match='l'>\n",
      "<re.Match object; span=(3, 4), match='l'>\n",
      "<re.Match object; span=(4, 5), match='o'>\n",
      "<re.Match object; span=(5, 6), match='H'>\n",
      "<re.Match object; span=(6, 7), match='E'>\n",
      "<re.Match object; span=(7, 8), match='L'>\n",
      "<re.Match object; span=(8, 9), match='L'>\n",
      "<re.Match object; span=(9, 10), match='O'>\n"
     ]
    }
   ],
   "source": [
    "import re \n",
    "\n",
    "test_string = \"helloHELLO 123-_\"\n",
    "\n",
    "pattern = re.compile(r\"[a-zA-Z]\")\n",
    "\n",
    "matches = pattern.finditer(test_string)\n",
    "\n",
    "for match in matches:\n",
    "    print(match)"
   ]
  },
  {
   "cell_type": "code",
   "execution_count": 38,
   "metadata": {},
   "outputs": [
    {
     "name": "stdout",
     "output_type": "stream",
     "text": [
      "<re.Match object; span=(0, 1), match='h'>\n",
      "<re.Match object; span=(1, 2), match='e'>\n",
      "<re.Match object; span=(2, 3), match='l'>\n",
      "<re.Match object; span=(3, 4), match='l'>\n",
      "<re.Match object; span=(4, 5), match='o'>\n",
      "<re.Match object; span=(5, 6), match='H'>\n",
      "<re.Match object; span=(6, 7), match='E'>\n",
      "<re.Match object; span=(7, 8), match='L'>\n",
      "<re.Match object; span=(8, 9), match='L'>\n",
      "<re.Match object; span=(9, 10), match='O'>\n",
      "<re.Match object; span=(11, 12), match='1'>\n",
      "<re.Match object; span=(12, 13), match='2'>\n",
      "<re.Match object; span=(13, 14), match='3'>\n"
     ]
    }
   ],
   "source": [
    "import re \n",
    "\n",
    "test_string = \"helloHELLO 123-_\"\n",
    "\n",
    "pattern = re.compile(r\"[a-zA-Z0-9]\")\n",
    "\n",
    "matches = pattern.finditer(test_string)\n",
    "\n",
    "for match in matches:\n",
    "    print(match)"
   ]
  },
  {
   "cell_type": "markdown",
   "metadata": {},
   "source": [
    "# Quantifier\n",
    "# * : 0 or more\n",
    "# + : 1 or more\n",
    "# ? : 0 or 1, -> optional character \n",
    "# {4} : exact number \n",
    "# {4,6} : range number (min, max)"
   ]
  },
  {
   "cell_type": "code",
   "execution_count": 39,
   "metadata": {},
   "outputs": [
    {
     "name": "stdout",
     "output_type": "stream",
     "text": [
      "<re.Match object; span=(6, 7), match='1'>\n",
      "<re.Match object; span=(7, 8), match='2'>\n",
      "<re.Match object; span=(8, 9), match='3'>\n"
     ]
    }
   ],
   "source": [
    "import re \n",
    "\n",
    "test_string = \"hello_123\"\n",
    "\n",
    "pattern = re.compile(r\"\\d\")\n",
    "\n",
    "matches = pattern.finditer(test_string)\n",
    "\n",
    "for match in matches:\n",
    "    print(match)"
   ]
  },
  {
   "cell_type": "code",
   "execution_count": 17,
   "metadata": {},
   "outputs": [
    {
     "name": "stdout",
     "output_type": "stream",
     "text": [
      "<re.Match object; span=(0, 0), match=''>\n",
      "<re.Match object; span=(1, 1), match=''>\n",
      "<re.Match object; span=(2, 2), match=''>\n",
      "<re.Match object; span=(3, 3), match=''>\n",
      "<re.Match object; span=(4, 4), match=''>\n",
      "<re.Match object; span=(5, 5), match=''>\n",
      "<re.Match object; span=(6, 9), match='123'>\n",
      "<re.Match object; span=(9, 9), match=''>\n"
     ]
    }
   ],
   "source": [
    "import re \n",
    "\n",
    "test_string = \"hello_123\"\n",
    "\n",
    "pattern = re.compile(r\"\\d*\")\n",
    "\n",
    "matches = pattern.finditer(test_string)\n",
    "\n",
    "for match in matches:\n",
    "    print(match)"
   ]
  },
  {
   "cell_type": "code",
   "execution_count": 41,
   "metadata": {},
   "outputs": [
    {
     "name": "stdout",
     "output_type": "stream",
     "text": [
      "<re.Match object; span=(6, 7), match='1'>\n",
      "<re.Match object; span=(7, 8), match='2'>\n",
      "<re.Match object; span=(8, 9), match='3'>\n"
     ]
    }
   ],
   "source": [
    "import re \n",
    "\n",
    "test_string = \"hello_123\"\n",
    "\n",
    "pattern = re.compile(r\"\\d\")\n",
    "\n",
    "matches = pattern.finditer(test_string)\n",
    "\n",
    "for match in matches:\n",
    "    print(match)"
   ]
  },
  {
   "cell_type": "code",
   "execution_count": 18,
   "metadata": {},
   "outputs": [
    {
     "name": "stdout",
     "output_type": "stream",
     "text": [
      "<re.Match object; span=(6, 9), match='123'>\n"
     ]
    }
   ],
   "source": [
    "import re \n",
    "\n",
    "test_string = \"hello_123\"\n",
    "\n",
    "pattern = re.compile(r\"\\d+\")\n",
    "\n",
    "matches = pattern.finditer(test_string)\n",
    "\n",
    "for match in matches:\n",
    "    print(match)"
   ]
  },
  {
   "cell_type": "code",
   "execution_count": 19,
   "metadata": {},
   "outputs": [
    {
     "name": "stdout",
     "output_type": "stream",
     "text": [
      "<re.Match object; span=(5, 7), match='_1'>\n"
     ]
    }
   ],
   "source": [
    "import re \n",
    "\n",
    "test_string = \"hello_123\"\n",
    "\n",
    "pattern = re.compile(r\"_\\d\")\n",
    "\n",
    "matches = pattern.finditer(test_string)\n",
    "\n",
    "for match in matches:\n",
    "    print(match)"
   ]
  },
  {
   "cell_type": "code",
   "execution_count": 20,
   "metadata": {},
   "outputs": [],
   "source": [
    "import re \n",
    "\n",
    "test_string = \"hello123\"\n",
    "\n",
    "pattern = re.compile(r\"_\\d\")\n",
    "\n",
    "matches = pattern.finditer(test_string)\n",
    "\n",
    "for match in matches:\n",
    "    print(match)"
   ]
  },
  {
   "cell_type": "markdown",
   "metadata": {},
   "source": [
    "# _ is optional"
   ]
  },
  {
   "cell_type": "code",
   "execution_count": 22,
   "metadata": {},
   "outputs": [
    {
     "name": "stdout",
     "output_type": "stream",
     "text": [
      "<re.Match object; span=(5, 6), match='1'>\n",
      "<re.Match object; span=(6, 7), match='2'>\n",
      "<re.Match object; span=(7, 8), match='3'>\n"
     ]
    }
   ],
   "source": [
    "import re \n",
    "\n",
    "test_string = \"hello123\"\n",
    "\n",
    "pattern = re.compile(r\"_?\\d\")\n",
    "\n",
    "matches = pattern.finditer(test_string)\n",
    "\n",
    "for match in matches:\n",
    "    print(match)"
   ]
  },
  {
   "cell_type": "code",
   "execution_count": 23,
   "metadata": {},
   "outputs": [
    {
     "name": "stdout",
     "output_type": "stream",
     "text": [
      "<re.Match object; span=(5, 7), match='_1'>\n",
      "<re.Match object; span=(7, 9), match='_2'>\n",
      "<re.Match object; span=(9, 11), match='_3'>\n"
     ]
    }
   ],
   "source": [
    "import re \n",
    "\n",
    "test_string = \"hello_1_2_3\"\n",
    "\n",
    "pattern = re.compile(r\"_?\\d\")\n",
    "\n",
    "matches = pattern.finditer(test_string)\n",
    "\n",
    "for match in matches:\n",
    "    print(match)"
   ]
  },
  {
   "cell_type": "code",
   "execution_count": 24,
   "metadata": {},
   "outputs": [
    {
     "name": "stdout",
     "output_type": "stream",
     "text": [
      "<re.Match object; span=(6, 9), match='123'>\n"
     ]
    }
   ],
   "source": [
    "import re \n",
    "\n",
    "test_string = \"hello_123\"\n",
    "\n",
    "pattern = re.compile(r\"\\d{3}\")\n",
    "\n",
    "matches = pattern.finditer(test_string)\n",
    "\n",
    "for match in matches:\n",
    "    print(match)"
   ]
  },
  {
   "cell_type": "code",
   "execution_count": 25,
   "metadata": {},
   "outputs": [],
   "source": [
    "import re \n",
    "\n",
    "test_string = \"hello_123\"\n",
    "\n",
    "pattern = re.compile(r\"\\d{4}\")\n",
    "\n",
    "matches = pattern.finditer(test_string)\n",
    "\n",
    "for match in matches:\n",
    "    print(match)"
   ]
  },
  {
   "cell_type": "code",
   "execution_count": 26,
   "metadata": {},
   "outputs": [
    {
     "name": "stdout",
     "output_type": "stream",
     "text": [
      "<re.Match object; span=(6, 9), match='123'>\n"
     ]
    }
   ],
   "source": [
    "import re \n",
    "\n",
    "test_string = \"hello_123\"\n",
    "\n",
    "pattern = re.compile(r\"\\d{1,3}\")\n",
    "\n",
    "matches = pattern.finditer(test_string)\n",
    "\n",
    "for match in matches:\n",
    "    print(match)"
   ]
  },
  {
   "cell_type": "code",
   "execution_count": 27,
   "metadata": {},
   "outputs": [
    {
     "name": "stdout",
     "output_type": "stream",
     "text": [
      "<re.Match object; span=(6, 8), match='12'>\n",
      "<re.Match object; span=(8, 9), match='3'>\n"
     ]
    }
   ],
   "source": [
    "import re \n",
    "\n",
    "test_string = \"hello_123\"\n",
    "\n",
    "pattern = re.compile(r\"\\d{1,2}\")\n",
    "\n",
    "matches = pattern.finditer(test_string)\n",
    "\n",
    "for match in matches:\n",
    "    print(match)"
   ]
  },
  {
   "cell_type": "markdown",
   "metadata": {},
   "source": [
    "# Lets do real thing now"
   ]
  },
  {
   "cell_type": "code",
   "execution_count": 28,
   "metadata": {},
   "outputs": [
    {
     "name": "stdout",
     "output_type": "stream",
     "text": [
      "<re.Match object; span=(19, 29), match='2020.04.01'>\n",
      "<re.Match object; span=(31, 41), match='2020-04-01'>\n",
      "<re.Match object; span=(42, 52), match='2020-05-23'>\n",
      "<re.Match object; span=(53, 63), match='2020-06-11'>\n",
      "<re.Match object; span=(64, 74), match='2020-07-11'>\n",
      "<re.Match object; span=(75, 85), match='2020-08-11'>\n",
      "<re.Match object; span=(87, 97), match='2020/04/02'>\n",
      "<re.Match object; span=(99, 109), match='2020_04_04'>\n",
      "<re.Match object; span=(110, 120), match='2020_04_04'>\n"
     ]
    }
   ],
   "source": [
    "import re \n",
    "\n",
    "dates = \"\"\"\n",
    "hello\n",
    "01.04.2020\n",
    "\n",
    "2020.04.01\n",
    "\n",
    "2020-04-01\n",
    "2020-05-23\n",
    "2020-06-11\n",
    "2020-07-11\n",
    "2020-08-11\n",
    "\n",
    "2020/04/02\n",
    "\n",
    "2020_04_04\n",
    "2020_04_04\n",
    "\"\"\"\n",
    "\n",
    "pattern = re.compile(r\"\\d\\d\\d\\d.\\d\\d.\\d\\d\")\n",
    "\n",
    "matches = pattern.finditer(dates)\n",
    "\n",
    "for match in matches:\n",
    "    print(match)"
   ]
  },
  {
   "cell_type": "code",
   "execution_count": 52,
   "metadata": {},
   "outputs": [
    {
     "name": "stdout",
     "output_type": "stream",
     "text": [
      "<re.Match object; span=(31, 41), match='2020-04-01'>\n",
      "<re.Match object; span=(42, 52), match='2020-05-23'>\n",
      "<re.Match object; span=(53, 63), match='2020-06-11'>\n",
      "<re.Match object; span=(64, 74), match='2020-07-11'>\n",
      "<re.Match object; span=(75, 85), match='2020-08-11'>\n"
     ]
    }
   ],
   "source": [
    "import re \n",
    "\n",
    "dates = \"\"\"\n",
    "hello\n",
    "01.04.2020\n",
    "\n",
    "2020.04.01\n",
    "\n",
    "2020-04-01\n",
    "2020-05-23\n",
    "2020-06-11\n",
    "2020-07-11\n",
    "2020-08-11\n",
    "\n",
    "2020/04/02\n",
    "\n",
    "2020_04_04\n",
    "2020_04_04\n",
    "\"\"\"\n",
    "\n",
    "pattern = re.compile(r\"\\d\\d\\d\\d-\\d\\d-\\d\\d\")\n",
    "\n",
    "matches = pattern.finditer(dates)\n",
    "\n",
    "for match in matches:\n",
    "    print(match)"
   ]
  },
  {
   "cell_type": "markdown",
   "metadata": {},
   "source": [
    "# Let's look the set of character in use"
   ]
  },
  {
   "cell_type": "code",
   "execution_count": 29,
   "metadata": {},
   "outputs": [
    {
     "name": "stdout",
     "output_type": "stream",
     "text": [
      "<re.Match object; span=(31, 41), match='2020-04-01'>\n",
      "<re.Match object; span=(42, 52), match='2020-05-23'>\n",
      "<re.Match object; span=(53, 63), match='2020-06-11'>\n",
      "<re.Match object; span=(64, 74), match='2020-07-11'>\n",
      "<re.Match object; span=(75, 85), match='2020-08-11'>\n",
      "<re.Match object; span=(87, 97), match='2020/04/02'>\n"
     ]
    }
   ],
   "source": [
    "import re \n",
    "\n",
    "dates = \"\"\"\n",
    "hello\n",
    "01.04.2020\n",
    "\n",
    "2020.04.01\n",
    "\n",
    "2020-04-01\n",
    "2020-05-23\n",
    "2020-06-11\n",
    "2020-07-11\n",
    "2020-08-11\n",
    "\n",
    "2020/04/02\n",
    "\n",
    "2020_04_04\n",
    "2020_04_04\n",
    "\"\"\"\n",
    "\n",
    "pattern = re.compile(r\"\\d\\d\\d\\d[-/]\\d\\d[-/]\\d\\d\")\n",
    "\n",
    "matches = pattern.finditer(dates)\n",
    "\n",
    "for match in matches:\n",
    "    print(match)"
   ]
  },
  {
   "cell_type": "markdown",
   "metadata": {},
   "source": [
    "# Only looking for dates on May and June"
   ]
  },
  {
   "cell_type": "code",
   "execution_count": 54,
   "metadata": {},
   "outputs": [
    {
     "name": "stdout",
     "output_type": "stream",
     "text": [
      "<re.Match object; span=(42, 52), match='2020-05-23'>\n",
      "<re.Match object; span=(53, 63), match='2020-06-11'>\n"
     ]
    }
   ],
   "source": [
    "import re \n",
    "\n",
    "dates = \"\"\"\n",
    "hello\n",
    "01.04.2020\n",
    "\n",
    "2020.04.01\n",
    "\n",
    "2020-04-01\n",
    "2020-05-23\n",
    "2020-06-11\n",
    "2020-07-11\n",
    "2020-08-11\n",
    "\n",
    "2020/04/02\n",
    "\n",
    "2020_04_04\n",
    "2020_04_04\n",
    "\"\"\"\n",
    "\n",
    "pattern = re.compile(r\"\\d\\d\\d\\d[-/]0[56][-/]\\d\\d\")\n",
    "\n",
    "matches = pattern.finditer(dates)\n",
    "\n",
    "for match in matches:\n",
    "    print(match)"
   ]
  },
  {
   "cell_type": "code",
   "execution_count": 55,
   "metadata": {},
   "outputs": [
    {
     "name": "stdout",
     "output_type": "stream",
     "text": [
      "<re.Match object; span=(42, 52), match='2020-05-23'>\n",
      "<re.Match object; span=(53, 63), match='2020-06-11'>\n"
     ]
    }
   ],
   "source": [
    "import re \n",
    "\n",
    "dates = \"\"\"\n",
    "hello\n",
    "01.04.2020\n",
    "\n",
    "2020.04.01\n",
    "\n",
    "2020-04-01\n",
    "2020-05-23\n",
    "2020-06-11\n",
    "2020-07-11\n",
    "2020-08-11\n",
    "\n",
    "2020/04/02\n",
    "\n",
    "2020_04_04\n",
    "2020_04_04\n",
    "\"\"\"\n",
    "\n",
    "pattern = re.compile(r\"\\d\\d\\d\\d[-/]0[5-6][-/]\\d\\d\")\n",
    "\n",
    "matches = pattern.finditer(dates)\n",
    "\n",
    "for match in matches:\n",
    "    print(match)"
   ]
  },
  {
   "cell_type": "markdown",
   "metadata": {},
   "source": [
    "# Let's use quantifier"
   ]
  },
  {
   "cell_type": "code",
   "execution_count": 56,
   "metadata": {},
   "outputs": [
    {
     "name": "stdout",
     "output_type": "stream",
     "text": [
      "<re.Match object; span=(42, 52), match='2020-05-23'>\n",
      "<re.Match object; span=(53, 63), match='2020-06-11'>\n"
     ]
    }
   ],
   "source": [
    "import re \n",
    "\n",
    "dates = \"\"\"\n",
    "hello\n",
    "01.04.2020\n",
    "\n",
    "2020.04.01\n",
    "\n",
    "2020-04-01\n",
    "2020-05-23\n",
    "2020-06-11\n",
    "2020-07-11\n",
    "2020-08-11\n",
    "\n",
    "2020/04/02\n",
    "\n",
    "2020_04_04\n",
    "2020_04_04\n",
    "\"\"\"\n",
    "\n",
    "pattern = re.compile(r\"\\d{4}[-/]0[5-6][-/]\\d{2}\")\n",
    "\n",
    "matches = pattern.finditer(dates)\n",
    "\n",
    "for match in matches:\n",
    "    print(match)"
   ]
  },
  {
   "cell_type": "markdown",
   "metadata": {},
   "source": [
    "# Conditions"
   ]
  },
  {
   "cell_type": "code",
   "execution_count": 30,
   "metadata": {},
   "outputs": [
    {
     "name": "stdout",
     "output_type": "stream",
     "text": [
      "<re.Match object; span=(30, 40), match='Mr Simpson'>\n"
     ]
    }
   ],
   "source": [
    "import re\n",
    "\n",
    "my_string = \"\"\"\n",
    "hello world\n",
    "1223 \n",
    "2020-05-20\n",
    "Mr Simpson\n",
    "Mrs Simpson\n",
    "Mr. Brown\n",
    "Ms Smith\n",
    "Mr. T\n",
    "\"\"\"\n",
    "pattern = re.compile(r\"Mr\\s\\w+\")\n",
    "\n",
    "matches = pattern.finditer(my_string)\n",
    "\n",
    "for match in matches:\n",
    "    print(match)"
   ]
  },
  {
   "cell_type": "code",
   "execution_count": 31,
   "metadata": {},
   "outputs": [
    {
     "name": "stdout",
     "output_type": "stream",
     "text": [
      "<re.Match object; span=(53, 62), match='Mr. Brown'>\n",
      "<re.Match object; span=(72, 77), match='Mr. T'>\n"
     ]
    }
   ],
   "source": [
    "import re\n",
    "\n",
    "my_string = \"\"\"\n",
    "hello world\n",
    "1223 \n",
    "2020-05-20\n",
    "Mr Simpson\n",
    "Mrs Simpson\n",
    "Mr. Brown\n",
    "Ms Smith\n",
    "Mr. T\n",
    "\"\"\"\n",
    "pattern = re.compile(r\"Mr\\.\\s\\w+\")\n",
    "\n",
    "matches = pattern.finditer(my_string)\n",
    "\n",
    "for match in matches:\n",
    "    print(match)"
   ]
  },
  {
   "cell_type": "code",
   "execution_count": 32,
   "metadata": {},
   "outputs": [
    {
     "name": "stdout",
     "output_type": "stream",
     "text": [
      "<re.Match object; span=(30, 40), match='Mr Simpson'>\n",
      "<re.Match object; span=(53, 62), match='Mr. Brown'>\n",
      "<re.Match object; span=(72, 77), match='Mr. T'>\n"
     ]
    }
   ],
   "source": [
    "import re\n",
    "\n",
    "my_string = \"\"\"\n",
    "hello world\n",
    "1223 \n",
    "2020-05-20\n",
    "Mr Simpson\n",
    "Mrs Simpson\n",
    "Mr. Brown\n",
    "Ms Smith\n",
    "Mr. T\n",
    "\"\"\"\n",
    "pattern = re.compile(r\"Mr\\.?\\s\\w+\")\n",
    "\n",
    "matches = pattern.finditer(my_string)\n",
    "\n",
    "for match in matches:\n",
    "    print(match)"
   ]
  },
  {
   "cell_type": "markdown",
   "metadata": {},
   "source": [
    "# Use condition"
   ]
  },
  {
   "cell_type": "code",
   "execution_count": 60,
   "metadata": {},
   "outputs": [
    {
     "name": "stdout",
     "output_type": "stream",
     "text": [
      "<re.Match object; span=(30, 40), match='Mr Simpson'>\n",
      "<re.Match object; span=(41, 52), match='Mrs Simpson'>\n",
      "<re.Match object; span=(53, 62), match='Mr. Brown'>\n",
      "<re.Match object; span=(63, 71), match='Ms Smith'>\n",
      "<re.Match object; span=(72, 77), match='Mr. T'>\n"
     ]
    }
   ],
   "source": [
    "import re\n",
    "\n",
    "my_string = \"\"\"\n",
    "hello world\n",
    "1223 \n",
    "2020-05-20\n",
    "Mr Simpson\n",
    "Mrs Simpson\n",
    "Mr. Brown\n",
    "Ms Smith\n",
    "Mr. T\n",
    "\"\"\"\n",
    "pattern = re.compile(r\"(Mr|Ms|Mrs)\\.?\\s\\w+\")\n",
    "\n",
    "matches = pattern.finditer(my_string)\n",
    "\n",
    "for match in matches:\n",
    "    print(match)"
   ]
  },
  {
   "cell_type": "markdown",
   "metadata": {},
   "source": [
    "# Grouping"
   ]
  },
  {
   "cell_type": "code",
   "execution_count": 61,
   "metadata": {},
   "outputs": [
    {
     "name": "stdout",
     "output_type": "stream",
     "text": [
      "<re.Match object; span=(78, 93), match='pythonengineer@'>\n",
      "<re.Match object; span=(103, 119), match='Python-engineer@'>\n",
      "<re.Match object; span=(126, 145), match='python-engineer123@'>\n"
     ]
    }
   ],
   "source": [
    "import re\n",
    "\n",
    "emails = \"\"\"\n",
    "hello world\n",
    "1223 \n",
    "2020-05-20\n",
    "Mr Simpson\n",
    "Mrs Simpson\n",
    "Mr. Brown\n",
    "Ms Smith\n",
    "Mr. T\n",
    "pythonengineer@gmail.com\n",
    "Python-engineer@gmx.de\n",
    "python-engineer123@my-domian.org\n",
    "\"\"\"\n",
    "\n",
    "pattern = re.compile(r\"[a-zA-Z0-9-]+@\")\n",
    "\n",
    "matches = pattern.finditer(emails)\n",
    "\n",
    "for match in matches:\n",
    "    print(match)"
   ]
  },
  {
   "cell_type": "code",
   "execution_count": 62,
   "metadata": {},
   "outputs": [
    {
     "name": "stdout",
     "output_type": "stream",
     "text": [
      "<re.Match object; span=(78, 99), match='pythonengineer@gmail.'>\n",
      "<re.Match object; span=(103, 123), match='Python-engineer@gmx.'>\n",
      "<re.Match object; span=(126, 155), match='python-engineer123@my-domian.'>\n"
     ]
    }
   ],
   "source": [
    "import re\n",
    "\n",
    "emails = \"\"\"\n",
    "hello world\n",
    "1223 \n",
    "2020-05-20\n",
    "Mr Simpson\n",
    "Mrs Simpson\n",
    "Mr. Brown\n",
    "Ms Smith\n",
    "Mr. T\n",
    "pythonengineer@gmail.com\n",
    "Python-engineer@gmx.de\n",
    "python-engineer123@my-domian.org\n",
    "\"\"\"\n",
    "\n",
    "pattern = re.compile(r\"[a-zA-Z0-9-]+@[a-zA-Z-]+\\.\")\n",
    "\n",
    "matches = pattern.finditer(emails)\n",
    "\n",
    "for match in matches:\n",
    "    print(match)"
   ]
  },
  {
   "cell_type": "code",
   "execution_count": 63,
   "metadata": {},
   "outputs": [
    {
     "name": "stdout",
     "output_type": "stream",
     "text": [
      "<re.Match object; span=(78, 102), match='pythonengineer@gmail.com'>\n",
      "<re.Match object; span=(103, 125), match='Python-engineer@gmx.de'>\n",
      "<re.Match object; span=(126, 158), match='python-engineer123@my-domian.org'>\n"
     ]
    }
   ],
   "source": [
    "import re\n",
    "\n",
    "emails = \"\"\"\n",
    "hello world\n",
    "1223 \n",
    "2020-05-20\n",
    "Mr Simpson\n",
    "Mrs Simpson\n",
    "Mr. Brown\n",
    "Ms Smith\n",
    "Mr. T\n",
    "pythonengineer@gmail.com\n",
    "Python-engineer@gmx.de\n",
    "python-engineer123@my-domian.org\n",
    "\"\"\"\n",
    "\n",
    "pattern = re.compile(r\"[a-zA-Z0-9-]+@[a-zA-Z-]+\\.(com|de|org)\")\n",
    "\n",
    "matches = pattern.finditer(emails)\n",
    "\n",
    "for match in matches:\n",
    "    print(match)"
   ]
  },
  {
   "cell_type": "code",
   "execution_count": 64,
   "metadata": {},
   "outputs": [],
   "source": [
    "# import re\n",
    "\n",
    "# emails = \"\"\"\n",
    "# hello world\n",
    "# 1223 \n",
    "# 2020-05-20\n",
    "# Mr Simpson\n",
    "# Mrs Simpson\n",
    "# Mr. Brown\n",
    "# Ms Smith\n",
    "# Mr. T\n",
    "# pythonengineer@gmail.com\n",
    "# Python-engineer@gmx/de\n",
    "# python-engineer123@my-domian.org\n",
    "# \"\"\"\n",
    "\n",
    "# pattern = re.compile(r\"[a-zA-Z0-9-]+@[a-zA-Z-]+.(com|de|org)\")\n",
    "\n",
    "# matches = pattern.finditer(emails)\n",
    "\n",
    "# for match in matches:\n",
    "#     print(match)"
   ]
  },
  {
   "cell_type": "code",
   "execution_count": 33,
   "metadata": {},
   "outputs": [
    {
     "name": "stdout",
     "output_type": "stream",
     "text": [
      "<re.Match object; span=(78, 102), match='pythonengineer@gmail.com'>\n",
      "<re.Match object; span=(103, 125), match='Python-engineer@gmx.de'>\n",
      "<re.Match object; span=(126, 158), match='python-engineer123@my-domian.org'>\n"
     ]
    }
   ],
   "source": [
    "import re\n",
    "\n",
    "emails = \"\"\"\n",
    "hello world\n",
    "1223 \n",
    "2020-05-20\n",
    "Mr Simpson\n",
    "Mrs Simpson\n",
    "Mr. Brown\n",
    "Ms Smith\n",
    "Mr. T\n",
    "pythonengineer@gmail.com\n",
    "Python-engineer@gmx.de\n",
    "python-engineer123@my-domian.org\n",
    "\"\"\"\n",
    "\n",
    "pattern = re.compile(r\"[a-zA-Z0-9-]+@[a-zA-Z-]+\\.[a-zA-Z]+\")\n",
    "\n",
    "matches = pattern.finditer(emails)\n",
    "\n",
    "for match in matches:\n",
    "    print(match)"
   ]
  },
  {
   "cell_type": "markdown",
   "metadata": {},
   "source": [
    "# Grouping Concept Starts Here"
   ]
  },
  {
   "cell_type": "markdown",
   "metadata": {},
   "source": [
    "# Default Case is group 0"
   ]
  },
  {
   "cell_type": "code",
   "execution_count": 66,
   "metadata": {},
   "outputs": [
    {
     "name": "stdout",
     "output_type": "stream",
     "text": [
      "pythonengineer@gmail.com\n",
      "Python-engineer@gmx.de\n",
      "python-engineer123@my-domian.org\n"
     ]
    }
   ],
   "source": [
    "import re\n",
    "\n",
    "emails = \"\"\"\n",
    "hello world\n",
    "1223 \n",
    "2020-05-20\n",
    "Mr Simpson\n",
    "Mrs Simpson\n",
    "Mr. Brown\n",
    "Ms Smith\n",
    "Mr. T\n",
    "pythonengineer@gmail.com\n",
    "Python-engineer@gmx.de\n",
    "python-engineer123@my-domian.org\n",
    "\"\"\"\n",
    "\n",
    "pattern = re.compile(r\"([a-zA-Z0-9-]+)@([a-zA-Z-]+)\\.([a-zA-Z]+)\")\n",
    "\n",
    "matches = pattern.finditer(emails)\n",
    "\n",
    "for match in matches:\n",
    "    print(match.group())"
   ]
  },
  {
   "cell_type": "code",
   "execution_count": 67,
   "metadata": {},
   "outputs": [
    {
     "name": "stdout",
     "output_type": "stream",
     "text": [
      "pythonengineer@gmail.com\n",
      "Python-engineer@gmx.de\n",
      "python-engineer123@my-domian.org\n"
     ]
    }
   ],
   "source": [
    "import re\n",
    "\n",
    "emails = \"\"\"\n",
    "hello world\n",
    "1223 \n",
    "2020-05-20\n",
    "Mr Simpson\n",
    "Mrs Simpson\n",
    "Mr. Brown\n",
    "Ms Smith\n",
    "Mr. T\n",
    "pythonengineer@gmail.com\n",
    "Python-engineer@gmx.de\n",
    "python-engineer123@my-domian.org\n",
    "\"\"\"\n",
    "\n",
    "pattern = re.compile(r\"([a-zA-Z0-9-]+)@([a-zA-Z-]+)\\.([a-zA-Z]+)\")\n",
    "\n",
    "matches = pattern.finditer(emails)\n",
    "\n",
    "for match in matches:\n",
    "    print(match.group(0))"
   ]
  },
  {
   "cell_type": "code",
   "execution_count": 68,
   "metadata": {},
   "outputs": [
    {
     "name": "stdout",
     "output_type": "stream",
     "text": [
      "pythonengineer@gmail.com\n",
      "\n",
      "pythonengineer\n",
      "\n",
      "gmail\n",
      "\n",
      "com\n",
      "Python-engineer@gmx.de\n",
      "\n",
      "Python-engineer\n",
      "\n",
      "gmx\n",
      "\n",
      "de\n",
      "python-engineer123@my-domian.org\n",
      "\n",
      "python-engineer123\n",
      "\n",
      "my-domian\n",
      "\n",
      "org\n"
     ]
    }
   ],
   "source": [
    "import re\n",
    "\n",
    "emails = \"\"\"\n",
    "hello world\n",
    "1223 \n",
    "2020-05-20\n",
    "Mr Simpson\n",
    "Mrs Simpson\n",
    "Mr. Brown\n",
    "Ms Smith\n",
    "Mr. T\n",
    "pythonengineer@gmail.com\n",
    "Python-engineer@gmx.de\n",
    "python-engineer123@my-domian.org\n",
    "\"\"\"\n",
    "\n",
    "pattern = re.compile(r\"([a-zA-Z0-9-]+)@([a-zA-Z-]+)\\.([a-zA-Z]+)\")\n",
    "\n",
    "matches = pattern.finditer(emails)\n",
    "\n",
    "for match in matches:\n",
    "    print(match.group(0))\n",
    "    print()\n",
    "    print(match.group(1))\n",
    "    print()\n",
    "    print(match.group(2))\n",
    "    print()\n",
    "    print(match.group(3))"
   ]
  },
  {
   "cell_type": "code",
   "execution_count": 69,
   "metadata": {},
   "outputs": [
    {
     "name": "stdout",
     "output_type": "stream",
     "text": [
      "pythonengineer\n",
      "Python-engineer\n",
      "python-engineer123\n"
     ]
    }
   ],
   "source": [
    "import re\n",
    "\n",
    "emails = \"\"\"\n",
    "hello world\n",
    "1223 \n",
    "2020-05-20\n",
    "Mr Simpson\n",
    "Mrs Simpson\n",
    "Mr. Brown\n",
    "Ms Smith\n",
    "Mr. T\n",
    "pythonengineer@gmail.com\n",
    "Python-engineer@gmx.de\n",
    "python-engineer123@my-domian.org\n",
    "\"\"\"\n",
    "\n",
    "pattern = re.compile(r\"([a-zA-Z0-9-]+)@([a-zA-Z-]+)\\.([a-zA-Z]+)\")\n",
    "\n",
    "matches = pattern.finditer(emails)\n",
    "\n",
    "for match in matches:\n",
    "    #print(match.group(0))\n",
    "    print(match.group(1))\n",
    "    #print(match.group(2))\n",
    "    #print(match.group(3))"
   ]
  },
  {
   "cell_type": "code",
   "execution_count": 70,
   "metadata": {},
   "outputs": [
    {
     "name": "stdout",
     "output_type": "stream",
     "text": [
      "gmail\n",
      "gmx\n",
      "my-domian\n"
     ]
    }
   ],
   "source": [
    "import re\n",
    "\n",
    "emails = \"\"\"\n",
    "hello world\n",
    "1223 \n",
    "2020-05-20\n",
    "Mr Simpson\n",
    "Mrs Simpson\n",
    "Mr. Brown\n",
    "Ms Smith\n",
    "Mr. T\n",
    "pythonengineer@gmail.com\n",
    "Python-engineer@gmx.de\n",
    "python-engineer123@my-domian.org\n",
    "\"\"\"\n",
    "\n",
    "pattern = re.compile(r\"([a-zA-Z0-9-]+)@([a-zA-Z-]+)\\.([a-zA-Z]+)\")\n",
    "\n",
    "matches = pattern.finditer(emails)\n",
    "\n",
    "for match in matches:\n",
    "    #print(match.group(0))\n",
    "    #print(match.group(1))\n",
    "    print(match.group(2)) # Domain Name\n",
    "    #print(match.group(3))"
   ]
  },
  {
   "cell_type": "code",
   "execution_count": 71,
   "metadata": {},
   "outputs": [
    {
     "name": "stdout",
     "output_type": "stream",
     "text": [
      "com\n",
      "de\n",
      "org\n"
     ]
    }
   ],
   "source": [
    "import re\n",
    "\n",
    "emails = \"\"\"\n",
    "hello world\n",
    "1223 \n",
    "2020-05-20\n",
    "Mr Simpson\n",
    "Mrs Simpson\n",
    "Mr. Brown\n",
    "Ms Smith\n",
    "Mr. T\n",
    "pythonengineer@gmail.com\n",
    "Python-engineer@gmx.de\n",
    "python-engineer123@my-domian.org\n",
    "\"\"\"\n",
    "\n",
    "pattern = re.compile(r\"([a-zA-Z0-9-]+)@([a-zA-Z-]+)\\.([a-zA-Z]+)\")\n",
    "\n",
    "matches = pattern.finditer(emails)\n",
    "\n",
    "for match in matches:\n",
    "    #print(match.group(0))\n",
    "    #print(match.group(1))\n",
    "    # print(match.group(2)) # Domain Name\n",
    "    print(match.group(3)) # Ending"
   ]
  },
  {
   "cell_type": "markdown",
   "metadata": {},
   "source": [
    "# Modification"
   ]
  },
  {
   "cell_type": "markdown",
   "metadata": {},
   "source": [
    "# We have two methods to modify a string\n",
    "# 1. split \n",
    "# 2. sub"
   ]
  },
  {
   "cell_type": "code",
   "execution_count": 72,
   "metadata": {},
   "outputs": [
    {
     "name": "stdout",
     "output_type": "stream",
     "text": [
      "['123', '456789', '123ABC']\n"
     ]
    }
   ],
   "source": [
    "import re \n",
    "\n",
    "test_string = '123abc456789abc123ABC'\n",
    "\n",
    "pattern = re.compile(r\"abc\")\n",
    "splitted = pattern.split(test_string)\n",
    "print(splitted)"
   ]
  },
  {
   "cell_type": "markdown",
   "metadata": {},
   "source": [
    "# With sub method we find all the substrings where our pattern matches and then replace them with a different string"
   ]
  },
  {
   "cell_type": "code",
   "execution_count": 73,
   "metadata": {},
   "outputs": [
    {
     "name": "stdout",
     "output_type": "stream",
     "text": [
      "hello planet, you are the best planet\n"
     ]
    }
   ],
   "source": [
    "import re \n",
    "\n",
    "test_string = 'hello world, you are the best world'\n",
    "pattern = re.compile(r'world')\n",
    "\n",
    "subbed_string = pattern.sub(\"planet\",test_string)\n",
    " \n",
    "print(subbed_string)"
   ]
  },
  {
   "cell_type": "markdown",
   "metadata": {},
   "source": [
    "# Lets combine all that we have learned"
   ]
  },
  {
   "cell_type": "code",
   "execution_count": 74,
   "metadata": {},
   "outputs": [
    {
     "name": "stdout",
     "output_type": "stream",
     "text": [
      "<re.Match object; span=(77, 95), match='http://www.pyeng.n'>\n"
     ]
    }
   ],
   "source": [
    "import re\n",
    "\n",
    "urls = \"\"\"\n",
    "hello\n",
    "2020-05-20\n",
    "http://python-engineer.com\n",
    "https://www.Python-engineer.com\n",
    "http://www.pyeng.net\n",
    "\"\"\"\n",
    "\n",
    "pattern = re.compile(r\"http://www\\.([a-zA-Z-]+)\\.[a-zA-Z]\")\n",
    "\n",
    "matches = pattern.finditer(urls)\n",
    "\n",
    "for match in matches:\n",
    "    print(match)"
   ]
  },
  {
   "cell_type": "code",
   "execution_count": 75,
   "metadata": {},
   "outputs": [
    {
     "name": "stdout",
     "output_type": "stream",
     "text": [
      "<re.Match object; span=(77, 97), match='http://www.pyeng.net'>\n"
     ]
    }
   ],
   "source": [
    "import re\n",
    "\n",
    "urls = \"\"\"\n",
    "hello\n",
    "2020-05-20\n",
    "http://python-engineer.com\n",
    "https://www.Python-engineer.com\n",
    "http://www.pyeng.net\n",
    "\"\"\"\n",
    "\n",
    "pattern = re.compile(r\"http://www\\.([a-zA-Z-]+)\\.[a-zA-Z]+\")\n",
    "\n",
    "matches = pattern.finditer(urls)\n",
    "\n",
    "for match in matches:\n",
    "    print(match)"
   ]
  },
  {
   "cell_type": "code",
   "execution_count": 76,
   "metadata": {},
   "outputs": [
    {
     "name": "stdout",
     "output_type": "stream",
     "text": [
      "<re.Match object; span=(45, 76), match='https://www.Python-engineer.com'>\n",
      "<re.Match object; span=(77, 97), match='http://www.pyeng.net'>\n"
     ]
    }
   ],
   "source": [
    "import re\n",
    "\n",
    "urls = \"\"\"\n",
    "hello\n",
    "2020-05-20\n",
    "http://python-engineer.com\n",
    "https://www.Python-engineer.com\n",
    "http://www.pyeng.net\n",
    "\"\"\"\n",
    "\n",
    "pattern = re.compile(r\"https?://www\\.([a-zA-Z-]+)\\.[a-zA-Z]+\")\n",
    "\n",
    "matches = pattern.finditer(urls)\n",
    "\n",
    "for match in matches:\n",
    "    print(match)"
   ]
  },
  {
   "cell_type": "code",
   "execution_count": 77,
   "metadata": {},
   "outputs": [
    {
     "name": "stdout",
     "output_type": "stream",
     "text": [
      "<re.Match object; span=(18, 44), match='http://python-engineer.com'>\n",
      "<re.Match object; span=(45, 76), match='https://www.Python-engineer.com'>\n",
      "<re.Match object; span=(77, 97), match='http://www.pyeng.net'>\n"
     ]
    }
   ],
   "source": [
    "import re\n",
    "\n",
    "urls = \"\"\"\n",
    "hello\n",
    "2020-05-20\n",
    "http://python-engineer.com\n",
    "https://www.Python-engineer.com\n",
    "http://www.pyeng.net\n",
    "\"\"\"\n",
    "\n",
    "pattern = re.compile(r\"https?://(www\\.)?([a-zA-Z-]+)\\.[a-zA-Z]+\")\n",
    "\n",
    "matches = pattern.finditer(urls)\n",
    "\n",
    "for match in matches:\n",
    "    print(match)"
   ]
  },
  {
   "cell_type": "code",
   "execution_count": 78,
   "metadata": {},
   "outputs": [
    {
     "name": "stdout",
     "output_type": "stream",
     "text": [
      "http://python-engineer.com\n",
      "https://www.Python-engineer.com\n",
      "http://www.pyeng.net\n"
     ]
    }
   ],
   "source": [
    "import re\n",
    "\n",
    "urls = \"\"\"\n",
    "http://python-engineer.com\n",
    "https://www.Python-engineer.com\n",
    "http://www.pyeng.net\n",
    "\"\"\"\n",
    "\n",
    "pattern = re.compile(r\"https?://(www\\.)?([a-zA-Z-]+)(\\.[a-zA-Z]+)\")\n",
    "\n",
    "matches = pattern.finditer(urls)\n",
    "\n",
    "for match in matches:\n",
    "   print(match.group())"
   ]
  },
  {
   "cell_type": "code",
   "execution_count": 79,
   "metadata": {},
   "outputs": [
    {
     "name": "stdout",
     "output_type": "stream",
     "text": [
      "http://python-engineer.com\n",
      "https://www.Python-engineer.com\n",
      "http://www.pyeng.net\n"
     ]
    }
   ],
   "source": [
    "import re\n",
    "\n",
    "urls = \"\"\"\n",
    "http://python-engineer.com\n",
    "https://www.Python-engineer.com\n",
    "http://www.pyeng.net\n",
    "\"\"\"\n",
    "\n",
    "pattern = re.compile(r\"https?://(www\\.)?([a-zA-Z-]+)(\\.[a-zA-Z]+)\")\n",
    "\n",
    "matches = pattern.finditer(urls)\n",
    "\n",
    "for match in matches:\n",
    "   print(match.group(0))"
   ]
  },
  {
   "cell_type": "code",
   "execution_count": 80,
   "metadata": {},
   "outputs": [
    {
     "name": "stdout",
     "output_type": "stream",
     "text": [
      "None\n",
      "www.\n",
      "www.\n"
     ]
    }
   ],
   "source": [
    "import re\n",
    "\n",
    "urls = \"\"\"\n",
    "http://python-engineer.com\n",
    "https://www.Python-engineer.com\n",
    "http://www.pyeng.net\n",
    "\"\"\"\n",
    "\n",
    "pattern = re.compile(r\"https?://(www\\.)?([a-zA-Z-]+)(\\.[a-zA-Z]+)\")\n",
    "\n",
    "matches = pattern.finditer(urls)\n",
    "\n",
    "for match in matches:\n",
    "   print(match.group(1))"
   ]
  },
  {
   "cell_type": "code",
   "execution_count": 81,
   "metadata": {},
   "outputs": [
    {
     "name": "stdout",
     "output_type": "stream",
     "text": [
      "python-engineer\n",
      "Python-engineer\n",
      "pyeng\n"
     ]
    }
   ],
   "source": [
    "import re\n",
    "\n",
    "urls = \"\"\"\n",
    "http://python-engineer.com\n",
    "https://www.Python-engineer.com\n",
    "http://www.pyeng.net\n",
    "\"\"\"\n",
    "\n",
    "pattern = re.compile(r\"https?://(www\\.)?([a-zA-Z-]+)(\\.[a-zA-Z]+)\")\n",
    "\n",
    "matches = pattern.finditer(urls)\n",
    "\n",
    "for match in matches:\n",
    "   print(match.group(2))"
   ]
  },
  {
   "cell_type": "code",
   "execution_count": 82,
   "metadata": {},
   "outputs": [
    {
     "name": "stdout",
     "output_type": "stream",
     "text": [
      ".com\n",
      ".com\n",
      ".net\n"
     ]
    }
   ],
   "source": [
    "import re\n",
    "\n",
    "urls = \"\"\"\n",
    "http://python-engineer.com\n",
    "https://www.Python-engineer.com\n",
    "http://www.pyeng.net\n",
    "\"\"\"\n",
    "\n",
    "pattern = re.compile(r\"https?://(www\\.)?([a-zA-Z-]+)(\\.[a-zA-Z]+)\")\n",
    "\n",
    "matches = pattern.finditer(urls)\n",
    "\n",
    "for match in matches:\n",
    "   print(match.group(3))"
   ]
  },
  {
   "cell_type": "code",
   "execution_count": 83,
   "metadata": {},
   "outputs": [
    {
     "name": "stdout",
     "output_type": "stream",
     "text": [
      "\n",
      "python-engineer.com\n",
      "Python-engineer.com\n",
      "pyeng.net\n",
      "\n"
     ]
    }
   ],
   "source": [
    "import re\n",
    "\n",
    "urls = \"\"\"\n",
    "http://python-engineer.com\n",
    "https://www.Python-engineer.com\n",
    "http://www.pyeng.net\n",
    "\"\"\"\n",
    "\n",
    "pattern = re.compile(r\"https?://(www\\.)?([a-zA-Z-]+)(\\.[a-zA-Z]+)\")\n",
    "\n",
    "matches = pattern.finditer(urls)\n",
    "    \n",
    "subbed_urls = pattern.sub(r\"\\2\\3\",urls)\n",
    "print(subbed_urls)"
   ]
  },
  {
   "cell_type": "markdown",
   "metadata": {},
   "source": [
    "# Compilation Flags"
   ]
  },
  {
   "cell_type": "markdown",
   "metadata": {},
   "source": [
    "# ASCII, A \n",
    "# DOTALL, S\n",
    "# IGNORECASE, I : Do case-insensitive matches.\n",
    "# LOCALE, L\n",
    "# MULTILINE, M\n",
    "# VERBOSE, X"
   ]
  },
  {
   "cell_type": "code",
   "execution_count": 84,
   "metadata": {},
   "outputs": [],
   "source": [
    "import re\n",
    "\n",
    "my_string = \"Hello World\"\n",
    "\n",
    "pattern = re.compile(r\"world\")\n",
    "\n",
    "matches = pattern.finditer(my_string)\n",
    "\n",
    "for match in matches:\n",
    "    print(match)"
   ]
  },
  {
   "cell_type": "code",
   "execution_count": 85,
   "metadata": {},
   "outputs": [
    {
     "name": "stdout",
     "output_type": "stream",
     "text": [
      "<re.Match object; span=(6, 11), match='World'>\n"
     ]
    }
   ],
   "source": [
    "import re\n",
    "\n",
    "my_string = \"Hello World\"\n",
    "\n",
    "pattern = re.compile(r\"World\")\n",
    "\n",
    "matches = pattern.finditer(my_string)\n",
    "\n",
    "for match in matches:\n",
    "    print(match)"
   ]
  },
  {
   "cell_type": "code",
   "execution_count": 86,
   "metadata": {},
   "outputs": [
    {
     "name": "stdout",
     "output_type": "stream",
     "text": [
      "<re.Match object; span=(6, 11), match='World'>\n"
     ]
    }
   ],
   "source": [
    "import re\n",
    "\n",
    "my_string = \"Hello World\"\n",
    "\n",
    "pattern = re.compile(r\"world\", re.IGNORECASE)\n",
    "\n",
    "matches = pattern.finditer(my_string)\n",
    "\n",
    "for match in matches:\n",
    "    print(match)"
   ]
  },
  {
   "cell_type": "code",
   "execution_count": 87,
   "metadata": {},
   "outputs": [
    {
     "name": "stdout",
     "output_type": "stream",
     "text": [
      "<re.Match object; span=(6, 11), match='World'>\n"
     ]
    }
   ],
   "source": [
    "import re\n",
    "\n",
    "my_string = \"Hello World\"\n",
    "\n",
    "pattern = re.compile(r\"world\", re.I)\n",
    "\n",
    "matches = pattern.finditer(my_string)\n",
    "\n",
    "for match in matches:\n",
    "    print(match)"
   ]
  },
  {
   "cell_type": "markdown",
   "metadata": {},
   "source": [
    "# Thank You "
   ]
  },
  {
   "cell_type": "code",
   "execution_count": null,
   "metadata": {},
   "outputs": [],
   "source": []
  }
 ],
 "metadata": {
  "kernelspec": {
   "display_name": "Python 3",
   "language": "python",
   "name": "python3"
  },
  "language_info": {
   "codemirror_mode": {
    "name": "ipython",
    "version": 3
   },
   "file_extension": ".py",
   "mimetype": "text/x-python",
   "name": "python",
   "nbconvert_exporter": "python",
   "pygments_lexer": "ipython3",
   "version": "3.12.1"
  }
 },
 "nbformat": 4,
 "nbformat_minor": 4
}
