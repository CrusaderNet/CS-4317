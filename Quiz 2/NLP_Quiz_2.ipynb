{
 "cells": [
  {
   "cell_type": "markdown",
   "metadata": {},
   "source": [
    "**Question 1**"
   ]
  },
  {
   "cell_type": "code",
   "execution_count": 1,
   "metadata": {},
   "outputs": [
    {
     "name": "stdout",
     "output_type": "stream",
     "text": [
      "[[1. 0. 0. 0. 0. 0. 0. 0. 0. 0. 0. 0. 0. 0. 0. 0. 0. 0. 0. 0.]\n",
      " [0. 1. 0. 0. 0. 0. 0. 0. 0. 0. 0. 0. 0. 0. 0. 0. 0. 0. 0. 0.]\n",
      " [0. 0. 1. 0. 0. 0. 0. 0. 0. 0. 0. 0. 0. 0. 0. 0. 0. 0. 0. 0.]\n",
      " [0. 0. 0. 0. 0. 1. 0. 0. 0. 0. 0. 0. 0. 0. 0. 0. 0. 0. 0. 0.]\n",
      " [0. 0. 0. 0. 0. 0. 0. 0. 1. 0. 0. 0. 0. 0. 0. 0. 0. 0. 0. 0.]\n",
      " [0. 0. 0. 0. 0. 0. 0. 1. 0. 0. 0. 0. 0. 0. 0. 0. 0. 0. 0. 0.]\n",
      " [0. 0. 0. 0. 0. 0. 0. 0. 0. 0. 0. 1. 0. 0. 0. 0. 0. 0. 0. 0.]\n",
      " [0. 0. 0. 0. 0. 0. 0. 0. 0. 0. 0. 0. 0. 0. 0. 0. 0. 0. 1. 0.]\n",
      " [0. 0. 0. 1. 0. 0. 0. 0. 0. 0. 0. 0. 0. 0. 0. 0. 0. 0. 0. 0.]]\n"
     ]
    }
   ],
   "source": [
    "import numpy as np\n",
    "\n",
    "#Create a dictionary that maps each amino acid to an integer\n",
    "aminoList = \"ACDEFGHIKLMNPQRSTVWY\"\n",
    "aminoDict = {amino: i for i, amino in enumerate(aminoList)}\n",
    "aminoDict\n",
    "\n",
    "#Function that one-hot encodes a sequence\n",
    "def one_hot_encode(sequence, aminoDict = aminoDict):\n",
    "    #Create a matrix of zeros\n",
    "    one_hot = np.zeros((len(sequence), len(aminoDict)))\n",
    "    #Set the appropriate elements to 1\n",
    "    for i, amino in enumerate(sequence):\n",
    "        one_hot[i, aminoDict[amino]] = 1\n",
    "\n",
    "    #Return the one-hot encoded sequence\n",
    "    return one_hot\n",
    "\n",
    "sequence = 'ACDGKINWE'\n",
    "one_hot = one_hot_encode(sequence)\n",
    "print(one_hot)"
   ]
  },
  {
   "cell_type": "markdown",
   "metadata": {},
   "source": [
    "One Hot Encoding:\n",
    "\n",
    "Pros:\n",
    "- Effective for many machine learning algorithms\n",
    "- Maintains disctinction between different categorical variables\n",
    "\n",
    "Cons:\n",
    "- High dimensionality(large vectors/matrices for many variables)\n",
    "- High memory usage(for large datasets)"
   ]
  },
  {
   "cell_type": "markdown",
   "metadata": {},
   "source": [
    "**Question 2**"
   ]
  },
  {
   "cell_type": "code",
   "execution_count": 32,
   "metadata": {},
   "outputs": [
    {
     "name": "stdout",
     "output_type": "stream",
     "text": [
      "Term Frequency: \n"
     ]
    },
    {
     "data": {
      "text/html": [
       "<div>\n",
       "<style scoped>\n",
       "    .dataframe tbody tr th:only-of-type {\n",
       "        vertical-align: middle;\n",
       "    }\n",
       "\n",
       "    .dataframe tbody tr th {\n",
       "        vertical-align: top;\n",
       "    }\n",
       "\n",
       "    .dataframe thead th {\n",
       "        text-align: right;\n",
       "    }\n",
       "</style>\n",
       "<table border=\"1\" class=\"dataframe\">\n",
       "  <thead>\n",
       "    <tr style=\"text-align: right;\">\n",
       "      <th></th>\n",
       "      <th>materialx</th>\n",
       "      <th>note</th>\n",
       "      <th>read</th>\n",
       "      <th>students</th>\n",
       "      <th>study</th>\n",
       "    </tr>\n",
       "  </thead>\n",
       "  <tbody>\n",
       "    <tr>\n",
       "      <th>doc0</th>\n",
       "      <td>0.333333</td>\n",
       "      <td>0.000000</td>\n",
       "      <td>0.000000</td>\n",
       "      <td>0.333333</td>\n",
       "      <td>0.333333</td>\n",
       "    </tr>\n",
       "    <tr>\n",
       "      <th>doc1</th>\n",
       "      <td>0.666667</td>\n",
       "      <td>0.000000</td>\n",
       "      <td>0.000000</td>\n",
       "      <td>0.000000</td>\n",
       "      <td>0.333333</td>\n",
       "    </tr>\n",
       "    <tr>\n",
       "      <th>doc2</th>\n",
       "      <td>0.333333</td>\n",
       "      <td>0.000000</td>\n",
       "      <td>0.333333</td>\n",
       "      <td>0.333333</td>\n",
       "      <td>0.000000</td>\n",
       "    </tr>\n",
       "    <tr>\n",
       "      <th>doc3</th>\n",
       "      <td>0.333333</td>\n",
       "      <td>0.333333</td>\n",
       "      <td>0.333333</td>\n",
       "      <td>0.000000</td>\n",
       "      <td>0.000000</td>\n",
       "    </tr>\n",
       "  </tbody>\n",
       "</table>\n",
       "</div>"
      ],
      "text/plain": [
       "      materialx      note      read  students     study\n",
       "doc0   0.333333  0.000000  0.000000  0.333333  0.333333\n",
       "doc1   0.666667  0.000000  0.000000  0.000000  0.333333\n",
       "doc2   0.333333  0.000000  0.333333  0.333333  0.000000\n",
       "doc3   0.333333  0.333333  0.333333  0.000000  0.000000"
      ]
     },
     "execution_count": 32,
     "metadata": {},
     "output_type": "execute_result"
    }
   ],
   "source": [
    "import numpy as np \n",
    "import pandas as pd\n",
    "from sklearn.feature_extraction.text import TfidfVectorizer\n",
    "from sklearn.feature_extraction.text import CountVectorizer\n",
    "\n",
    "df = pd.DataFrame({'text':['students study materialx','materialx study materialx','students read materialx','materialx read note'],'output':[1,1,0,0]})\n",
    "\n",
    "cv = CountVectorizer()\n",
    "X_tf = cv.fit_transform(df['text']).toarray()\n",
    "X_tf = X_tf/3\n",
    "X_tf = pd.DataFrame(X_tf,columns=tokens,index=['doc0','doc1','doc2','doc3'])\n",
    "print('Term Frequency: ')\n",
    "X_tf"
   ]
  },
  {
   "cell_type": "code",
   "execution_count": 33,
   "metadata": {},
   "outputs": [
    {
     "name": "stdout",
     "output_type": "stream",
     "text": [
      "['materialx', 'note', 'read', 'students', 'study']\n",
      "\n",
      "Inverse Document Frequency: [1.         1.91629073 1.51082562 1.51082562 1.51082562]\n",
      "\n",
      "TF-IDF: \n"
     ]
    },
    {
     "data": {
      "text/html": [
       "<div>\n",
       "<style scoped>\n",
       "    .dataframe tbody tr th:only-of-type {\n",
       "        vertical-align: middle;\n",
       "    }\n",
       "\n",
       "    .dataframe tbody tr th {\n",
       "        vertical-align: top;\n",
       "    }\n",
       "\n",
       "    .dataframe thead th {\n",
       "        text-align: right;\n",
       "    }\n",
       "</style>\n",
       "<table border=\"1\" class=\"dataframe\">\n",
       "  <thead>\n",
       "    <tr style=\"text-align: right;\">\n",
       "      <th></th>\n",
       "      <th>materialx</th>\n",
       "      <th>note</th>\n",
       "      <th>read</th>\n",
       "      <th>students</th>\n",
       "      <th>study</th>\n",
       "    </tr>\n",
       "  </thead>\n",
       "  <tbody>\n",
       "    <tr>\n",
       "      <th>doc0</th>\n",
       "      <td>0.423897</td>\n",
       "      <td>0.000000</td>\n",
       "      <td>0.000000</td>\n",
       "      <td>0.640434</td>\n",
       "      <td>0.640434</td>\n",
       "    </tr>\n",
       "    <tr>\n",
       "      <th>doc1</th>\n",
       "      <td>0.797922</td>\n",
       "      <td>0.000000</td>\n",
       "      <td>0.000000</td>\n",
       "      <td>0.000000</td>\n",
       "      <td>0.602761</td>\n",
       "    </tr>\n",
       "    <tr>\n",
       "      <th>doc2</th>\n",
       "      <td>0.423897</td>\n",
       "      <td>0.000000</td>\n",
       "      <td>0.640434</td>\n",
       "      <td>0.640434</td>\n",
       "      <td>0.000000</td>\n",
       "    </tr>\n",
       "    <tr>\n",
       "      <th>doc3</th>\n",
       "      <td>0.379192</td>\n",
       "      <td>0.726641</td>\n",
       "      <td>0.572892</td>\n",
       "      <td>0.000000</td>\n",
       "      <td>0.000000</td>\n",
       "    </tr>\n",
       "  </tbody>\n",
       "</table>\n",
       "</div>"
      ],
      "text/plain": [
       "      materialx      note      read  students     study\n",
       "doc0   0.423897  0.000000  0.000000  0.640434  0.640434\n",
       "doc1   0.797922  0.000000  0.000000  0.000000  0.602761\n",
       "doc2   0.423897  0.000000  0.640434  0.640434  0.000000\n",
       "doc3   0.379192  0.726641  0.572892  0.000000  0.000000"
      ]
     },
     "execution_count": 33,
     "metadata": {},
     "output_type": "execute_result"
    }
   ],
   "source": [
    "tfidf = TfidfVectorizer()\n",
    "X = tfidf.fit_transform(df['text']).toarray()\n",
    "X = pd.DataFrame(X,columns=tokens,index=['doc0','doc1','doc2','doc3'])\n",
    "tokens = list(tfidf.get_feature_names_out())\n",
    "print(tokens)\n",
    "print()\n",
    "print('Inverse Document Frequency:',tfidf.idf_)\n",
    "print()\n",
    "print('TF-IDF: ')\n",
    "X"
   ]
  },
  {
   "cell_type": "markdown",
   "metadata": {},
   "source": [
    "TF-IDF:\n",
    "\n",
    "Pros:\n",
    "- Used in information retrieval system\n",
    "\n",
    "Cons:\n",
    "- Sparsity\n",
    "- Out of vocabulary words\n",
    "- Large Dimensionality\n",
    "- Semantic relation between words are not captured"
   ]
  }
 ],
 "metadata": {
  "kernelspec": {
   "display_name": "Python 3",
   "language": "python",
   "name": "python3"
  },
  "language_info": {
   "codemirror_mode": {
    "name": "ipython",
    "version": 3
   },
   "file_extension": ".py",
   "mimetype": "text/x-python",
   "name": "python",
   "nbconvert_exporter": "python",
   "pygments_lexer": "ipython3",
   "version": "3.12.1"
  }
 },
 "nbformat": 4,
 "nbformat_minor": 2
}
